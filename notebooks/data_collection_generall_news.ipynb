{
 "cells": [
  {
   "cell_type": "code",
   "execution_count": null,
   "metadata": {},
   "outputs": [],
   "source": [
    "import pandas as pd\n",
    "from datetime import datetime  \n",
    "from datetime import timedelta  \n",
    "import numpy as np\n",
    "from datetime import date\n",
    "import requests"
   ]
  },
  {
   "cell_type": "markdown",
   "metadata": {},
   "source": [
    "Function to use api and get Data"
   ]
  },
  {
   "cell_type": "code",
   "execution_count": null,
   "metadata": {},
   "outputs": [],
   "source": [
    "#URL = https://newsapi.org/v2/top-headlines?q=bitcoin&apiKey=9e2ddf77835c4f689cbdfa578f096c33\n",
    "\n",
    "def get_news(start_date,end_date,page_size):#page_size=100\n",
    "    URL = f\"https://newsapi.org/v2/everything?q=bitcoin&from={start_date}&to={end_date}&pageSize={page_size}&apiKey=9e2ddf77835c4f689cbdfa578f096c33\"\n",
    "    news_response =requests.get(URL).json()\n",
    "    return news_response"
   ]
  },
  {
   "cell_type": "markdown",
   "metadata": {},
   "source": [
    "While loop using the function to get daily articles for the last days (start date manual input)"
   ]
  },
  {
   "cell_type": "code",
   "execution_count": null,
   "metadata": {},
   "outputs": [],
   "source": [
    "today = datetime.today()\n",
    "day_before_yesterday = today - timedelta(days=2)\n",
    "\n",
    "start_date_str = '2020-10-17'\n",
    "start_date = datetime.strptime(start_date_str,'%Y-%m-%d')\n",
    "news_list = []\n",
    "current_date = start_date\n",
    "\n",
    "while current_date < day_before_yesterday:\n",
    "    # formating dates to string\n",
    "    current_date_str = datetime.strftime(current_date,'%Y-%m-%d')\n",
    "    news_response = get_news(current_date_str,current_date_str,100)\n",
    "    \n",
    "    # creating dataframe from results\n",
    "    news_df = pd.DataFrame(news_response)\n",
    "    news_df['title'] = news_df['articles'].map(lambda x: x['title'])\n",
    "    news_df['description'] = news_df['articles'].map(lambda x: x['description'])\n",
    "    news_df['date'] = news_df['articles'].map(lambda x: x['publishedAt'])\n",
    "    news_list.append(news_df)\n",
    "    current_date = current_date + timedelta(days=1)\n",
    "\n",
    "    \n",
    "all_news_df = pd.concat(news_list)"
   ]
  },
  {
   "cell_type": "code",
   "execution_count": null,
   "metadata": {},
   "outputs": [],
   "source": [
    "#already saved \n",
    "#all_news_df.to_csv('30_day_all_news.csv')"
   ]
  },
  {
   "cell_type": "code",
   "execution_count": null,
   "metadata": {},
   "outputs": [],
   "source": []
  },
  {
   "cell_type": "code",
   "execution_count": null,
   "metadata": {},
   "outputs": [],
   "source": []
  }
 ],
 "metadata": {
  "kernelspec": {
   "display_name": "Python 3",
   "language": "python",
   "name": "python3"
  },
  "language_info": {
   "codemirror_mode": {
    "name": "ipython",
    "version": 3
   },
   "file_extension": ".py",
   "mimetype": "text/x-python",
   "name": "python",
   "nbconvert_exporter": "python",
   "pygments_lexer": "ipython3",
   "version": "3.7.7"
  },
  "toc": {
   "base_numbering": 1,
   "nav_menu": {},
   "number_sections": true,
   "sideBar": true,
   "skip_h1_title": false,
   "title_cell": "Table of Contents",
   "title_sidebar": "Contents",
   "toc_cell": false,
   "toc_position": {},
   "toc_section_display": true,
   "toc_window_display": false
  }
 },
 "nbformat": 4,
 "nbformat_minor": 4
}
