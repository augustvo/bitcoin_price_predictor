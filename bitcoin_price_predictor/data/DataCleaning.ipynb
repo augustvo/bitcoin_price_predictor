{
 "cells": [
  {
   "cell_type": "markdown",
   "metadata": {},
   "source": [
    "# News Data Cleaning"
   ]
  },
  {
   "cell_type": "markdown",
   "metadata": {},
   "source": [
    "## Packages Imports"
   ]
  },
  {
   "cell_type": "code",
   "execution_count": 1,
   "metadata": {
    "ExecuteTime": {
     "end_time": "2020-11-18T14:19:51.784419Z",
     "start_time": "2020-11-18T14:19:51.120630Z"
    }
   },
   "outputs": [],
   "source": [
    "import numpy as np\n",
    "import pandas as pd"
   ]
  },
  {
   "cell_type": "markdown",
   "metadata": {},
   "source": [
    "## Cleaning Bitcoin Top News"
   ]
  },
  {
   "cell_type": "markdown",
   "metadata": {},
   "source": [
    "### Data Analysis"
   ]
  },
  {
   "cell_type": "code",
   "execution_count": 2,
   "metadata": {
    "ExecuteTime": {
     "end_time": "2020-11-18T14:19:51.808205Z",
     "start_time": "2020-11-18T14:19:51.786441Z"
    }
   },
   "outputs": [],
   "source": [
    "top_bitcoin_news = pd.read_csv(\"news_data/TopNewsBitcoin.csv\")"
   ]
  },
  {
   "cell_type": "code",
   "execution_count": 3,
   "metadata": {
    "ExecuteTime": {
     "end_time": "2020-11-18T14:19:51.820491Z",
     "start_time": "2020-11-18T14:19:51.810365Z"
    }
   },
   "outputs": [
    {
     "data": {
      "text/plain": [
       "(45, 15)"
      ]
     },
     "execution_count": 3,
     "metadata": {},
     "output_type": "execute_result"
    }
   ],
   "source": [
    "top_bitcoin_news.shape"
   ]
  },
  {
   "cell_type": "code",
   "execution_count": 4,
   "metadata": {
    "ExecuteTime": {
     "end_time": "2020-11-18T14:19:51.839799Z",
     "start_time": "2020-11-18T14:19:51.823094Z"
    }
   },
   "outputs": [
    {
     "data": {
      "text/html": [
       "<div>\n",
       "<style scoped>\n",
       "    .dataframe tbody tr th:only-of-type {\n",
       "        vertical-align: middle;\n",
       "    }\n",
       "\n",
       "    .dataframe tbody tr th {\n",
       "        vertical-align: top;\n",
       "    }\n",
       "\n",
       "    .dataframe thead th {\n",
       "        text-align: right;\n",
       "    }\n",
       "</style>\n",
       "<table border=\"1\" class=\"dataframe\">\n",
       "  <thead>\n",
       "    <tr style=\"text-align: right;\">\n",
       "      <th></th>\n",
       "      <th>Unnamed: 0</th>\n",
       "      <th>_id</th>\n",
       "      <th>activityHotness</th>\n",
       "      <th>coins</th>\n",
       "      <th>description</th>\n",
       "      <th>hotness</th>\n",
       "      <th>originalImageUrl</th>\n",
       "      <th>primaryCategory</th>\n",
       "      <th>publishedAt</th>\n",
       "      <th>similarArticles</th>\n",
       "      <th>source</th>\n",
       "      <th>sourceDomain</th>\n",
       "      <th>title</th>\n",
       "      <th>url</th>\n",
       "      <th>words</th>\n",
       "    </tr>\n",
       "  </thead>\n",
       "  <tbody>\n",
       "    <tr>\n",
       "      <th>0</th>\n",
       "      <td>0</td>\n",
       "      <td>5fb29a05ae2a95001a05a7a6</td>\n",
       "      <td>4.643825</td>\n",
       "      <td>[{'_id': '59cb59e81c073f09e76f614b', 'name': '...</td>\n",
       "      <td>The crypto was the response to the global econ...</td>\n",
       "      <td>74335.037113</td>\n",
       "      <td>https://ihodl.com/media/articles/d/f0/e19475f0...</td>\n",
       "      <td>General</td>\n",
       "      <td>2020-11-16T14:21:35.000Z</td>\n",
       "      <td>[{'_id': '5fb285967d7d9300177be37f', 'title': ...</td>\n",
       "      <td>{'_id': '5b6b761b3bda0e0010d82323', 'name': 'I...</td>\n",
       "      <td>ihodl.com</td>\n",
       "      <td>Citibank: Bitcoin is the Digital Gold of the 2...</td>\n",
       "      <td>https://cryptocontrol.io/r/api/article/5fb29a0...</td>\n",
       "      <td>255</td>\n",
       "    </tr>\n",
       "    <tr>\n",
       "      <th>1</th>\n",
       "      <td>1</td>\n",
       "      <td>5fb261bda598c10017efa455</td>\n",
       "      <td>4.664710</td>\n",
       "      <td>[{'_id': '59cb59e81c073f09e76f614b', 'name': '...</td>\n",
       "      <td>DOT/USD is likely to trend upwards to $5.00, b...</td>\n",
       "      <td>74334.402812</td>\n",
       "      <td>https://coinjournal.net/wp-content/uploads/202...</td>\n",
       "      <td>Analysis</td>\n",
       "      <td>2020-11-16T10:25:43.000Z</td>\n",
       "      <td>[{'_id': '5fab2ba85d633f001df80c00', 'title': ...</td>\n",
       "      <td>{'_id': '59d71bc4ef8bf95cc2aaf570', 'name': 'C...</td>\n",
       "      <td>coinjournal.net</td>\n",
       "      <td>Price analysis: Polkadot delicately balanced n...</td>\n",
       "      <td>https://cryptocontrol.io/r/api/article/5fb261b...</td>\n",
       "      <td>508</td>\n",
       "    </tr>\n",
       "    <tr>\n",
       "      <th>2</th>\n",
       "      <td>2</td>\n",
       "      <td>5fb2a30ebd9bd10018ee8b26</td>\n",
       "      <td>4.610436</td>\n",
       "      <td>[{'_id': '59cb59e81c073f09e76f614b', 'name': '...</td>\n",
       "      <td>Fidelity Digital Assets has responded to some ...</td>\n",
       "      <td>74334.242056</td>\n",
       "      <td>https://static.coindesk.com/wp-content/uploads...</td>\n",
       "      <td>General</td>\n",
       "      <td>2020-11-16T09:47:23.000Z</td>\n",
       "      <td>[{'_id': '5fb271ca8318e10017f4427b', 'title': ...</td>\n",
       "      <td>{'_id': '59ce11393a44cf289a9a71f5', 'name': 'C...</td>\n",
       "      <td>coindesk.com</td>\n",
       "      <td>Fidelity's Crypto Arm Responds to 6 Common Bit...</td>\n",
       "      <td>https://cryptocontrol.io/r/api/article/5fb2a30...</td>\n",
       "      <td>457</td>\n",
       "    </tr>\n",
       "    <tr>\n",
       "      <th>3</th>\n",
       "      <td>3</td>\n",
       "      <td>5fb2a244bd9bd10018ee8aee</td>\n",
       "      <td>3.119062</td>\n",
       "      <td>[{'_id': '5b6a328530a21d000f00ae48', 'name': '...</td>\n",
       "      <td>Latest reports show that institutional crypto ...</td>\n",
       "      <td>74333.634108</td>\n",
       "      <td>https://ourbitcoinnews.sfo2.digitaloceanspaces...</td>\n",
       "      <td>General</td>\n",
       "      <td>2020-11-16T15:05:25.000Z</td>\n",
       "      <td>[{'_id': '5fb259b09ba24e001782e01e', 'title': ...</td>\n",
       "      <td>{'_id': '5d9ec6b0d37160001a8c2a84', 'name': 'O...</td>\n",
       "      <td>ourbitcoinnews.com</td>\n",
       "      <td>Grayscale about to hold $ 10 billion in crypto...</td>\n",
       "      <td>https://cryptocontrol.io/r/api/article/5fb2a24...</td>\n",
       "      <td>342</td>\n",
       "    </tr>\n",
       "    <tr>\n",
       "      <th>4</th>\n",
       "      <td>4</td>\n",
       "      <td>5fb24a27a73cd8001a258071</td>\n",
       "      <td>3.172755</td>\n",
       "      <td>[{'_id': '5afcc60ced3b0e000f40d55c', 'name': '...</td>\n",
       "      <td>The mainstream adoption of digital assets and ...</td>\n",
       "      <td>74332.725440</td>\n",
       "      <td>https://cryptogazette.com/adminlogin/uploads/2...</td>\n",
       "      <td>General</td>\n",
       "      <td>2020-11-16T09:18:58.000Z</td>\n",
       "      <td>[{'_id': '5faec615b42e16001bc7e377', 'title': ...</td>\n",
       "      <td>{'_id': '5bac83ff0c38a70019d8ffd9', 'name': 'O...</td>\n",
       "      <td>NaN</td>\n",
       "      <td>Institutional Adoption Is Coming To Bitcoin An...</td>\n",
       "      <td>https://cryptocontrol.io/r/api/article/5fb24a2...</td>\n",
       "      <td>311</td>\n",
       "    </tr>\n",
       "  </tbody>\n",
       "</table>\n",
       "</div>"
      ],
      "text/plain": [
       "   Unnamed: 0                       _id  activityHotness  \\\n",
       "0           0  5fb29a05ae2a95001a05a7a6         4.643825   \n",
       "1           1  5fb261bda598c10017efa455         4.664710   \n",
       "2           2  5fb2a30ebd9bd10018ee8b26         4.610436   \n",
       "3           3  5fb2a244bd9bd10018ee8aee         3.119062   \n",
       "4           4  5fb24a27a73cd8001a258071         3.172755   \n",
       "\n",
       "                                               coins  \\\n",
       "0  [{'_id': '59cb59e81c073f09e76f614b', 'name': '...   \n",
       "1  [{'_id': '59cb59e81c073f09e76f614b', 'name': '...   \n",
       "2  [{'_id': '59cb59e81c073f09e76f614b', 'name': '...   \n",
       "3  [{'_id': '5b6a328530a21d000f00ae48', 'name': '...   \n",
       "4  [{'_id': '5afcc60ced3b0e000f40d55c', 'name': '...   \n",
       "\n",
       "                                         description       hotness  \\\n",
       "0  The crypto was the response to the global econ...  74335.037113   \n",
       "1  DOT/USD is likely to trend upwards to $5.00, b...  74334.402812   \n",
       "2  Fidelity Digital Assets has responded to some ...  74334.242056   \n",
       "3  Latest reports show that institutional crypto ...  74333.634108   \n",
       "4  The mainstream adoption of digital assets and ...  74332.725440   \n",
       "\n",
       "                                    originalImageUrl primaryCategory  \\\n",
       "0  https://ihodl.com/media/articles/d/f0/e19475f0...         General   \n",
       "1  https://coinjournal.net/wp-content/uploads/202...        Analysis   \n",
       "2  https://static.coindesk.com/wp-content/uploads...         General   \n",
       "3  https://ourbitcoinnews.sfo2.digitaloceanspaces...         General   \n",
       "4  https://cryptogazette.com/adminlogin/uploads/2...         General   \n",
       "\n",
       "                publishedAt  \\\n",
       "0  2020-11-16T14:21:35.000Z   \n",
       "1  2020-11-16T10:25:43.000Z   \n",
       "2  2020-11-16T09:47:23.000Z   \n",
       "3  2020-11-16T15:05:25.000Z   \n",
       "4  2020-11-16T09:18:58.000Z   \n",
       "\n",
       "                                     similarArticles  \\\n",
       "0  [{'_id': '5fb285967d7d9300177be37f', 'title': ...   \n",
       "1  [{'_id': '5fab2ba85d633f001df80c00', 'title': ...   \n",
       "2  [{'_id': '5fb271ca8318e10017f4427b', 'title': ...   \n",
       "3  [{'_id': '5fb259b09ba24e001782e01e', 'title': ...   \n",
       "4  [{'_id': '5faec615b42e16001bc7e377', 'title': ...   \n",
       "\n",
       "                                              source        sourceDomain  \\\n",
       "0  {'_id': '5b6b761b3bda0e0010d82323', 'name': 'I...           ihodl.com   \n",
       "1  {'_id': '59d71bc4ef8bf95cc2aaf570', 'name': 'C...     coinjournal.net   \n",
       "2  {'_id': '59ce11393a44cf289a9a71f5', 'name': 'C...        coindesk.com   \n",
       "3  {'_id': '5d9ec6b0d37160001a8c2a84', 'name': 'O...  ourbitcoinnews.com   \n",
       "4  {'_id': '5bac83ff0c38a70019d8ffd9', 'name': 'O...                 NaN   \n",
       "\n",
       "                                               title  \\\n",
       "0  Citibank: Bitcoin is the Digital Gold of the 2...   \n",
       "1  Price analysis: Polkadot delicately balanced n...   \n",
       "2  Fidelity's Crypto Arm Responds to 6 Common Bit...   \n",
       "3  Grayscale about to hold $ 10 billion in crypto...   \n",
       "4  Institutional Adoption Is Coming To Bitcoin An...   \n",
       "\n",
       "                                                 url  words  \n",
       "0  https://cryptocontrol.io/r/api/article/5fb29a0...    255  \n",
       "1  https://cryptocontrol.io/r/api/article/5fb261b...    508  \n",
       "2  https://cryptocontrol.io/r/api/article/5fb2a30...    457  \n",
       "3  https://cryptocontrol.io/r/api/article/5fb2a24...    342  \n",
       "4  https://cryptocontrol.io/r/api/article/5fb24a2...    311  "
      ]
     },
     "execution_count": 4,
     "metadata": {},
     "output_type": "execute_result"
    }
   ],
   "source": [
    "top_bitcoin_news.head()"
   ]
  },
  {
   "cell_type": "code",
   "execution_count": 5,
   "metadata": {
    "ExecuteTime": {
     "end_time": "2020-11-18T14:19:51.847473Z",
     "start_time": "2020-11-18T14:19:51.841437Z"
    }
   },
   "outputs": [
    {
     "data": {
      "text/plain": [
       "coindesk.com           3\n",
       "cryptopotato.com       3\n",
       "btcmanager.com         3\n",
       "beincrypto.com         3\n",
       "decrypt.co             3\n",
       "newsbtc.com            3\n",
       "news.bitcoin.com       2\n",
       "cryptopolitan.com      2\n",
       "coinjournal.net        2\n",
       "eng.ambcrypto.com      2\n",
       "bitcoinist.com         2\n",
       "ourbitcoinnews.com     1\n",
       "cryptonews.com         1\n",
       "zycrypto.com           1\n",
       "cryptodaily.co.uk      1\n",
       "coingeek.com           1\n",
       "cointelegraph.com      1\n",
       "coingape.com           1\n",
       "cryptobriefing.com     1\n",
       "ihodl.com              1\n",
       "insidebitcoins.com     1\n",
       "bitcoinmagazine.com    1\n",
       "tokenist.com           1\n",
       "coinfomania.com        1\n",
       "en.cryptonomist.ch     1\n",
       "btcwires.com           1\n",
       "financemagnates.com    1\n",
       "Name: sourceDomain, dtype: int64"
      ]
     },
     "execution_count": 5,
     "metadata": {},
     "output_type": "execute_result"
    }
   ],
   "source": [
    "top_bitcoin_news.sourceDomain.value_counts()"
   ]
  },
  {
   "cell_type": "code",
   "execution_count": 6,
   "metadata": {
    "ExecuteTime": {
     "end_time": "2020-11-18T14:19:51.855715Z",
     "start_time": "2020-11-18T14:19:51.850501Z"
    }
   },
   "outputs": [
    {
     "data": {
      "text/plain": [
       "'Citibank: Bitcoin is the Digital Gold of the 21st Century'"
      ]
     },
     "execution_count": 6,
     "metadata": {},
     "output_type": "execute_result"
    }
   ],
   "source": [
    "# Looks like title is pretty clean string\n",
    "top_bitcoin_news.title[0]"
   ]
  },
  {
   "cell_type": "code",
   "execution_count": 7,
   "metadata": {
    "ExecuteTime": {
     "end_time": "2020-11-18T14:19:51.863490Z",
     "start_time": "2020-11-18T14:19:51.858837Z"
    }
   },
   "outputs": [
    {
     "data": {
      "text/plain": [
       "'The crypto was the response to the global economic crisis of 2008.'"
      ]
     },
     "execution_count": 7,
     "metadata": {},
     "output_type": "execute_result"
    }
   ],
   "source": [
    "# Looks like description is pretty clean string also\n",
    "top_bitcoin_news.description[0]"
   ]
  },
  {
   "cell_type": "code",
   "execution_count": 8,
   "metadata": {
    "ExecuteTime": {
     "end_time": "2020-11-18T14:19:51.870370Z",
     "start_time": "2020-11-18T14:19:51.867074Z"
    }
   },
   "outputs": [
    {
     "data": {
      "text/plain": [
       "\"[{'_id': '59cb59e81c073f09e76f614b', 'name': 'Bitcoin', 'slug': 'bitcoin', 'tradingSymbol': 'BTC'}, {'_id': '5e3844aa16c3760019f74ee0', 'name': 'Digital Gold', 'slug': 'digital-gold', 'tradingSymbol': 'GOLD'}, {'_id': '5a1aafdbda3d21115462ee14', 'name': 'Change', 'slug': 'change', 'tradingSymbol': 'CAG'}]\""
      ]
     },
     "execution_count": 8,
     "metadata": {},
     "output_type": "execute_result"
    }
   ],
   "source": [
    "# Looks like coins name is inside a dictionairy, that is inside a list, that is inside a string\n",
    "top_bitcoin_news.coins[0]"
   ]
  },
  {
   "cell_type": "code",
   "execution_count": 9,
   "metadata": {
    "ExecuteTime": {
     "end_time": "2020-11-18T14:19:51.877105Z",
     "start_time": "2020-11-18T14:19:51.873705Z"
    }
   },
   "outputs": [
    {
     "data": {
      "text/plain": [
       "str"
      ]
     },
     "execution_count": 9,
     "metadata": {},
     "output_type": "execute_result"
    }
   ],
   "source": [
    "type(top_bitcoin_news.coins[0])"
   ]
  },
  {
   "cell_type": "markdown",
   "metadata": {},
   "source": [
    "### Coins name cleaning"
   ]
  },
  {
   "cell_type": "code",
   "execution_count": 10,
   "metadata": {
    "ExecuteTime": {
     "end_time": "2020-11-18T14:19:51.884126Z",
     "start_time": "2020-11-18T14:19:51.879524Z"
    }
   },
   "outputs": [
    {
     "data": {
      "text/plain": [
       "'Bitcoin'"
      ]
     },
     "execution_count": 10,
     "metadata": {},
     "output_type": "execute_result"
    }
   ],
   "source": [
    "import ast\n",
    "parsed = ast.literal_eval(top_bitcoin_news.coins[0])\n",
    "parsed[0]['name']"
   ]
  },
  {
   "cell_type": "code",
   "execution_count": 11,
   "metadata": {
    "ExecuteTime": {
     "end_time": "2020-11-18T14:19:51.893861Z",
     "start_time": "2020-11-18T14:19:51.886016Z"
    }
   },
   "outputs": [],
   "source": [
    "top_bitcoin_news[\"clean_coins\"]=list(map(lambda x:ast.literal_eval(x)[0][\"name\"], top_bitcoin_news[\"coins\"]))"
   ]
  },
  {
   "cell_type": "code",
   "execution_count": 12,
   "metadata": {
    "ExecuteTime": {
     "end_time": "2020-11-18T14:19:51.902405Z",
     "start_time": "2020-11-18T14:19:51.896269Z"
    }
   },
   "outputs": [
    {
     "data": {
      "text/plain": [
       "0       Bitcoin\n",
       "1       Bitcoin\n",
       "2       Bitcoin\n",
       "3         Giant\n",
       "4           KEY\n",
       "5          Defi\n",
       "6       Bitcoin\n",
       "7       Bitcoin\n",
       "8       Bitcoin\n",
       "9       Bitcoin\n",
       "10      Bitcoin\n",
       "11      Bitcoin\n",
       "12      Bitcoin\n",
       "13      Bitcoin\n",
       "14      Bitcoin\n",
       "15      Bitcoin\n",
       "16         DATA\n",
       "17         Defi\n",
       "18      Bitcoin\n",
       "19      Bitcoin\n",
       "20         Defi\n",
       "21      Bitcoin\n",
       "22      Bitcoin\n",
       "23      Bitcoin\n",
       "24      Bitcoin\n",
       "25      Bitcoin\n",
       "26        Giant\n",
       "27      Quantum\n",
       "28     Ethereum\n",
       "29      Bitcoin\n",
       "30      Bitcoin\n",
       "31         Nano\n",
       "32      Bitcoin\n",
       "33      Bitcoin\n",
       "34     Ethereum\n",
       "35      Bitcoin\n",
       "36      Bitcoin\n",
       "37      Bitcoin\n",
       "38         NEXT\n",
       "39      Bitcoin\n",
       "40     Ethereum\n",
       "41      Bitcoin\n",
       "42       Tether\n",
       "43          HEX\n",
       "44    Consensus\n",
       "Name: clean_coins, dtype: object"
      ]
     },
     "execution_count": 12,
     "metadata": {},
     "output_type": "execute_result"
    }
   ],
   "source": [
    "top_bitcoin_news[\"clean_coins\"]"
   ]
  },
  {
   "cell_type": "code",
   "execution_count": 13,
   "metadata": {
    "ExecuteTime": {
     "end_time": "2020-11-18T14:19:51.926069Z",
     "start_time": "2020-11-18T14:19:51.905672Z"
    }
   },
   "outputs": [
    {
     "data": {
      "text/html": [
       "<div>\n",
       "<style scoped>\n",
       "    .dataframe tbody tr th:only-of-type {\n",
       "        vertical-align: middle;\n",
       "    }\n",
       "\n",
       "    .dataframe tbody tr th {\n",
       "        vertical-align: top;\n",
       "    }\n",
       "\n",
       "    .dataframe thead th {\n",
       "        text-align: right;\n",
       "    }\n",
       "</style>\n",
       "<table border=\"1\" class=\"dataframe\">\n",
       "  <thead>\n",
       "    <tr style=\"text-align: right;\">\n",
       "      <th></th>\n",
       "      <th>Unnamed: 0</th>\n",
       "      <th>_id</th>\n",
       "      <th>activityHotness</th>\n",
       "      <th>coins</th>\n",
       "      <th>description</th>\n",
       "      <th>hotness</th>\n",
       "      <th>originalImageUrl</th>\n",
       "      <th>primaryCategory</th>\n",
       "      <th>publishedAt</th>\n",
       "      <th>similarArticles</th>\n",
       "      <th>source</th>\n",
       "      <th>sourceDomain</th>\n",
       "      <th>title</th>\n",
       "      <th>url</th>\n",
       "      <th>words</th>\n",
       "      <th>clean_coins</th>\n",
       "    </tr>\n",
       "  </thead>\n",
       "  <tbody>\n",
       "    <tr>\n",
       "      <th>0</th>\n",
       "      <td>0</td>\n",
       "      <td>5fb29a05ae2a95001a05a7a6</td>\n",
       "      <td>4.643825</td>\n",
       "      <td>[{'_id': '59cb59e81c073f09e76f614b', 'name': '...</td>\n",
       "      <td>The crypto was the response to the global econ...</td>\n",
       "      <td>74335.037113</td>\n",
       "      <td>https://ihodl.com/media/articles/d/f0/e19475f0...</td>\n",
       "      <td>General</td>\n",
       "      <td>2020-11-16T14:21:35.000Z</td>\n",
       "      <td>[{'_id': '5fb285967d7d9300177be37f', 'title': ...</td>\n",
       "      <td>{'_id': '5b6b761b3bda0e0010d82323', 'name': 'I...</td>\n",
       "      <td>ihodl.com</td>\n",
       "      <td>Citibank: Bitcoin is the Digital Gold of the 2...</td>\n",
       "      <td>https://cryptocontrol.io/r/api/article/5fb29a0...</td>\n",
       "      <td>255</td>\n",
       "      <td>Bitcoin</td>\n",
       "    </tr>\n",
       "    <tr>\n",
       "      <th>1</th>\n",
       "      <td>1</td>\n",
       "      <td>5fb261bda598c10017efa455</td>\n",
       "      <td>4.664710</td>\n",
       "      <td>[{'_id': '59cb59e81c073f09e76f614b', 'name': '...</td>\n",
       "      <td>DOT/USD is likely to trend upwards to $5.00, b...</td>\n",
       "      <td>74334.402812</td>\n",
       "      <td>https://coinjournal.net/wp-content/uploads/202...</td>\n",
       "      <td>Analysis</td>\n",
       "      <td>2020-11-16T10:25:43.000Z</td>\n",
       "      <td>[{'_id': '5fab2ba85d633f001df80c00', 'title': ...</td>\n",
       "      <td>{'_id': '59d71bc4ef8bf95cc2aaf570', 'name': 'C...</td>\n",
       "      <td>coinjournal.net</td>\n",
       "      <td>Price analysis: Polkadot delicately balanced n...</td>\n",
       "      <td>https://cryptocontrol.io/r/api/article/5fb261b...</td>\n",
       "      <td>508</td>\n",
       "      <td>Bitcoin</td>\n",
       "    </tr>\n",
       "    <tr>\n",
       "      <th>2</th>\n",
       "      <td>2</td>\n",
       "      <td>5fb2a30ebd9bd10018ee8b26</td>\n",
       "      <td>4.610436</td>\n",
       "      <td>[{'_id': '59cb59e81c073f09e76f614b', 'name': '...</td>\n",
       "      <td>Fidelity Digital Assets has responded to some ...</td>\n",
       "      <td>74334.242056</td>\n",
       "      <td>https://static.coindesk.com/wp-content/uploads...</td>\n",
       "      <td>General</td>\n",
       "      <td>2020-11-16T09:47:23.000Z</td>\n",
       "      <td>[{'_id': '5fb271ca8318e10017f4427b', 'title': ...</td>\n",
       "      <td>{'_id': '59ce11393a44cf289a9a71f5', 'name': 'C...</td>\n",
       "      <td>coindesk.com</td>\n",
       "      <td>Fidelity's Crypto Arm Responds to 6 Common Bit...</td>\n",
       "      <td>https://cryptocontrol.io/r/api/article/5fb2a30...</td>\n",
       "      <td>457</td>\n",
       "      <td>Bitcoin</td>\n",
       "    </tr>\n",
       "    <tr>\n",
       "      <th>3</th>\n",
       "      <td>3</td>\n",
       "      <td>5fb2a244bd9bd10018ee8aee</td>\n",
       "      <td>3.119062</td>\n",
       "      <td>[{'_id': '5b6a328530a21d000f00ae48', 'name': '...</td>\n",
       "      <td>Latest reports show that institutional crypto ...</td>\n",
       "      <td>74333.634108</td>\n",
       "      <td>https://ourbitcoinnews.sfo2.digitaloceanspaces...</td>\n",
       "      <td>General</td>\n",
       "      <td>2020-11-16T15:05:25.000Z</td>\n",
       "      <td>[{'_id': '5fb259b09ba24e001782e01e', 'title': ...</td>\n",
       "      <td>{'_id': '5d9ec6b0d37160001a8c2a84', 'name': 'O...</td>\n",
       "      <td>ourbitcoinnews.com</td>\n",
       "      <td>Grayscale about to hold $ 10 billion in crypto...</td>\n",
       "      <td>https://cryptocontrol.io/r/api/article/5fb2a24...</td>\n",
       "      <td>342</td>\n",
       "      <td>Giant</td>\n",
       "    </tr>\n",
       "    <tr>\n",
       "      <th>4</th>\n",
       "      <td>4</td>\n",
       "      <td>5fb24a27a73cd8001a258071</td>\n",
       "      <td>3.172755</td>\n",
       "      <td>[{'_id': '5afcc60ced3b0e000f40d55c', 'name': '...</td>\n",
       "      <td>The mainstream adoption of digital assets and ...</td>\n",
       "      <td>74332.725440</td>\n",
       "      <td>https://cryptogazette.com/adminlogin/uploads/2...</td>\n",
       "      <td>General</td>\n",
       "      <td>2020-11-16T09:18:58.000Z</td>\n",
       "      <td>[{'_id': '5faec615b42e16001bc7e377', 'title': ...</td>\n",
       "      <td>{'_id': '5bac83ff0c38a70019d8ffd9', 'name': 'O...</td>\n",
       "      <td>NaN</td>\n",
       "      <td>Institutional Adoption Is Coming To Bitcoin An...</td>\n",
       "      <td>https://cryptocontrol.io/r/api/article/5fb24a2...</td>\n",
       "      <td>311</td>\n",
       "      <td>KEY</td>\n",
       "    </tr>\n",
       "    <tr>\n",
       "      <th>5</th>\n",
       "      <td>5</td>\n",
       "      <td>5fb1bf3cd362510019f27b02</td>\n",
       "      <td>4.686289</td>\n",
       "      <td>[{'_id': '5e3844a816c3760019f74b72', 'name': '...</td>\n",
       "      <td>Ethereum could undergo a stronger drop in the ...</td>\n",
       "      <td>74332.571567</td>\n",
       "      <td>https://bitcoinist.com/wp-content/uploads/2020...</td>\n",
       "      <td>General</td>\n",
       "      <td>2020-11-15T23:18:42.000Z</td>\n",
       "      <td>[{'_id': '5fb06f3706e4ca0018faf0c7', 'title': ...</td>\n",
       "      <td>{'_id': '59d8e471ef8bf95cc2c16858', 'name': 'B...</td>\n",
       "      <td>bitcoinist.com</td>\n",
       "      <td>Ethereum Drops Below Crucial Technical Pattern...</td>\n",
       "      <td>https://cryptocontrol.io/r/api/article/5fb1bf3...</td>\n",
       "      <td>430</td>\n",
       "      <td>Defi</td>\n",
       "    </tr>\n",
       "    <tr>\n",
       "      <th>6</th>\n",
       "      <td>6</td>\n",
       "      <td>5fb1becbd362510019f27af2</td>\n",
       "      <td>4.660977</td>\n",
       "      <td>[{'_id': '59cb59e81c073f09e76f614b', 'name': '...</td>\n",
       "      <td>Bitcoin has begun to slide lower over the past...</td>\n",
       "      <td>74332.496115</td>\n",
       "      <td>https://www.newsbtc.com/wp-content/uploads/202...</td>\n",
       "      <td>General</td>\n",
       "      <td>2020-11-15T23:00:39.000Z</td>\n",
       "      <td>[{'_id': '5fb097bed348940018d7bbe5', 'title': ...</td>\n",
       "      <td>{'_id': '59d71bd7ef8bf95cc2aaf579', 'name': 'N...</td>\n",
       "      <td>newsbtc.com</td>\n",
       "      <td>Why New Highs May Be Imminent For Bitcoin if $...</td>\n",
       "      <td>https://cryptocontrol.io/r/api/article/5fb1bec...</td>\n",
       "      <td>393</td>\n",
       "      <td>Bitcoin</td>\n",
       "    </tr>\n",
       "    <tr>\n",
       "      <th>7</th>\n",
       "      <td>7</td>\n",
       "      <td>5fb1ab77a906ef0017411f3c</td>\n",
       "      <td>4.678390</td>\n",
       "      <td>[{'_id': '59cb59e81c073f09e76f614b', 'name': '...</td>\n",
       "      <td>Peninsula Visa and Passport services in the U....</td>\n",
       "      <td>74332.208714</td>\n",
       "      <td>https://cryptopolitanimg.s3.amazonaws.com/wp-c...</td>\n",
       "      <td>General</td>\n",
       "      <td>2020-11-15T21:10:55.000Z</td>\n",
       "      <td>[{'_id': '5fb00c4d5a80270019ed1ee8', 'title': ...</td>\n",
       "      <td>{'_id': '5bda96120c38a7001984d502', 'name': 'C...</td>\n",
       "      <td>cryptopolitan.com</td>\n",
       "      <td>Bitcoin payment now accepted for U.S. passport...</td>\n",
       "      <td>https://cryptocontrol.io/r/api/article/5fb1ab7...</td>\n",
       "      <td>280</td>\n",
       "      <td>Bitcoin</td>\n",
       "    </tr>\n",
       "    <tr>\n",
       "      <th>8</th>\n",
       "      <td>8</td>\n",
       "      <td>5fb29316ae2a95001a056584</td>\n",
       "      <td>1.619885</td>\n",
       "      <td>[{'_id': '59cb59e81c073f09e76f614b', 'name': '...</td>\n",
       "      <td>The visa and passport processing firm will all...</td>\n",
       "      <td>74332.108728</td>\n",
       "      <td>https://coinjournal.net/wp-content/uploads/202...</td>\n",
       "      <td>General</td>\n",
       "      <td>2020-11-16T14:55:59.000Z</td>\n",
       "      <td>[{'_id': '5fb1cc841e4e3d00194a10c0', 'title': ...</td>\n",
       "      <td>{'_id': '59d71bc4ef8bf95cc2aaf570', 'name': 'C...</td>\n",
       "      <td>coinjournal.net</td>\n",
       "      <td>Peninsula Visa now accepts Bitcoin as a paymen...</td>\n",
       "      <td>https://cryptocontrol.io/r/api/article/5fb2931...</td>\n",
       "      <td>339</td>\n",
       "      <td>Bitcoin</td>\n",
       "    </tr>\n",
       "    <tr>\n",
       "      <th>9</th>\n",
       "      <td>9</td>\n",
       "      <td>5fb29fe40a7bb600178d3682</td>\n",
       "      <td>1.613976</td>\n",
       "      <td>[{'_id': '59cb59e81c073f09e76f614b', 'name': '...</td>\n",
       "      <td>Chinese Bitcoin miners are reportedly facing d...</td>\n",
       "      <td>74332.077911</td>\n",
       "      <td>https://cryptopotato.com/wp-content/uploads/20...</td>\n",
       "      <td>Government</td>\n",
       "      <td>2020-11-16T14:47:01.000Z</td>\n",
       "      <td>[{'_id': '5fb28ab57d7d9300177c2293', 'title': ...</td>\n",
       "      <td>{'_id': '5ce406880175730010f47558', 'name': 'C...</td>\n",
       "      <td>cryptopotato.com</td>\n",
       "      <td>Chinese Bitcoin Miners Can’t Pay Power Compani...</td>\n",
       "      <td>https://cryptocontrol.io/r/api/article/5fb29fe...</td>\n",
       "      <td>416</td>\n",
       "      <td>Bitcoin</td>\n",
       "    </tr>\n",
       "  </tbody>\n",
       "</table>\n",
       "</div>"
      ],
      "text/plain": [
       "   Unnamed: 0                       _id  activityHotness  \\\n",
       "0           0  5fb29a05ae2a95001a05a7a6         4.643825   \n",
       "1           1  5fb261bda598c10017efa455         4.664710   \n",
       "2           2  5fb2a30ebd9bd10018ee8b26         4.610436   \n",
       "3           3  5fb2a244bd9bd10018ee8aee         3.119062   \n",
       "4           4  5fb24a27a73cd8001a258071         3.172755   \n",
       "5           5  5fb1bf3cd362510019f27b02         4.686289   \n",
       "6           6  5fb1becbd362510019f27af2         4.660977   \n",
       "7           7  5fb1ab77a906ef0017411f3c         4.678390   \n",
       "8           8  5fb29316ae2a95001a056584         1.619885   \n",
       "9           9  5fb29fe40a7bb600178d3682         1.613976   \n",
       "\n",
       "                                               coins  \\\n",
       "0  [{'_id': '59cb59e81c073f09e76f614b', 'name': '...   \n",
       "1  [{'_id': '59cb59e81c073f09e76f614b', 'name': '...   \n",
       "2  [{'_id': '59cb59e81c073f09e76f614b', 'name': '...   \n",
       "3  [{'_id': '5b6a328530a21d000f00ae48', 'name': '...   \n",
       "4  [{'_id': '5afcc60ced3b0e000f40d55c', 'name': '...   \n",
       "5  [{'_id': '5e3844a816c3760019f74b72', 'name': '...   \n",
       "6  [{'_id': '59cb59e81c073f09e76f614b', 'name': '...   \n",
       "7  [{'_id': '59cb59e81c073f09e76f614b', 'name': '...   \n",
       "8  [{'_id': '59cb59e81c073f09e76f614b', 'name': '...   \n",
       "9  [{'_id': '59cb59e81c073f09e76f614b', 'name': '...   \n",
       "\n",
       "                                         description       hotness  \\\n",
       "0  The crypto was the response to the global econ...  74335.037113   \n",
       "1  DOT/USD is likely to trend upwards to $5.00, b...  74334.402812   \n",
       "2  Fidelity Digital Assets has responded to some ...  74334.242056   \n",
       "3  Latest reports show that institutional crypto ...  74333.634108   \n",
       "4  The mainstream adoption of digital assets and ...  74332.725440   \n",
       "5  Ethereum could undergo a stronger drop in the ...  74332.571567   \n",
       "6  Bitcoin has begun to slide lower over the past...  74332.496115   \n",
       "7  Peninsula Visa and Passport services in the U....  74332.208714   \n",
       "8  The visa and passport processing firm will all...  74332.108728   \n",
       "9  Chinese Bitcoin miners are reportedly facing d...  74332.077911   \n",
       "\n",
       "                                    originalImageUrl primaryCategory  \\\n",
       "0  https://ihodl.com/media/articles/d/f0/e19475f0...         General   \n",
       "1  https://coinjournal.net/wp-content/uploads/202...        Analysis   \n",
       "2  https://static.coindesk.com/wp-content/uploads...         General   \n",
       "3  https://ourbitcoinnews.sfo2.digitaloceanspaces...         General   \n",
       "4  https://cryptogazette.com/adminlogin/uploads/2...         General   \n",
       "5  https://bitcoinist.com/wp-content/uploads/2020...         General   \n",
       "6  https://www.newsbtc.com/wp-content/uploads/202...         General   \n",
       "7  https://cryptopolitanimg.s3.amazonaws.com/wp-c...         General   \n",
       "8  https://coinjournal.net/wp-content/uploads/202...         General   \n",
       "9  https://cryptopotato.com/wp-content/uploads/20...      Government   \n",
       "\n",
       "                publishedAt  \\\n",
       "0  2020-11-16T14:21:35.000Z   \n",
       "1  2020-11-16T10:25:43.000Z   \n",
       "2  2020-11-16T09:47:23.000Z   \n",
       "3  2020-11-16T15:05:25.000Z   \n",
       "4  2020-11-16T09:18:58.000Z   \n",
       "5  2020-11-15T23:18:42.000Z   \n",
       "6  2020-11-15T23:00:39.000Z   \n",
       "7  2020-11-15T21:10:55.000Z   \n",
       "8  2020-11-16T14:55:59.000Z   \n",
       "9  2020-11-16T14:47:01.000Z   \n",
       "\n",
       "                                     similarArticles  \\\n",
       "0  [{'_id': '5fb285967d7d9300177be37f', 'title': ...   \n",
       "1  [{'_id': '5fab2ba85d633f001df80c00', 'title': ...   \n",
       "2  [{'_id': '5fb271ca8318e10017f4427b', 'title': ...   \n",
       "3  [{'_id': '5fb259b09ba24e001782e01e', 'title': ...   \n",
       "4  [{'_id': '5faec615b42e16001bc7e377', 'title': ...   \n",
       "5  [{'_id': '5fb06f3706e4ca0018faf0c7', 'title': ...   \n",
       "6  [{'_id': '5fb097bed348940018d7bbe5', 'title': ...   \n",
       "7  [{'_id': '5fb00c4d5a80270019ed1ee8', 'title': ...   \n",
       "8  [{'_id': '5fb1cc841e4e3d00194a10c0', 'title': ...   \n",
       "9  [{'_id': '5fb28ab57d7d9300177c2293', 'title': ...   \n",
       "\n",
       "                                              source        sourceDomain  \\\n",
       "0  {'_id': '5b6b761b3bda0e0010d82323', 'name': 'I...           ihodl.com   \n",
       "1  {'_id': '59d71bc4ef8bf95cc2aaf570', 'name': 'C...     coinjournal.net   \n",
       "2  {'_id': '59ce11393a44cf289a9a71f5', 'name': 'C...        coindesk.com   \n",
       "3  {'_id': '5d9ec6b0d37160001a8c2a84', 'name': 'O...  ourbitcoinnews.com   \n",
       "4  {'_id': '5bac83ff0c38a70019d8ffd9', 'name': 'O...                 NaN   \n",
       "5  {'_id': '59d8e471ef8bf95cc2c16858', 'name': 'B...      bitcoinist.com   \n",
       "6  {'_id': '59d71bd7ef8bf95cc2aaf579', 'name': 'N...         newsbtc.com   \n",
       "7  {'_id': '5bda96120c38a7001984d502', 'name': 'C...   cryptopolitan.com   \n",
       "8  {'_id': '59d71bc4ef8bf95cc2aaf570', 'name': 'C...     coinjournal.net   \n",
       "9  {'_id': '5ce406880175730010f47558', 'name': 'C...    cryptopotato.com   \n",
       "\n",
       "                                               title  \\\n",
       "0  Citibank: Bitcoin is the Digital Gold of the 2...   \n",
       "1  Price analysis: Polkadot delicately balanced n...   \n",
       "2  Fidelity's Crypto Arm Responds to 6 Common Bit...   \n",
       "3  Grayscale about to hold $ 10 billion in crypto...   \n",
       "4  Institutional Adoption Is Coming To Bitcoin An...   \n",
       "5  Ethereum Drops Below Crucial Technical Pattern...   \n",
       "6  Why New Highs May Be Imminent For Bitcoin if $...   \n",
       "7  Bitcoin payment now accepted for U.S. passport...   \n",
       "8  Peninsula Visa now accepts Bitcoin as a paymen...   \n",
       "9  Chinese Bitcoin Miners Can’t Pay Power Compani...   \n",
       "\n",
       "                                                 url  words clean_coins  \n",
       "0  https://cryptocontrol.io/r/api/article/5fb29a0...    255     Bitcoin  \n",
       "1  https://cryptocontrol.io/r/api/article/5fb261b...    508     Bitcoin  \n",
       "2  https://cryptocontrol.io/r/api/article/5fb2a30...    457     Bitcoin  \n",
       "3  https://cryptocontrol.io/r/api/article/5fb2a24...    342       Giant  \n",
       "4  https://cryptocontrol.io/r/api/article/5fb24a2...    311         KEY  \n",
       "5  https://cryptocontrol.io/r/api/article/5fb1bf3...    430        Defi  \n",
       "6  https://cryptocontrol.io/r/api/article/5fb1bec...    393     Bitcoin  \n",
       "7  https://cryptocontrol.io/r/api/article/5fb1ab7...    280     Bitcoin  \n",
       "8  https://cryptocontrol.io/r/api/article/5fb2931...    339     Bitcoin  \n",
       "9  https://cryptocontrol.io/r/api/article/5fb29fe...    416     Bitcoin  "
      ]
     },
     "execution_count": 13,
     "metadata": {},
     "output_type": "execute_result"
    }
   ],
   "source": [
    "top_bitcoin_news.head(10)"
   ]
  },
  {
   "cell_type": "code",
   "execution_count": 14,
   "metadata": {
    "ExecuteTime": {
     "end_time": "2020-11-18T14:19:51.931669Z",
     "start_time": "2020-11-18T14:19:51.928096Z"
    }
   },
   "outputs": [
    {
     "data": {
      "text/plain": [
       "\"[{'_id': '5afcc60ced3b0e000f40d55c', 'name': 'KEY', 'slug': 'key', 'tradingSymbol': 'key'}, {'_id': '59cb59e81c073f09e76f614b', 'name': 'Bitcoin', 'slug': 'bitcoin', 'tradingSymbol': 'BTC'}, {'_id': '5c05c3873c4bad0016c2504d', 'name': 'Online', 'slug': 'online', 'tradingSymbol': 'oio'}]\""
      ]
     },
     "execution_count": 14,
     "metadata": {},
     "output_type": "execute_result"
    }
   ],
   "source": [
    "top_bitcoin_news.coins[4]"
   ]
  },
  {
   "cell_type": "code",
   "execution_count": 15,
   "metadata": {
    "ExecuteTime": {
     "end_time": "2020-11-18T14:19:51.938513Z",
     "start_time": "2020-11-18T14:19:51.934737Z"
    }
   },
   "outputs": [
    {
     "data": {
      "text/plain": [
       "'The mainstream adoption of digital assets and their underlying technology the blockchain has been the main goal of the crypto space. There have been a lot of moves made in this direction, and great things continue to happen. The institutional wave of investors is coming into the crypto space The…'"
      ]
     },
     "execution_count": 15,
     "metadata": {},
     "output_type": "execute_result"
    }
   ],
   "source": [
    "top_bitcoin_news.description[4]"
   ]
  },
  {
   "cell_type": "code",
   "execution_count": 16,
   "metadata": {
    "ExecuteTime": {
     "end_time": "2020-11-18T14:19:51.943899Z",
     "start_time": "2020-11-18T14:19:51.940378Z"
    }
   },
   "outputs": [
    {
     "data": {
      "text/plain": [
       "'Institutional Adoption Is Coming To Bitcoin And Crypto'"
      ]
     },
     "execution_count": 16,
     "metadata": {},
     "output_type": "execute_result"
    }
   ],
   "source": [
    "top_bitcoin_news.title[4]"
   ]
  },
  {
   "cell_type": "markdown",
   "metadata": {},
   "source": [
    "It seems there are more than Bitcoin news, so we're gonna filter the DataFrame by the coin name"
   ]
  },
  {
   "cell_type": "markdown",
   "metadata": {},
   "source": [
    "### Publish Date Cleaning"
   ]
  },
  {
   "cell_type": "code",
   "execution_count": 17,
   "metadata": {
    "ExecuteTime": {
     "end_time": "2020-11-18T14:19:51.950324Z",
     "start_time": "2020-11-18T14:19:51.946408Z"
    }
   },
   "outputs": [
    {
     "data": {
      "text/plain": [
       "str"
      ]
     },
     "execution_count": 17,
     "metadata": {},
     "output_type": "execute_result"
    }
   ],
   "source": [
    "type(top_bitcoin_news[\"publishedAt\"][0])"
   ]
  },
  {
   "cell_type": "code",
   "execution_count": 18,
   "metadata": {
    "ExecuteTime": {
     "end_time": "2020-11-18T14:19:51.955801Z",
     "start_time": "2020-11-18T14:19:51.952135Z"
    }
   },
   "outputs": [
    {
     "data": {
      "text/plain": [
       "'2020-11-16'"
      ]
     },
     "execution_count": 18,
     "metadata": {},
     "output_type": "execute_result"
    }
   ],
   "source": [
    "a = top_bitcoin_news[\"publishedAt\"][0]\n",
    "a[:10]"
   ]
  },
  {
   "cell_type": "code",
   "execution_count": 19,
   "metadata": {
    "ExecuteTime": {
     "end_time": "2020-11-18T14:19:51.961799Z",
     "start_time": "2020-11-18T14:19:51.957648Z"
    }
   },
   "outputs": [
    {
     "data": {
      "text/plain": [
       "Timestamp('2020-11-16 00:00:00')"
      ]
     },
     "execution_count": 19,
     "metadata": {},
     "output_type": "execute_result"
    }
   ],
   "source": [
    "date_time = pd.to_datetime(a[:10], format='%Y/%m/%d')\n",
    "date_time"
   ]
  },
  {
   "cell_type": "code",
   "execution_count": 20,
   "metadata": {
    "ExecuteTime": {
     "end_time": "2020-11-18T14:19:51.976422Z",
     "start_time": "2020-11-18T14:19:51.963516Z"
    }
   },
   "outputs": [
    {
     "data": {
      "text/plain": [
       "0    2020-11-16\n",
       "1    2020-11-16\n",
       "2    2020-11-16\n",
       "3    2020-11-16\n",
       "4    2020-11-16\n",
       "5    2020-11-15\n",
       "6    2020-11-15\n",
       "7    2020-11-15\n",
       "8    2020-11-16\n",
       "9    2020-11-16\n",
       "10   2020-11-15\n",
       "11   2020-11-15\n",
       "12   2020-11-16\n",
       "13   2020-11-16\n",
       "14   2020-11-16\n",
       "15   2020-11-16\n",
       "16   2020-11-16\n",
       "17   2020-11-16\n",
       "18   2020-11-16\n",
       "19   2020-11-16\n",
       "20   2020-11-16\n",
       "21   2020-11-16\n",
       "22   2020-11-16\n",
       "23   2020-11-16\n",
       "24   2020-11-16\n",
       "25   2020-11-16\n",
       "26   2020-11-16\n",
       "27   2020-11-16\n",
       "28   2020-11-16\n",
       "29   2020-11-16\n",
       "30   2020-11-16\n",
       "31   2020-11-16\n",
       "32   2020-11-16\n",
       "33   2020-11-16\n",
       "34   2020-11-16\n",
       "35   2020-11-16\n",
       "36   2020-11-16\n",
       "37   2020-11-16\n",
       "38   2020-11-16\n",
       "39   2020-11-16\n",
       "40   2020-11-16\n",
       "41   2020-11-16\n",
       "42   2020-11-16\n",
       "43   2020-11-16\n",
       "44   2020-11-16\n",
       "Name: date, dtype: datetime64[ns]"
      ]
     },
     "execution_count": 20,
     "metadata": {},
     "output_type": "execute_result"
    }
   ],
   "source": [
    "top_bitcoin_news[\"date\"]=list(map(lambda x: pd.to_datetime(x[:10], format='%Y/%m/%d'), top_bitcoin_news[\"publishedAt\"]))\n",
    "top_bitcoin_news[\"date\"]"
   ]
  },
  {
   "cell_type": "code",
   "execution_count": 21,
   "metadata": {
    "ExecuteTime": {
     "end_time": "2020-11-18T14:19:51.985428Z",
     "start_time": "2020-11-18T14:19:51.979491Z"
    }
   },
   "outputs": [
    {
     "data": {
      "text/plain": [
       "2020-11-16    40\n",
       "2020-11-15     5\n",
       "Name: date, dtype: int64"
      ]
     },
     "execution_count": 21,
     "metadata": {},
     "output_type": "execute_result"
    }
   ],
   "source": [
    "top_bitcoin_news[\"date\"].value_counts()"
   ]
  },
  {
   "cell_type": "code",
   "execution_count": 22,
   "metadata": {
    "ExecuteTime": {
     "end_time": "2020-11-18T14:19:52.006336Z",
     "start_time": "2020-11-18T14:19:51.987851Z"
    }
   },
   "outputs": [
    {
     "data": {
      "text/html": [
       "<div>\n",
       "<style scoped>\n",
       "    .dataframe tbody tr th:only-of-type {\n",
       "        vertical-align: middle;\n",
       "    }\n",
       "\n",
       "    .dataframe tbody tr th {\n",
       "        vertical-align: top;\n",
       "    }\n",
       "\n",
       "    .dataframe thead th {\n",
       "        text-align: right;\n",
       "    }\n",
       "</style>\n",
       "<table border=\"1\" class=\"dataframe\">\n",
       "  <thead>\n",
       "    <tr style=\"text-align: right;\">\n",
       "      <th></th>\n",
       "      <th>Unnamed: 0</th>\n",
       "      <th>_id</th>\n",
       "      <th>activityHotness</th>\n",
       "      <th>coins</th>\n",
       "      <th>description</th>\n",
       "      <th>hotness</th>\n",
       "      <th>originalImageUrl</th>\n",
       "      <th>primaryCategory</th>\n",
       "      <th>publishedAt</th>\n",
       "      <th>similarArticles</th>\n",
       "      <th>source</th>\n",
       "      <th>sourceDomain</th>\n",
       "      <th>title</th>\n",
       "      <th>url</th>\n",
       "      <th>words</th>\n",
       "      <th>clean_coins</th>\n",
       "      <th>date</th>\n",
       "    </tr>\n",
       "  </thead>\n",
       "  <tbody>\n",
       "    <tr>\n",
       "      <th>0</th>\n",
       "      <td>0</td>\n",
       "      <td>5fb29a05ae2a95001a05a7a6</td>\n",
       "      <td>4.643825</td>\n",
       "      <td>[{'_id': '59cb59e81c073f09e76f614b', 'name': '...</td>\n",
       "      <td>The crypto was the response to the global econ...</td>\n",
       "      <td>74335.037113</td>\n",
       "      <td>https://ihodl.com/media/articles/d/f0/e19475f0...</td>\n",
       "      <td>General</td>\n",
       "      <td>2020-11-16T14:21:35.000Z</td>\n",
       "      <td>[{'_id': '5fb285967d7d9300177be37f', 'title': ...</td>\n",
       "      <td>{'_id': '5b6b761b3bda0e0010d82323', 'name': 'I...</td>\n",
       "      <td>ihodl.com</td>\n",
       "      <td>Citibank: Bitcoin is the Digital Gold of the 2...</td>\n",
       "      <td>https://cryptocontrol.io/r/api/article/5fb29a0...</td>\n",
       "      <td>255</td>\n",
       "      <td>Bitcoin</td>\n",
       "      <td>2020-11-16</td>\n",
       "    </tr>\n",
       "    <tr>\n",
       "      <th>1</th>\n",
       "      <td>1</td>\n",
       "      <td>5fb261bda598c10017efa455</td>\n",
       "      <td>4.664710</td>\n",
       "      <td>[{'_id': '59cb59e81c073f09e76f614b', 'name': '...</td>\n",
       "      <td>DOT/USD is likely to trend upwards to $5.00, b...</td>\n",
       "      <td>74334.402812</td>\n",
       "      <td>https://coinjournal.net/wp-content/uploads/202...</td>\n",
       "      <td>Analysis</td>\n",
       "      <td>2020-11-16T10:25:43.000Z</td>\n",
       "      <td>[{'_id': '5fab2ba85d633f001df80c00', 'title': ...</td>\n",
       "      <td>{'_id': '59d71bc4ef8bf95cc2aaf570', 'name': 'C...</td>\n",
       "      <td>coinjournal.net</td>\n",
       "      <td>Price analysis: Polkadot delicately balanced n...</td>\n",
       "      <td>https://cryptocontrol.io/r/api/article/5fb261b...</td>\n",
       "      <td>508</td>\n",
       "      <td>Bitcoin</td>\n",
       "      <td>2020-11-16</td>\n",
       "    </tr>\n",
       "    <tr>\n",
       "      <th>2</th>\n",
       "      <td>2</td>\n",
       "      <td>5fb2a30ebd9bd10018ee8b26</td>\n",
       "      <td>4.610436</td>\n",
       "      <td>[{'_id': '59cb59e81c073f09e76f614b', 'name': '...</td>\n",
       "      <td>Fidelity Digital Assets has responded to some ...</td>\n",
       "      <td>74334.242056</td>\n",
       "      <td>https://static.coindesk.com/wp-content/uploads...</td>\n",
       "      <td>General</td>\n",
       "      <td>2020-11-16T09:47:23.000Z</td>\n",
       "      <td>[{'_id': '5fb271ca8318e10017f4427b', 'title': ...</td>\n",
       "      <td>{'_id': '59ce11393a44cf289a9a71f5', 'name': 'C...</td>\n",
       "      <td>coindesk.com</td>\n",
       "      <td>Fidelity's Crypto Arm Responds to 6 Common Bit...</td>\n",
       "      <td>https://cryptocontrol.io/r/api/article/5fb2a30...</td>\n",
       "      <td>457</td>\n",
       "      <td>Bitcoin</td>\n",
       "      <td>2020-11-16</td>\n",
       "    </tr>\n",
       "    <tr>\n",
       "      <th>3</th>\n",
       "      <td>3</td>\n",
       "      <td>5fb2a244bd9bd10018ee8aee</td>\n",
       "      <td>3.119062</td>\n",
       "      <td>[{'_id': '5b6a328530a21d000f00ae48', 'name': '...</td>\n",
       "      <td>Latest reports show that institutional crypto ...</td>\n",
       "      <td>74333.634108</td>\n",
       "      <td>https://ourbitcoinnews.sfo2.digitaloceanspaces...</td>\n",
       "      <td>General</td>\n",
       "      <td>2020-11-16T15:05:25.000Z</td>\n",
       "      <td>[{'_id': '5fb259b09ba24e001782e01e', 'title': ...</td>\n",
       "      <td>{'_id': '5d9ec6b0d37160001a8c2a84', 'name': 'O...</td>\n",
       "      <td>ourbitcoinnews.com</td>\n",
       "      <td>Grayscale about to hold $ 10 billion in crypto...</td>\n",
       "      <td>https://cryptocontrol.io/r/api/article/5fb2a24...</td>\n",
       "      <td>342</td>\n",
       "      <td>Giant</td>\n",
       "      <td>2020-11-16</td>\n",
       "    </tr>\n",
       "    <tr>\n",
       "      <th>4</th>\n",
       "      <td>4</td>\n",
       "      <td>5fb24a27a73cd8001a258071</td>\n",
       "      <td>3.172755</td>\n",
       "      <td>[{'_id': '5afcc60ced3b0e000f40d55c', 'name': '...</td>\n",
       "      <td>The mainstream adoption of digital assets and ...</td>\n",
       "      <td>74332.725440</td>\n",
       "      <td>https://cryptogazette.com/adminlogin/uploads/2...</td>\n",
       "      <td>General</td>\n",
       "      <td>2020-11-16T09:18:58.000Z</td>\n",
       "      <td>[{'_id': '5faec615b42e16001bc7e377', 'title': ...</td>\n",
       "      <td>{'_id': '5bac83ff0c38a70019d8ffd9', 'name': 'O...</td>\n",
       "      <td>NaN</td>\n",
       "      <td>Institutional Adoption Is Coming To Bitcoin An...</td>\n",
       "      <td>https://cryptocontrol.io/r/api/article/5fb24a2...</td>\n",
       "      <td>311</td>\n",
       "      <td>KEY</td>\n",
       "      <td>2020-11-16</td>\n",
       "    </tr>\n",
       "  </tbody>\n",
       "</table>\n",
       "</div>"
      ],
      "text/plain": [
       "   Unnamed: 0                       _id  activityHotness  \\\n",
       "0           0  5fb29a05ae2a95001a05a7a6         4.643825   \n",
       "1           1  5fb261bda598c10017efa455         4.664710   \n",
       "2           2  5fb2a30ebd9bd10018ee8b26         4.610436   \n",
       "3           3  5fb2a244bd9bd10018ee8aee         3.119062   \n",
       "4           4  5fb24a27a73cd8001a258071         3.172755   \n",
       "\n",
       "                                               coins  \\\n",
       "0  [{'_id': '59cb59e81c073f09e76f614b', 'name': '...   \n",
       "1  [{'_id': '59cb59e81c073f09e76f614b', 'name': '...   \n",
       "2  [{'_id': '59cb59e81c073f09e76f614b', 'name': '...   \n",
       "3  [{'_id': '5b6a328530a21d000f00ae48', 'name': '...   \n",
       "4  [{'_id': '5afcc60ced3b0e000f40d55c', 'name': '...   \n",
       "\n",
       "                                         description       hotness  \\\n",
       "0  The crypto was the response to the global econ...  74335.037113   \n",
       "1  DOT/USD is likely to trend upwards to $5.00, b...  74334.402812   \n",
       "2  Fidelity Digital Assets has responded to some ...  74334.242056   \n",
       "3  Latest reports show that institutional crypto ...  74333.634108   \n",
       "4  The mainstream adoption of digital assets and ...  74332.725440   \n",
       "\n",
       "                                    originalImageUrl primaryCategory  \\\n",
       "0  https://ihodl.com/media/articles/d/f0/e19475f0...         General   \n",
       "1  https://coinjournal.net/wp-content/uploads/202...        Analysis   \n",
       "2  https://static.coindesk.com/wp-content/uploads...         General   \n",
       "3  https://ourbitcoinnews.sfo2.digitaloceanspaces...         General   \n",
       "4  https://cryptogazette.com/adminlogin/uploads/2...         General   \n",
       "\n",
       "                publishedAt  \\\n",
       "0  2020-11-16T14:21:35.000Z   \n",
       "1  2020-11-16T10:25:43.000Z   \n",
       "2  2020-11-16T09:47:23.000Z   \n",
       "3  2020-11-16T15:05:25.000Z   \n",
       "4  2020-11-16T09:18:58.000Z   \n",
       "\n",
       "                                     similarArticles  \\\n",
       "0  [{'_id': '5fb285967d7d9300177be37f', 'title': ...   \n",
       "1  [{'_id': '5fab2ba85d633f001df80c00', 'title': ...   \n",
       "2  [{'_id': '5fb271ca8318e10017f4427b', 'title': ...   \n",
       "3  [{'_id': '5fb259b09ba24e001782e01e', 'title': ...   \n",
       "4  [{'_id': '5faec615b42e16001bc7e377', 'title': ...   \n",
       "\n",
       "                                              source        sourceDomain  \\\n",
       "0  {'_id': '5b6b761b3bda0e0010d82323', 'name': 'I...           ihodl.com   \n",
       "1  {'_id': '59d71bc4ef8bf95cc2aaf570', 'name': 'C...     coinjournal.net   \n",
       "2  {'_id': '59ce11393a44cf289a9a71f5', 'name': 'C...        coindesk.com   \n",
       "3  {'_id': '5d9ec6b0d37160001a8c2a84', 'name': 'O...  ourbitcoinnews.com   \n",
       "4  {'_id': '5bac83ff0c38a70019d8ffd9', 'name': 'O...                 NaN   \n",
       "\n",
       "                                               title  \\\n",
       "0  Citibank: Bitcoin is the Digital Gold of the 2...   \n",
       "1  Price analysis: Polkadot delicately balanced n...   \n",
       "2  Fidelity's Crypto Arm Responds to 6 Common Bit...   \n",
       "3  Grayscale about to hold $ 10 billion in crypto...   \n",
       "4  Institutional Adoption Is Coming To Bitcoin An...   \n",
       "\n",
       "                                                 url  words clean_coins  \\\n",
       "0  https://cryptocontrol.io/r/api/article/5fb29a0...    255     Bitcoin   \n",
       "1  https://cryptocontrol.io/r/api/article/5fb261b...    508     Bitcoin   \n",
       "2  https://cryptocontrol.io/r/api/article/5fb2a30...    457     Bitcoin   \n",
       "3  https://cryptocontrol.io/r/api/article/5fb2a24...    342       Giant   \n",
       "4  https://cryptocontrol.io/r/api/article/5fb24a2...    311         KEY   \n",
       "\n",
       "        date  \n",
       "0 2020-11-16  \n",
       "1 2020-11-16  \n",
       "2 2020-11-16  \n",
       "3 2020-11-16  \n",
       "4 2020-11-16  "
      ]
     },
     "execution_count": 22,
     "metadata": {},
     "output_type": "execute_result"
    }
   ],
   "source": [
    "top_bitcoin_news.head()"
   ]
  },
  {
   "cell_type": "code",
   "execution_count": 23,
   "metadata": {
    "ExecuteTime": {
     "end_time": "2020-11-18T14:19:52.016968Z",
     "start_time": "2020-11-18T14:19:52.012712Z"
    }
   },
   "outputs": [
    {
     "data": {
      "text/plain": [
       "Index(['Unnamed: 0', '_id', 'activityHotness', 'coins', 'description',\n",
       "       'hotness', 'originalImageUrl', 'primaryCategory', 'publishedAt',\n",
       "       'similarArticles', 'source', 'sourceDomain', 'title', 'url', 'words',\n",
       "       'clean_coins', 'date'],\n",
       "      dtype='object')"
      ]
     },
     "execution_count": 23,
     "metadata": {},
     "output_type": "execute_result"
    }
   ],
   "source": [
    "top_bitcoin_news.columns"
   ]
  },
  {
   "cell_type": "code",
   "execution_count": 24,
   "metadata": {
    "ExecuteTime": {
     "end_time": "2020-11-18T14:19:52.024286Z",
     "start_time": "2020-11-18T14:19:52.020141Z"
    }
   },
   "outputs": [],
   "source": [
    "clean_top_bitcoin_news = top_bitcoin_news.drop(columns=['Unnamed: 0', '_id', 'activityHotness', 'coins', 'hotness', 'originalImageUrl', 'primaryCategory', 'publishedAt',\n",
    "       'similarArticles', 'source', 'sourceDomain', 'words'])"
   ]
  },
  {
   "cell_type": "code",
   "execution_count": 25,
   "metadata": {
    "ExecuteTime": {
     "end_time": "2020-11-18T14:19:52.044026Z",
     "start_time": "2020-11-18T14:19:52.026679Z"
    }
   },
   "outputs": [
    {
     "data": {
      "text/html": [
       "<div>\n",
       "<style scoped>\n",
       "    .dataframe tbody tr th:only-of-type {\n",
       "        vertical-align: middle;\n",
       "    }\n",
       "\n",
       "    .dataframe tbody tr th {\n",
       "        vertical-align: top;\n",
       "    }\n",
       "\n",
       "    .dataframe thead th {\n",
       "        text-align: right;\n",
       "    }\n",
       "</style>\n",
       "<table border=\"1\" class=\"dataframe\">\n",
       "  <thead>\n",
       "    <tr style=\"text-align: right;\">\n",
       "      <th></th>\n",
       "      <th>description</th>\n",
       "      <th>title</th>\n",
       "      <th>url</th>\n",
       "      <th>clean_coins</th>\n",
       "    </tr>\n",
       "    <tr>\n",
       "      <th>date</th>\n",
       "      <th></th>\n",
       "      <th></th>\n",
       "      <th></th>\n",
       "      <th></th>\n",
       "    </tr>\n",
       "  </thead>\n",
       "  <tbody>\n",
       "    <tr>\n",
       "      <th>2020-11-16</th>\n",
       "      <td>The crypto was the response to the global econ...</td>\n",
       "      <td>Citibank: Bitcoin is the Digital Gold of the 2...</td>\n",
       "      <td>https://cryptocontrol.io/r/api/article/5fb29a0...</td>\n",
       "      <td>Bitcoin</td>\n",
       "    </tr>\n",
       "    <tr>\n",
       "      <th>2020-11-16</th>\n",
       "      <td>DOT/USD is likely to trend upwards to $5.00, b...</td>\n",
       "      <td>Price analysis: Polkadot delicately balanced n...</td>\n",
       "      <td>https://cryptocontrol.io/r/api/article/5fb261b...</td>\n",
       "      <td>Bitcoin</td>\n",
       "    </tr>\n",
       "    <tr>\n",
       "      <th>2020-11-16</th>\n",
       "      <td>Fidelity Digital Assets has responded to some ...</td>\n",
       "      <td>Fidelity's Crypto Arm Responds to 6 Common Bit...</td>\n",
       "      <td>https://cryptocontrol.io/r/api/article/5fb2a30...</td>\n",
       "      <td>Bitcoin</td>\n",
       "    </tr>\n",
       "    <tr>\n",
       "      <th>2020-11-16</th>\n",
       "      <td>Latest reports show that institutional crypto ...</td>\n",
       "      <td>Grayscale about to hold $ 10 billion in crypto...</td>\n",
       "      <td>https://cryptocontrol.io/r/api/article/5fb2a24...</td>\n",
       "      <td>Giant</td>\n",
       "    </tr>\n",
       "    <tr>\n",
       "      <th>2020-11-16</th>\n",
       "      <td>The mainstream adoption of digital assets and ...</td>\n",
       "      <td>Institutional Adoption Is Coming To Bitcoin An...</td>\n",
       "      <td>https://cryptocontrol.io/r/api/article/5fb24a2...</td>\n",
       "      <td>KEY</td>\n",
       "    </tr>\n",
       "    <tr>\n",
       "      <th>2020-11-15</th>\n",
       "      <td>Ethereum could undergo a stronger drop in the ...</td>\n",
       "      <td>Ethereum Drops Below Crucial Technical Pattern...</td>\n",
       "      <td>https://cryptocontrol.io/r/api/article/5fb1bf3...</td>\n",
       "      <td>Defi</td>\n",
       "    </tr>\n",
       "    <tr>\n",
       "      <th>2020-11-15</th>\n",
       "      <td>Bitcoin has begun to slide lower over the past...</td>\n",
       "      <td>Why New Highs May Be Imminent For Bitcoin if $...</td>\n",
       "      <td>https://cryptocontrol.io/r/api/article/5fb1bec...</td>\n",
       "      <td>Bitcoin</td>\n",
       "    </tr>\n",
       "    <tr>\n",
       "      <th>2020-11-15</th>\n",
       "      <td>Peninsula Visa and Passport services in the U....</td>\n",
       "      <td>Bitcoin payment now accepted for U.S. passport...</td>\n",
       "      <td>https://cryptocontrol.io/r/api/article/5fb1ab7...</td>\n",
       "      <td>Bitcoin</td>\n",
       "    </tr>\n",
       "    <tr>\n",
       "      <th>2020-11-16</th>\n",
       "      <td>The visa and passport processing firm will all...</td>\n",
       "      <td>Peninsula Visa now accepts Bitcoin as a paymen...</td>\n",
       "      <td>https://cryptocontrol.io/r/api/article/5fb2931...</td>\n",
       "      <td>Bitcoin</td>\n",
       "    </tr>\n",
       "    <tr>\n",
       "      <th>2020-11-16</th>\n",
       "      <td>Chinese Bitcoin miners are reportedly facing d...</td>\n",
       "      <td>Chinese Bitcoin Miners Can’t Pay Power Compani...</td>\n",
       "      <td>https://cryptocontrol.io/r/api/article/5fb29fe...</td>\n",
       "      <td>Bitcoin</td>\n",
       "    </tr>\n",
       "    <tr>\n",
       "      <th>2020-11-15</th>\n",
       "      <td>Bitcoin Cash (BCH), a spin-off of Bitcoin crea...</td>\n",
       "      <td>Bitcoin Cash Undergoes Hard Fork, Splitting In...</td>\n",
       "      <td>https://cryptocontrol.io/r/api/article/5fb1849...</td>\n",
       "      <td>Bitcoin</td>\n",
       "    </tr>\n",
       "    <tr>\n",
       "      <th>2020-11-15</th>\n",
       "      <td>The Republican Senator-elect has praised the c...</td>\n",
       "      <td>Bitcoin-Loving Senator-Elect Praises Crypto as...</td>\n",
       "      <td>https://cryptocontrol.io/r/api/article/5fb1643...</td>\n",
       "      <td>Bitcoin</td>\n",
       "    </tr>\n",
       "    <tr>\n",
       "      <th>2020-11-16</th>\n",
       "      <td>Since the hard fork was announced, BCH users h...</td>\n",
       "      <td>Grayscale’s Bitcoin Cash Trust AUM Shrinks by ...</td>\n",
       "      <td>https://cryptocontrol.io/r/api/article/5fb247e...</td>\n",
       "      <td>Bitcoin</td>\n",
       "    </tr>\n",
       "    <tr>\n",
       "      <th>2020-11-16</th>\n",
       "      <td>Bitcoin has faced some intense buying pressure...</td>\n",
       "      <td>This On-Chain Metric Suggests Bitcoin is “Vuln...</td>\n",
       "      <td>https://cryptocontrol.io/r/api/article/5fb2b29...</td>\n",
       "      <td>Bitcoin</td>\n",
       "    </tr>\n",
       "    <tr>\n",
       "      <th>2020-11-16</th>\n",
       "      <td>Eoghan McCabe, the co-founder and chairman of ...</td>\n",
       "      <td>Intercom Co-founder Says He’s Jumped On Bitcoi...</td>\n",
       "      <td>https://cryptocontrol.io/r/api/article/5fb2958...</td>\n",
       "      <td>Bitcoin</td>\n",
       "    </tr>\n",
       "    <tr>\n",
       "      <th>2020-11-16</th>\n",
       "      <td>Major bitcoin mining pool Poolin has launched ...</td>\n",
       "      <td>Poolin Launches Initiative To Activate Taproot...</td>\n",
       "      <td>https://cryptocontrol.io/r/api/article/5fb2b2f...</td>\n",
       "      <td>Bitcoin</td>\n",
       "    </tr>\n",
       "    <tr>\n",
       "      <th>2020-11-16</th>\n",
       "      <td>Moderna Therapeutics announced successful resu...</td>\n",
       "      <td>Moderna COVID-19 Vaccine News Sends Bitcoin To...</td>\n",
       "      <td>https://cryptocontrol.io/r/api/article/5fb2af6...</td>\n",
       "      <td>DATA</td>\n",
       "    </tr>\n",
       "    <tr>\n",
       "      <th>2020-11-16</th>\n",
       "      <td>Bitcoin is mounting a strong bounce from the w...</td>\n",
       "      <td>Bitcoin Just Broke to $16,500: 3 Reasons Why A...</td>\n",
       "      <td>https://cryptocontrol.io/r/api/article/5fb2b2a...</td>\n",
       "      <td>Defi</td>\n",
       "    </tr>\n",
       "    <tr>\n",
       "      <th>2020-11-16</th>\n",
       "      <td>This week two well known tech executives revea...</td>\n",
       "      <td>Big Tech Execs and Bitcoin: Skype Cofounder Ke...</td>\n",
       "      <td>https://cryptocontrol.io/r/api/article/5fb2a3a...</td>\n",
       "      <td>Bitcoin</td>\n",
       "    </tr>\n",
       "    <tr>\n",
       "      <th>2020-11-16</th>\n",
       "      <td>This week two well known tech executives revea...</td>\n",
       "      <td>Big Tech Execs and Bitcoin: Skype Cofounder Ke...</td>\n",
       "      <td>https://cryptocontrol.io/r/api/article/5fb2b2c...</td>\n",
       "      <td>Bitcoin</td>\n",
       "    </tr>\n",
       "    <tr>\n",
       "      <th>2020-11-16</th>\n",
       "      <td>On November 14th, Value DeFi–a yield aggregati...</td>\n",
       "      <td>$7.4 million stolen in Value DeFi exploit</td>\n",
       "      <td>https://cryptocontrol.io/r/api/article/5fb2a7c...</td>\n",
       "      <td>Defi</td>\n",
       "    </tr>\n",
       "    <tr>\n",
       "      <th>2020-11-16</th>\n",
       "      <td>Bitcoin worth born below the conic on the 12-h...</td>\n",
       "      <td>Traders say $15.5K level ‘crucial’ when Bitcoi...</td>\n",
       "      <td>https://cryptocontrol.io/r/api/article/5fb22ae...</td>\n",
       "      <td>Bitcoin</td>\n",
       "    </tr>\n",
       "    <tr>\n",
       "      <th>2020-11-16</th>\n",
       "      <td>TLDR Breakdown Surging demand in China for Bit...</td>\n",
       "      <td>China Construction Bank unexpectedly primes Bi...</td>\n",
       "      <td>https://cryptocontrol.io/r/api/article/5fb2ad0...</td>\n",
       "      <td>Bitcoin</td>\n",
       "    </tr>\n",
       "    <tr>\n",
       "      <th>2020-11-16</th>\n",
       "      <td>Bitcoin Cash has been split yet again as the c...</td>\n",
       "      <td>Bitcoin Cash Hard Fork: Here's What Happened</td>\n",
       "      <td>https://cryptocontrol.io/r/api/article/5fb2ab9...</td>\n",
       "      <td>Bitcoin</td>\n",
       "    </tr>\n",
       "    <tr>\n",
       "      <th>2020-11-16</th>\n",
       "      <td>Bitcoin (BTC) Price Prediction – November 16 T...</td>\n",
       "      <td>Bitcoin Price Prediction: BTC/USD Approaches $...</td>\n",
       "      <td>https://cryptocontrol.io/r/api/article/5fb2aef...</td>\n",
       "      <td>Bitcoin</td>\n",
       "    </tr>\n",
       "    <tr>\n",
       "      <th>2020-11-16</th>\n",
       "      <td>A senior Citibank executive has provided a bul...</td>\n",
       "      <td>Citibank Executive: Economy Could Drive Bitcoi...</td>\n",
       "      <td>https://cryptocontrol.io/r/api/article/5fb2aac...</td>\n",
       "      <td>Bitcoin</td>\n",
       "    </tr>\n",
       "    <tr>\n",
       "      <th>2020-11-16</th>\n",
       "      <td>Belarusbank, the largest commercial bank in Be...</td>\n",
       "      <td>Belarus’ Largest Commercial Bank Launches Cryp...</td>\n",
       "      <td>https://cryptocontrol.io/r/api/article/5fb2aa9...</td>\n",
       "      <td>Giant</td>\n",
       "    </tr>\n",
       "    <tr>\n",
       "      <th>2020-11-16</th>\n",
       "      <td>Post Quantum is one of several finalists in a ...</td>\n",
       "      <td>Inside the Competition That Will Save Bitcoin ...</td>\n",
       "      <td>https://cryptocontrol.io/r/api/article/5fb29c1...</td>\n",
       "      <td>Quantum</td>\n",
       "    </tr>\n",
       "    <tr>\n",
       "      <th>2020-11-16</th>\n",
       "      <td>Ethereum was trading above $450 while Bitcoin ...</td>\n",
       "      <td>Ethereum Classic, EOS, VeChain Price Analysis:...</td>\n",
       "      <td>https://cryptocontrol.io/r/api/article/5fb2a85...</td>\n",
       "      <td>Ethereum</td>\n",
       "    </tr>\n",
       "    <tr>\n",
       "      <th>2020-11-16</th>\n",
       "      <td>If the psychological $500 barrier is surpassed...</td>\n",
       "      <td>Ethereum Bulls Facing Stiff Resistance Despite...</td>\n",
       "      <td>https://cryptocontrol.io/r/api/article/5fb29c4...</td>\n",
       "      <td>Bitcoin</td>\n",
       "    </tr>\n",
       "    <tr>\n",
       "      <th>2020-11-16</th>\n",
       "      <td>While a number of institutional players and he...</td>\n",
       "      <td>Peter Schiff: Gold Will Win Once The Bitcoin (...</td>\n",
       "      <td>https://cryptocontrol.io/r/api/article/5fb2a57...</td>\n",
       "      <td>Bitcoin</td>\n",
       "    </tr>\n",
       "    <tr>\n",
       "      <th>2020-11-16</th>\n",
       "      <td>According to a press release today, Jay Clayto...</td>\n",
       "      <td>SEC Chair Jay Clayton to Step Down in December...</td>\n",
       "      <td>https://cryptocontrol.io/r/api/article/5fb29e4...</td>\n",
       "      <td>Nano</td>\n",
       "    </tr>\n",
       "    <tr>\n",
       "      <th>2020-11-16</th>\n",
       "      <td>In the meantime, BTC continues to show its mus...</td>\n",
       "      <td>Bitcoin Cash: the price remains stable after t...</td>\n",
       "      <td>https://cryptocontrol.io/r/api/article/5fb2a08...</td>\n",
       "      <td>Bitcoin</td>\n",
       "    </tr>\n",
       "    <tr>\n",
       "      <th>2020-11-16</th>\n",
       "      <td>The combined moving 7-day average crypto marke...</td>\n",
       "      <td>Crypto Market Sentiment Improves, Bitcoin &amp; Et...</td>\n",
       "      <td>https://cryptocontrol.io/r/api/article/5fb29f1...</td>\n",
       "      <td>Bitcoin</td>\n",
       "    </tr>\n",
       "    <tr>\n",
       "      <th>2020-11-16</th>\n",
       "      <td>Disclaimer: The findings of the following arti...</td>\n",
       "      <td>Ethereum long-term Price Analysis: 16 November</td>\n",
       "      <td>https://cryptocontrol.io/r/api/article/5fb298a...</td>\n",
       "      <td>Ethereum</td>\n",
       "    </tr>\n",
       "    <tr>\n",
       "      <th>2020-11-16</th>\n",
       "      <td>An official source shows the Pakistani financi...</td>\n",
       "      <td>Pakistan: SECP Publishes Crypto Regulations Ex...</td>\n",
       "      <td>https://cryptocontrol.io/r/api/article/5fb2993...</td>\n",
       "      <td>Bitcoin</td>\n",
       "    </tr>\n",
       "    <tr>\n",
       "      <th>2020-11-16</th>\n",
       "      <td>For all intents and purposes, Bitcoin is back ...</td>\n",
       "      <td>Bitcoin Bull Market Corrections Examined: What...</td>\n",
       "      <td>https://cryptocontrol.io/r/api/article/5fb2a40...</td>\n",
       "      <td>Bitcoin</td>\n",
       "    </tr>\n",
       "    <tr>\n",
       "      <th>2020-11-16</th>\n",
       "      <td>A rise in coronavirus cases, hospitalizations ...</td>\n",
       "      <td>First Mover: Vaccine Won't Come Fast Enough to...</td>\n",
       "      <td>https://cryptocontrol.io/r/api/article/5fb2a2e...</td>\n",
       "      <td>Bitcoin</td>\n",
       "    </tr>\n",
       "    <tr>\n",
       "      <th>2020-11-16</th>\n",
       "      <td>Bitcoin price may be nearing exhaustion after ...</td>\n",
       "      <td>Bitcoin price must break this level to extend ...</td>\n",
       "      <td>https://cryptocontrol.io/r/api/article/5fb2a32...</td>\n",
       "      <td>NEXT</td>\n",
       "    </tr>\n",
       "    <tr>\n",
       "      <th>2020-11-16</th>\n",
       "      <td>In an interview with Good Morning America TV s...</td>\n",
       "      <td>DragonEx exchange brings in new withdrawal met...</td>\n",
       "      <td>https://cryptocontrol.io/r/api/article/5fb2960...</td>\n",
       "      <td>Bitcoin</td>\n",
       "    </tr>\n",
       "    <tr>\n",
       "      <th>2020-11-16</th>\n",
       "      <td>Ethereum dropped by a total of 8% over the wee...</td>\n",
       "      <td>Ethereum Price Analysis: ETH Facing Huge Resis...</td>\n",
       "      <td>https://cryptocontrol.io/r/api/article/5fb28f2...</td>\n",
       "      <td>Ethereum</td>\n",
       "    </tr>\n",
       "    <tr>\n",
       "      <th>2020-11-16</th>\n",
       "      <td>Miners in China have reportedly been strugglin...</td>\n",
       "      <td>China's Crypto Miners Struggle to Pay Power Bi...</td>\n",
       "      <td>https://cryptocontrol.io/r/api/article/5fb2927...</td>\n",
       "      <td>Bitcoin</td>\n",
       "    </tr>\n",
       "    <tr>\n",
       "      <th>2020-11-16</th>\n",
       "      <td>According to Tether’s official transparency pa...</td>\n",
       "      <td>Tether Market Cap Surpasses $18 Billion</td>\n",
       "      <td>https://cryptocontrol.io/r/api/article/5fb29b2...</td>\n",
       "      <td>Tether</td>\n",
       "    </tr>\n",
       "    <tr>\n",
       "      <th>2020-11-16</th>\n",
       "      <td>HEX.COM — The First High Interest Blockchain C...</td>\n",
       "      <td>Outperforming Every Asset in 2020, HEX Announc...</td>\n",
       "      <td>https://cryptocontrol.io/r/api/article/5fb2994...</td>\n",
       "      <td>HEX</td>\n",
       "    </tr>\n",
       "    <tr>\n",
       "      <th>2020-11-16</th>\n",
       "      <td>In an exclusive interview, BTCManager sat down...</td>\n",
       "      <td>Exclusive: Interview with HEX (HEX) Founder, R...</td>\n",
       "      <td>https://cryptocontrol.io/r/api/article/5fb2995...</td>\n",
       "      <td>Consensus</td>\n",
       "    </tr>\n",
       "  </tbody>\n",
       "</table>\n",
       "</div>"
      ],
      "text/plain": [
       "                                                  description  \\\n",
       "date                                                            \n",
       "2020-11-16  The crypto was the response to the global econ...   \n",
       "2020-11-16  DOT/USD is likely to trend upwards to $5.00, b...   \n",
       "2020-11-16  Fidelity Digital Assets has responded to some ...   \n",
       "2020-11-16  Latest reports show that institutional crypto ...   \n",
       "2020-11-16  The mainstream adoption of digital assets and ...   \n",
       "2020-11-15  Ethereum could undergo a stronger drop in the ...   \n",
       "2020-11-15  Bitcoin has begun to slide lower over the past...   \n",
       "2020-11-15  Peninsula Visa and Passport services in the U....   \n",
       "2020-11-16  The visa and passport processing firm will all...   \n",
       "2020-11-16  Chinese Bitcoin miners are reportedly facing d...   \n",
       "2020-11-15  Bitcoin Cash (BCH), a spin-off of Bitcoin crea...   \n",
       "2020-11-15  The Republican Senator-elect has praised the c...   \n",
       "2020-11-16  Since the hard fork was announced, BCH users h...   \n",
       "2020-11-16  Bitcoin has faced some intense buying pressure...   \n",
       "2020-11-16  Eoghan McCabe, the co-founder and chairman of ...   \n",
       "2020-11-16  Major bitcoin mining pool Poolin has launched ...   \n",
       "2020-11-16  Moderna Therapeutics announced successful resu...   \n",
       "2020-11-16  Bitcoin is mounting a strong bounce from the w...   \n",
       "2020-11-16  This week two well known tech executives revea...   \n",
       "2020-11-16  This week two well known tech executives revea...   \n",
       "2020-11-16  On November 14th, Value DeFi–a yield aggregati...   \n",
       "2020-11-16  Bitcoin worth born below the conic on the 12-h...   \n",
       "2020-11-16  TLDR Breakdown Surging demand in China for Bit...   \n",
       "2020-11-16  Bitcoin Cash has been split yet again as the c...   \n",
       "2020-11-16  Bitcoin (BTC) Price Prediction – November 16 T...   \n",
       "2020-11-16  A senior Citibank executive has provided a bul...   \n",
       "2020-11-16  Belarusbank, the largest commercial bank in Be...   \n",
       "2020-11-16  Post Quantum is one of several finalists in a ...   \n",
       "2020-11-16  Ethereum was trading above $450 while Bitcoin ...   \n",
       "2020-11-16  If the psychological $500 barrier is surpassed...   \n",
       "2020-11-16  While a number of institutional players and he...   \n",
       "2020-11-16  According to a press release today, Jay Clayto...   \n",
       "2020-11-16  In the meantime, BTC continues to show its mus...   \n",
       "2020-11-16  The combined moving 7-day average crypto marke...   \n",
       "2020-11-16  Disclaimer: The findings of the following arti...   \n",
       "2020-11-16  An official source shows the Pakistani financi...   \n",
       "2020-11-16  For all intents and purposes, Bitcoin is back ...   \n",
       "2020-11-16  A rise in coronavirus cases, hospitalizations ...   \n",
       "2020-11-16  Bitcoin price may be nearing exhaustion after ...   \n",
       "2020-11-16  In an interview with Good Morning America TV s...   \n",
       "2020-11-16  Ethereum dropped by a total of 8% over the wee...   \n",
       "2020-11-16  Miners in China have reportedly been strugglin...   \n",
       "2020-11-16  According to Tether’s official transparency pa...   \n",
       "2020-11-16  HEX.COM — The First High Interest Blockchain C...   \n",
       "2020-11-16  In an exclusive interview, BTCManager sat down...   \n",
       "\n",
       "                                                        title  \\\n",
       "date                                                            \n",
       "2020-11-16  Citibank: Bitcoin is the Digital Gold of the 2...   \n",
       "2020-11-16  Price analysis: Polkadot delicately balanced n...   \n",
       "2020-11-16  Fidelity's Crypto Arm Responds to 6 Common Bit...   \n",
       "2020-11-16  Grayscale about to hold $ 10 billion in crypto...   \n",
       "2020-11-16  Institutional Adoption Is Coming To Bitcoin An...   \n",
       "2020-11-15  Ethereum Drops Below Crucial Technical Pattern...   \n",
       "2020-11-15  Why New Highs May Be Imminent For Bitcoin if $...   \n",
       "2020-11-15  Bitcoin payment now accepted for U.S. passport...   \n",
       "2020-11-16  Peninsula Visa now accepts Bitcoin as a paymen...   \n",
       "2020-11-16  Chinese Bitcoin Miners Can’t Pay Power Compani...   \n",
       "2020-11-15  Bitcoin Cash Undergoes Hard Fork, Splitting In...   \n",
       "2020-11-15  Bitcoin-Loving Senator-Elect Praises Crypto as...   \n",
       "2020-11-16  Grayscale’s Bitcoin Cash Trust AUM Shrinks by ...   \n",
       "2020-11-16  This On-Chain Metric Suggests Bitcoin is “Vuln...   \n",
       "2020-11-16  Intercom Co-founder Says He’s Jumped On Bitcoi...   \n",
       "2020-11-16  Poolin Launches Initiative To Activate Taproot...   \n",
       "2020-11-16  Moderna COVID-19 Vaccine News Sends Bitcoin To...   \n",
       "2020-11-16  Bitcoin Just Broke to $16,500: 3 Reasons Why A...   \n",
       "2020-11-16  Big Tech Execs and Bitcoin: Skype Cofounder Ke...   \n",
       "2020-11-16  Big Tech Execs and Bitcoin: Skype Cofounder Ke...   \n",
       "2020-11-16          $7.4 million stolen in Value DeFi exploit   \n",
       "2020-11-16  Traders say $15.5K level ‘crucial’ when Bitcoi...   \n",
       "2020-11-16  China Construction Bank unexpectedly primes Bi...   \n",
       "2020-11-16       Bitcoin Cash Hard Fork: Here's What Happened   \n",
       "2020-11-16  Bitcoin Price Prediction: BTC/USD Approaches $...   \n",
       "2020-11-16  Citibank Executive: Economy Could Drive Bitcoi...   \n",
       "2020-11-16  Belarus’ Largest Commercial Bank Launches Cryp...   \n",
       "2020-11-16  Inside the Competition That Will Save Bitcoin ...   \n",
       "2020-11-16  Ethereum Classic, EOS, VeChain Price Analysis:...   \n",
       "2020-11-16  Ethereum Bulls Facing Stiff Resistance Despite...   \n",
       "2020-11-16  Peter Schiff: Gold Will Win Once The Bitcoin (...   \n",
       "2020-11-16  SEC Chair Jay Clayton to Step Down in December...   \n",
       "2020-11-16  Bitcoin Cash: the price remains stable after t...   \n",
       "2020-11-16  Crypto Market Sentiment Improves, Bitcoin & Et...   \n",
       "2020-11-16     Ethereum long-term Price Analysis: 16 November   \n",
       "2020-11-16  Pakistan: SECP Publishes Crypto Regulations Ex...   \n",
       "2020-11-16  Bitcoin Bull Market Corrections Examined: What...   \n",
       "2020-11-16  First Mover: Vaccine Won't Come Fast Enough to...   \n",
       "2020-11-16  Bitcoin price must break this level to extend ...   \n",
       "2020-11-16  DragonEx exchange brings in new withdrawal met...   \n",
       "2020-11-16  Ethereum Price Analysis: ETH Facing Huge Resis...   \n",
       "2020-11-16  China's Crypto Miners Struggle to Pay Power Bi...   \n",
       "2020-11-16            Tether Market Cap Surpasses $18 Billion   \n",
       "2020-11-16  Outperforming Every Asset in 2020, HEX Announc...   \n",
       "2020-11-16  Exclusive: Interview with HEX (HEX) Founder, R...   \n",
       "\n",
       "                                                          url clean_coins  \n",
       "date                                                                       \n",
       "2020-11-16  https://cryptocontrol.io/r/api/article/5fb29a0...     Bitcoin  \n",
       "2020-11-16  https://cryptocontrol.io/r/api/article/5fb261b...     Bitcoin  \n",
       "2020-11-16  https://cryptocontrol.io/r/api/article/5fb2a30...     Bitcoin  \n",
       "2020-11-16  https://cryptocontrol.io/r/api/article/5fb2a24...       Giant  \n",
       "2020-11-16  https://cryptocontrol.io/r/api/article/5fb24a2...         KEY  \n",
       "2020-11-15  https://cryptocontrol.io/r/api/article/5fb1bf3...        Defi  \n",
       "2020-11-15  https://cryptocontrol.io/r/api/article/5fb1bec...     Bitcoin  \n",
       "2020-11-15  https://cryptocontrol.io/r/api/article/5fb1ab7...     Bitcoin  \n",
       "2020-11-16  https://cryptocontrol.io/r/api/article/5fb2931...     Bitcoin  \n",
       "2020-11-16  https://cryptocontrol.io/r/api/article/5fb29fe...     Bitcoin  \n",
       "2020-11-15  https://cryptocontrol.io/r/api/article/5fb1849...     Bitcoin  \n",
       "2020-11-15  https://cryptocontrol.io/r/api/article/5fb1643...     Bitcoin  \n",
       "2020-11-16  https://cryptocontrol.io/r/api/article/5fb247e...     Bitcoin  \n",
       "2020-11-16  https://cryptocontrol.io/r/api/article/5fb2b29...     Bitcoin  \n",
       "2020-11-16  https://cryptocontrol.io/r/api/article/5fb2958...     Bitcoin  \n",
       "2020-11-16  https://cryptocontrol.io/r/api/article/5fb2b2f...     Bitcoin  \n",
       "2020-11-16  https://cryptocontrol.io/r/api/article/5fb2af6...        DATA  \n",
       "2020-11-16  https://cryptocontrol.io/r/api/article/5fb2b2a...        Defi  \n",
       "2020-11-16  https://cryptocontrol.io/r/api/article/5fb2a3a...     Bitcoin  \n",
       "2020-11-16  https://cryptocontrol.io/r/api/article/5fb2b2c...     Bitcoin  \n",
       "2020-11-16  https://cryptocontrol.io/r/api/article/5fb2a7c...        Defi  \n",
       "2020-11-16  https://cryptocontrol.io/r/api/article/5fb22ae...     Bitcoin  \n",
       "2020-11-16  https://cryptocontrol.io/r/api/article/5fb2ad0...     Bitcoin  \n",
       "2020-11-16  https://cryptocontrol.io/r/api/article/5fb2ab9...     Bitcoin  \n",
       "2020-11-16  https://cryptocontrol.io/r/api/article/5fb2aef...     Bitcoin  \n",
       "2020-11-16  https://cryptocontrol.io/r/api/article/5fb2aac...     Bitcoin  \n",
       "2020-11-16  https://cryptocontrol.io/r/api/article/5fb2aa9...       Giant  \n",
       "2020-11-16  https://cryptocontrol.io/r/api/article/5fb29c1...     Quantum  \n",
       "2020-11-16  https://cryptocontrol.io/r/api/article/5fb2a85...    Ethereum  \n",
       "2020-11-16  https://cryptocontrol.io/r/api/article/5fb29c4...     Bitcoin  \n",
       "2020-11-16  https://cryptocontrol.io/r/api/article/5fb2a57...     Bitcoin  \n",
       "2020-11-16  https://cryptocontrol.io/r/api/article/5fb29e4...        Nano  \n",
       "2020-11-16  https://cryptocontrol.io/r/api/article/5fb2a08...     Bitcoin  \n",
       "2020-11-16  https://cryptocontrol.io/r/api/article/5fb29f1...     Bitcoin  \n",
       "2020-11-16  https://cryptocontrol.io/r/api/article/5fb298a...    Ethereum  \n",
       "2020-11-16  https://cryptocontrol.io/r/api/article/5fb2993...     Bitcoin  \n",
       "2020-11-16  https://cryptocontrol.io/r/api/article/5fb2a40...     Bitcoin  \n",
       "2020-11-16  https://cryptocontrol.io/r/api/article/5fb2a2e...     Bitcoin  \n",
       "2020-11-16  https://cryptocontrol.io/r/api/article/5fb2a32...        NEXT  \n",
       "2020-11-16  https://cryptocontrol.io/r/api/article/5fb2960...     Bitcoin  \n",
       "2020-11-16  https://cryptocontrol.io/r/api/article/5fb28f2...    Ethereum  \n",
       "2020-11-16  https://cryptocontrol.io/r/api/article/5fb2927...     Bitcoin  \n",
       "2020-11-16  https://cryptocontrol.io/r/api/article/5fb29b2...      Tether  \n",
       "2020-11-16  https://cryptocontrol.io/r/api/article/5fb2994...         HEX  \n",
       "2020-11-16  https://cryptocontrol.io/r/api/article/5fb2995...   Consensus  "
      ]
     },
     "execution_count": 25,
     "metadata": {},
     "output_type": "execute_result"
    }
   ],
   "source": [
    "clean_top_bitcoin_news.set_index(['date'])"
   ]
  },
  {
   "cell_type": "code",
   "execution_count": 26,
   "metadata": {
    "ExecuteTime": {
     "end_time": "2020-11-18T14:19:53.231762Z",
     "start_time": "2020-11-18T14:19:52.045879Z"
    }
   },
   "outputs": [],
   "source": [
    "import string\n",
    "from nltk.corpus import stopwords \n",
    "from nltk.tokenize import word_tokenize\n",
    "from nltk.stem import WordNetLemmatizer\n",
    "stop_words = set(stopwords.words('english'))\n",
    "\n",
    "def clean_text(text):\n",
    "    text = text.lower()\n",
    "    text = ''.join(word for word in text if not word.isdigit())\n",
    "    text = ' '.join(token.lower() for token in word_tokenize(text) if token.lower() not in stop_words)\n",
    "    for punctuation in string.punctuation:\n",
    "        text = text.replace(punctuation, ' ')\n",
    "    lemmatizer = WordNetLemmatizer()\n",
    "    text = ''.join(lemmatizer.lemmatize(word) for word in text)\n",
    "    \n",
    "    return text"
   ]
  },
  {
   "cell_type": "code",
   "execution_count": 27,
   "metadata": {
    "ExecuteTime": {
     "end_time": "2020-11-18T14:19:54.831267Z",
     "start_time": "2020-11-18T14:19:53.234829Z"
    }
   },
   "outputs": [],
   "source": [
    "clean_top_bitcoin_news[\"description\"]=top_bitcoin_news[\"description\"].map(clean_text)\n",
    "clean_top_bitcoin_news[\"title\"]=top_bitcoin_news[\"title\"].map(clean_text)"
   ]
  },
  {
   "cell_type": "code",
   "execution_count": 28,
   "metadata": {
    "ExecuteTime": {
     "end_time": "2020-11-18T14:19:54.846114Z",
     "start_time": "2020-11-18T14:19:54.834181Z"
    }
   },
   "outputs": [
    {
     "data": {
      "text/html": [
       "<div>\n",
       "<style scoped>\n",
       "    .dataframe tbody tr th:only-of-type {\n",
       "        vertical-align: middle;\n",
       "    }\n",
       "\n",
       "    .dataframe tbody tr th {\n",
       "        vertical-align: top;\n",
       "    }\n",
       "\n",
       "    .dataframe thead th {\n",
       "        text-align: right;\n",
       "    }\n",
       "</style>\n",
       "<table border=\"1\" class=\"dataframe\">\n",
       "  <thead>\n",
       "    <tr style=\"text-align: right;\">\n",
       "      <th></th>\n",
       "      <th>description</th>\n",
       "      <th>title</th>\n",
       "      <th>url</th>\n",
       "      <th>clean_coins</th>\n",
       "      <th>date</th>\n",
       "    </tr>\n",
       "  </thead>\n",
       "  <tbody>\n",
       "    <tr>\n",
       "      <th>0</th>\n",
       "      <td>crypto response global economic crisis</td>\n",
       "      <td>citibank   bitcoin digital gold st century</td>\n",
       "      <td>https://cryptocontrol.io/r/api/article/5fb29a0...</td>\n",
       "      <td>Bitcoin</td>\n",
       "      <td>2020-11-16</td>\n",
       "    </tr>\n",
       "    <tr>\n",
       "      <th>1</th>\n",
       "      <td>dot usd likely trend upwards       negation se...</td>\n",
       "      <td>price analysis   polkadot delicately balanced ...</td>\n",
       "      <td>https://cryptocontrol.io/r/api/article/5fb261b...</td>\n",
       "      <td>Bitcoin</td>\n",
       "      <td>2020-11-16</td>\n",
       "    </tr>\n",
       "    <tr>\n",
       "      <th>2</th>\n",
       "      <td>fidelity digital assets responded bitcoin  s f...</td>\n",
       "      <td>fidelity  s crypto arm responds common bitcoin...</td>\n",
       "      <td>https://cryptocontrol.io/r/api/article/5fb2a30...</td>\n",
       "      <td>Bitcoin</td>\n",
       "      <td>2020-11-16</td>\n",
       "    </tr>\n",
       "    <tr>\n",
       "      <th>3</th>\n",
       "      <td>latest reports show institutional crypto giant...</td>\n",
       "      <td>grayscale hold   billion cryptocurrency</td>\n",
       "      <td>https://cryptocontrol.io/r/api/article/5fb2a24...</td>\n",
       "      <td>Giant</td>\n",
       "      <td>2020-11-16</td>\n",
       "    </tr>\n",
       "    <tr>\n",
       "      <th>4</th>\n",
       "      <td>mainstream adoption digital assets underlying ...</td>\n",
       "      <td>institutional adoption coming bitcoin crypto</td>\n",
       "      <td>https://cryptocontrol.io/r/api/article/5fb24a2...</td>\n",
       "      <td>KEY</td>\n",
       "      <td>2020-11-16</td>\n",
       "    </tr>\n",
       "  </tbody>\n",
       "</table>\n",
       "</div>"
      ],
      "text/plain": [
       "                                         description  \\\n",
       "0           crypto response global economic crisis     \n",
       "1  dot usd likely trend upwards       negation se...   \n",
       "2  fidelity digital assets responded bitcoin  s f...   \n",
       "3  latest reports show institutional crypto giant...   \n",
       "4  mainstream adoption digital assets underlying ...   \n",
       "\n",
       "                                               title  \\\n",
       "0         citibank   bitcoin digital gold st century   \n",
       "1  price analysis   polkadot delicately balanced ...   \n",
       "2  fidelity  s crypto arm responds common bitcoin...   \n",
       "3            grayscale hold   billion cryptocurrency   \n",
       "4       institutional adoption coming bitcoin crypto   \n",
       "\n",
       "                                                 url clean_coins       date  \n",
       "0  https://cryptocontrol.io/r/api/article/5fb29a0...     Bitcoin 2020-11-16  \n",
       "1  https://cryptocontrol.io/r/api/article/5fb261b...     Bitcoin 2020-11-16  \n",
       "2  https://cryptocontrol.io/r/api/article/5fb2a30...     Bitcoin 2020-11-16  \n",
       "3  https://cryptocontrol.io/r/api/article/5fb2a24...       Giant 2020-11-16  \n",
       "4  https://cryptocontrol.io/r/api/article/5fb24a2...         KEY 2020-11-16  "
      ]
     },
     "execution_count": 28,
     "metadata": {},
     "output_type": "execute_result"
    }
   ],
   "source": [
    "clean_top_bitcoin_news.head()"
   ]
  },
  {
   "cell_type": "code",
   "execution_count": 29,
   "metadata": {
    "ExecuteTime": {
     "end_time": "2020-11-18T14:19:54.852383Z",
     "start_time": "2020-11-18T14:19:54.848702Z"
    }
   },
   "outputs": [
    {
     "data": {
      "text/plain": [
       "'dot usd likely trend upwards       negation sentiment…'"
      ]
     },
     "execution_count": 29,
     "metadata": {},
     "output_type": "execute_result"
    }
   ],
   "source": [
    "clean_top_bitcoin_news.description[1]"
   ]
  },
  {
   "cell_type": "markdown",
   "metadata": {},
   "source": [
    "## Sentiment Analysis Classification for description and title"
   ]
  },
  {
   "cell_type": "code",
   "execution_count": 30,
   "metadata": {
    "ExecuteTime": {
     "end_time": "2020-11-18T14:19:55.350328Z",
     "start_time": "2020-11-18T14:19:54.854898Z"
    }
   },
   "outputs": [
    {
     "name": "stderr",
     "output_type": "stream",
     "text": [
      "[nltk_data] Downloading package averaged_perceptron_tagger to\n",
      "[nltk_data]     /Users/pedro/nltk_data...\n",
      "[nltk_data]   Package averaged_perceptron_tagger is already up-to-\n",
      "[nltk_data]       date!\n"
     ]
    }
   ],
   "source": [
    "# pip install -U textblob\n",
    "# python -m textblob.download_corpora\n",
    "from textblob import TextBlob\n",
    "import nltk\n",
    "nltk.download('averaged_perceptron_tagger')\n",
    "\n",
    "def sentimenter(text):\n",
    "    blob = TextBlob(text)\n",
    "    blob.tags\n",
    "    blob.noun_phrases\n",
    "    for sentence in blob.sentences:\n",
    "        return(sentence.sentiment.polarity)"
   ]
  },
  {
   "cell_type": "code",
   "execution_count": 31,
   "metadata": {
    "ExecuteTime": {
     "end_time": "2020-11-18T14:19:59.007967Z",
     "start_time": "2020-11-18T14:19:55.353846Z"
    }
   },
   "outputs": [],
   "source": [
    "clean_top_bitcoin_news[\"description_sentiment\"]=clean_top_bitcoin_news[\"description\"].map(sentimenter)\n",
    "clean_top_bitcoin_news[\"title_sentiment\"]=clean_top_bitcoin_news[\"title\"].map(sentimenter)"
   ]
  },
  {
   "cell_type": "code",
   "execution_count": 32,
   "metadata": {
    "ExecuteTime": {
     "end_time": "2020-11-18T14:19:59.025549Z",
     "start_time": "2020-11-18T14:19:59.010853Z"
    }
   },
   "outputs": [
    {
     "data": {
      "text/html": [
       "<div>\n",
       "<style scoped>\n",
       "    .dataframe tbody tr th:only-of-type {\n",
       "        vertical-align: middle;\n",
       "    }\n",
       "\n",
       "    .dataframe tbody tr th {\n",
       "        vertical-align: top;\n",
       "    }\n",
       "\n",
       "    .dataframe thead th {\n",
       "        text-align: right;\n",
       "    }\n",
       "</style>\n",
       "<table border=\"1\" class=\"dataframe\">\n",
       "  <thead>\n",
       "    <tr style=\"text-align: right;\">\n",
       "      <th></th>\n",
       "      <th>description</th>\n",
       "      <th>title</th>\n",
       "      <th>url</th>\n",
       "      <th>clean_coins</th>\n",
       "      <th>date</th>\n",
       "      <th>description_sentiment</th>\n",
       "      <th>title_sentiment</th>\n",
       "    </tr>\n",
       "  </thead>\n",
       "  <tbody>\n",
       "    <tr>\n",
       "      <th>0</th>\n",
       "      <td>crypto response global economic crisis</td>\n",
       "      <td>citibank   bitcoin digital gold st century</td>\n",
       "      <td>https://cryptocontrol.io/r/api/article/5fb29a0...</td>\n",
       "      <td>Bitcoin</td>\n",
       "      <td>2020-11-16</td>\n",
       "      <td>0.100000</td>\n",
       "      <td>0.000000</td>\n",
       "    </tr>\n",
       "    <tr>\n",
       "      <th>1</th>\n",
       "      <td>dot usd likely trend upwards       negation se...</td>\n",
       "      <td>price analysis   polkadot delicately balanced ...</td>\n",
       "      <td>https://cryptocontrol.io/r/api/article/5fb261b...</td>\n",
       "      <td>Bitcoin</td>\n",
       "      <td>2020-11-16</td>\n",
       "      <td>0.000000</td>\n",
       "      <td>-0.045833</td>\n",
       "    </tr>\n",
       "    <tr>\n",
       "      <th>2</th>\n",
       "      <td>fidelity digital assets responded bitcoin  s f...</td>\n",
       "      <td>fidelity  s crypto arm responds common bitcoin...</td>\n",
       "      <td>https://cryptocontrol.io/r/api/article/5fb2a30...</td>\n",
       "      <td>Bitcoin</td>\n",
       "      <td>2020-11-16</td>\n",
       "      <td>0.050000</td>\n",
       "      <td>-0.300000</td>\n",
       "    </tr>\n",
       "    <tr>\n",
       "      <th>3</th>\n",
       "      <td>latest reports show institutional crypto giant...</td>\n",
       "      <td>grayscale hold   billion cryptocurrency</td>\n",
       "      <td>https://cryptocontrol.io/r/api/article/5fb2a24...</td>\n",
       "      <td>Giant</td>\n",
       "      <td>2020-11-16</td>\n",
       "      <td>0.133333</td>\n",
       "      <td>0.000000</td>\n",
       "    </tr>\n",
       "    <tr>\n",
       "      <th>4</th>\n",
       "      <td>mainstream adoption digital assets underlying ...</td>\n",
       "      <td>institutional adoption coming bitcoin crypto</td>\n",
       "      <td>https://cryptocontrol.io/r/api/article/5fb24a2...</td>\n",
       "      <td>KEY</td>\n",
       "      <td>2020-11-16</td>\n",
       "      <td>0.322222</td>\n",
       "      <td>0.000000</td>\n",
       "    </tr>\n",
       "  </tbody>\n",
       "</table>\n",
       "</div>"
      ],
      "text/plain": [
       "                                         description  \\\n",
       "0           crypto response global economic crisis     \n",
       "1  dot usd likely trend upwards       negation se...   \n",
       "2  fidelity digital assets responded bitcoin  s f...   \n",
       "3  latest reports show institutional crypto giant...   \n",
       "4  mainstream adoption digital assets underlying ...   \n",
       "\n",
       "                                               title  \\\n",
       "0         citibank   bitcoin digital gold st century   \n",
       "1  price analysis   polkadot delicately balanced ...   \n",
       "2  fidelity  s crypto arm responds common bitcoin...   \n",
       "3            grayscale hold   billion cryptocurrency   \n",
       "4       institutional adoption coming bitcoin crypto   \n",
       "\n",
       "                                                 url clean_coins       date  \\\n",
       "0  https://cryptocontrol.io/r/api/article/5fb29a0...     Bitcoin 2020-11-16   \n",
       "1  https://cryptocontrol.io/r/api/article/5fb261b...     Bitcoin 2020-11-16   \n",
       "2  https://cryptocontrol.io/r/api/article/5fb2a30...     Bitcoin 2020-11-16   \n",
       "3  https://cryptocontrol.io/r/api/article/5fb2a24...       Giant 2020-11-16   \n",
       "4  https://cryptocontrol.io/r/api/article/5fb24a2...         KEY 2020-11-16   \n",
       "\n",
       "   description_sentiment  title_sentiment  \n",
       "0               0.100000         0.000000  \n",
       "1               0.000000        -0.045833  \n",
       "2               0.050000        -0.300000  \n",
       "3               0.133333         0.000000  \n",
       "4               0.322222         0.000000  "
      ]
     },
     "execution_count": 32,
     "metadata": {},
     "output_type": "execute_result"
    }
   ],
   "source": [
    "clean_top_bitcoin_news.head()"
   ]
  },
  {
   "cell_type": "code",
   "execution_count": 33,
   "metadata": {
    "ExecuteTime": {
     "end_time": "2020-11-18T14:19:59.041221Z",
     "start_time": "2020-11-18T14:19:59.028426Z"
    }
   },
   "outputs": [
    {
     "data": {
      "text/html": [
       "<div>\n",
       "<style scoped>\n",
       "    .dataframe tbody tr th:only-of-type {\n",
       "        vertical-align: middle;\n",
       "    }\n",
       "\n",
       "    .dataframe tbody tr th {\n",
       "        vertical-align: top;\n",
       "    }\n",
       "\n",
       "    .dataframe thead th {\n",
       "        text-align: right;\n",
       "    }\n",
       "</style>\n",
       "<table border=\"1\" class=\"dataframe\">\n",
       "  <thead>\n",
       "    <tr style=\"text-align: right;\">\n",
       "      <th></th>\n",
       "      <th>description</th>\n",
       "      <th>title</th>\n",
       "      <th>url</th>\n",
       "      <th>clean_coins</th>\n",
       "      <th>description_sentiment</th>\n",
       "      <th>title_sentiment</th>\n",
       "    </tr>\n",
       "    <tr>\n",
       "      <th>date</th>\n",
       "      <th></th>\n",
       "      <th></th>\n",
       "      <th></th>\n",
       "      <th></th>\n",
       "      <th></th>\n",
       "      <th></th>\n",
       "    </tr>\n",
       "  </thead>\n",
       "  <tbody>\n",
       "    <tr>\n",
       "      <th>2020-11-16</th>\n",
       "      <td>crypto response global economic crisis</td>\n",
       "      <td>citibank   bitcoin digital gold st century</td>\n",
       "      <td>https://cryptocontrol.io/r/api/article/5fb29a0...</td>\n",
       "      <td>Bitcoin</td>\n",
       "      <td>0.100000</td>\n",
       "      <td>0.000000</td>\n",
       "    </tr>\n",
       "    <tr>\n",
       "      <th>2020-11-16</th>\n",
       "      <td>dot usd likely trend upwards       negation se...</td>\n",
       "      <td>price analysis   polkadot delicately balanced ...</td>\n",
       "      <td>https://cryptocontrol.io/r/api/article/5fb261b...</td>\n",
       "      <td>Bitcoin</td>\n",
       "      <td>0.000000</td>\n",
       "      <td>-0.045833</td>\n",
       "    </tr>\n",
       "    <tr>\n",
       "      <th>2020-11-16</th>\n",
       "      <td>fidelity digital assets responded bitcoin  s f...</td>\n",
       "      <td>fidelity  s crypto arm responds common bitcoin...</td>\n",
       "      <td>https://cryptocontrol.io/r/api/article/5fb2a30...</td>\n",
       "      <td>Bitcoin</td>\n",
       "      <td>0.050000</td>\n",
       "      <td>-0.300000</td>\n",
       "    </tr>\n",
       "    <tr>\n",
       "      <th>2020-11-16</th>\n",
       "      <td>latest reports show institutional crypto giant...</td>\n",
       "      <td>grayscale hold   billion cryptocurrency</td>\n",
       "      <td>https://cryptocontrol.io/r/api/article/5fb2a24...</td>\n",
       "      <td>Giant</td>\n",
       "      <td>0.133333</td>\n",
       "      <td>0.000000</td>\n",
       "    </tr>\n",
       "    <tr>\n",
       "      <th>2020-11-16</th>\n",
       "      <td>mainstream adoption digital assets underlying ...</td>\n",
       "      <td>institutional adoption coming bitcoin crypto</td>\n",
       "      <td>https://cryptocontrol.io/r/api/article/5fb24a2...</td>\n",
       "      <td>KEY</td>\n",
       "      <td>0.322222</td>\n",
       "      <td>0.000000</td>\n",
       "    </tr>\n",
       "  </tbody>\n",
       "</table>\n",
       "</div>"
      ],
      "text/plain": [
       "                                                  description  \\\n",
       "date                                                            \n",
       "2020-11-16           crypto response global economic crisis     \n",
       "2020-11-16  dot usd likely trend upwards       negation se...   \n",
       "2020-11-16  fidelity digital assets responded bitcoin  s f...   \n",
       "2020-11-16  latest reports show institutional crypto giant...   \n",
       "2020-11-16  mainstream adoption digital assets underlying ...   \n",
       "\n",
       "                                                        title  \\\n",
       "date                                                            \n",
       "2020-11-16         citibank   bitcoin digital gold st century   \n",
       "2020-11-16  price analysis   polkadot delicately balanced ...   \n",
       "2020-11-16  fidelity  s crypto arm responds common bitcoin...   \n",
       "2020-11-16            grayscale hold   billion cryptocurrency   \n",
       "2020-11-16       institutional adoption coming bitcoin crypto   \n",
       "\n",
       "                                                          url clean_coins  \\\n",
       "date                                                                        \n",
       "2020-11-16  https://cryptocontrol.io/r/api/article/5fb29a0...     Bitcoin   \n",
       "2020-11-16  https://cryptocontrol.io/r/api/article/5fb261b...     Bitcoin   \n",
       "2020-11-16  https://cryptocontrol.io/r/api/article/5fb2a30...     Bitcoin   \n",
       "2020-11-16  https://cryptocontrol.io/r/api/article/5fb2a24...       Giant   \n",
       "2020-11-16  https://cryptocontrol.io/r/api/article/5fb24a2...         KEY   \n",
       "\n",
       "            description_sentiment  title_sentiment  \n",
       "date                                                \n",
       "2020-11-16               0.100000         0.000000  \n",
       "2020-11-16               0.000000        -0.045833  \n",
       "2020-11-16               0.050000        -0.300000  \n",
       "2020-11-16               0.133333         0.000000  \n",
       "2020-11-16               0.322222         0.000000  "
      ]
     },
     "execution_count": 33,
     "metadata": {},
     "output_type": "execute_result"
    }
   ],
   "source": [
    "clean_top_bitcoin_news.set_index(['date']).head()"
   ]
  },
  {
   "cell_type": "code",
   "execution_count": 34,
   "metadata": {
    "ExecuteTime": {
     "end_time": "2020-11-18T14:19:59.045182Z",
     "start_time": "2020-11-18T14:19:59.043287Z"
    }
   },
   "outputs": [],
   "source": [
    "#clean_top_bitcoin_news_per_day = clean_top_bitcoin_news.groupby(by='date').sort(by='clean_coins').mean()"
   ]
  },
  {
   "cell_type": "code",
   "execution_count": 35,
   "metadata": {
    "ExecuteTime": {
     "end_time": "2020-11-18T14:19:59.053547Z",
     "start_time": "2020-11-18T14:19:59.047293Z"
    }
   },
   "outputs": [],
   "source": [
    "clean_top_bitcoin_news_per_day = clean_top_bitcoin_news.groupby(by='date').mean()"
   ]
  },
  {
   "cell_type": "code",
   "execution_count": 36,
   "metadata": {
    "ExecuteTime": {
     "end_time": "2020-11-18T14:19:59.061595Z",
     "start_time": "2020-11-18T14:19:59.055595Z"
    }
   },
   "outputs": [
    {
     "data": {
      "text/html": [
       "<div>\n",
       "<style scoped>\n",
       "    .dataframe tbody tr th:only-of-type {\n",
       "        vertical-align: middle;\n",
       "    }\n",
       "\n",
       "    .dataframe tbody tr th {\n",
       "        vertical-align: top;\n",
       "    }\n",
       "\n",
       "    .dataframe thead th {\n",
       "        text-align: right;\n",
       "    }\n",
       "</style>\n",
       "<table border=\"1\" class=\"dataframe\">\n",
       "  <thead>\n",
       "    <tr style=\"text-align: right;\">\n",
       "      <th></th>\n",
       "      <th>description_sentiment</th>\n",
       "      <th>title_sentiment</th>\n",
       "    </tr>\n",
       "    <tr>\n",
       "      <th>date</th>\n",
       "      <th></th>\n",
       "      <th></th>\n",
       "    </tr>\n",
       "  </thead>\n",
       "  <tbody>\n",
       "    <tr>\n",
       "      <th>2020-11-15</th>\n",
       "      <td>0.025500</td>\n",
       "      <td>0.151742</td>\n",
       "    </tr>\n",
       "    <tr>\n",
       "      <th>2020-11-16</th>\n",
       "      <td>0.101947</td>\n",
       "      <td>0.026619</td>\n",
       "    </tr>\n",
       "  </tbody>\n",
       "</table>\n",
       "</div>"
      ],
      "text/plain": [
       "            description_sentiment  title_sentiment\n",
       "date                                              \n",
       "2020-11-15               0.025500         0.151742\n",
       "2020-11-16               0.101947         0.026619"
      ]
     },
     "execution_count": 36,
     "metadata": {},
     "output_type": "execute_result"
    }
   ],
   "source": [
    "clean_top_bitcoin_news_per_day"
   ]
  },
  {
   "cell_type": "markdown",
   "metadata": {},
   "source": [
    "## Cleaning Top Bitcoin Tweets"
   ]
  },
  {
   "cell_type": "code",
   "execution_count": 37,
   "metadata": {
    "ExecuteTime": {
     "end_time": "2020-11-18T14:19:59.074373Z",
     "start_time": "2020-11-18T14:19:59.064013Z"
    }
   },
   "outputs": [],
   "source": [
    "top_bitcoin_tweets = pd.read_csv('news_data/top_bitcoin_tweets.csv')"
   ]
  },
  {
   "cell_type": "code",
   "execution_count": 38,
   "metadata": {
    "ExecuteTime": {
     "end_time": "2020-11-18T14:19:59.099952Z",
     "start_time": "2020-11-18T14:19:59.076539Z"
    }
   },
   "outputs": [
    {
     "data": {
      "text/html": [
       "<div>\n",
       "<style scoped>\n",
       "    .dataframe tbody tr th:only-of-type {\n",
       "        vertical-align: middle;\n",
       "    }\n",
       "\n",
       "    .dataframe tbody tr th {\n",
       "        vertical-align: top;\n",
       "    }\n",
       "\n",
       "    .dataframe thead th {\n",
       "        text-align: right;\n",
       "    }\n",
       "</style>\n",
       "<table border=\"1\" class=\"dataframe\">\n",
       "  <thead>\n",
       "    <tr style=\"text-align: right;\">\n",
       "      <th></th>\n",
       "      <th>Unnamed: 0</th>\n",
       "      <th>__v</th>\n",
       "      <th>_id</th>\n",
       "      <th>activityHotness</th>\n",
       "      <th>coin</th>\n",
       "      <th>createdAt</th>\n",
       "      <th>favoriteCount</th>\n",
       "      <th>hashtags</th>\n",
       "      <th>hotness</th>\n",
       "      <th>id</th>\n",
       "      <th>...</th>\n",
       "      <th>links</th>\n",
       "      <th>mentions</th>\n",
       "      <th>publishedAt</th>\n",
       "      <th>retweetCount</th>\n",
       "      <th>symbols</th>\n",
       "      <th>text</th>\n",
       "      <th>twitteratiScore</th>\n",
       "      <th>updatedAt</th>\n",
       "      <th>url</th>\n",
       "      <th>username</th>\n",
       "    </tr>\n",
       "  </thead>\n",
       "  <tbody>\n",
       "    <tr>\n",
       "      <th>0</th>\n",
       "      <td>0</td>\n",
       "      <td>0</td>\n",
       "      <td>5fb2ac5f0c8909001790c789</td>\n",
       "      <td>8.060856</td>\n",
       "      <td>59cb59e81c073f09e76f614b</td>\n",
       "      <td>2020-11-16T16:44:16.069Z</td>\n",
       "      <td>0</td>\n",
       "      <td>['Bitcoin']</td>\n",
       "      <td>74334.847198</td>\n",
       "      <td>1328378065924198400</td>\n",
       "      <td>...</td>\n",
       "      <td>[]</td>\n",
       "      <td>['tyler']</td>\n",
       "      <td>2020-11-16T16:43:05.000Z</td>\n",
       "      <td>704</td>\n",
       "      <td>[]</td>\n",
       "      <td>RT @tyler: CitiBank report predicts #Bitcoin p...</td>\n",
       "      <td>0</td>\n",
       "      <td>2020-11-16T16:44:16.069Z</td>\n",
       "      <td>https://cryptocontrol.io/r/api/tweet/5fb2ac5f0...</td>\n",
       "      <td>bitcoin</td>\n",
       "    </tr>\n",
       "    <tr>\n",
       "      <th>1</th>\n",
       "      <td>1</td>\n",
       "      <td>0</td>\n",
       "      <td>5fb2ac5f0c8909001790c787</td>\n",
       "      <td>3.864931</td>\n",
       "      <td>59cb59e81c073f09e76f614b</td>\n",
       "      <td>2020-11-16T16:44:16.069Z</td>\n",
       "      <td>28</td>\n",
       "      <td>[]</td>\n",
       "      <td>74330.649191</td>\n",
       "      <td>1328377874773016576</td>\n",
       "      <td>...</td>\n",
       "      <td>['https://twitter.com/_ConnerBrown_/status/132...</td>\n",
       "      <td>[]</td>\n",
       "      <td>2020-11-16T16:42:20.000Z</td>\n",
       "      <td>5</td>\n",
       "      <td>[]</td>\n",
       "      <td>🐂 https://t.co/lyDNslcwYp https://t.co/9Pc0It19rb</td>\n",
       "      <td>0</td>\n",
       "      <td>2020-11-16T16:44:16.069Z</td>\n",
       "      <td>https://cryptocontrol.io/r/api/tweet/5fb2ac5f0...</td>\n",
       "      <td>bitcoin</td>\n",
       "    </tr>\n",
       "    <tr>\n",
       "      <th>2</th>\n",
       "      <td>2</td>\n",
       "      <td>0</td>\n",
       "      <td>5fb2ac5f0c8909001790c788</td>\n",
       "      <td>3.360375</td>\n",
       "      <td>59cb59e81c073f09e76f614b</td>\n",
       "      <td>2020-11-16T16:44:16.069Z</td>\n",
       "      <td>22</td>\n",
       "      <td>[]</td>\n",
       "      <td>74330.138199</td>\n",
       "      <td>1328377292922339336</td>\n",
       "      <td>...</td>\n",
       "      <td>['https://twitter.com/i/web/status/13283772929...</td>\n",
       "      <td>['business', 'Barclays']</td>\n",
       "      <td>2020-11-16T16:40:01.000Z</td>\n",
       "      <td>2</td>\n",
       "      <td>[]</td>\n",
       "      <td>'The value of the Global Negative-Yielding Deb...</td>\n",
       "      <td>0</td>\n",
       "      <td>2020-11-16T16:44:16.069Z</td>\n",
       "      <td>https://cryptocontrol.io/r/api/tweet/5fb2ac5f0...</td>\n",
       "      <td>bitcoin</td>\n",
       "    </tr>\n",
       "    <tr>\n",
       "      <th>3</th>\n",
       "      <td>3</td>\n",
       "      <td>0</td>\n",
       "      <td>5fadfb5b951b86001b3062a3</td>\n",
       "      <td>8.272571</td>\n",
       "      <td>59cb59e81c073f09e76f614b</td>\n",
       "      <td>2020-11-13T03:19:55.984Z</td>\n",
       "      <td>0</td>\n",
       "      <td>[]</td>\n",
       "      <td>74320.813774</td>\n",
       "      <td>1327087500754518016</td>\n",
       "      <td>...</td>\n",
       "      <td>[]</td>\n",
       "      <td>['CoinDesk', 'PayPal']</td>\n",
       "      <td>2020-11-13T03:14:50.000Z</td>\n",
       "      <td>870</td>\n",
       "      <td>[]</td>\n",
       "      <td>RT @CoinDesk: JUST IN: All eligible @PayPal ac...</td>\n",
       "      <td>0</td>\n",
       "      <td>2020-11-13T03:19:55.984Z</td>\n",
       "      <td>https://cryptocontrol.io/r/api/tweet/5fadfb5b9...</td>\n",
       "      <td>bitcoin</td>\n",
       "    </tr>\n",
       "    <tr>\n",
       "      <th>4</th>\n",
       "      <td>4</td>\n",
       "      <td>0</td>\n",
       "      <td>5fadfb5b951b86001b3062a4</td>\n",
       "      <td>5.455321</td>\n",
       "      <td>59cb59e81c073f09e76f614b</td>\n",
       "      <td>2020-11-13T03:19:55.984Z</td>\n",
       "      <td>0</td>\n",
       "      <td>[]</td>\n",
       "      <td>74317.995136</td>\n",
       "      <td>1327087373197348864</td>\n",
       "      <td>...</td>\n",
       "      <td>[]</td>\n",
       "      <td>['real_vijay']</td>\n",
       "      <td>2020-11-13T03:14:20.000Z</td>\n",
       "      <td>52</td>\n",
       "      <td>[]</td>\n",
       "      <td>RT @real_vijay: Family offices (the investment...</td>\n",
       "      <td>0</td>\n",
       "      <td>2020-11-13T03:19:55.984Z</td>\n",
       "      <td>https://cryptocontrol.io/r/api/tweet/5fadfb5b9...</td>\n",
       "      <td>bitcoin</td>\n",
       "    </tr>\n",
       "  </tbody>\n",
       "</table>\n",
       "<p>5 rows × 22 columns</p>\n",
       "</div>"
      ],
      "text/plain": [
       "   Unnamed: 0  __v                       _id  activityHotness  \\\n",
       "0           0    0  5fb2ac5f0c8909001790c789         8.060856   \n",
       "1           1    0  5fb2ac5f0c8909001790c787         3.864931   \n",
       "2           2    0  5fb2ac5f0c8909001790c788         3.360375   \n",
       "3           3    0  5fadfb5b951b86001b3062a3         8.272571   \n",
       "4           4    0  5fadfb5b951b86001b3062a4         5.455321   \n",
       "\n",
       "                       coin                 createdAt  favoriteCount  \\\n",
       "0  59cb59e81c073f09e76f614b  2020-11-16T16:44:16.069Z              0   \n",
       "1  59cb59e81c073f09e76f614b  2020-11-16T16:44:16.069Z             28   \n",
       "2  59cb59e81c073f09e76f614b  2020-11-16T16:44:16.069Z             22   \n",
       "3  59cb59e81c073f09e76f614b  2020-11-13T03:19:55.984Z              0   \n",
       "4  59cb59e81c073f09e76f614b  2020-11-13T03:19:55.984Z              0   \n",
       "\n",
       "      hashtags       hotness                   id  ...  \\\n",
       "0  ['Bitcoin']  74334.847198  1328378065924198400  ...   \n",
       "1           []  74330.649191  1328377874773016576  ...   \n",
       "2           []  74330.138199  1328377292922339336  ...   \n",
       "3           []  74320.813774  1327087500754518016  ...   \n",
       "4           []  74317.995136  1327087373197348864  ...   \n",
       "\n",
       "                                               links  \\\n",
       "0                                                 []   \n",
       "1  ['https://twitter.com/_ConnerBrown_/status/132...   \n",
       "2  ['https://twitter.com/i/web/status/13283772929...   \n",
       "3                                                 []   \n",
       "4                                                 []   \n",
       "\n",
       "                   mentions               publishedAt retweetCount symbols  \\\n",
       "0                 ['tyler']  2020-11-16T16:43:05.000Z          704      []   \n",
       "1                        []  2020-11-16T16:42:20.000Z            5      []   \n",
       "2  ['business', 'Barclays']  2020-11-16T16:40:01.000Z            2      []   \n",
       "3    ['CoinDesk', 'PayPal']  2020-11-13T03:14:50.000Z          870      []   \n",
       "4            ['real_vijay']  2020-11-13T03:14:20.000Z           52      []   \n",
       "\n",
       "                                                text twitteratiScore  \\\n",
       "0  RT @tyler: CitiBank report predicts #Bitcoin p...               0   \n",
       "1  🐂 https://t.co/lyDNslcwYp https://t.co/9Pc0It19rb               0   \n",
       "2  'The value of the Global Negative-Yielding Deb...               0   \n",
       "3  RT @CoinDesk: JUST IN: All eligible @PayPal ac...               0   \n",
       "4  RT @real_vijay: Family offices (the investment...               0   \n",
       "\n",
       "                  updatedAt  \\\n",
       "0  2020-11-16T16:44:16.069Z   \n",
       "1  2020-11-16T16:44:16.069Z   \n",
       "2  2020-11-16T16:44:16.069Z   \n",
       "3  2020-11-13T03:19:55.984Z   \n",
       "4  2020-11-13T03:19:55.984Z   \n",
       "\n",
       "                                                 url username  \n",
       "0  https://cryptocontrol.io/r/api/tweet/5fb2ac5f0...  bitcoin  \n",
       "1  https://cryptocontrol.io/r/api/tweet/5fb2ac5f0...  bitcoin  \n",
       "2  https://cryptocontrol.io/r/api/tweet/5fb2ac5f0...  bitcoin  \n",
       "3  https://cryptocontrol.io/r/api/tweet/5fadfb5b9...  bitcoin  \n",
       "4  https://cryptocontrol.io/r/api/tweet/5fadfb5b9...  bitcoin  \n",
       "\n",
       "[5 rows x 22 columns]"
      ]
     },
     "execution_count": 38,
     "metadata": {},
     "output_type": "execute_result"
    }
   ],
   "source": [
    "top_bitcoin_tweets.head()"
   ]
  },
  {
   "cell_type": "code",
   "execution_count": 39,
   "metadata": {
    "ExecuteTime": {
     "end_time": "2020-11-18T14:19:59.106192Z",
     "start_time": "2020-11-18T14:19:59.102061Z"
    }
   },
   "outputs": [
    {
     "data": {
      "text/plain": [
       "Index(['Unnamed: 0', '__v', '_id', 'activityHotness', 'coin', 'createdAt',\n",
       "       'favoriteCount', 'hashtags', 'hotness', 'id', 'isRetweeted', 'language',\n",
       "       'links', 'mentions', 'publishedAt', 'retweetCount', 'symbols', 'text',\n",
       "       'twitteratiScore', 'updatedAt', 'url', 'username'],\n",
       "      dtype='object')"
      ]
     },
     "execution_count": 39,
     "metadata": {},
     "output_type": "execute_result"
    }
   ],
   "source": [
    "top_bitcoin_tweets.columns"
   ]
  },
  {
   "cell_type": "code",
   "execution_count": 54,
   "metadata": {
    "ExecuteTime": {
     "end_time": "2020-11-18T14:30:35.102343Z",
     "start_time": "2020-11-18T14:30:35.081023Z"
    }
   },
   "outputs": [],
   "source": [
    "clean_top_bitcoin_tweets = top_bitcoin_tweets.drop(columns=['Unnamed: 0', '__v', '_id', 'activityHotness', 'createdAt','favoriteCount', 'hashtags', 'hotness', 'id', 'isRetweeted', 'language','links', 'mentions', 'retweetCount', 'symbols', 'twitteratiScore', 'updatedAt', 'url', 'username'])\n",
    "#clean_top_bitcoin_tweets[\"coin\"]=list(map(lambda x:ast.literal_eval(x)[0][\"name\"], top_bitcoin_tweets[\"coin\"]))\n",
    "clean_top_bitcoin_tweets[\"date\"]=list(map(lambda x: pd.to_datetime(x[:10], format='%Y/%m/%d'), top_bitcoin_tweets[\"publishedAt\"]))\n",
    "clean_top_bitcoin_tweets = clean_top_bitcoin_tweets.set_index(['date']).drop(columns=['publishedAt'])"
   ]
  },
  {
   "cell_type": "code",
   "execution_count": 55,
   "metadata": {
    "ExecuteTime": {
     "end_time": "2020-11-18T14:30:36.793098Z",
     "start_time": "2020-11-18T14:30:36.781018Z"
    }
   },
   "outputs": [
    {
     "data": {
      "text/html": [
       "<div>\n",
       "<style scoped>\n",
       "    .dataframe tbody tr th:only-of-type {\n",
       "        vertical-align: middle;\n",
       "    }\n",
       "\n",
       "    .dataframe tbody tr th {\n",
       "        vertical-align: top;\n",
       "    }\n",
       "\n",
       "    .dataframe thead th {\n",
       "        text-align: right;\n",
       "    }\n",
       "</style>\n",
       "<table border=\"1\" class=\"dataframe\">\n",
       "  <thead>\n",
       "    <tr style=\"text-align: right;\">\n",
       "      <th></th>\n",
       "      <th>coin</th>\n",
       "      <th>text</th>\n",
       "    </tr>\n",
       "    <tr>\n",
       "      <th>date</th>\n",
       "      <th></th>\n",
       "      <th></th>\n",
       "    </tr>\n",
       "  </thead>\n",
       "  <tbody>\n",
       "    <tr>\n",
       "      <th>2020-11-16</th>\n",
       "      <td>59cb59e81c073f09e76f614b</td>\n",
       "      <td>RT @tyler: CitiBank report predicts #Bitcoin p...</td>\n",
       "    </tr>\n",
       "    <tr>\n",
       "      <th>2020-11-16</th>\n",
       "      <td>59cb59e81c073f09e76f614b</td>\n",
       "      <td>🐂 https://t.co/lyDNslcwYp https://t.co/9Pc0It19rb</td>\n",
       "    </tr>\n",
       "    <tr>\n",
       "      <th>2020-11-16</th>\n",
       "      <td>59cb59e81c073f09e76f614b</td>\n",
       "      <td>'The value of the Global Negative-Yielding Deb...</td>\n",
       "    </tr>\n",
       "    <tr>\n",
       "      <th>2020-11-13</th>\n",
       "      <td>59cb59e81c073f09e76f614b</td>\n",
       "      <td>RT @CoinDesk: JUST IN: All eligible @PayPal ac...</td>\n",
       "    </tr>\n",
       "    <tr>\n",
       "      <th>2020-11-13</th>\n",
       "      <td>59cb59e81c073f09e76f614b</td>\n",
       "      <td>RT @real_vijay: Family offices (the investment...</td>\n",
       "    </tr>\n",
       "  </tbody>\n",
       "</table>\n",
       "</div>"
      ],
      "text/plain": [
       "                                coin  \\\n",
       "date                                   \n",
       "2020-11-16  59cb59e81c073f09e76f614b   \n",
       "2020-11-16  59cb59e81c073f09e76f614b   \n",
       "2020-11-16  59cb59e81c073f09e76f614b   \n",
       "2020-11-13  59cb59e81c073f09e76f614b   \n",
       "2020-11-13  59cb59e81c073f09e76f614b   \n",
       "\n",
       "                                                         text  \n",
       "date                                                           \n",
       "2020-11-16  RT @tyler: CitiBank report predicts #Bitcoin p...  \n",
       "2020-11-16  🐂 https://t.co/lyDNslcwYp https://t.co/9Pc0It19rb  \n",
       "2020-11-16  'The value of the Global Negative-Yielding Deb...  \n",
       "2020-11-13  RT @CoinDesk: JUST IN: All eligible @PayPal ac...  \n",
       "2020-11-13  RT @real_vijay: Family offices (the investment...  "
      ]
     },
     "execution_count": 55,
     "metadata": {},
     "output_type": "execute_result"
    }
   ],
   "source": [
    "clean_top_bitcoin_tweets.head()"
   ]
  },
  {
   "cell_type": "code",
   "execution_count": 56,
   "metadata": {
    "ExecuteTime": {
     "end_time": "2020-11-18T14:30:39.781740Z",
     "start_time": "2020-11-18T14:30:39.715814Z"
    }
   },
   "outputs": [],
   "source": [
    "clean_top_bitcoin_tweets[\"text\"]=clean_top_bitcoin_tweets[\"text\"].map(clean_text)"
   ]
  },
  {
   "cell_type": "code",
   "execution_count": 58,
   "metadata": {
    "ExecuteTime": {
     "end_time": "2020-11-18T14:31:15.350641Z",
     "start_time": "2020-11-18T14:31:15.339088Z"
    }
   },
   "outputs": [
    {
     "data": {
      "text/html": [
       "<div>\n",
       "<style scoped>\n",
       "    .dataframe tbody tr th:only-of-type {\n",
       "        vertical-align: middle;\n",
       "    }\n",
       "\n",
       "    .dataframe tbody tr th {\n",
       "        vertical-align: top;\n",
       "    }\n",
       "\n",
       "    .dataframe thead th {\n",
       "        text-align: right;\n",
       "    }\n",
       "</style>\n",
       "<table border=\"1\" class=\"dataframe\">\n",
       "  <thead>\n",
       "    <tr style=\"text-align: right;\">\n",
       "      <th></th>\n",
       "      <th>coin</th>\n",
       "      <th>text</th>\n",
       "    </tr>\n",
       "    <tr>\n",
       "      <th>date</th>\n",
       "      <th></th>\n",
       "      <th></th>\n",
       "    </tr>\n",
       "  </thead>\n",
       "  <tbody>\n",
       "    <tr>\n",
       "      <th>2020-11-16</th>\n",
       "      <td>59cb59e81c073f09e76f614b</td>\n",
       "      <td>rt   tyler   citibank report predicts   bitcoi...</td>\n",
       "    </tr>\n",
       "    <tr>\n",
       "      <th>2020-11-16</th>\n",
       "      <td>59cb59e81c073f09e76f614b</td>\n",
       "      <td>🐂 https     t co lydnslcwyp https     t co pcitrb</td>\n",
       "    </tr>\n",
       "    <tr>\n",
       "      <th>2020-11-16</th>\n",
       "      <td>59cb59e81c073f09e76f614b</td>\n",
       "      <td>the value global negative yielding debt index...</td>\n",
       "    </tr>\n",
       "    <tr>\n",
       "      <th>2020-11-13</th>\n",
       "      <td>59cb59e81c073f09e76f614b</td>\n",
       "      <td>rt   coindesk     eligible   paypal accounthol...</td>\n",
       "    </tr>\n",
       "    <tr>\n",
       "      <th>2020-11-13</th>\n",
       "      <td>59cb59e81c073f09e76f614b</td>\n",
       "      <td>rt   real vijay   family offices   investment ...</td>\n",
       "    </tr>\n",
       "  </tbody>\n",
       "</table>\n",
       "</div>"
      ],
      "text/plain": [
       "                                coin  \\\n",
       "date                                   \n",
       "2020-11-16  59cb59e81c073f09e76f614b   \n",
       "2020-11-16  59cb59e81c073f09e76f614b   \n",
       "2020-11-16  59cb59e81c073f09e76f614b   \n",
       "2020-11-13  59cb59e81c073f09e76f614b   \n",
       "2020-11-13  59cb59e81c073f09e76f614b   \n",
       "\n",
       "                                                         text  \n",
       "date                                                           \n",
       "2020-11-16  rt   tyler   citibank report predicts   bitcoi...  \n",
       "2020-11-16  🐂 https     t co lydnslcwyp https     t co pcitrb  \n",
       "2020-11-16   the value global negative yielding debt index...  \n",
       "2020-11-13  rt   coindesk     eligible   paypal accounthol...  \n",
       "2020-11-13  rt   real vijay   family offices   investment ...  "
      ]
     },
     "execution_count": 58,
     "metadata": {},
     "output_type": "execute_result"
    }
   ],
   "source": [
    "clean_top_bitcoin_tweets.head()"
   ]
  },
  {
   "cell_type": "code",
   "execution_count": 59,
   "metadata": {
    "ExecuteTime": {
     "end_time": "2020-11-18T14:31:41.907345Z",
     "start_time": "2020-11-18T14:31:41.901288Z"
    }
   },
   "outputs": [],
   "source": [
    "import re\n",
    "def remove_emoji(string):\n",
    "    emoji_pattern = re.compile(\"[\"\n",
    "                            u\"\\U0001F600-\\U0001F64F\"  # emoticons\n",
    "                            u\"\\U0001F300-\\U0001F5FF\"  # symbols & pictographs\n",
    "                            u\"\\U0001F680-\\U0001F6FF\"  # transport & map symbols\n",
    "                            u\"\\U0001F1E0-\\U0001F1FF\"  # flags (iOS)\n",
    "                            u\"\\U00002702-\\U000027B0\"\n",
    "                            u\"\\U000024C2-\\U0001F251\"\n",
    "                            u\"\\U0001f926-\\U0001f937\"\n",
    "                            u'\\U00010000-\\U0010ffff'\n",
    "                            u\"\\u200d\"\n",
    "                            u\"\\u2640-\\u2642\"\n",
    "                            u\"\\u2600-\\u2B55\"\n",
    "                            u\"\\u23cf\"\n",
    "                            u\"\\u23e9\"\n",
    "                            u\"\\u231a\"\n",
    "                            u\"\\u3030\"\n",
    "                            u\"\\ufe0f\"\n",
    "                           \"]+\", flags=re.UNICODE)\n",
    "    return emoji_pattern.sub(r'', string)"
   ]
  },
  {
   "cell_type": "code",
   "execution_count": 60,
   "metadata": {
    "ExecuteTime": {
     "end_time": "2020-11-18T14:31:43.984526Z",
     "start_time": "2020-11-18T14:31:43.973321Z"
    }
   },
   "outputs": [],
   "source": [
    "clean_top_bitcoin_tweets[\"text\"]=clean_top_bitcoin_tweets[\"text\"].map(remove_emoji)"
   ]
  },
  {
   "cell_type": "code",
   "execution_count": 61,
   "metadata": {
    "ExecuteTime": {
     "end_time": "2020-11-18T14:32:04.840421Z",
     "start_time": "2020-11-18T14:32:04.694805Z"
    }
   },
   "outputs": [],
   "source": [
    "clean_top_bitcoin_tweets[\"text_sentiment\"]=clean_top_bitcoin_tweets[\"text\"].map(sentimenter)"
   ]
  },
  {
   "cell_type": "code",
   "execution_count": 62,
   "metadata": {
    "ExecuteTime": {
     "end_time": "2020-11-18T14:32:06.936276Z",
     "start_time": "2020-11-18T14:32:06.922769Z"
    }
   },
   "outputs": [
    {
     "data": {
      "text/html": [
       "<div>\n",
       "<style scoped>\n",
       "    .dataframe tbody tr th:only-of-type {\n",
       "        vertical-align: middle;\n",
       "    }\n",
       "\n",
       "    .dataframe tbody tr th {\n",
       "        vertical-align: top;\n",
       "    }\n",
       "\n",
       "    .dataframe thead th {\n",
       "        text-align: right;\n",
       "    }\n",
       "</style>\n",
       "<table border=\"1\" class=\"dataframe\">\n",
       "  <thead>\n",
       "    <tr style=\"text-align: right;\">\n",
       "      <th></th>\n",
       "      <th>coin</th>\n",
       "      <th>text</th>\n",
       "      <th>text_sentiment</th>\n",
       "    </tr>\n",
       "    <tr>\n",
       "      <th>date</th>\n",
       "      <th></th>\n",
       "      <th></th>\n",
       "      <th></th>\n",
       "    </tr>\n",
       "  </thead>\n",
       "  <tbody>\n",
       "    <tr>\n",
       "      <th>2020-11-16</th>\n",
       "      <td>59cb59e81c073f09e76f614b</td>\n",
       "      <td>rt   tyler   citibank report predicts   bitcoi...</td>\n",
       "      <td>0.000</td>\n",
       "    </tr>\n",
       "    <tr>\n",
       "      <th>2020-11-16</th>\n",
       "      <td>59cb59e81c073f09e76f614b</td>\n",
       "      <td>https     t co lydnslcwyp https     t co pcitrb</td>\n",
       "      <td>0.000</td>\n",
       "    </tr>\n",
       "    <tr>\n",
       "      <th>2020-11-16</th>\n",
       "      <td>59cb59e81c073f09e76f614b</td>\n",
       "      <td>the value global negative yielding debt index...</td>\n",
       "      <td>-0.150</td>\n",
       "    </tr>\n",
       "    <tr>\n",
       "      <th>2020-11-13</th>\n",
       "      <td>59cb59e81c073f09e76f614b</td>\n",
       "      <td>rt   coindesk     eligible   paypal accounthol...</td>\n",
       "      <td>0.000</td>\n",
       "    </tr>\n",
       "    <tr>\n",
       "      <th>2020-11-13</th>\n",
       "      <td>59cb59e81c073f09e76f614b</td>\n",
       "      <td>rt   real vijay   family offices   investment ...</td>\n",
       "      <td>0.032</td>\n",
       "    </tr>\n",
       "  </tbody>\n",
       "</table>\n",
       "</div>"
      ],
      "text/plain": [
       "                                coin  \\\n",
       "date                                   \n",
       "2020-11-16  59cb59e81c073f09e76f614b   \n",
       "2020-11-16  59cb59e81c073f09e76f614b   \n",
       "2020-11-16  59cb59e81c073f09e76f614b   \n",
       "2020-11-13  59cb59e81c073f09e76f614b   \n",
       "2020-11-13  59cb59e81c073f09e76f614b   \n",
       "\n",
       "                                                         text  text_sentiment  \n",
       "date                                                                           \n",
       "2020-11-16  rt   tyler   citibank report predicts   bitcoi...           0.000  \n",
       "2020-11-16    https     t co lydnslcwyp https     t co pcitrb           0.000  \n",
       "2020-11-16   the value global negative yielding debt index...          -0.150  \n",
       "2020-11-13  rt   coindesk     eligible   paypal accounthol...           0.000  \n",
       "2020-11-13  rt   real vijay   family offices   investment ...           0.032  "
      ]
     },
     "execution_count": 62,
     "metadata": {},
     "output_type": "execute_result"
    }
   ],
   "source": [
    "clean_top_bitcoin_tweets.head()"
   ]
  },
  {
   "cell_type": "code",
   "execution_count": 67,
   "metadata": {
    "ExecuteTime": {
     "end_time": "2020-11-18T14:34:04.826728Z",
     "start_time": "2020-11-18T14:34:04.811423Z"
    }
   },
   "outputs": [
    {
     "data": {
      "text/html": [
       "<div>\n",
       "<style scoped>\n",
       "    .dataframe tbody tr th:only-of-type {\n",
       "        vertical-align: middle;\n",
       "    }\n",
       "\n",
       "    .dataframe tbody tr th {\n",
       "        vertical-align: top;\n",
       "    }\n",
       "\n",
       "    .dataframe thead th {\n",
       "        text-align: right;\n",
       "    }\n",
       "</style>\n",
       "<table border=\"1\" class=\"dataframe\">\n",
       "  <thead>\n",
       "    <tr style=\"text-align: right;\">\n",
       "      <th></th>\n",
       "      <th>text_sentiment</th>\n",
       "    </tr>\n",
       "    <tr>\n",
       "      <th>date</th>\n",
       "      <th></th>\n",
       "    </tr>\n",
       "  </thead>\n",
       "  <tbody>\n",
       "    <tr>\n",
       "      <th>2020-07-03</th>\n",
       "      <td>0.000000</td>\n",
       "    </tr>\n",
       "    <tr>\n",
       "      <th>2020-07-10</th>\n",
       "      <td>0.050000</td>\n",
       "    </tr>\n",
       "    <tr>\n",
       "      <th>2020-08-01</th>\n",
       "      <td>0.422222</td>\n",
       "    </tr>\n",
       "    <tr>\n",
       "      <th>2020-08-04</th>\n",
       "      <td>0.175000</td>\n",
       "    </tr>\n",
       "    <tr>\n",
       "      <th>2020-08-09</th>\n",
       "      <td>-0.250000</td>\n",
       "    </tr>\n",
       "    <tr>\n",
       "      <th>2020-08-10</th>\n",
       "      <td>-0.050000</td>\n",
       "    </tr>\n",
       "    <tr>\n",
       "      <th>2020-08-11</th>\n",
       "      <td>0.053333</td>\n",
       "    </tr>\n",
       "    <tr>\n",
       "      <th>2020-08-12</th>\n",
       "      <td>0.000000</td>\n",
       "    </tr>\n",
       "    <tr>\n",
       "      <th>2020-08-14</th>\n",
       "      <td>0.207143</td>\n",
       "    </tr>\n",
       "    <tr>\n",
       "      <th>2020-08-15</th>\n",
       "      <td>0.200000</td>\n",
       "    </tr>\n",
       "    <tr>\n",
       "      <th>2020-08-16</th>\n",
       "      <td>0.000000</td>\n",
       "    </tr>\n",
       "    <tr>\n",
       "      <th>2020-09-01</th>\n",
       "      <td>0.250000</td>\n",
       "    </tr>\n",
       "    <tr>\n",
       "      <th>2020-09-14</th>\n",
       "      <td>0.068182</td>\n",
       "    </tr>\n",
       "    <tr>\n",
       "      <th>2020-09-15</th>\n",
       "      <td>0.000000</td>\n",
       "    </tr>\n",
       "    <tr>\n",
       "      <th>2020-09-16</th>\n",
       "      <td>0.216364</td>\n",
       "    </tr>\n",
       "    <tr>\n",
       "      <th>2020-09-17</th>\n",
       "      <td>0.125000</td>\n",
       "    </tr>\n",
       "    <tr>\n",
       "      <th>2020-09-19</th>\n",
       "      <td>0.000000</td>\n",
       "    </tr>\n",
       "    <tr>\n",
       "      <th>2020-10-01</th>\n",
       "      <td>-0.150000</td>\n",
       "    </tr>\n",
       "    <tr>\n",
       "      <th>2020-10-07</th>\n",
       "      <td>0.000000</td>\n",
       "    </tr>\n",
       "    <tr>\n",
       "      <th>2020-10-08</th>\n",
       "      <td>-0.037500</td>\n",
       "    </tr>\n",
       "    <tr>\n",
       "      <th>2020-10-13</th>\n",
       "      <td>0.000000</td>\n",
       "    </tr>\n",
       "    <tr>\n",
       "      <th>2020-10-15</th>\n",
       "      <td>0.000000</td>\n",
       "    </tr>\n",
       "    <tr>\n",
       "      <th>2020-10-16</th>\n",
       "      <td>0.000000</td>\n",
       "    </tr>\n",
       "    <tr>\n",
       "      <th>2020-10-21</th>\n",
       "      <td>0.136364</td>\n",
       "    </tr>\n",
       "    <tr>\n",
       "      <th>2020-10-23</th>\n",
       "      <td>0.000000</td>\n",
       "    </tr>\n",
       "    <tr>\n",
       "      <th>2020-11-05</th>\n",
       "      <td>0.160000</td>\n",
       "    </tr>\n",
       "    <tr>\n",
       "      <th>2020-11-13</th>\n",
       "      <td>0.010667</td>\n",
       "    </tr>\n",
       "    <tr>\n",
       "      <th>2020-11-16</th>\n",
       "      <td>-0.050000</td>\n",
       "    </tr>\n",
       "  </tbody>\n",
       "</table>\n",
       "</div>"
      ],
      "text/plain": [
       "            text_sentiment\n",
       "date                      \n",
       "2020-07-03        0.000000\n",
       "2020-07-10        0.050000\n",
       "2020-08-01        0.422222\n",
       "2020-08-04        0.175000\n",
       "2020-08-09       -0.250000\n",
       "2020-08-10       -0.050000\n",
       "2020-08-11        0.053333\n",
       "2020-08-12        0.000000\n",
       "2020-08-14        0.207143\n",
       "2020-08-15        0.200000\n",
       "2020-08-16        0.000000\n",
       "2020-09-01        0.250000\n",
       "2020-09-14        0.068182\n",
       "2020-09-15        0.000000\n",
       "2020-09-16        0.216364\n",
       "2020-09-17        0.125000\n",
       "2020-09-19        0.000000\n",
       "2020-10-01       -0.150000\n",
       "2020-10-07        0.000000\n",
       "2020-10-08       -0.037500\n",
       "2020-10-13        0.000000\n",
       "2020-10-15        0.000000\n",
       "2020-10-16        0.000000\n",
       "2020-10-21        0.136364\n",
       "2020-10-23        0.000000\n",
       "2020-11-05        0.160000\n",
       "2020-11-13        0.010667\n",
       "2020-11-16       -0.050000"
      ]
     },
     "execution_count": 67,
     "metadata": {},
     "output_type": "execute_result"
    }
   ],
   "source": [
    "clean_top_bitcoin_tweets_per_day = clean_top_bitcoin_tweets.groupby(by='date').mean()\n",
    "clean_top_bitcoin_tweets_per_day"
   ]
  },
  {
   "cell_type": "code",
   "execution_count": null,
   "metadata": {},
   "outputs": [],
   "source": []
  },
  {
   "cell_type": "markdown",
   "metadata": {},
   "source": [
    "## Cleaning Top Bitcoin Feeds"
   ]
  },
  {
   "cell_type": "code",
   "execution_count": 68,
   "metadata": {
    "ExecuteTime": {
     "end_time": "2020-11-18T14:44:51.307114Z",
     "start_time": "2020-11-18T14:44:51.290149Z"
    }
   },
   "outputs": [],
   "source": [
    "top_bitcoin_feed = pd.read_csv('news_data/top_bitcoin_feed.csv')"
   ]
  },
  {
   "cell_type": "code",
   "execution_count": 69,
   "metadata": {
    "ExecuteTime": {
     "end_time": "2020-11-18T14:44:57.564409Z",
     "start_time": "2020-11-18T14:44:57.550358Z"
    }
   },
   "outputs": [
    {
     "data": {
      "text/html": [
       "<div>\n",
       "<style scoped>\n",
       "    .dataframe tbody tr th:only-of-type {\n",
       "        vertical-align: middle;\n",
       "    }\n",
       "\n",
       "    .dataframe tbody tr th {\n",
       "        vertical-align: top;\n",
       "    }\n",
       "\n",
       "    .dataframe thead th {\n",
       "        text-align: right;\n",
       "    }\n",
       "</style>\n",
       "<table border=\"1\" class=\"dataframe\">\n",
       "  <thead>\n",
       "    <tr style=\"text-align: right;\">\n",
       "      <th></th>\n",
       "      <th>Unnamed: 0</th>\n",
       "      <th>article</th>\n",
       "      <th>reddit</th>\n",
       "      <th>tweet</th>\n",
       "      <th>type</th>\n",
       "    </tr>\n",
       "  </thead>\n",
       "  <tbody>\n",
       "    <tr>\n",
       "      <th>0</th>\n",
       "      <td>0</td>\n",
       "      <td>{'_id': '5fb29587ae2a95001a057ce4', 'hotness':...</td>\n",
       "      <td>NaN</td>\n",
       "      <td>NaN</td>\n",
       "      <td>article</td>\n",
       "    </tr>\n",
       "    <tr>\n",
       "      <th>1</th>\n",
       "      <td>1</td>\n",
       "      <td>{'_id': '5fb29a05ae2a95001a05a7a6', 'hotness':...</td>\n",
       "      <td>NaN</td>\n",
       "      <td>NaN</td>\n",
       "      <td>article</td>\n",
       "    </tr>\n",
       "    <tr>\n",
       "      <th>2</th>\n",
       "      <td>2</td>\n",
       "      <td>NaN</td>\n",
       "      <td>NaN</td>\n",
       "      <td>{'retweetCount': 704, 'favoriteCount': 0, 'twi...</td>\n",
       "      <td>tweet</td>\n",
       "    </tr>\n",
       "    <tr>\n",
       "      <th>3</th>\n",
       "      <td>3</td>\n",
       "      <td>{'_id': '5fb261bda598c10017efa455', 'hotness':...</td>\n",
       "      <td>NaN</td>\n",
       "      <td>NaN</td>\n",
       "      <td>article</td>\n",
       "    </tr>\n",
       "    <tr>\n",
       "      <th>4</th>\n",
       "      <td>4</td>\n",
       "      <td>{'_id': '5fb2a30ebd9bd10018ee8b26', 'hotness':...</td>\n",
       "      <td>NaN</td>\n",
       "      <td>NaN</td>\n",
       "      <td>article</td>\n",
       "    </tr>\n",
       "  </tbody>\n",
       "</table>\n",
       "</div>"
      ],
      "text/plain": [
       "   Unnamed: 0                                            article reddit  \\\n",
       "0           0  {'_id': '5fb29587ae2a95001a057ce4', 'hotness':...    NaN   \n",
       "1           1  {'_id': '5fb29a05ae2a95001a05a7a6', 'hotness':...    NaN   \n",
       "2           2                                                NaN    NaN   \n",
       "3           3  {'_id': '5fb261bda598c10017efa455', 'hotness':...    NaN   \n",
       "4           4  {'_id': '5fb2a30ebd9bd10018ee8b26', 'hotness':...    NaN   \n",
       "\n",
       "                                               tweet     type  \n",
       "0                                                NaN  article  \n",
       "1                                                NaN  article  \n",
       "2  {'retweetCount': 704, 'favoriteCount': 0, 'twi...    tweet  \n",
       "3                                                NaN  article  \n",
       "4                                                NaN  article  "
      ]
     },
     "execution_count": 69,
     "metadata": {},
     "output_type": "execute_result"
    }
   ],
   "source": [
    "top_bitcoin_feed.head()"
   ]
  },
  {
   "cell_type": "code",
   "execution_count": 72,
   "metadata": {
    "ExecuteTime": {
     "end_time": "2020-11-18T15:21:38.148142Z",
     "start_time": "2020-11-18T15:21:38.123908Z"
    }
   },
   "outputs": [
    {
     "data": {
      "text/plain": [
       "\"{'_id': '5fb29587ae2a95001a057ce4', 'hotness': 74335.04226789423, 'activityHotness': 4.628517894223366, 'primaryCategory': 'General', 'words': 422, 'similarArticles': [{'_id': '5fb288827d7d9300177c0b5b', 'title': 'Intercom co-founder jumps onto the “Bitcoin wagon,” encourages others', 'publishedAt': '2020-11-16T14:00:42.000Z', 'sourceDomain': 'cryptoslate.com', 'url': 'https://cryptocontrol.io/r/api/article/5fb288827d7d9300177c0b5b?ref=5fb2b02a5b57ac0017ac4e11'}, {'_id': '5fb252399ba24e001782906e', 'title': 'Stocks boom, dollar gloom: 5 Things to watch in Bitcoin this week', 'publishedAt': '2020-11-16T09:00:10.000Z', 'sourceDomain': 'cointelegraph.com', 'url': 'https://cryptocontrol.io/r/api/article/5fb252399ba24e001782906e?ref=5fb2b02a5b57ac0017ac4e11'}, {'_id': '5fb11c34973304001988e80b', 'title': 'Crypto in 2021: Institutions Prefer Bitcoin, Retail Open to Altcoins', 'publishedAt': '2020-11-15T12:00:00.000Z', 'sourceDomain': 'cryptonews.com', 'url': 'https://cryptocontrol.io/r/api/article/5fb11c34973304001988e80b?ref=5fb2b02a5b57ac0017ac4e11'}, {'_id': '5faf568fefe062001bd6f1aa', 'title': 'Hedge Fund Manager Brian Kelly Says Increasing Institutional Interest in Bitcoin Down to its Fixed Supply', 'publishedAt': '2020-11-14T04:00:00.000Z', 'sourceDomain': 'news.bitcoin.com', 'url': 'https://cryptocontrol.io/r/api/article/5faf568fefe062001bd6f1aa?ref=5fb2b02a5b57ac0017ac4e11'}, {'_id': '5fad9a1adf1f290018b51f28', 'title': 'Bitcoin price surge to $16.2K accompanied by record volume', 'publishedAt': '2020-11-12T19:33:37.000Z', 'sourceDomain': 'cointelegraph.com', 'url': 'https://cryptocontrol.io/r/api/article/5fad9a1adf1f290018b51f28?ref=5fb2b02a5b57ac0017ac4e11'}, {'_id': '5fab6cda6c45d900170606be', 'title': '3 reasons Bitcoin spot volume reaching new yearly peak is highly optimistic', 'publishedAt': '2020-11-11T04:00:59.000Z', 'sourceDomain': 'cryptoslate.com', 'url': 'https://cryptocontrol.io/r/api/article/5fab6cda6c45d900170606be?ref=5fb2b02a5b57ac0017ac4e11'}], 'coins': [{'_id': '59cb59e81c073f09e76f614b', 'name': 'Bitcoin', 'slug': 'bitcoin', 'tradingSymbol': 'BTC'}, {'_id': '5e3844a816c3760019f74be2', 'name': 'Rally', 'slug': 'rally', 'tradingSymbol': 'RALLY'}, {'_id': '5b7ca78b0c38a700190ebdff', 'name': 'Own', 'slug': 'own', 'tradingSymbol': 'CHX'}], 'description': 'Eoghan McCabe, the co-founder and chairman of United States-based software company Intercom has revealed in a tweet today that he has fully embraced bitcoin after “years of dabbling”. McCabe then urged others to follow his lead. However, the executive is not convinced that bitcoin is a good fit for…', 'publishedAt': '2020-11-16T14:28:57.000Z', 'title': 'Intercom Co-founder Says He’s Jumped On Bitcoin Bandwagon After Years Of Staying On The Sidelines', 'url': 'https://cryptocontrol.io/r/api/article/5fb29587ae2a95001a057ce4?ref=5fb2b02a5b57ac0017ac4e11', 'source': {'_id': '5adc20e7ec0af7be3539d369', 'name': 'ZyCrypto', 'url': 'https://zycrypto.com', 'favicon': 'https://assets.cryptocontrol.io/favicons/5adc20e7ec0af7be3539d369.png'}, 'sourceDomain': 'zycrypto.com', 'originalImageUrl': 'https://zycrypto.com/wp-content/uploads/2020/11/Intercom-Co-founder-Says-Hes-Jumped-On-Bitcoin-Bandwagon-After-Years-Of-Staying-On-The-Sidelines.jpg'}\""
      ]
     },
     "execution_count": 72,
     "metadata": {},
     "output_type": "execute_result"
    }
   ],
   "source": [
    "top_bitcoin_feed.article[0]"
   ]
  },
  {
   "cell_type": "code",
   "execution_count": 70,
   "metadata": {
    "ExecuteTime": {
     "end_time": "2020-11-18T14:45:42.200461Z",
     "start_time": "2020-11-18T14:45:42.193502Z"
    }
   },
   "outputs": [
    {
     "data": {
      "text/plain": [
       "95"
      ]
     },
     "execution_count": 70,
     "metadata": {},
     "output_type": "execute_result"
    }
   ],
   "source": [
    "top_bitcoin_feed.tweet.isna().sum()"
   ]
  },
  {
   "cell_type": "code",
   "execution_count": 71,
   "metadata": {
    "ExecuteTime": {
     "end_time": "2020-11-18T14:45:56.134602Z",
     "start_time": "2020-11-18T14:45:56.128008Z"
    }
   },
   "outputs": [
    {
     "data": {
      "text/plain": [
       "(145, 5)"
      ]
     },
     "execution_count": 71,
     "metadata": {},
     "output_type": "execute_result"
    }
   ],
   "source": [
    "top_bitcoin_feed.shape"
   ]
  },
  {
   "cell_type": "code",
   "execution_count": 54,
   "metadata": {
    "ExecuteTime": {
     "end_time": "2020-11-18T14:30:35.102343Z",
     "start_time": "2020-11-18T14:30:35.081023Z"
    }
   },
   "outputs": [],
   "source": [
    "clean_top_bitcoin_tweets = top_bitcoin_tweets.drop(columns=['Unnamed: 0', '__v', '_id', 'activityHotness', 'createdAt','favoriteCount', 'hashtags', 'hotness', 'id', 'isRetweeted', 'language','links', 'mentions', 'retweetCount', 'symbols', 'twitteratiScore', 'updatedAt', 'url', 'username'])\n",
    "#clean_top_bitcoin_tweets[\"coin\"]=list(map(lambda x:ast.literal_eval(x)[0][\"name\"], top_bitcoin_tweets[\"coin\"]))\n",
    "clean_top_bitcoin_tweets[\"date\"]=list(map(lambda x: pd.to_datetime(x[:10], format='%Y/%m/%d'), top_bitcoin_tweets[\"publishedAt\"]))\n",
    "clean_top_bitcoin_tweets = clean_top_bitcoin_tweets.set_index(['date']).drop(columns=['publishedAt'])"
   ]
  },
  {
   "cell_type": "code",
   "execution_count": 55,
   "metadata": {
    "ExecuteTime": {
     "end_time": "2020-11-18T14:30:36.793098Z",
     "start_time": "2020-11-18T14:30:36.781018Z"
    }
   },
   "outputs": [
    {
     "data": {
      "text/html": [
       "<div>\n",
       "<style scoped>\n",
       "    .dataframe tbody tr th:only-of-type {\n",
       "        vertical-align: middle;\n",
       "    }\n",
       "\n",
       "    .dataframe tbody tr th {\n",
       "        vertical-align: top;\n",
       "    }\n",
       "\n",
       "    .dataframe thead th {\n",
       "        text-align: right;\n",
       "    }\n",
       "</style>\n",
       "<table border=\"1\" class=\"dataframe\">\n",
       "  <thead>\n",
       "    <tr style=\"text-align: right;\">\n",
       "      <th></th>\n",
       "      <th>coin</th>\n",
       "      <th>text</th>\n",
       "    </tr>\n",
       "    <tr>\n",
       "      <th>date</th>\n",
       "      <th></th>\n",
       "      <th></th>\n",
       "    </tr>\n",
       "  </thead>\n",
       "  <tbody>\n",
       "    <tr>\n",
       "      <th>2020-11-16</th>\n",
       "      <td>59cb59e81c073f09e76f614b</td>\n",
       "      <td>RT @tyler: CitiBank report predicts #Bitcoin p...</td>\n",
       "    </tr>\n",
       "    <tr>\n",
       "      <th>2020-11-16</th>\n",
       "      <td>59cb59e81c073f09e76f614b</td>\n",
       "      <td>🐂 https://t.co/lyDNslcwYp https://t.co/9Pc0It19rb</td>\n",
       "    </tr>\n",
       "    <tr>\n",
       "      <th>2020-11-16</th>\n",
       "      <td>59cb59e81c073f09e76f614b</td>\n",
       "      <td>'The value of the Global Negative-Yielding Deb...</td>\n",
       "    </tr>\n",
       "    <tr>\n",
       "      <th>2020-11-13</th>\n",
       "      <td>59cb59e81c073f09e76f614b</td>\n",
       "      <td>RT @CoinDesk: JUST IN: All eligible @PayPal ac...</td>\n",
       "    </tr>\n",
       "    <tr>\n",
       "      <th>2020-11-13</th>\n",
       "      <td>59cb59e81c073f09e76f614b</td>\n",
       "      <td>RT @real_vijay: Family offices (the investment...</td>\n",
       "    </tr>\n",
       "  </tbody>\n",
       "</table>\n",
       "</div>"
      ],
      "text/plain": [
       "                                coin  \\\n",
       "date                                   \n",
       "2020-11-16  59cb59e81c073f09e76f614b   \n",
       "2020-11-16  59cb59e81c073f09e76f614b   \n",
       "2020-11-16  59cb59e81c073f09e76f614b   \n",
       "2020-11-13  59cb59e81c073f09e76f614b   \n",
       "2020-11-13  59cb59e81c073f09e76f614b   \n",
       "\n",
       "                                                         text  \n",
       "date                                                           \n",
       "2020-11-16  RT @tyler: CitiBank report predicts #Bitcoin p...  \n",
       "2020-11-16  🐂 https://t.co/lyDNslcwYp https://t.co/9Pc0It19rb  \n",
       "2020-11-16  'The value of the Global Negative-Yielding Deb...  \n",
       "2020-11-13  RT @CoinDesk: JUST IN: All eligible @PayPal ac...  \n",
       "2020-11-13  RT @real_vijay: Family offices (the investment...  "
      ]
     },
     "execution_count": 55,
     "metadata": {},
     "output_type": "execute_result"
    }
   ],
   "source": [
    "clean_top_bitcoin_tweets.head()"
   ]
  },
  {
   "cell_type": "code",
   "execution_count": 56,
   "metadata": {
    "ExecuteTime": {
     "end_time": "2020-11-18T14:30:39.781740Z",
     "start_time": "2020-11-18T14:30:39.715814Z"
    }
   },
   "outputs": [],
   "source": [
    "clean_top_bitcoin_tweets[\"text\"]=clean_top_bitcoin_tweets[\"text\"].map(clean_text)"
   ]
  },
  {
   "cell_type": "code",
   "execution_count": 58,
   "metadata": {
    "ExecuteTime": {
     "end_time": "2020-11-18T14:31:15.350641Z",
     "start_time": "2020-11-18T14:31:15.339088Z"
    }
   },
   "outputs": [
    {
     "data": {
      "text/html": [
       "<div>\n",
       "<style scoped>\n",
       "    .dataframe tbody tr th:only-of-type {\n",
       "        vertical-align: middle;\n",
       "    }\n",
       "\n",
       "    .dataframe tbody tr th {\n",
       "        vertical-align: top;\n",
       "    }\n",
       "\n",
       "    .dataframe thead th {\n",
       "        text-align: right;\n",
       "    }\n",
       "</style>\n",
       "<table border=\"1\" class=\"dataframe\">\n",
       "  <thead>\n",
       "    <tr style=\"text-align: right;\">\n",
       "      <th></th>\n",
       "      <th>coin</th>\n",
       "      <th>text</th>\n",
       "    </tr>\n",
       "    <tr>\n",
       "      <th>date</th>\n",
       "      <th></th>\n",
       "      <th></th>\n",
       "    </tr>\n",
       "  </thead>\n",
       "  <tbody>\n",
       "    <tr>\n",
       "      <th>2020-11-16</th>\n",
       "      <td>59cb59e81c073f09e76f614b</td>\n",
       "      <td>rt   tyler   citibank report predicts   bitcoi...</td>\n",
       "    </tr>\n",
       "    <tr>\n",
       "      <th>2020-11-16</th>\n",
       "      <td>59cb59e81c073f09e76f614b</td>\n",
       "      <td>🐂 https     t co lydnslcwyp https     t co pcitrb</td>\n",
       "    </tr>\n",
       "    <tr>\n",
       "      <th>2020-11-16</th>\n",
       "      <td>59cb59e81c073f09e76f614b</td>\n",
       "      <td>the value global negative yielding debt index...</td>\n",
       "    </tr>\n",
       "    <tr>\n",
       "      <th>2020-11-13</th>\n",
       "      <td>59cb59e81c073f09e76f614b</td>\n",
       "      <td>rt   coindesk     eligible   paypal accounthol...</td>\n",
       "    </tr>\n",
       "    <tr>\n",
       "      <th>2020-11-13</th>\n",
       "      <td>59cb59e81c073f09e76f614b</td>\n",
       "      <td>rt   real vijay   family offices   investment ...</td>\n",
       "    </tr>\n",
       "  </tbody>\n",
       "</table>\n",
       "</div>"
      ],
      "text/plain": [
       "                                coin  \\\n",
       "date                                   \n",
       "2020-11-16  59cb59e81c073f09e76f614b   \n",
       "2020-11-16  59cb59e81c073f09e76f614b   \n",
       "2020-11-16  59cb59e81c073f09e76f614b   \n",
       "2020-11-13  59cb59e81c073f09e76f614b   \n",
       "2020-11-13  59cb59e81c073f09e76f614b   \n",
       "\n",
       "                                                         text  \n",
       "date                                                           \n",
       "2020-11-16  rt   tyler   citibank report predicts   bitcoi...  \n",
       "2020-11-16  🐂 https     t co lydnslcwyp https     t co pcitrb  \n",
       "2020-11-16   the value global negative yielding debt index...  \n",
       "2020-11-13  rt   coindesk     eligible   paypal accounthol...  \n",
       "2020-11-13  rt   real vijay   family offices   investment ...  "
      ]
     },
     "execution_count": 58,
     "metadata": {},
     "output_type": "execute_result"
    }
   ],
   "source": [
    "clean_top_bitcoin_tweets.head()"
   ]
  },
  {
   "cell_type": "code",
   "execution_count": 59,
   "metadata": {
    "ExecuteTime": {
     "end_time": "2020-11-18T14:31:41.907345Z",
     "start_time": "2020-11-18T14:31:41.901288Z"
    }
   },
   "outputs": [],
   "source": [
    "import re\n",
    "def remove_emoji(string):\n",
    "    emoji_pattern = re.compile(\"[\"\n",
    "                            u\"\\U0001F600-\\U0001F64F\"  # emoticons\n",
    "                            u\"\\U0001F300-\\U0001F5FF\"  # symbols & pictographs\n",
    "                            u\"\\U0001F680-\\U0001F6FF\"  # transport & map symbols\n",
    "                            u\"\\U0001F1E0-\\U0001F1FF\"  # flags (iOS)\n",
    "                            u\"\\U00002702-\\U000027B0\"\n",
    "                            u\"\\U000024C2-\\U0001F251\"\n",
    "                            u\"\\U0001f926-\\U0001f937\"\n",
    "                            u'\\U00010000-\\U0010ffff'\n",
    "                            u\"\\u200d\"\n",
    "                            u\"\\u2640-\\u2642\"\n",
    "                            u\"\\u2600-\\u2B55\"\n",
    "                            u\"\\u23cf\"\n",
    "                            u\"\\u23e9\"\n",
    "                            u\"\\u231a\"\n",
    "                            u\"\\u3030\"\n",
    "                            u\"\\ufe0f\"\n",
    "                           \"]+\", flags=re.UNICODE)\n",
    "    return emoji_pattern.sub(r'', string)"
   ]
  },
  {
   "cell_type": "code",
   "execution_count": 60,
   "metadata": {
    "ExecuteTime": {
     "end_time": "2020-11-18T14:31:43.984526Z",
     "start_time": "2020-11-18T14:31:43.973321Z"
    }
   },
   "outputs": [],
   "source": [
    "clean_top_bitcoin_tweets[\"text\"]=clean_top_bitcoin_tweets[\"text\"].map(remove_emoji)"
   ]
  },
  {
   "cell_type": "code",
   "execution_count": 61,
   "metadata": {
    "ExecuteTime": {
     "end_time": "2020-11-18T14:32:04.840421Z",
     "start_time": "2020-11-18T14:32:04.694805Z"
    }
   },
   "outputs": [],
   "source": [
    "clean_top_bitcoin_tweets[\"text_sentiment\"]=clean_top_bitcoin_tweets[\"text\"].map(sentimenter)"
   ]
  },
  {
   "cell_type": "code",
   "execution_count": 62,
   "metadata": {
    "ExecuteTime": {
     "end_time": "2020-11-18T14:32:06.936276Z",
     "start_time": "2020-11-18T14:32:06.922769Z"
    }
   },
   "outputs": [
    {
     "data": {
      "text/html": [
       "<div>\n",
       "<style scoped>\n",
       "    .dataframe tbody tr th:only-of-type {\n",
       "        vertical-align: middle;\n",
       "    }\n",
       "\n",
       "    .dataframe tbody tr th {\n",
       "        vertical-align: top;\n",
       "    }\n",
       "\n",
       "    .dataframe thead th {\n",
       "        text-align: right;\n",
       "    }\n",
       "</style>\n",
       "<table border=\"1\" class=\"dataframe\">\n",
       "  <thead>\n",
       "    <tr style=\"text-align: right;\">\n",
       "      <th></th>\n",
       "      <th>coin</th>\n",
       "      <th>text</th>\n",
       "      <th>text_sentiment</th>\n",
       "    </tr>\n",
       "    <tr>\n",
       "      <th>date</th>\n",
       "      <th></th>\n",
       "      <th></th>\n",
       "      <th></th>\n",
       "    </tr>\n",
       "  </thead>\n",
       "  <tbody>\n",
       "    <tr>\n",
       "      <th>2020-11-16</th>\n",
       "      <td>59cb59e81c073f09e76f614b</td>\n",
       "      <td>rt   tyler   citibank report predicts   bitcoi...</td>\n",
       "      <td>0.000</td>\n",
       "    </tr>\n",
       "    <tr>\n",
       "      <th>2020-11-16</th>\n",
       "      <td>59cb59e81c073f09e76f614b</td>\n",
       "      <td>https     t co lydnslcwyp https     t co pcitrb</td>\n",
       "      <td>0.000</td>\n",
       "    </tr>\n",
       "    <tr>\n",
       "      <th>2020-11-16</th>\n",
       "      <td>59cb59e81c073f09e76f614b</td>\n",
       "      <td>the value global negative yielding debt index...</td>\n",
       "      <td>-0.150</td>\n",
       "    </tr>\n",
       "    <tr>\n",
       "      <th>2020-11-13</th>\n",
       "      <td>59cb59e81c073f09e76f614b</td>\n",
       "      <td>rt   coindesk     eligible   paypal accounthol...</td>\n",
       "      <td>0.000</td>\n",
       "    </tr>\n",
       "    <tr>\n",
       "      <th>2020-11-13</th>\n",
       "      <td>59cb59e81c073f09e76f614b</td>\n",
       "      <td>rt   real vijay   family offices   investment ...</td>\n",
       "      <td>0.032</td>\n",
       "    </tr>\n",
       "  </tbody>\n",
       "</table>\n",
       "</div>"
      ],
      "text/plain": [
       "                                coin  \\\n",
       "date                                   \n",
       "2020-11-16  59cb59e81c073f09e76f614b   \n",
       "2020-11-16  59cb59e81c073f09e76f614b   \n",
       "2020-11-16  59cb59e81c073f09e76f614b   \n",
       "2020-11-13  59cb59e81c073f09e76f614b   \n",
       "2020-11-13  59cb59e81c073f09e76f614b   \n",
       "\n",
       "                                                         text  text_sentiment  \n",
       "date                                                                           \n",
       "2020-11-16  rt   tyler   citibank report predicts   bitcoi...           0.000  \n",
       "2020-11-16    https     t co lydnslcwyp https     t co pcitrb           0.000  \n",
       "2020-11-16   the value global negative yielding debt index...          -0.150  \n",
       "2020-11-13  rt   coindesk     eligible   paypal accounthol...           0.000  \n",
       "2020-11-13  rt   real vijay   family offices   investment ...           0.032  "
      ]
     },
     "execution_count": 62,
     "metadata": {},
     "output_type": "execute_result"
    }
   ],
   "source": [
    "clean_top_bitcoin_tweets.head()"
   ]
  },
  {
   "cell_type": "code",
   "execution_count": 67,
   "metadata": {
    "ExecuteTime": {
     "end_time": "2020-11-18T14:34:04.826728Z",
     "start_time": "2020-11-18T14:34:04.811423Z"
    }
   },
   "outputs": [
    {
     "data": {
      "text/html": [
       "<div>\n",
       "<style scoped>\n",
       "    .dataframe tbody tr th:only-of-type {\n",
       "        vertical-align: middle;\n",
       "    }\n",
       "\n",
       "    .dataframe tbody tr th {\n",
       "        vertical-align: top;\n",
       "    }\n",
       "\n",
       "    .dataframe thead th {\n",
       "        text-align: right;\n",
       "    }\n",
       "</style>\n",
       "<table border=\"1\" class=\"dataframe\">\n",
       "  <thead>\n",
       "    <tr style=\"text-align: right;\">\n",
       "      <th></th>\n",
       "      <th>text_sentiment</th>\n",
       "    </tr>\n",
       "    <tr>\n",
       "      <th>date</th>\n",
       "      <th></th>\n",
       "    </tr>\n",
       "  </thead>\n",
       "  <tbody>\n",
       "    <tr>\n",
       "      <th>2020-07-03</th>\n",
       "      <td>0.000000</td>\n",
       "    </tr>\n",
       "    <tr>\n",
       "      <th>2020-07-10</th>\n",
       "      <td>0.050000</td>\n",
       "    </tr>\n",
       "    <tr>\n",
       "      <th>2020-08-01</th>\n",
       "      <td>0.422222</td>\n",
       "    </tr>\n",
       "    <tr>\n",
       "      <th>2020-08-04</th>\n",
       "      <td>0.175000</td>\n",
       "    </tr>\n",
       "    <tr>\n",
       "      <th>2020-08-09</th>\n",
       "      <td>-0.250000</td>\n",
       "    </tr>\n",
       "    <tr>\n",
       "      <th>2020-08-10</th>\n",
       "      <td>-0.050000</td>\n",
       "    </tr>\n",
       "    <tr>\n",
       "      <th>2020-08-11</th>\n",
       "      <td>0.053333</td>\n",
       "    </tr>\n",
       "    <tr>\n",
       "      <th>2020-08-12</th>\n",
       "      <td>0.000000</td>\n",
       "    </tr>\n",
       "    <tr>\n",
       "      <th>2020-08-14</th>\n",
       "      <td>0.207143</td>\n",
       "    </tr>\n",
       "    <tr>\n",
       "      <th>2020-08-15</th>\n",
       "      <td>0.200000</td>\n",
       "    </tr>\n",
       "    <tr>\n",
       "      <th>2020-08-16</th>\n",
       "      <td>0.000000</td>\n",
       "    </tr>\n",
       "    <tr>\n",
       "      <th>2020-09-01</th>\n",
       "      <td>0.250000</td>\n",
       "    </tr>\n",
       "    <tr>\n",
       "      <th>2020-09-14</th>\n",
       "      <td>0.068182</td>\n",
       "    </tr>\n",
       "    <tr>\n",
       "      <th>2020-09-15</th>\n",
       "      <td>0.000000</td>\n",
       "    </tr>\n",
       "    <tr>\n",
       "      <th>2020-09-16</th>\n",
       "      <td>0.216364</td>\n",
       "    </tr>\n",
       "    <tr>\n",
       "      <th>2020-09-17</th>\n",
       "      <td>0.125000</td>\n",
       "    </tr>\n",
       "    <tr>\n",
       "      <th>2020-09-19</th>\n",
       "      <td>0.000000</td>\n",
       "    </tr>\n",
       "    <tr>\n",
       "      <th>2020-10-01</th>\n",
       "      <td>-0.150000</td>\n",
       "    </tr>\n",
       "    <tr>\n",
       "      <th>2020-10-07</th>\n",
       "      <td>0.000000</td>\n",
       "    </tr>\n",
       "    <tr>\n",
       "      <th>2020-10-08</th>\n",
       "      <td>-0.037500</td>\n",
       "    </tr>\n",
       "    <tr>\n",
       "      <th>2020-10-13</th>\n",
       "      <td>0.000000</td>\n",
       "    </tr>\n",
       "    <tr>\n",
       "      <th>2020-10-15</th>\n",
       "      <td>0.000000</td>\n",
       "    </tr>\n",
       "    <tr>\n",
       "      <th>2020-10-16</th>\n",
       "      <td>0.000000</td>\n",
       "    </tr>\n",
       "    <tr>\n",
       "      <th>2020-10-21</th>\n",
       "      <td>0.136364</td>\n",
       "    </tr>\n",
       "    <tr>\n",
       "      <th>2020-10-23</th>\n",
       "      <td>0.000000</td>\n",
       "    </tr>\n",
       "    <tr>\n",
       "      <th>2020-11-05</th>\n",
       "      <td>0.160000</td>\n",
       "    </tr>\n",
       "    <tr>\n",
       "      <th>2020-11-13</th>\n",
       "      <td>0.010667</td>\n",
       "    </tr>\n",
       "    <tr>\n",
       "      <th>2020-11-16</th>\n",
       "      <td>-0.050000</td>\n",
       "    </tr>\n",
       "  </tbody>\n",
       "</table>\n",
       "</div>"
      ],
      "text/plain": [
       "            text_sentiment\n",
       "date                      \n",
       "2020-07-03        0.000000\n",
       "2020-07-10        0.050000\n",
       "2020-08-01        0.422222\n",
       "2020-08-04        0.175000\n",
       "2020-08-09       -0.250000\n",
       "2020-08-10       -0.050000\n",
       "2020-08-11        0.053333\n",
       "2020-08-12        0.000000\n",
       "2020-08-14        0.207143\n",
       "2020-08-15        0.200000\n",
       "2020-08-16        0.000000\n",
       "2020-09-01        0.250000\n",
       "2020-09-14        0.068182\n",
       "2020-09-15        0.000000\n",
       "2020-09-16        0.216364\n",
       "2020-09-17        0.125000\n",
       "2020-09-19        0.000000\n",
       "2020-10-01       -0.150000\n",
       "2020-10-07        0.000000\n",
       "2020-10-08       -0.037500\n",
       "2020-10-13        0.000000\n",
       "2020-10-15        0.000000\n",
       "2020-10-16        0.000000\n",
       "2020-10-21        0.136364\n",
       "2020-10-23        0.000000\n",
       "2020-11-05        0.160000\n",
       "2020-11-13        0.010667\n",
       "2020-11-16       -0.050000"
      ]
     },
     "execution_count": 67,
     "metadata": {},
     "output_type": "execute_result"
    }
   ],
   "source": [
    "clean_top_bitcoin_tweets_per_day = clean_top_bitcoin_tweets.groupby(by='date').mean()\n",
    "clean_top_bitcoin_tweets_per_day"
   ]
  },
  {
   "cell_type": "code",
   "execution_count": null,
   "metadata": {},
   "outputs": [],
   "source": []
  }
 ],
 "metadata": {
  "kernelspec": {
   "display_name": "Python 3",
   "language": "python",
   "name": "python3"
  },
  "language_info": {
   "codemirror_mode": {
    "name": "ipython",
    "version": 3
   },
   "file_extension": ".py",
   "mimetype": "text/x-python",
   "name": "python",
   "nbconvert_exporter": "python",
   "pygments_lexer": "ipython3",
   "version": "3.7.7"
  },
  "toc": {
   "base_numbering": 1,
   "nav_menu": {},
   "number_sections": true,
   "sideBar": true,
   "skip_h1_title": false,
   "title_cell": "Table of Contents",
   "title_sidebar": "Contents",
   "toc_cell": false,
   "toc_position": {},
   "toc_section_display": true,
   "toc_window_display": false
  }
 },
 "nbformat": 4,
 "nbformat_minor": 4
}
