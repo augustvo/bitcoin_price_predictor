{
 "cells": [
  {
   "cell_type": "code",
   "execution_count": 1,
   "metadata": {
    "ExecuteTime": {
     "end_time": "2020-11-16T18:13:20.537897Z",
     "start_time": "2020-11-16T18:13:19.794529Z"
    }
   },
   "outputs": [],
   "source": [
    "import numpy as np\n",
    "import pandas as pd"
   ]
  },
  {
   "cell_type": "code",
   "execution_count": 2,
   "metadata": {
    "ExecuteTime": {
     "end_time": "2020-11-16T18:20:27.074462Z",
     "start_time": "2020-11-16T18:20:27.040424Z"
    }
   },
   "outputs": [],
   "source": [
    "top_bitcoin_news = pd.read_csv(\"data/news_data/TopNewsBitcoin.csv\")"
   ]
  },
  {
   "cell_type": "code",
   "execution_count": 3,
   "metadata": {
    "ExecuteTime": {
     "end_time": "2020-11-16T18:20:36.942782Z",
     "start_time": "2020-11-16T18:20:36.904676Z"
    }
   },
   "outputs": [
    {
     "data": {
      "text/html": [
       "<div>\n",
       "<style scoped>\n",
       "    .dataframe tbody tr th:only-of-type {\n",
       "        vertical-align: middle;\n",
       "    }\n",
       "\n",
       "    .dataframe tbody tr th {\n",
       "        vertical-align: top;\n",
       "    }\n",
       "\n",
       "    .dataframe thead th {\n",
       "        text-align: right;\n",
       "    }\n",
       "</style>\n",
       "<table border=\"1\" class=\"dataframe\">\n",
       "  <thead>\n",
       "    <tr style=\"text-align: right;\">\n",
       "      <th></th>\n",
       "      <th>Unnamed: 0</th>\n",
       "      <th>_id</th>\n",
       "      <th>activityHotness</th>\n",
       "      <th>coins</th>\n",
       "      <th>description</th>\n",
       "      <th>hotness</th>\n",
       "      <th>originalImageUrl</th>\n",
       "      <th>primaryCategory</th>\n",
       "      <th>publishedAt</th>\n",
       "      <th>similarArticles</th>\n",
       "      <th>source</th>\n",
       "      <th>sourceDomain</th>\n",
       "      <th>title</th>\n",
       "      <th>url</th>\n",
       "      <th>words</th>\n",
       "    </tr>\n",
       "  </thead>\n",
       "  <tbody>\n",
       "    <tr>\n",
       "      <th>0</th>\n",
       "      <td>0</td>\n",
       "      <td>5fb29a05ae2a95001a05a7a6</td>\n",
       "      <td>4.643825</td>\n",
       "      <td>[{'_id': '59cb59e81c073f09e76f614b', 'name': '...</td>\n",
       "      <td>The crypto was the response to the global econ...</td>\n",
       "      <td>74335.037113</td>\n",
       "      <td>https://ihodl.com/media/articles/d/f0/e19475f0...</td>\n",
       "      <td>General</td>\n",
       "      <td>2020-11-16T14:21:35.000Z</td>\n",
       "      <td>[{'_id': '5fb285967d7d9300177be37f', 'title': ...</td>\n",
       "      <td>{'_id': '5b6b761b3bda0e0010d82323', 'name': 'I...</td>\n",
       "      <td>ihodl.com</td>\n",
       "      <td>Citibank: Bitcoin is the Digital Gold of the 2...</td>\n",
       "      <td>https://cryptocontrol.io/r/api/article/5fb29a0...</td>\n",
       "      <td>255</td>\n",
       "    </tr>\n",
       "    <tr>\n",
       "      <th>1</th>\n",
       "      <td>1</td>\n",
       "      <td>5fb261bda598c10017efa455</td>\n",
       "      <td>4.664710</td>\n",
       "      <td>[{'_id': '59cb59e81c073f09e76f614b', 'name': '...</td>\n",
       "      <td>DOT/USD is likely to trend upwards to $5.00, b...</td>\n",
       "      <td>74334.402812</td>\n",
       "      <td>https://coinjournal.net/wp-content/uploads/202...</td>\n",
       "      <td>Analysis</td>\n",
       "      <td>2020-11-16T10:25:43.000Z</td>\n",
       "      <td>[{'_id': '5fab2ba85d633f001df80c00', 'title': ...</td>\n",
       "      <td>{'_id': '59d71bc4ef8bf95cc2aaf570', 'name': 'C...</td>\n",
       "      <td>coinjournal.net</td>\n",
       "      <td>Price analysis: Polkadot delicately balanced n...</td>\n",
       "      <td>https://cryptocontrol.io/r/api/article/5fb261b...</td>\n",
       "      <td>508</td>\n",
       "    </tr>\n",
       "    <tr>\n",
       "      <th>2</th>\n",
       "      <td>2</td>\n",
       "      <td>5fb2a30ebd9bd10018ee8b26</td>\n",
       "      <td>4.610436</td>\n",
       "      <td>[{'_id': '59cb59e81c073f09e76f614b', 'name': '...</td>\n",
       "      <td>Fidelity Digital Assets has responded to some ...</td>\n",
       "      <td>74334.242056</td>\n",
       "      <td>https://static.coindesk.com/wp-content/uploads...</td>\n",
       "      <td>General</td>\n",
       "      <td>2020-11-16T09:47:23.000Z</td>\n",
       "      <td>[{'_id': '5fb271ca8318e10017f4427b', 'title': ...</td>\n",
       "      <td>{'_id': '59ce11393a44cf289a9a71f5', 'name': 'C...</td>\n",
       "      <td>coindesk.com</td>\n",
       "      <td>Fidelity's Crypto Arm Responds to 6 Common Bit...</td>\n",
       "      <td>https://cryptocontrol.io/r/api/article/5fb2a30...</td>\n",
       "      <td>457</td>\n",
       "    </tr>\n",
       "    <tr>\n",
       "      <th>3</th>\n",
       "      <td>3</td>\n",
       "      <td>5fb2a244bd9bd10018ee8aee</td>\n",
       "      <td>3.119062</td>\n",
       "      <td>[{'_id': '5b6a328530a21d000f00ae48', 'name': '...</td>\n",
       "      <td>Latest reports show that institutional crypto ...</td>\n",
       "      <td>74333.634108</td>\n",
       "      <td>https://ourbitcoinnews.sfo2.digitaloceanspaces...</td>\n",
       "      <td>General</td>\n",
       "      <td>2020-11-16T15:05:25.000Z</td>\n",
       "      <td>[{'_id': '5fb259b09ba24e001782e01e', 'title': ...</td>\n",
       "      <td>{'_id': '5d9ec6b0d37160001a8c2a84', 'name': 'O...</td>\n",
       "      <td>ourbitcoinnews.com</td>\n",
       "      <td>Grayscale about to hold $ 10 billion in crypto...</td>\n",
       "      <td>https://cryptocontrol.io/r/api/article/5fb2a24...</td>\n",
       "      <td>342</td>\n",
       "    </tr>\n",
       "    <tr>\n",
       "      <th>4</th>\n",
       "      <td>4</td>\n",
       "      <td>5fb24a27a73cd8001a258071</td>\n",
       "      <td>3.172755</td>\n",
       "      <td>[{'_id': '5afcc60ced3b0e000f40d55c', 'name': '...</td>\n",
       "      <td>The mainstream adoption of digital assets and ...</td>\n",
       "      <td>74332.725440</td>\n",
       "      <td>https://cryptogazette.com/adminlogin/uploads/2...</td>\n",
       "      <td>General</td>\n",
       "      <td>2020-11-16T09:18:58.000Z</td>\n",
       "      <td>[{'_id': '5faec615b42e16001bc7e377', 'title': ...</td>\n",
       "      <td>{'_id': '5bac83ff0c38a70019d8ffd9', 'name': 'O...</td>\n",
       "      <td>NaN</td>\n",
       "      <td>Institutional Adoption Is Coming To Bitcoin An...</td>\n",
       "      <td>https://cryptocontrol.io/r/api/article/5fb24a2...</td>\n",
       "      <td>311</td>\n",
       "    </tr>\n",
       "  </tbody>\n",
       "</table>\n",
       "</div>"
      ],
      "text/plain": [
       "   Unnamed: 0                       _id  activityHotness  \\\n",
       "0           0  5fb29a05ae2a95001a05a7a6         4.643825   \n",
       "1           1  5fb261bda598c10017efa455         4.664710   \n",
       "2           2  5fb2a30ebd9bd10018ee8b26         4.610436   \n",
       "3           3  5fb2a244bd9bd10018ee8aee         3.119062   \n",
       "4           4  5fb24a27a73cd8001a258071         3.172755   \n",
       "\n",
       "                                               coins  \\\n",
       "0  [{'_id': '59cb59e81c073f09e76f614b', 'name': '...   \n",
       "1  [{'_id': '59cb59e81c073f09e76f614b', 'name': '...   \n",
       "2  [{'_id': '59cb59e81c073f09e76f614b', 'name': '...   \n",
       "3  [{'_id': '5b6a328530a21d000f00ae48', 'name': '...   \n",
       "4  [{'_id': '5afcc60ced3b0e000f40d55c', 'name': '...   \n",
       "\n",
       "                                         description       hotness  \\\n",
       "0  The crypto was the response to the global econ...  74335.037113   \n",
       "1  DOT/USD is likely to trend upwards to $5.00, b...  74334.402812   \n",
       "2  Fidelity Digital Assets has responded to some ...  74334.242056   \n",
       "3  Latest reports show that institutional crypto ...  74333.634108   \n",
       "4  The mainstream adoption of digital assets and ...  74332.725440   \n",
       "\n",
       "                                    originalImageUrl primaryCategory  \\\n",
       "0  https://ihodl.com/media/articles/d/f0/e19475f0...         General   \n",
       "1  https://coinjournal.net/wp-content/uploads/202...        Analysis   \n",
       "2  https://static.coindesk.com/wp-content/uploads...         General   \n",
       "3  https://ourbitcoinnews.sfo2.digitaloceanspaces...         General   \n",
       "4  https://cryptogazette.com/adminlogin/uploads/2...         General   \n",
       "\n",
       "                publishedAt  \\\n",
       "0  2020-11-16T14:21:35.000Z   \n",
       "1  2020-11-16T10:25:43.000Z   \n",
       "2  2020-11-16T09:47:23.000Z   \n",
       "3  2020-11-16T15:05:25.000Z   \n",
       "4  2020-11-16T09:18:58.000Z   \n",
       "\n",
       "                                     similarArticles  \\\n",
       "0  [{'_id': '5fb285967d7d9300177be37f', 'title': ...   \n",
       "1  [{'_id': '5fab2ba85d633f001df80c00', 'title': ...   \n",
       "2  [{'_id': '5fb271ca8318e10017f4427b', 'title': ...   \n",
       "3  [{'_id': '5fb259b09ba24e001782e01e', 'title': ...   \n",
       "4  [{'_id': '5faec615b42e16001bc7e377', 'title': ...   \n",
       "\n",
       "                                              source        sourceDomain  \\\n",
       "0  {'_id': '5b6b761b3bda0e0010d82323', 'name': 'I...           ihodl.com   \n",
       "1  {'_id': '59d71bc4ef8bf95cc2aaf570', 'name': 'C...     coinjournal.net   \n",
       "2  {'_id': '59ce11393a44cf289a9a71f5', 'name': 'C...        coindesk.com   \n",
       "3  {'_id': '5d9ec6b0d37160001a8c2a84', 'name': 'O...  ourbitcoinnews.com   \n",
       "4  {'_id': '5bac83ff0c38a70019d8ffd9', 'name': 'O...                 NaN   \n",
       "\n",
       "                                               title  \\\n",
       "0  Citibank: Bitcoin is the Digital Gold of the 2...   \n",
       "1  Price analysis: Polkadot delicately balanced n...   \n",
       "2  Fidelity's Crypto Arm Responds to 6 Common Bit...   \n",
       "3  Grayscale about to hold $ 10 billion in crypto...   \n",
       "4  Institutional Adoption Is Coming To Bitcoin An...   \n",
       "\n",
       "                                                 url  words  \n",
       "0  https://cryptocontrol.io/r/api/article/5fb29a0...    255  \n",
       "1  https://cryptocontrol.io/r/api/article/5fb261b...    508  \n",
       "2  https://cryptocontrol.io/r/api/article/5fb2a30...    457  \n",
       "3  https://cryptocontrol.io/r/api/article/5fb2a24...    342  \n",
       "4  https://cryptocontrol.io/r/api/article/5fb24a2...    311  "
      ]
     },
     "execution_count": 3,
     "metadata": {},
     "output_type": "execute_result"
    }
   ],
   "source": [
    "top_bitcoin_news.head()"
   ]
  },
  {
   "cell_type": "code",
   "execution_count": 11,
   "metadata": {
    "ExecuteTime": {
     "end_time": "2020-11-16T18:54:35.302194Z",
     "start_time": "2020-11-16T18:54:35.294499Z"
    }
   },
   "outputs": [
    {
     "data": {
      "text/plain": [
       "\"[{'_id': '59cb59e81c073f09e76f614b', 'name': 'Bitcoin', 'slug': 'bitcoin', 'tradingSymbol': 'BTC'}, {'_id': '5e3844aa16c3760019f74ee0', 'name': 'Digital Gold', 'slug': 'digital-gold', 'tradingSymbol': 'GOLD'}, {'_id': '5a1aafdbda3d21115462ee14', 'name': 'Change', 'slug': 'change', 'tradingSymbol': 'CAG'}]\""
      ]
     },
     "execution_count": 11,
     "metadata": {},
     "output_type": "execute_result"
    }
   ],
   "source": [
    "top_bitcoin_news.coins[0]"
   ]
  },
  {
   "cell_type": "code",
   "execution_count": null,
   "metadata": {},
   "outputs": [],
   "source": []
  }
 ],
 "metadata": {
  "kernelspec": {
   "display_name": "Python 3",
   "language": "python",
   "name": "python3"
  },
  "language_info": {
   "codemirror_mode": {
    "name": "ipython",
    "version": 3
   },
   "file_extension": ".py",
   "mimetype": "text/x-python",
   "name": "python",
   "nbconvert_exporter": "python",
   "pygments_lexer": "ipython3",
   "version": "3.7.7"
  },
  "toc": {
   "base_numbering": 1,
   "nav_menu": {},
   "number_sections": true,
   "sideBar": true,
   "skip_h1_title": false,
   "title_cell": "Table of Contents",
   "title_sidebar": "Contents",
   "toc_cell": false,
   "toc_position": {},
   "toc_section_display": true,
   "toc_window_display": false
  }
 },
 "nbformat": 4,
 "nbformat_minor": 4
}
