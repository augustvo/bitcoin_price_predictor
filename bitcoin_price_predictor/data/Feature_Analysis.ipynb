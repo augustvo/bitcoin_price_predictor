{
 "cells": [
  {
   "cell_type": "code",
   "execution_count": 1,
   "metadata": {
    "ExecuteTime": {
     "end_time": "2020-11-20T15:04:31.221769Z",
     "start_time": "2020-11-20T15:04:29.684940Z"
    }
   },
   "outputs": [],
   "source": [
    "import pandas as pd\n",
    "import numpy as np\n",
    "import seaborn as sns"
   ]
  },
  {
   "cell_type": "markdown",
   "metadata": {
    "heading_collapsed": true
   },
   "source": [
    "# BTC-USD vs News Search"
   ]
  },
  {
   "cell_type": "code",
   "execution_count": null,
   "metadata": {
    "ExecuteTime": {
     "end_time": "2020-11-19T14:24:13.697089Z",
     "start_time": "2020-11-19T14:24:13.674035Z"
    },
    "hidden": true
   },
   "outputs": [],
   "source": [
    "btcNewsSearch = pd.read_csv('bitcoin_NewsSearch.csv')\n",
    "btcPrice = pd.read_csv('price_data/BTC-USD.csv')"
   ]
  },
  {
   "cell_type": "code",
   "execution_count": null,
   "metadata": {
    "ExecuteTime": {
     "end_time": "2020-11-19T14:24:15.351496Z",
     "start_time": "2020-11-19T14:24:15.340389Z"
    },
    "hidden": true
   },
   "outputs": [],
   "source": [
    "btcNewsSearch.columns=['Date', 'btc_news_search_trend']\n",
    "btcNewsSearch.head()"
   ]
  },
  {
   "cell_type": "code",
   "execution_count": null,
   "metadata": {
    "ExecuteTime": {
     "end_time": "2020-11-19T14:24:18.017248Z",
     "start_time": "2020-11-19T14:24:18.010532Z"
    },
    "hidden": true
   },
   "outputs": [],
   "source": [
    "btcNewsSearch.shape"
   ]
  },
  {
   "cell_type": "code",
   "execution_count": null,
   "metadata": {
    "ExecuteTime": {
     "end_time": "2020-11-19T14:24:19.193132Z",
     "start_time": "2020-11-19T14:24:19.186305Z"
    },
    "hidden": true
   },
   "outputs": [],
   "source": [
    "print(btcNewsSearch.Date.max(), btcNewsSearch.Date.min())"
   ]
  },
  {
   "cell_type": "code",
   "execution_count": null,
   "metadata": {
    "ExecuteTime": {
     "end_time": "2020-11-19T14:24:20.430651Z",
     "start_time": "2020-11-19T14:24:20.414030Z"
    },
    "hidden": true
   },
   "outputs": [],
   "source": [
    "btcPrice.head()"
   ]
  },
  {
   "cell_type": "code",
   "execution_count": null,
   "metadata": {
    "ExecuteTime": {
     "end_time": "2020-11-19T14:24:21.719986Z",
     "start_time": "2020-11-19T14:24:21.713441Z"
    },
    "hidden": true
   },
   "outputs": [],
   "source": [
    "btcPrice.shape"
   ]
  },
  {
   "cell_type": "code",
   "execution_count": null,
   "metadata": {
    "ExecuteTime": {
     "end_time": "2020-11-19T14:24:36.045678Z",
     "start_time": "2020-11-19T14:24:36.034418Z"
    },
    "hidden": true
   },
   "outputs": [],
   "source": [
    "analysis_df = btcPrice.merge(btcNewsSearch, on='Date')"
   ]
  },
  {
   "cell_type": "code",
   "execution_count": null,
   "metadata": {
    "ExecuteTime": {
     "end_time": "2020-11-19T14:24:36.983114Z",
     "start_time": "2020-11-19T14:24:36.964831Z"
    },
    "hidden": true
   },
   "outputs": [],
   "source": [
    "analysis_df.head()"
   ]
  },
  {
   "cell_type": "code",
   "execution_count": null,
   "metadata": {
    "ExecuteTime": {
     "end_time": "2020-11-19T14:24:38.666927Z",
     "start_time": "2020-11-19T14:24:38.661027Z"
    },
    "hidden": true
   },
   "outputs": [],
   "source": [
    "analysis_df.shape"
   ]
  },
  {
   "cell_type": "code",
   "execution_count": null,
   "metadata": {
    "ExecuteTime": {
     "end_time": "2020-11-19T14:24:41.389202Z",
     "start_time": "2020-11-19T14:24:41.379831Z"
    },
    "hidden": true
   },
   "outputs": [],
   "source": [
    "print(btcNewsSearch.Date.max(), btcNewsSearch.Date.min())\n",
    "print(btcPrice.Date.max(), btcPrice.Date.min())\n",
    "print(analysis_df.Date.max(), analysis_df.Date.min())"
   ]
  },
  {
   "cell_type": "code",
   "execution_count": null,
   "metadata": {
    "ExecuteTime": {
     "end_time": "2020-11-19T14:24:46.304291Z",
     "start_time": "2020-11-19T14:24:46.297440Z"
    },
    "hidden": true
   },
   "outputs": [],
   "source": [
    "analysis_df = analysis_df.set_index('Date')"
   ]
  },
  {
   "cell_type": "code",
   "execution_count": null,
   "metadata": {
    "ExecuteTime": {
     "end_time": "2020-11-19T14:24:47.346412Z",
     "start_time": "2020-11-19T14:24:47.329494Z"
    },
    "hidden": true
   },
   "outputs": [],
   "source": [
    "analysis_df.head()"
   ]
  },
  {
   "cell_type": "code",
   "execution_count": null,
   "metadata": {
    "ExecuteTime": {
     "end_time": "2020-11-19T14:25:11.057367Z",
     "start_time": "2020-11-19T14:25:04.922623Z"
    },
    "hidden": true
   },
   "outputs": [],
   "source": [
    "sns.pairplot(analysis_df)"
   ]
  },
  {
   "cell_type": "code",
   "execution_count": null,
   "metadata": {
    "hidden": true
   },
   "outputs": [],
   "source": [
    "from sklearn.metrics import confusion_matrix"
   ]
  },
  {
   "cell_type": "markdown",
   "metadata": {},
   "source": [
    "# BIG Dataset (BTC vs USD vs Gold vs OIL vs Tweest Setiment)"
   ]
  },
  {
   "cell_type": "code",
   "execution_count": 27,
   "metadata": {
    "ExecuteTime": {
     "end_time": "2020-11-20T15:18:26.259869Z",
     "start_time": "2020-11-20T15:18:26.061939Z"
    }
   },
   "outputs": [],
   "source": [
    "btc_usd_df = pd.read_csv('price_data/features_data_v2.csv').drop(columns=['Unnamed: 0'])\n",
    "gold_df = pd.read_csv('price_data/cleanoil.csv').drop(columns=['Unnamed: 0'])\n",
    "oil_df = pd.read_csv('price_data/cleangold.csv').drop(columns=['Unnamed: 0'])\n",
    "tweets_sentiment = pd.read_csv('news_data/2019_btc_tweets_sentiment.csv').drop(columns=['Unnamed: 0'])\n",
    "#btcNewsSearch = pd.read_csv('bitcoin_NewsSearch.csv')"
   ]
  },
  {
   "cell_type": "code",
   "execution_count": 28,
   "metadata": {
    "ExecuteTime": {
     "end_time": "2020-11-20T15:18:29.406481Z",
     "start_time": "2020-11-20T15:18:29.398733Z"
    }
   },
   "outputs": [
    {
     "data": {
      "text/plain": [
       "Index(['btc_Open', 'btc_High', 'btc_Low', 'btc_Close', 'btc_Adj Close',\n",
       "       'btc_Volume', 'usd_Open', 'usd_High', 'usd_Low', 'usd_Close',\n",
       "       'usd_Adj Close', 'usd_Volume', 'beginning_of_month', 'btc_trend',\n",
       "       'Date'],\n",
       "      dtype='object')"
      ]
     },
     "execution_count": 28,
     "metadata": {},
     "output_type": "execute_result"
    }
   ],
   "source": [
    "btc_usd_df.columns"
   ]
  },
  {
   "cell_type": "code",
   "execution_count": 29,
   "metadata": {
    "ExecuteTime": {
     "end_time": "2020-11-20T15:18:33.754566Z",
     "start_time": "2020-11-20T15:18:33.728723Z"
    }
   },
   "outputs": [
    {
     "data": {
      "text/html": [
       "<div>\n",
       "<style scoped>\n",
       "    .dataframe tbody tr th:only-of-type {\n",
       "        vertical-align: middle;\n",
       "    }\n",
       "\n",
       "    .dataframe tbody tr th {\n",
       "        vertical-align: top;\n",
       "    }\n",
       "\n",
       "    .dataframe thead th {\n",
       "        text-align: right;\n",
       "    }\n",
       "</style>\n",
       "<table border=\"1\" class=\"dataframe\">\n",
       "  <thead>\n",
       "    <tr style=\"text-align: right;\">\n",
       "      <th></th>\n",
       "      <th>btc_Open</th>\n",
       "      <th>btc_High</th>\n",
       "      <th>btc_Low</th>\n",
       "      <th>btc_Close</th>\n",
       "      <th>btc_Adj Close</th>\n",
       "      <th>btc_Volume</th>\n",
       "      <th>usd_Open</th>\n",
       "      <th>usd_High</th>\n",
       "      <th>usd_Low</th>\n",
       "      <th>usd_Close</th>\n",
       "      <th>usd_Adj Close</th>\n",
       "      <th>usd_Volume</th>\n",
       "      <th>beginning_of_month</th>\n",
       "      <th>btc_trend</th>\n",
       "      <th>Date</th>\n",
       "    </tr>\n",
       "  </thead>\n",
       "  <tbody>\n",
       "    <tr>\n",
       "      <th>0</th>\n",
       "      <td>387.427002</td>\n",
       "      <td>391.378998</td>\n",
       "      <td>380.779999</td>\n",
       "      <td>383.614990</td>\n",
       "      <td>383.614990</td>\n",
       "      <td>26229400</td>\n",
       "      <td>85.910004</td>\n",
       "      <td>86.180000</td>\n",
       "      <td>85.779999</td>\n",
       "      <td>85.970001</td>\n",
       "      <td>85.970001</td>\n",
       "      <td>0.0</td>\n",
       "      <td>2014-10-01</td>\n",
       "      <td>3</td>\n",
       "      <td>2014-10-01</td>\n",
       "    </tr>\n",
       "    <tr>\n",
       "      <th>1</th>\n",
       "      <td>383.988007</td>\n",
       "      <td>385.497009</td>\n",
       "      <td>372.946014</td>\n",
       "      <td>375.071991</td>\n",
       "      <td>375.071991</td>\n",
       "      <td>21777700</td>\n",
       "      <td>85.860001</td>\n",
       "      <td>85.900002</td>\n",
       "      <td>85.449997</td>\n",
       "      <td>85.599998</td>\n",
       "      <td>85.599998</td>\n",
       "      <td>0.0</td>\n",
       "      <td>2014-10-01</td>\n",
       "      <td>3</td>\n",
       "      <td>2014-10-02</td>\n",
       "    </tr>\n",
       "    <tr>\n",
       "      <th>2</th>\n",
       "      <td>375.181000</td>\n",
       "      <td>377.695007</td>\n",
       "      <td>357.859009</td>\n",
       "      <td>359.511993</td>\n",
       "      <td>359.511993</td>\n",
       "      <td>30901200</td>\n",
       "      <td>85.629997</td>\n",
       "      <td>86.750000</td>\n",
       "      <td>85.629997</td>\n",
       "      <td>86.690002</td>\n",
       "      <td>86.690002</td>\n",
       "      <td>0.0</td>\n",
       "      <td>2014-10-01</td>\n",
       "      <td>3</td>\n",
       "      <td>2014-10-03</td>\n",
       "    </tr>\n",
       "    <tr>\n",
       "      <th>3</th>\n",
       "      <td>328.915985</td>\n",
       "      <td>341.800995</td>\n",
       "      <td>289.295990</td>\n",
       "      <td>320.510010</td>\n",
       "      <td>320.510010</td>\n",
       "      <td>83308096</td>\n",
       "      <td>85.629997</td>\n",
       "      <td>86.750000</td>\n",
       "      <td>85.629997</td>\n",
       "      <td>86.690002</td>\n",
       "      <td>86.690002</td>\n",
       "      <td>0.0</td>\n",
       "      <td>2014-10-01</td>\n",
       "      <td>3</td>\n",
       "      <td>2014-10-05</td>\n",
       "    </tr>\n",
       "    <tr>\n",
       "      <th>4</th>\n",
       "      <td>320.389008</td>\n",
       "      <td>345.134003</td>\n",
       "      <td>302.559998</td>\n",
       "      <td>330.079010</td>\n",
       "      <td>330.079010</td>\n",
       "      <td>79011800</td>\n",
       "      <td>86.639999</td>\n",
       "      <td>86.680000</td>\n",
       "      <td>85.639999</td>\n",
       "      <td>85.709999</td>\n",
       "      <td>85.709999</td>\n",
       "      <td>0.0</td>\n",
       "      <td>2014-10-01</td>\n",
       "      <td>3</td>\n",
       "      <td>2014-10-06</td>\n",
       "    </tr>\n",
       "  </tbody>\n",
       "</table>\n",
       "</div>"
      ],
      "text/plain": [
       "     btc_Open    btc_High     btc_Low   btc_Close  btc_Adj Close  btc_Volume  \\\n",
       "0  387.427002  391.378998  380.779999  383.614990     383.614990    26229400   \n",
       "1  383.988007  385.497009  372.946014  375.071991     375.071991    21777700   \n",
       "2  375.181000  377.695007  357.859009  359.511993     359.511993    30901200   \n",
       "3  328.915985  341.800995  289.295990  320.510010     320.510010    83308096   \n",
       "4  320.389008  345.134003  302.559998  330.079010     330.079010    79011800   \n",
       "\n",
       "    usd_Open   usd_High    usd_Low  usd_Close  usd_Adj Close  usd_Volume  \\\n",
       "0  85.910004  86.180000  85.779999  85.970001      85.970001         0.0   \n",
       "1  85.860001  85.900002  85.449997  85.599998      85.599998         0.0   \n",
       "2  85.629997  86.750000  85.629997  86.690002      86.690002         0.0   \n",
       "3  85.629997  86.750000  85.629997  86.690002      86.690002         0.0   \n",
       "4  86.639999  86.680000  85.639999  85.709999      85.709999         0.0   \n",
       "\n",
       "  beginning_of_month  btc_trend        Date  \n",
       "0         2014-10-01          3  2014-10-01  \n",
       "1         2014-10-01          3  2014-10-02  \n",
       "2         2014-10-01          3  2014-10-03  \n",
       "3         2014-10-01          3  2014-10-05  \n",
       "4         2014-10-01          3  2014-10-06  "
      ]
     },
     "execution_count": 29,
     "metadata": {},
     "output_type": "execute_result"
    }
   ],
   "source": [
    "btc_usd_df.head()"
   ]
  },
  {
   "cell_type": "code",
   "execution_count": 30,
   "metadata": {
    "ExecuteTime": {
     "end_time": "2020-11-20T15:18:42.555018Z",
     "start_time": "2020-11-20T15:18:42.547199Z"
    }
   },
   "outputs": [
    {
     "name": "stdout",
     "output_type": "stream",
     "text": [
      "2014-10-01 2020-11-17\n"
     ]
    }
   ],
   "source": [
    "print(btc_usd_df.Date.min(), btc_usd_df.Date.max())"
   ]
  },
  {
   "cell_type": "code",
   "execution_count": 31,
   "metadata": {
    "ExecuteTime": {
     "end_time": "2020-11-20T15:18:46.497453Z",
     "start_time": "2020-11-20T15:18:46.479851Z"
    }
   },
   "outputs": [
    {
     "data": {
      "text/html": [
       "<div>\n",
       "<style scoped>\n",
       "    .dataframe tbody tr th:only-of-type {\n",
       "        vertical-align: middle;\n",
       "    }\n",
       "\n",
       "    .dataframe tbody tr th {\n",
       "        vertical-align: top;\n",
       "    }\n",
       "\n",
       "    .dataframe thead th {\n",
       "        text-align: right;\n",
       "    }\n",
       "</style>\n",
       "<table border=\"1\" class=\"dataframe\">\n",
       "  <thead>\n",
       "    <tr style=\"text-align: right;\">\n",
       "      <th></th>\n",
       "      <th>Date</th>\n",
       "      <th>Open</th>\n",
       "      <th>High</th>\n",
       "      <th>Low</th>\n",
       "      <th>Close</th>\n",
       "      <th>Adj Close</th>\n",
       "      <th>Volume</th>\n",
       "    </tr>\n",
       "  </thead>\n",
       "  <tbody>\n",
       "    <tr>\n",
       "      <th>0</th>\n",
       "      <td>2014-12-02</td>\n",
       "      <td>69.239998</td>\n",
       "      <td>69.320000</td>\n",
       "      <td>66.669998</td>\n",
       "      <td>66.879997</td>\n",
       "      <td>66.879997</td>\n",
       "      <td>360300.0</td>\n",
       "    </tr>\n",
       "    <tr>\n",
       "      <th>1</th>\n",
       "      <td>2014-12-03</td>\n",
       "      <td>67.599998</td>\n",
       "      <td>68.230003</td>\n",
       "      <td>66.800003</td>\n",
       "      <td>67.379997</td>\n",
       "      <td>67.379997</td>\n",
       "      <td>293483.0</td>\n",
       "    </tr>\n",
       "    <tr>\n",
       "      <th>2</th>\n",
       "      <td>2014-12-04</td>\n",
       "      <td>67.400002</td>\n",
       "      <td>68.220001</td>\n",
       "      <td>66.089996</td>\n",
       "      <td>66.809998</td>\n",
       "      <td>66.809998</td>\n",
       "      <td>237011.0</td>\n",
       "    </tr>\n",
       "    <tr>\n",
       "      <th>3</th>\n",
       "      <td>2014-12-05</td>\n",
       "      <td>66.800003</td>\n",
       "      <td>66.889999</td>\n",
       "      <td>65.169998</td>\n",
       "      <td>65.839996</td>\n",
       "      <td>65.839996</td>\n",
       "      <td>276529.0</td>\n",
       "    </tr>\n",
       "    <tr>\n",
       "      <th>4</th>\n",
       "      <td>2014-12-06</td>\n",
       "      <td>66.800003</td>\n",
       "      <td>66.889999</td>\n",
       "      <td>65.169998</td>\n",
       "      <td>65.839996</td>\n",
       "      <td>65.839996</td>\n",
       "      <td>276529.0</td>\n",
       "    </tr>\n",
       "  </tbody>\n",
       "</table>\n",
       "</div>"
      ],
      "text/plain": [
       "         Date       Open       High        Low      Close  Adj Close    Volume\n",
       "0  2014-12-02  69.239998  69.320000  66.669998  66.879997  66.879997  360300.0\n",
       "1  2014-12-03  67.599998  68.230003  66.800003  67.379997  67.379997  293483.0\n",
       "2  2014-12-04  67.400002  68.220001  66.089996  66.809998  66.809998  237011.0\n",
       "3  2014-12-05  66.800003  66.889999  65.169998  65.839996  65.839996  276529.0\n",
       "4  2014-12-06  66.800003  66.889999  65.169998  65.839996  65.839996  276529.0"
      ]
     },
     "execution_count": 31,
     "metadata": {},
     "output_type": "execute_result"
    }
   ],
   "source": [
    "gold_df.head()"
   ]
  },
  {
   "cell_type": "code",
   "execution_count": 32,
   "metadata": {
    "ExecuteTime": {
     "end_time": "2020-11-20T15:18:58.491803Z",
     "start_time": "2020-11-20T15:18:58.483922Z"
    }
   },
   "outputs": [
    {
     "name": "stdout",
     "output_type": "stream",
     "text": [
      "2014-12-02 2020-05-13\n"
     ]
    }
   ],
   "source": [
    "gold_df.columns = gold_df.columns.map(lambda x: str(x)+ '_gold')\n",
    "print(gold_df.Date_gold.min(), gold_df.Date_gold.max())"
   ]
  },
  {
   "cell_type": "code",
   "execution_count": 33,
   "metadata": {
    "ExecuteTime": {
     "end_time": "2020-11-20T15:19:01.649957Z",
     "start_time": "2020-11-20T15:19:01.643089Z"
    }
   },
   "outputs": [
    {
     "data": {
      "text/plain": [
       "Index(['Date_gold', 'Open_gold', 'High_gold', 'Low_gold', 'Close_gold',\n",
       "       'Adj Close_gold', 'Volume_gold'],\n",
       "      dtype='object')"
      ]
     },
     "execution_count": 33,
     "metadata": {},
     "output_type": "execute_result"
    }
   ],
   "source": [
    "gold_df.columns"
   ]
  },
  {
   "cell_type": "code",
   "execution_count": 34,
   "metadata": {
    "ExecuteTime": {
     "end_time": "2020-11-20T15:19:04.641596Z",
     "start_time": "2020-11-20T15:19:04.626058Z"
    }
   },
   "outputs": [
    {
     "data": {
      "text/html": [
       "<div>\n",
       "<style scoped>\n",
       "    .dataframe tbody tr th:only-of-type {\n",
       "        vertical-align: middle;\n",
       "    }\n",
       "\n",
       "    .dataframe tbody tr th {\n",
       "        vertical-align: top;\n",
       "    }\n",
       "\n",
       "    .dataframe thead th {\n",
       "        text-align: right;\n",
       "    }\n",
       "</style>\n",
       "<table border=\"1\" class=\"dataframe\">\n",
       "  <thead>\n",
       "    <tr style=\"text-align: right;\">\n",
       "      <th></th>\n",
       "      <th>Date</th>\n",
       "      <th>Price</th>\n",
       "      <th>Open</th>\n",
       "      <th>High</th>\n",
       "      <th>Low</th>\n",
       "      <th>Chg%</th>\n",
       "    </tr>\n",
       "  </thead>\n",
       "  <tbody>\n",
       "    <tr>\n",
       "      <th>0</th>\n",
       "      <td>2014-09-19</td>\n",
       "      <td>1373.1</td>\n",
       "      <td>1218.3</td>\n",
       "      <td>1218.3</td>\n",
       "      <td>1218.3</td>\n",
       "      <td>-0.0074</td>\n",
       "    </tr>\n",
       "    <tr>\n",
       "      <th>1</th>\n",
       "      <td>2014-09-20</td>\n",
       "      <td>1373.1</td>\n",
       "      <td>1218.3</td>\n",
       "      <td>1218.3</td>\n",
       "      <td>1218.3</td>\n",
       "      <td>-0.0074</td>\n",
       "    </tr>\n",
       "    <tr>\n",
       "      <th>2</th>\n",
       "      <td>2014-09-21</td>\n",
       "      <td>1373.1</td>\n",
       "      <td>1218.3</td>\n",
       "      <td>1218.3</td>\n",
       "      <td>1218.3</td>\n",
       "      <td>-0.0074</td>\n",
       "    </tr>\n",
       "    <tr>\n",
       "      <th>3</th>\n",
       "      <td>2014-09-22</td>\n",
       "      <td>1374.2</td>\n",
       "      <td>1214.9</td>\n",
       "      <td>1214.9</td>\n",
       "      <td>1212.4</td>\n",
       "      <td>0.0008</td>\n",
       "    </tr>\n",
       "    <tr>\n",
       "      <th>4</th>\n",
       "      <td>2014-09-23</td>\n",
       "      <td>1377.2</td>\n",
       "      <td>1221.0</td>\n",
       "      <td>1221.0</td>\n",
       "      <td>1221.0</td>\n",
       "      <td>0.0022</td>\n",
       "    </tr>\n",
       "  </tbody>\n",
       "</table>\n",
       "</div>"
      ],
      "text/plain": [
       "         Date   Price    Open    High     Low    Chg%\n",
       "0  2014-09-19  1373.1  1218.3  1218.3  1218.3 -0.0074\n",
       "1  2014-09-20  1373.1  1218.3  1218.3  1218.3 -0.0074\n",
       "2  2014-09-21  1373.1  1218.3  1218.3  1218.3 -0.0074\n",
       "3  2014-09-22  1374.2  1214.9  1214.9  1212.4  0.0008\n",
       "4  2014-09-23  1377.2  1221.0  1221.0  1221.0  0.0022"
      ]
     },
     "execution_count": 34,
     "metadata": {},
     "output_type": "execute_result"
    }
   ],
   "source": [
    "oil_df.head()"
   ]
  },
  {
   "cell_type": "code",
   "execution_count": 35,
   "metadata": {
    "ExecuteTime": {
     "end_time": "2020-11-20T15:19:09.972744Z",
     "start_time": "2020-11-20T15:19:09.964355Z"
    }
   },
   "outputs": [
    {
     "name": "stdout",
     "output_type": "stream",
     "text": [
      "2014-09-19 2020-09-10\n"
     ]
    }
   ],
   "source": [
    "oil_df.columns = oil_df.columns.map(lambda x: str(x)+ '_oil')\n",
    "print(oil_df.Date_oil.min(), oil_df.Date_oil.max())"
   ]
  },
  {
   "cell_type": "code",
   "execution_count": 36,
   "metadata": {
    "ExecuteTime": {
     "end_time": "2020-11-20T15:19:25.222397Z",
     "start_time": "2020-11-20T15:19:25.215445Z"
    }
   },
   "outputs": [
    {
     "data": {
      "text/plain": [
       "Index(['Date_oil', 'Price_oil', 'Open_oil', 'High_oil', 'Low_oil', 'Chg%_oil'], dtype='object')"
      ]
     },
     "execution_count": 36,
     "metadata": {},
     "output_type": "execute_result"
    }
   ],
   "source": [
    "oil_df.columns"
   ]
  },
  {
   "cell_type": "code",
   "execution_count": 37,
   "metadata": {
    "ExecuteTime": {
     "end_time": "2020-11-20T15:19:44.667341Z",
     "start_time": "2020-11-20T15:19:44.650519Z"
    }
   },
   "outputs": [
    {
     "data": {
      "text/html": [
       "<div>\n",
       "<style scoped>\n",
       "    .dataframe tbody tr th:only-of-type {\n",
       "        vertical-align: middle;\n",
       "    }\n",
       "\n",
       "    .dataframe tbody tr th {\n",
       "        vertical-align: top;\n",
       "    }\n",
       "\n",
       "    .dataframe thead th {\n",
       "        text-align: right;\n",
       "    }\n",
       "</style>\n",
       "<table border=\"1\" class=\"dataframe\">\n",
       "  <thead>\n",
       "    <tr style=\"text-align: right;\">\n",
       "      <th></th>\n",
       "      <th>replies</th>\n",
       "      <th>likes</th>\n",
       "      <th>retweets</th>\n",
       "      <th>text</th>\n",
       "      <th>Date</th>\n",
       "      <th>lang</th>\n",
       "      <th>sentiment</th>\n",
       "    </tr>\n",
       "  </thead>\n",
       "  <tbody>\n",
       "    <tr>\n",
       "      <th>0</th>\n",
       "      <td>1</td>\n",
       "      <td>50</td>\n",
       "      <td>195</td>\n",
       "      <td>followrt vipstarcoin vips vips bitcoin xrp fau...</td>\n",
       "      <td>2019-01-01</td>\n",
       "      <td>en</td>\n",
       "      <td>0.0</td>\n",
       "    </tr>\n",
       "    <tr>\n",
       "      <th>1</th>\n",
       "      <td>0</td>\n",
       "      <td>0</td>\n",
       "      <td>0</td>\n",
       "      <td>top cryptocurrencies alert time bitcoin xrp et...</td>\n",
       "      <td>2019-01-01</td>\n",
       "      <td>en</td>\n",
       "      <td>0.5</td>\n",
       "    </tr>\n",
       "    <tr>\n",
       "      <th>2</th>\n",
       "      <td>0</td>\n",
       "      <td>4</td>\n",
       "      <td>0</td>\n",
       "      <td>send btc</td>\n",
       "      <td>2019-01-01</td>\n",
       "      <td>en</td>\n",
       "      <td>0.0</td>\n",
       "    </tr>\n",
       "    <tr>\n",
       "      <th>3</th>\n",
       "      <td>9</td>\n",
       "      <td>56</td>\n",
       "      <td>36</td>\n",
       "      <td>bcpeth trading pair available etherflyer utc b...</td>\n",
       "      <td>2019-01-02</td>\n",
       "      <td>en</td>\n",
       "      <td>0.4</td>\n",
       "    </tr>\n",
       "    <tr>\n",
       "      <th>4</th>\n",
       "      <td>0</td>\n",
       "      <td>0</td>\n",
       "      <td>0</td>\n",
       "      <td>top cryptocurrencies alert time bitcoin ethere...</td>\n",
       "      <td>2019-01-02</td>\n",
       "      <td>en</td>\n",
       "      <td>0.5</td>\n",
       "    </tr>\n",
       "  </tbody>\n",
       "</table>\n",
       "</div>"
      ],
      "text/plain": [
       "   replies  likes  retweets  \\\n",
       "0        1     50       195   \n",
       "1        0      0         0   \n",
       "2        0      4         0   \n",
       "3        9     56        36   \n",
       "4        0      0         0   \n",
       "\n",
       "                                                text        Date lang  \\\n",
       "0  followrt vipstarcoin vips vips bitcoin xrp fau...  2019-01-01   en   \n",
       "1  top cryptocurrencies alert time bitcoin xrp et...  2019-01-01   en   \n",
       "2                                           send btc  2019-01-01   en   \n",
       "3  bcpeth trading pair available etherflyer utc b...  2019-01-02   en   \n",
       "4  top cryptocurrencies alert time bitcoin ethere...  2019-01-02   en   \n",
       "\n",
       "   sentiment  \n",
       "0        0.0  \n",
       "1        0.5  \n",
       "2        0.0  \n",
       "3        0.4  \n",
       "4        0.5  "
      ]
     },
     "execution_count": 37,
     "metadata": {},
     "output_type": "execute_result"
    }
   ],
   "source": [
    "tweets_sentiment.head()"
   ]
  },
  {
   "cell_type": "code",
   "execution_count": 38,
   "metadata": {
    "ExecuteTime": {
     "end_time": "2020-11-20T15:19:49.699341Z",
     "start_time": "2020-11-20T15:19:49.676804Z"
    }
   },
   "outputs": [],
   "source": [
    "tweets_sentiment = tweets_sentiment.groupby(by=['Date']).mean()"
   ]
  },
  {
   "cell_type": "code",
   "execution_count": 39,
   "metadata": {
    "ExecuteTime": {
     "end_time": "2020-11-20T15:19:51.669281Z",
     "start_time": "2020-11-20T15:19:51.654711Z"
    }
   },
   "outputs": [
    {
     "data": {
      "text/html": [
       "<div>\n",
       "<style scoped>\n",
       "    .dataframe tbody tr th:only-of-type {\n",
       "        vertical-align: middle;\n",
       "    }\n",
       "\n",
       "    .dataframe tbody tr th {\n",
       "        vertical-align: top;\n",
       "    }\n",
       "\n",
       "    .dataframe thead th {\n",
       "        text-align: right;\n",
       "    }\n",
       "</style>\n",
       "<table border=\"1\" class=\"dataframe\">\n",
       "  <thead>\n",
       "    <tr style=\"text-align: right;\">\n",
       "      <th></th>\n",
       "      <th>replies</th>\n",
       "      <th>likes</th>\n",
       "      <th>retweets</th>\n",
       "      <th>sentiment</th>\n",
       "    </tr>\n",
       "    <tr>\n",
       "      <th>Date</th>\n",
       "      <th></th>\n",
       "      <th></th>\n",
       "      <th></th>\n",
       "      <th></th>\n",
       "    </tr>\n",
       "  </thead>\n",
       "  <tbody>\n",
       "    <tr>\n",
       "      <th>2019-01-01</th>\n",
       "      <td>0.333333</td>\n",
       "      <td>18.0</td>\n",
       "      <td>65.000000</td>\n",
       "      <td>0.166667</td>\n",
       "    </tr>\n",
       "    <tr>\n",
       "      <th>2019-01-02</th>\n",
       "      <td>4.500000</td>\n",
       "      <td>28.0</td>\n",
       "      <td>18.000000</td>\n",
       "      <td>0.450000</td>\n",
       "    </tr>\n",
       "    <tr>\n",
       "      <th>2019-01-04</th>\n",
       "      <td>1.500000</td>\n",
       "      <td>38.5</td>\n",
       "      <td>44.000000</td>\n",
       "      <td>0.450000</td>\n",
       "    </tr>\n",
       "    <tr>\n",
       "      <th>2019-01-05</th>\n",
       "      <td>0.333333</td>\n",
       "      <td>15.0</td>\n",
       "      <td>5.333333</td>\n",
       "      <td>0.344444</td>\n",
       "    </tr>\n",
       "    <tr>\n",
       "      <th>2019-01-08</th>\n",
       "      <td>18.333333</td>\n",
       "      <td>13.0</td>\n",
       "      <td>28.000000</td>\n",
       "      <td>0.250000</td>\n",
       "    </tr>\n",
       "  </tbody>\n",
       "</table>\n",
       "</div>"
      ],
      "text/plain": [
       "              replies  likes   retweets  sentiment\n",
       "Date                                              \n",
       "2019-01-01   0.333333   18.0  65.000000   0.166667\n",
       "2019-01-02   4.500000   28.0  18.000000   0.450000\n",
       "2019-01-04   1.500000   38.5  44.000000   0.450000\n",
       "2019-01-05   0.333333   15.0   5.333333   0.344444\n",
       "2019-01-08  18.333333   13.0  28.000000   0.250000"
      ]
     },
     "execution_count": 39,
     "metadata": {},
     "output_type": "execute_result"
    }
   ],
   "source": [
    "tweets_sentiment.head()"
   ]
  },
  {
   "cell_type": "code",
   "execution_count": null,
   "metadata": {},
   "outputs": [],
   "source": [
    "tweets_sentiment.columns = tweets_sentiment.columns.map(lambda x: str(x)+ '_tweet')"
   ]
  },
  {
   "cell_type": "code",
   "execution_count": 43,
   "metadata": {
    "ExecuteTime": {
     "end_time": "2020-11-20T15:21:56.498481Z",
     "start_time": "2020-11-20T15:21:56.486458Z"
    }
   },
   "outputs": [],
   "source": [
    "all_features = pd.merge(btc_usd_df,gold_df, left_on='Date',right_on = 'Date_gold')\n",
    "#.merge(oil_df, on='Date', suffixes=(False,''))"
   ]
  },
  {
   "cell_type": "code",
   "execution_count": 44,
   "metadata": {
    "ExecuteTime": {
     "end_time": "2020-11-20T15:22:02.456988Z",
     "start_time": "2020-11-20T15:22:02.449029Z"
    }
   },
   "outputs": [
    {
     "data": {
      "text/plain": [
       "Index(['btc_Open', 'btc_High', 'btc_Low', 'btc_Close', 'btc_Adj Close',\n",
       "       'btc_Volume', 'usd_Open', 'usd_High', 'usd_Low', 'usd_Close',\n",
       "       'usd_Adj Close', 'usd_Volume', 'beginning_of_month', 'btc_trend',\n",
       "       'Date', 'Date_gold', 'Open_gold', 'High_gold', 'Low_gold', 'Close_gold',\n",
       "       'Adj Close_gold', 'Volume_gold'],\n",
       "      dtype='object')"
      ]
     },
     "execution_count": 44,
     "metadata": {},
     "output_type": "execute_result"
    }
   ],
   "source": [
    "all_features.columns"
   ]
  },
  {
   "cell_type": "code",
   "execution_count": 45,
   "metadata": {
    "ExecuteTime": {
     "end_time": "2020-11-20T15:22:25.923944Z",
     "start_time": "2020-11-20T15:22:25.884903Z"
    }
   },
   "outputs": [
    {
     "data": {
      "text/html": [
       "<div>\n",
       "<style scoped>\n",
       "    .dataframe tbody tr th:only-of-type {\n",
       "        vertical-align: middle;\n",
       "    }\n",
       "\n",
       "    .dataframe tbody tr th {\n",
       "        vertical-align: top;\n",
       "    }\n",
       "\n",
       "    .dataframe thead th {\n",
       "        text-align: right;\n",
       "    }\n",
       "</style>\n",
       "<table border=\"1\" class=\"dataframe\">\n",
       "  <thead>\n",
       "    <tr style=\"text-align: right;\">\n",
       "      <th></th>\n",
       "      <th>btc_Open</th>\n",
       "      <th>btc_High</th>\n",
       "      <th>btc_Low</th>\n",
       "      <th>btc_Close</th>\n",
       "      <th>btc_Adj Close</th>\n",
       "      <th>btc_Volume</th>\n",
       "      <th>usd_Open</th>\n",
       "      <th>usd_High</th>\n",
       "      <th>usd_Low</th>\n",
       "      <th>usd_Close</th>\n",
       "      <th>...</th>\n",
       "      <th>beginning_of_month</th>\n",
       "      <th>btc_trend</th>\n",
       "      <th>Date</th>\n",
       "      <th>Date_gold</th>\n",
       "      <th>Open_gold</th>\n",
       "      <th>High_gold</th>\n",
       "      <th>Low_gold</th>\n",
       "      <th>Close_gold</th>\n",
       "      <th>Adj Close_gold</th>\n",
       "      <th>Volume_gold</th>\n",
       "    </tr>\n",
       "  </thead>\n",
       "  <tbody>\n",
       "    <tr>\n",
       "      <th>0</th>\n",
       "      <td>379.250000</td>\n",
       "      <td>384.037994</td>\n",
       "      <td>377.863007</td>\n",
       "      <td>381.315002</td>\n",
       "      <td>381.315002</td>\n",
       "      <td>12364100</td>\n",
       "      <td>87.980003</td>\n",
       "      <td>88.669998</td>\n",
       "      <td>87.949997</td>\n",
       "      <td>88.650002</td>\n",
       "      <td>...</td>\n",
       "      <td>2014-12-01</td>\n",
       "      <td>3</td>\n",
       "      <td>2014-12-02</td>\n",
       "      <td>2014-12-02</td>\n",
       "      <td>69.239998</td>\n",
       "      <td>69.320000</td>\n",
       "      <td>66.669998</td>\n",
       "      <td>66.879997</td>\n",
       "      <td>66.879997</td>\n",
       "      <td>360300.0</td>\n",
       "    </tr>\n",
       "    <tr>\n",
       "      <th>1</th>\n",
       "      <td>381.721985</td>\n",
       "      <td>383.026001</td>\n",
       "      <td>374.346008</td>\n",
       "      <td>375.010010</td>\n",
       "      <td>375.010010</td>\n",
       "      <td>13340100</td>\n",
       "      <td>88.599998</td>\n",
       "      <td>89.010002</td>\n",
       "      <td>88.580002</td>\n",
       "      <td>88.959999</td>\n",
       "      <td>...</td>\n",
       "      <td>2014-12-01</td>\n",
       "      <td>3</td>\n",
       "      <td>2014-12-03</td>\n",
       "      <td>2014-12-03</td>\n",
       "      <td>67.599998</td>\n",
       "      <td>68.230003</td>\n",
       "      <td>66.800003</td>\n",
       "      <td>67.379997</td>\n",
       "      <td>67.379997</td>\n",
       "      <td>293483.0</td>\n",
       "    </tr>\n",
       "    <tr>\n",
       "      <th>2</th>\n",
       "      <td>375.717987</td>\n",
       "      <td>378.654999</td>\n",
       "      <td>367.759003</td>\n",
       "      <td>369.604004</td>\n",
       "      <td>369.604004</td>\n",
       "      <td>14529600</td>\n",
       "      <td>88.940002</td>\n",
       "      <td>89.120003</td>\n",
       "      <td>88.209999</td>\n",
       "      <td>88.699997</td>\n",
       "      <td>...</td>\n",
       "      <td>2014-12-01</td>\n",
       "      <td>3</td>\n",
       "      <td>2014-12-04</td>\n",
       "      <td>2014-12-04</td>\n",
       "      <td>67.400002</td>\n",
       "      <td>68.220001</td>\n",
       "      <td>66.089996</td>\n",
       "      <td>66.809998</td>\n",
       "      <td>66.809998</td>\n",
       "      <td>237011.0</td>\n",
       "    </tr>\n",
       "    <tr>\n",
       "      <th>3</th>\n",
       "      <td>369.441986</td>\n",
       "      <td>379.191986</td>\n",
       "      <td>365.756012</td>\n",
       "      <td>376.854004</td>\n",
       "      <td>376.854004</td>\n",
       "      <td>15181800</td>\n",
       "      <td>88.580002</td>\n",
       "      <td>89.470001</td>\n",
       "      <td>88.580002</td>\n",
       "      <td>89.330002</td>\n",
       "      <td>...</td>\n",
       "      <td>2014-12-01</td>\n",
       "      <td>3</td>\n",
       "      <td>2014-12-05</td>\n",
       "      <td>2014-12-05</td>\n",
       "      <td>66.800003</td>\n",
       "      <td>66.889999</td>\n",
       "      <td>65.169998</td>\n",
       "      <td>65.839996</td>\n",
       "      <td>65.839996</td>\n",
       "      <td>276529.0</td>\n",
       "    </tr>\n",
       "    <tr>\n",
       "      <th>4</th>\n",
       "      <td>374.835999</td>\n",
       "      <td>376.291992</td>\n",
       "      <td>373.274994</td>\n",
       "      <td>375.095001</td>\n",
       "      <td>375.095001</td>\n",
       "      <td>6491650</td>\n",
       "      <td>88.580002</td>\n",
       "      <td>89.470001</td>\n",
       "      <td>88.580002</td>\n",
       "      <td>89.330002</td>\n",
       "      <td>...</td>\n",
       "      <td>2014-12-01</td>\n",
       "      <td>3</td>\n",
       "      <td>2014-12-07</td>\n",
       "      <td>2014-12-07</td>\n",
       "      <td>66.800003</td>\n",
       "      <td>66.889999</td>\n",
       "      <td>65.169998</td>\n",
       "      <td>65.839996</td>\n",
       "      <td>65.839996</td>\n",
       "      <td>276529.0</td>\n",
       "    </tr>\n",
       "  </tbody>\n",
       "</table>\n",
       "<p>5 rows × 22 columns</p>\n",
       "</div>"
      ],
      "text/plain": [
       "     btc_Open    btc_High     btc_Low   btc_Close  btc_Adj Close  btc_Volume  \\\n",
       "0  379.250000  384.037994  377.863007  381.315002     381.315002    12364100   \n",
       "1  381.721985  383.026001  374.346008  375.010010     375.010010    13340100   \n",
       "2  375.717987  378.654999  367.759003  369.604004     369.604004    14529600   \n",
       "3  369.441986  379.191986  365.756012  376.854004     376.854004    15181800   \n",
       "4  374.835999  376.291992  373.274994  375.095001     375.095001     6491650   \n",
       "\n",
       "    usd_Open   usd_High    usd_Low  usd_Close  ...  beginning_of_month  \\\n",
       "0  87.980003  88.669998  87.949997  88.650002  ...          2014-12-01   \n",
       "1  88.599998  89.010002  88.580002  88.959999  ...          2014-12-01   \n",
       "2  88.940002  89.120003  88.209999  88.699997  ...          2014-12-01   \n",
       "3  88.580002  89.470001  88.580002  89.330002  ...          2014-12-01   \n",
       "4  88.580002  89.470001  88.580002  89.330002  ...          2014-12-01   \n",
       "\n",
       "   btc_trend        Date   Date_gold  Open_gold  High_gold   Low_gold  \\\n",
       "0          3  2014-12-02  2014-12-02  69.239998  69.320000  66.669998   \n",
       "1          3  2014-12-03  2014-12-03  67.599998  68.230003  66.800003   \n",
       "2          3  2014-12-04  2014-12-04  67.400002  68.220001  66.089996   \n",
       "3          3  2014-12-05  2014-12-05  66.800003  66.889999  65.169998   \n",
       "4          3  2014-12-07  2014-12-07  66.800003  66.889999  65.169998   \n",
       "\n",
       "   Close_gold  Adj Close_gold  Volume_gold  \n",
       "0   66.879997       66.879997     360300.0  \n",
       "1   67.379997       67.379997     293483.0  \n",
       "2   66.809998       66.809998     237011.0  \n",
       "3   65.839996       65.839996     276529.0  \n",
       "4   65.839996       65.839996     276529.0  \n",
       "\n",
       "[5 rows x 22 columns]"
      ]
     },
     "execution_count": 45,
     "metadata": {},
     "output_type": "execute_result"
    }
   ],
   "source": [
    "all_features.head()"
   ]
  },
  {
   "cell_type": "code",
   "execution_count": 46,
   "metadata": {
    "ExecuteTime": {
     "end_time": "2020-11-20T15:23:46.190994Z",
     "start_time": "2020-11-20T15:23:46.182158Z"
    }
   },
   "outputs": [],
   "source": [
    "all_features.drop(columns=['Date_gold'], inplace=True)"
   ]
  },
  {
   "cell_type": "code",
   "execution_count": 50,
   "metadata": {
    "ExecuteTime": {
     "end_time": "2020-11-20T15:27:03.317855Z",
     "start_time": "2020-11-20T15:27:03.298609Z"
    }
   },
   "outputs": [],
   "source": [
    "all_features = pd.merge(all_features,oil_df, left_on='Date',right_on = 'Date_oil').merge(tweets_sentiment, on='Date')"
   ]
  },
  {
   "cell_type": "code",
   "execution_count": 51,
   "metadata": {
    "ExecuteTime": {
     "end_time": "2020-11-20T15:27:17.342217Z",
     "start_time": "2020-11-20T15:27:17.304154Z"
    }
   },
   "outputs": [
    {
     "data": {
      "text/html": [
       "<div>\n",
       "<style scoped>\n",
       "    .dataframe tbody tr th:only-of-type {\n",
       "        vertical-align: middle;\n",
       "    }\n",
       "\n",
       "    .dataframe tbody tr th {\n",
       "        vertical-align: top;\n",
       "    }\n",
       "\n",
       "    .dataframe thead th {\n",
       "        text-align: right;\n",
       "    }\n",
       "</style>\n",
       "<table border=\"1\" class=\"dataframe\">\n",
       "  <thead>\n",
       "    <tr style=\"text-align: right;\">\n",
       "      <th></th>\n",
       "      <th>btc_Open</th>\n",
       "      <th>btc_High</th>\n",
       "      <th>btc_Low</th>\n",
       "      <th>btc_Close</th>\n",
       "      <th>btc_Adj Close</th>\n",
       "      <th>btc_Volume</th>\n",
       "      <th>usd_Open</th>\n",
       "      <th>usd_High</th>\n",
       "      <th>usd_Low</th>\n",
       "      <th>usd_Close</th>\n",
       "      <th>...</th>\n",
       "      <th>Date_oil</th>\n",
       "      <th>Price_oil</th>\n",
       "      <th>Open_oil</th>\n",
       "      <th>High_oil</th>\n",
       "      <th>Low_oil</th>\n",
       "      <th>Chg%_oil</th>\n",
       "      <th>replies_tweet</th>\n",
       "      <th>likes_tweet</th>\n",
       "      <th>retweets_tweet</th>\n",
       "      <th>sentiment_tweet</th>\n",
       "    </tr>\n",
       "  </thead>\n",
       "  <tbody>\n",
       "    <tr>\n",
       "      <th>0</th>\n",
       "      <td>3849.216309</td>\n",
       "      <td>3947.981201</td>\n",
       "      <td>3817.409424</td>\n",
       "      <td>3943.409424</td>\n",
       "      <td>3943.409424</td>\n",
       "      <td>5244856835</td>\n",
       "      <td>96.139999</td>\n",
       "      <td>96.959999</td>\n",
       "      <td>95.820000</td>\n",
       "      <td>96.820000</td>\n",
       "      <td>...</td>\n",
       "      <td>2019-01-02</td>\n",
       "      <td>1349.5</td>\n",
       "      <td>1349.5</td>\n",
       "      <td>1349.5</td>\n",
       "      <td>1349.5</td>\n",
       "      <td>0.0515</td>\n",
       "      <td>4.500000</td>\n",
       "      <td>28.0</td>\n",
       "      <td>18.0</td>\n",
       "      <td>0.450000</td>\n",
       "    </tr>\n",
       "    <tr>\n",
       "      <th>1</th>\n",
       "      <td>3832.040039</td>\n",
       "      <td>3865.934570</td>\n",
       "      <td>3783.853760</td>\n",
       "      <td>3857.717529</td>\n",
       "      <td>3857.717529</td>\n",
       "      <td>4847965467</td>\n",
       "      <td>96.279999</td>\n",
       "      <td>96.610001</td>\n",
       "      <td>96.050003</td>\n",
       "      <td>96.190002</td>\n",
       "      <td>...</td>\n",
       "      <td>2019-01-04</td>\n",
       "      <td>1351.0</td>\n",
       "      <td>1351.8</td>\n",
       "      <td>1351.8</td>\n",
       "      <td>1351.8</td>\n",
       "      <td>-0.0065</td>\n",
       "      <td>1.500000</td>\n",
       "      <td>38.5</td>\n",
       "      <td>44.0</td>\n",
       "      <td>0.450000</td>\n",
       "    </tr>\n",
       "    <tr>\n",
       "      <th>2</th>\n",
       "      <td>4028.472168</td>\n",
       "      <td>4109.020996</td>\n",
       "      <td>3996.955322</td>\n",
       "      <td>4030.847900</td>\n",
       "      <td>4030.847900</td>\n",
       "      <td>5306593305</td>\n",
       "      <td>95.690002</td>\n",
       "      <td>96.029999</td>\n",
       "      <td>95.680000</td>\n",
       "      <td>95.900002</td>\n",
       "      <td>...</td>\n",
       "      <td>2019-01-08</td>\n",
       "      <td>1351.1</td>\n",
       "      <td>1351.1</td>\n",
       "      <td>1351.1</td>\n",
       "      <td>1351.1</td>\n",
       "      <td>-0.0030</td>\n",
       "      <td>18.333333</td>\n",
       "      <td>13.0</td>\n",
       "      <td>28.0</td>\n",
       "      <td>0.250000</td>\n",
       "    </tr>\n",
       "    <tr>\n",
       "      <th>3</th>\n",
       "      <td>4031.552002</td>\n",
       "      <td>4068.403564</td>\n",
       "      <td>4022.662842</td>\n",
       "      <td>4035.296387</td>\n",
       "      <td>4035.296387</td>\n",
       "      <td>5115905224</td>\n",
       "      <td>95.809998</td>\n",
       "      <td>95.919998</td>\n",
       "      <td>95.120003</td>\n",
       "      <td>95.220001</td>\n",
       "      <td>...</td>\n",
       "      <td>2019-01-09</td>\n",
       "      <td>1357.3</td>\n",
       "      <td>1357.3</td>\n",
       "      <td>1357.3</td>\n",
       "      <td>1357.3</td>\n",
       "      <td>0.0046</td>\n",
       "      <td>0.500000</td>\n",
       "      <td>21.0</td>\n",
       "      <td>3.5</td>\n",
       "      <td>0.053333</td>\n",
       "    </tr>\n",
       "    <tr>\n",
       "      <th>4</th>\n",
       "      <td>4034.411377</td>\n",
       "      <td>4064.066650</td>\n",
       "      <td>3659.174561</td>\n",
       "      <td>3678.924561</td>\n",
       "      <td>3678.924561</td>\n",
       "      <td>6874143795</td>\n",
       "      <td>95.160004</td>\n",
       "      <td>95.620003</td>\n",
       "      <td>95.029999</td>\n",
       "      <td>95.540001</td>\n",
       "      <td>...</td>\n",
       "      <td>2019-01-10</td>\n",
       "      <td>1353.0</td>\n",
       "      <td>1353.0</td>\n",
       "      <td>1353.0</td>\n",
       "      <td>1353.0</td>\n",
       "      <td>-0.0032</td>\n",
       "      <td>0.000000</td>\n",
       "      <td>0.0</td>\n",
       "      <td>0.0</td>\n",
       "      <td>0.500000</td>\n",
       "    </tr>\n",
       "  </tbody>\n",
       "</table>\n",
       "<p>5 rows × 31 columns</p>\n",
       "</div>"
      ],
      "text/plain": [
       "      btc_Open     btc_High      btc_Low    btc_Close  btc_Adj Close  \\\n",
       "0  3849.216309  3947.981201  3817.409424  3943.409424    3943.409424   \n",
       "1  3832.040039  3865.934570  3783.853760  3857.717529    3857.717529   \n",
       "2  4028.472168  4109.020996  3996.955322  4030.847900    4030.847900   \n",
       "3  4031.552002  4068.403564  4022.662842  4035.296387    4035.296387   \n",
       "4  4034.411377  4064.066650  3659.174561  3678.924561    3678.924561   \n",
       "\n",
       "   btc_Volume   usd_Open   usd_High    usd_Low  usd_Close  ...    Date_oil  \\\n",
       "0  5244856835  96.139999  96.959999  95.820000  96.820000  ...  2019-01-02   \n",
       "1  4847965467  96.279999  96.610001  96.050003  96.190002  ...  2019-01-04   \n",
       "2  5306593305  95.690002  96.029999  95.680000  95.900002  ...  2019-01-08   \n",
       "3  5115905224  95.809998  95.919998  95.120003  95.220001  ...  2019-01-09   \n",
       "4  6874143795  95.160004  95.620003  95.029999  95.540001  ...  2019-01-10   \n",
       "\n",
       "   Price_oil Open_oil  High_oil Low_oil  Chg%_oil  replies_tweet  likes_tweet  \\\n",
       "0     1349.5   1349.5    1349.5  1349.5    0.0515       4.500000         28.0   \n",
       "1     1351.0   1351.8    1351.8  1351.8   -0.0065       1.500000         38.5   \n",
       "2     1351.1   1351.1    1351.1  1351.1   -0.0030      18.333333         13.0   \n",
       "3     1357.3   1357.3    1357.3  1357.3    0.0046       0.500000         21.0   \n",
       "4     1353.0   1353.0    1353.0  1353.0   -0.0032       0.000000          0.0   \n",
       "\n",
       "   retweets_tweet  sentiment_tweet  \n",
       "0            18.0         0.450000  \n",
       "1            44.0         0.450000  \n",
       "2            28.0         0.250000  \n",
       "3             3.5         0.053333  \n",
       "4             0.0         0.500000  \n",
       "\n",
       "[5 rows x 31 columns]"
      ]
     },
     "execution_count": 51,
     "metadata": {},
     "output_type": "execute_result"
    }
   ],
   "source": [
    "all_features.head()"
   ]
  },
  {
   "cell_type": "code",
   "execution_count": 52,
   "metadata": {
    "ExecuteTime": {
     "end_time": "2020-11-20T15:32:25.575781Z",
     "start_time": "2020-11-20T15:32:25.568349Z"
    }
   },
   "outputs": [
    {
     "data": {
      "text/plain": [
       "Index(['btc_Open', 'btc_High', 'btc_Low', 'btc_Close', 'btc_Adj Close',\n",
       "       'btc_Volume', 'usd_Open', 'usd_High', 'usd_Low', 'usd_Close',\n",
       "       'usd_Adj Close', 'usd_Volume', 'beginning_of_month', 'btc_trend',\n",
       "       'Date', 'Open_gold', 'High_gold', 'Low_gold', 'Close_gold',\n",
       "       'Adj Close_gold', 'Volume_gold', 'Date_oil', 'Price_oil', 'Open_oil',\n",
       "       'High_oil', 'Low_oil', 'Chg%_oil', 'replies_tweet', 'likes_tweet',\n",
       "       'retweets_tweet', 'sentiment_tweet'],\n",
       "      dtype='object')"
      ]
     },
     "execution_count": 52,
     "metadata": {},
     "output_type": "execute_result"
    }
   ],
   "source": [
    "all_features.columns"
   ]
  },
  {
   "cell_type": "code",
   "execution_count": 53,
   "metadata": {
    "ExecuteTime": {
     "end_time": "2020-11-20T15:43:42.966637Z",
     "start_time": "2020-11-20T15:43:42.959285Z"
    }
   },
   "outputs": [],
   "source": [
    "all_features.drop(columns=['btc_Open', 'btc_Adj Close', 'usd_Open', 'usd_High', 'usd_Low', 'usd_Adj Close', 'usd_Volume',  'beginning_of_month', 'btc_trend', 'Open_gold', 'High_gold', 'Low_gold', 'Adj Close_gold', 'Date_oil', 'Open_oil', 'High_oil', 'Low_oil'], inplace=True)"
   ]
  },
  {
   "cell_type": "code",
   "execution_count": 55,
   "metadata": {
    "ExecuteTime": {
     "end_time": "2020-11-20T15:45:45.606145Z",
     "start_time": "2020-11-20T15:45:45.581654Z"
    }
   },
   "outputs": [
    {
     "data": {
      "text/html": [
       "<div>\n",
       "<style scoped>\n",
       "    .dataframe tbody tr th:only-of-type {\n",
       "        vertical-align: middle;\n",
       "    }\n",
       "\n",
       "    .dataframe tbody tr th {\n",
       "        vertical-align: top;\n",
       "    }\n",
       "\n",
       "    .dataframe thead th {\n",
       "        text-align: right;\n",
       "    }\n",
       "</style>\n",
       "<table border=\"1\" class=\"dataframe\">\n",
       "  <thead>\n",
       "    <tr style=\"text-align: right;\">\n",
       "      <th></th>\n",
       "      <th>btc_High</th>\n",
       "      <th>btc_Low</th>\n",
       "      <th>btc_Close</th>\n",
       "      <th>btc_Volume</th>\n",
       "      <th>usd_Close</th>\n",
       "      <th>Date</th>\n",
       "      <th>Close_gold</th>\n",
       "      <th>Volume_gold</th>\n",
       "      <th>Price_oil</th>\n",
       "      <th>Chg%_oil</th>\n",
       "      <th>replies_tweet</th>\n",
       "      <th>likes_tweet</th>\n",
       "      <th>retweets_tweet</th>\n",
       "      <th>sentiment_tweet</th>\n",
       "    </tr>\n",
       "  </thead>\n",
       "  <tbody>\n",
       "    <tr>\n",
       "      <th>0</th>\n",
       "      <td>3947.981201</td>\n",
       "      <td>3817.409424</td>\n",
       "      <td>3943.409424</td>\n",
       "      <td>5244856835</td>\n",
       "      <td>96.820000</td>\n",
       "      <td>2019-01-02</td>\n",
       "      <td>46.540001</td>\n",
       "      <td>850480.0</td>\n",
       "      <td>1349.5</td>\n",
       "      <td>0.0515</td>\n",
       "      <td>4.500000</td>\n",
       "      <td>28.0</td>\n",
       "      <td>18.0</td>\n",
       "      <td>0.450000</td>\n",
       "    </tr>\n",
       "    <tr>\n",
       "      <th>1</th>\n",
       "      <td>3865.934570</td>\n",
       "      <td>3783.853760</td>\n",
       "      <td>3857.717529</td>\n",
       "      <td>4847965467</td>\n",
       "      <td>96.190002</td>\n",
       "      <td>2019-01-04</td>\n",
       "      <td>47.959999</td>\n",
       "      <td>817277.0</td>\n",
       "      <td>1351.0</td>\n",
       "      <td>-0.0065</td>\n",
       "      <td>1.500000</td>\n",
       "      <td>38.5</td>\n",
       "      <td>44.0</td>\n",
       "      <td>0.450000</td>\n",
       "    </tr>\n",
       "    <tr>\n",
       "      <th>2</th>\n",
       "      <td>4109.020996</td>\n",
       "      <td>3996.955322</td>\n",
       "      <td>4030.847900</td>\n",
       "      <td>5306593305</td>\n",
       "      <td>95.900002</td>\n",
       "      <td>2019-01-08</td>\n",
       "      <td>49.779999</td>\n",
       "      <td>765981.0</td>\n",
       "      <td>1351.1</td>\n",
       "      <td>-0.0030</td>\n",
       "      <td>18.333333</td>\n",
       "      <td>13.0</td>\n",
       "      <td>28.0</td>\n",
       "      <td>0.250000</td>\n",
       "    </tr>\n",
       "    <tr>\n",
       "      <th>3</th>\n",
       "      <td>4068.403564</td>\n",
       "      <td>4022.662842</td>\n",
       "      <td>4035.296387</td>\n",
       "      <td>5115905224</td>\n",
       "      <td>95.220001</td>\n",
       "      <td>2019-01-09</td>\n",
       "      <td>52.360001</td>\n",
       "      <td>891922.0</td>\n",
       "      <td>1357.3</td>\n",
       "      <td>0.0046</td>\n",
       "      <td>0.500000</td>\n",
       "      <td>21.0</td>\n",
       "      <td>3.5</td>\n",
       "      <td>0.053333</td>\n",
       "    </tr>\n",
       "    <tr>\n",
       "      <th>4</th>\n",
       "      <td>4064.066650</td>\n",
       "      <td>3659.174561</td>\n",
       "      <td>3678.924561</td>\n",
       "      <td>6874143795</td>\n",
       "      <td>95.540001</td>\n",
       "      <td>2019-01-10</td>\n",
       "      <td>52.590000</td>\n",
       "      <td>821782.0</td>\n",
       "      <td>1353.0</td>\n",
       "      <td>-0.0032</td>\n",
       "      <td>0.000000</td>\n",
       "      <td>0.0</td>\n",
       "      <td>0.0</td>\n",
       "      <td>0.500000</td>\n",
       "    </tr>\n",
       "  </tbody>\n",
       "</table>\n",
       "</div>"
      ],
      "text/plain": [
       "      btc_High      btc_Low    btc_Close  btc_Volume  usd_Close        Date  \\\n",
       "0  3947.981201  3817.409424  3943.409424  5244856835  96.820000  2019-01-02   \n",
       "1  3865.934570  3783.853760  3857.717529  4847965467  96.190002  2019-01-04   \n",
       "2  4109.020996  3996.955322  4030.847900  5306593305  95.900002  2019-01-08   \n",
       "3  4068.403564  4022.662842  4035.296387  5115905224  95.220001  2019-01-09   \n",
       "4  4064.066650  3659.174561  3678.924561  6874143795  95.540001  2019-01-10   \n",
       "\n",
       "   Close_gold  Volume_gold  Price_oil  Chg%_oil  replies_tweet  likes_tweet  \\\n",
       "0   46.540001     850480.0     1349.5    0.0515       4.500000         28.0   \n",
       "1   47.959999     817277.0     1351.0   -0.0065       1.500000         38.5   \n",
       "2   49.779999     765981.0     1351.1   -0.0030      18.333333         13.0   \n",
       "3   52.360001     891922.0     1357.3    0.0046       0.500000         21.0   \n",
       "4   52.590000     821782.0     1353.0   -0.0032       0.000000          0.0   \n",
       "\n",
       "   retweets_tweet  sentiment_tweet  \n",
       "0            18.0         0.450000  \n",
       "1            44.0         0.450000  \n",
       "2            28.0         0.250000  \n",
       "3             3.5         0.053333  \n",
       "4             0.0         0.500000  "
      ]
     },
     "execution_count": 55,
     "metadata": {},
     "output_type": "execute_result"
    }
   ],
   "source": [
    "all_features.head()"
   ]
  },
  {
   "cell_type": "code",
   "execution_count": 58,
   "metadata": {
    "ExecuteTime": {
     "end_time": "2020-11-20T15:51:21.392330Z",
     "start_time": "2020-11-20T15:51:21.366396Z"
    }
   },
   "outputs": [
    {
     "data": {
      "text/html": [
       "<div>\n",
       "<style scoped>\n",
       "    .dataframe tbody tr th:only-of-type {\n",
       "        vertical-align: middle;\n",
       "    }\n",
       "\n",
       "    .dataframe tbody tr th {\n",
       "        vertical-align: top;\n",
       "    }\n",
       "\n",
       "    .dataframe thead th {\n",
       "        text-align: right;\n",
       "    }\n",
       "</style>\n",
       "<table border=\"1\" class=\"dataframe\">\n",
       "  <thead>\n",
       "    <tr style=\"text-align: right;\">\n",
       "      <th></th>\n",
       "      <th>btc_High</th>\n",
       "      <th>btc_Low</th>\n",
       "      <th>btc_Close</th>\n",
       "      <th>btc_Volume</th>\n",
       "      <th>usd_Close</th>\n",
       "      <th>Close_gold</th>\n",
       "      <th>Volume_gold</th>\n",
       "      <th>Price_oil</th>\n",
       "      <th>Chg%_oil</th>\n",
       "      <th>replies_tweet</th>\n",
       "      <th>likes_tweet</th>\n",
       "      <th>retweets_tweet</th>\n",
       "      <th>sentiment_tweet</th>\n",
       "    </tr>\n",
       "    <tr>\n",
       "      <th>Date</th>\n",
       "      <th></th>\n",
       "      <th></th>\n",
       "      <th></th>\n",
       "      <th></th>\n",
       "      <th></th>\n",
       "      <th></th>\n",
       "      <th></th>\n",
       "      <th></th>\n",
       "      <th></th>\n",
       "      <th></th>\n",
       "      <th></th>\n",
       "      <th></th>\n",
       "      <th></th>\n",
       "    </tr>\n",
       "  </thead>\n",
       "  <tbody>\n",
       "    <tr>\n",
       "      <th>2019-01-02</th>\n",
       "      <td>3947.981201</td>\n",
       "      <td>3817.409424</td>\n",
       "      <td>3943.409424</td>\n",
       "      <td>5244856835</td>\n",
       "      <td>96.820000</td>\n",
       "      <td>46.540001</td>\n",
       "      <td>850480.0</td>\n",
       "      <td>1349.5</td>\n",
       "      <td>0.0515</td>\n",
       "      <td>4.500000</td>\n",
       "      <td>28.0</td>\n",
       "      <td>18.0</td>\n",
       "      <td>0.450000</td>\n",
       "    </tr>\n",
       "    <tr>\n",
       "      <th>2019-01-04</th>\n",
       "      <td>3865.934570</td>\n",
       "      <td>3783.853760</td>\n",
       "      <td>3857.717529</td>\n",
       "      <td>4847965467</td>\n",
       "      <td>96.190002</td>\n",
       "      <td>47.959999</td>\n",
       "      <td>817277.0</td>\n",
       "      <td>1351.0</td>\n",
       "      <td>-0.0065</td>\n",
       "      <td>1.500000</td>\n",
       "      <td>38.5</td>\n",
       "      <td>44.0</td>\n",
       "      <td>0.450000</td>\n",
       "    </tr>\n",
       "    <tr>\n",
       "      <th>2019-01-08</th>\n",
       "      <td>4109.020996</td>\n",
       "      <td>3996.955322</td>\n",
       "      <td>4030.847900</td>\n",
       "      <td>5306593305</td>\n",
       "      <td>95.900002</td>\n",
       "      <td>49.779999</td>\n",
       "      <td>765981.0</td>\n",
       "      <td>1351.1</td>\n",
       "      <td>-0.0030</td>\n",
       "      <td>18.333333</td>\n",
       "      <td>13.0</td>\n",
       "      <td>28.0</td>\n",
       "      <td>0.250000</td>\n",
       "    </tr>\n",
       "    <tr>\n",
       "      <th>2019-01-09</th>\n",
       "      <td>4068.403564</td>\n",
       "      <td>4022.662842</td>\n",
       "      <td>4035.296387</td>\n",
       "      <td>5115905224</td>\n",
       "      <td>95.220001</td>\n",
       "      <td>52.360001</td>\n",
       "      <td>891922.0</td>\n",
       "      <td>1357.3</td>\n",
       "      <td>0.0046</td>\n",
       "      <td>0.500000</td>\n",
       "      <td>21.0</td>\n",
       "      <td>3.5</td>\n",
       "      <td>0.053333</td>\n",
       "    </tr>\n",
       "    <tr>\n",
       "      <th>2019-01-10</th>\n",
       "      <td>4064.066650</td>\n",
       "      <td>3659.174561</td>\n",
       "      <td>3678.924561</td>\n",
       "      <td>6874143795</td>\n",
       "      <td>95.540001</td>\n",
       "      <td>52.590000</td>\n",
       "      <td>821782.0</td>\n",
       "      <td>1353.0</td>\n",
       "      <td>-0.0032</td>\n",
       "      <td>0.000000</td>\n",
       "      <td>0.0</td>\n",
       "      <td>0.0</td>\n",
       "      <td>0.500000</td>\n",
       "    </tr>\n",
       "  </tbody>\n",
       "</table>\n",
       "</div>"
      ],
      "text/plain": [
       "               btc_High      btc_Low    btc_Close  btc_Volume  usd_Close  \\\n",
       "Date                                                                       \n",
       "2019-01-02  3947.981201  3817.409424  3943.409424  5244856835  96.820000   \n",
       "2019-01-04  3865.934570  3783.853760  3857.717529  4847965467  96.190002   \n",
       "2019-01-08  4109.020996  3996.955322  4030.847900  5306593305  95.900002   \n",
       "2019-01-09  4068.403564  4022.662842  4035.296387  5115905224  95.220001   \n",
       "2019-01-10  4064.066650  3659.174561  3678.924561  6874143795  95.540001   \n",
       "\n",
       "            Close_gold  Volume_gold  Price_oil  Chg%_oil  replies_tweet  \\\n",
       "Date                                                                      \n",
       "2019-01-02   46.540001     850480.0     1349.5    0.0515       4.500000   \n",
       "2019-01-04   47.959999     817277.0     1351.0   -0.0065       1.500000   \n",
       "2019-01-08   49.779999     765981.0     1351.1   -0.0030      18.333333   \n",
       "2019-01-09   52.360001     891922.0     1357.3    0.0046       0.500000   \n",
       "2019-01-10   52.590000     821782.0     1353.0   -0.0032       0.000000   \n",
       "\n",
       "            likes_tweet  retweets_tweet  sentiment_tweet  \n",
       "Date                                                      \n",
       "2019-01-02         28.0            18.0         0.450000  \n",
       "2019-01-04         38.5            44.0         0.450000  \n",
       "2019-01-08         13.0            28.0         0.250000  \n",
       "2019-01-09         21.0             3.5         0.053333  \n",
       "2019-01-10          0.0             0.0         0.500000  "
      ]
     },
     "execution_count": 58,
     "metadata": {},
     "output_type": "execute_result"
    }
   ],
   "source": [
    "all_features = all_features.set_index('Date')\n",
    "all_features.head()"
   ]
  },
  {
   "cell_type": "code",
   "execution_count": 61,
   "metadata": {
    "ExecuteTime": {
     "end_time": "2020-11-20T15:53:55.511703Z",
     "start_time": "2020-11-20T15:53:55.505941Z"
    }
   },
   "outputs": [
    {
     "name": "stdout",
     "output_type": "stream",
     "text": [
      "2019-01-02 2019-05-26\n"
     ]
    }
   ],
   "source": [
    "print(all_features.index.min(), all_features.index.max())"
   ]
  },
  {
   "cell_type": "code",
   "execution_count": 62,
   "metadata": {
    "ExecuteTime": {
     "end_time": "2020-11-20T15:54:16.649442Z",
     "start_time": "2020-11-20T15:54:15.410034Z"
    }
   },
   "outputs": [],
   "source": [
    "all_features.to_csv('btc_usd_gold_oil_tweets.csv')"
   ]
  },
  {
   "cell_type": "code",
   "execution_count": 64,
   "metadata": {
    "ExecuteTime": {
     "end_time": "2020-11-20T15:54:29.907377Z",
     "start_time": "2020-11-20T15:54:29.900846Z"
    }
   },
   "outputs": [
    {
     "data": {
      "text/plain": [
       "(113, 13)"
      ]
     },
     "execution_count": 64,
     "metadata": {},
     "output_type": "execute_result"
    }
   ],
   "source": [
    "all_features.shape"
   ]
  },
  {
   "cell_type": "code",
   "execution_count": null,
   "metadata": {},
   "outputs": [],
   "source": []
  }
 ],
 "metadata": {
  "kernelspec": {
   "display_name": "Python 3",
   "language": "python",
   "name": "python3"
  },
  "language_info": {
   "codemirror_mode": {
    "name": "ipython",
    "version": 3
   },
   "file_extension": ".py",
   "mimetype": "text/x-python",
   "name": "python",
   "nbconvert_exporter": "python",
   "pygments_lexer": "ipython3",
   "version": "3.7.7"
  },
  "toc": {
   "base_numbering": 1,
   "nav_menu": {},
   "number_sections": true,
   "sideBar": true,
   "skip_h1_title": false,
   "title_cell": "Table of Contents",
   "title_sidebar": "Contents",
   "toc_cell": false,
   "toc_position": {},
   "toc_section_display": true,
   "toc_window_display": false
  }
 },
 "nbformat": 4,
 "nbformat_minor": 4
}
