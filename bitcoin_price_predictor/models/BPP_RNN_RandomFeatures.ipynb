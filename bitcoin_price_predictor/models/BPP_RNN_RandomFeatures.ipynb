{
 "cells": [
  {
   "cell_type": "markdown",
   "metadata": {},
   "source": [
    "# Bitcoin price predictor using RNN"
   ]
  },
  {
   "cell_type": "markdown",
   "metadata": {},
   "source": [
    "## Load data"
   ]
  },
  {
   "cell_type": "code",
   "execution_count": 1,
   "metadata": {
    "scrolled": true
   },
   "outputs": [],
   "source": [
    "import pandas as pd\n",
    "import numpy as np\n",
    "np.random.seed(123)\n",
    "import matplotlib.pyplot as plt\n",
    "%matplotlib inline\n",
    "import random\n",
    "random.seed(123)\n",
    "import seaborn as sns\n",
    "import datetime\n",
    "from datetime import date\n",
    "import yfinance as yf"
   ]
  },
  {
   "cell_type": "code",
   "execution_count": 2,
   "metadata": {},
   "outputs": [
    {
     "name": "stdout",
     "output_type": "stream",
     "text": [
      "[*********************100%***********************]  6 of 6 completed\n"
     ]
    }
   ],
   "source": [
    "########## DOWNLOAD DATA DIRECTLY FROM YAHOO FINANCE ##########\n",
    "# BITCOIN, US DOLLAR, VOLATILITY INDEX, S&P 500, DOW JONES, GOLD PRICE, OIL PRICE\n",
    "stocks = ['BTC-USD','^DJI', 'NOG','DX-Y.NYB','^GDAXI','^IXIC'] #### ADD FEATURES HERE ####\n",
    "end = datetime.date.today()\n",
    "start = datetime.datetime(2019,1,2)\n",
    "stock_prices = yf.download(stocks,start=start,end = end, interval='1d')"
   ]
  },
  {
   "cell_type": "code",
   "execution_count": 3,
   "metadata": {},
   "outputs": [
    {
     "data": {
      "text/html": [
       "<div>\n",
       "<style scoped>\n",
       "    .dataframe tbody tr th:only-of-type {\n",
       "        vertical-align: middle;\n",
       "    }\n",
       "\n",
       "    .dataframe tbody tr th {\n",
       "        vertical-align: top;\n",
       "    }\n",
       "\n",
       "    .dataframe thead tr th {\n",
       "        text-align: left;\n",
       "    }\n",
       "\n",
       "    .dataframe thead tr:last-of-type th {\n",
       "        text-align: right;\n",
       "    }\n",
       "</style>\n",
       "<table border=\"1\" class=\"dataframe\">\n",
       "  <thead>\n",
       "    <tr>\n",
       "      <th></th>\n",
       "      <th colspan=\"6\" halign=\"left\">Adj Close</th>\n",
       "      <th colspan=\"4\" halign=\"left\">Close</th>\n",
       "      <th>...</th>\n",
       "      <th colspan=\"4\" halign=\"left\">Open</th>\n",
       "      <th colspan=\"6\" halign=\"left\">Volume</th>\n",
       "    </tr>\n",
       "    <tr>\n",
       "      <th></th>\n",
       "      <th>BTC-USD</th>\n",
       "      <th>DX-Y.NYB</th>\n",
       "      <th>NOG</th>\n",
       "      <th>^DJI</th>\n",
       "      <th>^GDAXI</th>\n",
       "      <th>^IXIC</th>\n",
       "      <th>BTC-USD</th>\n",
       "      <th>DX-Y.NYB</th>\n",
       "      <th>NOG</th>\n",
       "      <th>^DJI</th>\n",
       "      <th>...</th>\n",
       "      <th>NOG</th>\n",
       "      <th>^DJI</th>\n",
       "      <th>^GDAXI</th>\n",
       "      <th>^IXIC</th>\n",
       "      <th>BTC-USD</th>\n",
       "      <th>DX-Y.NYB</th>\n",
       "      <th>NOG</th>\n",
       "      <th>^DJI</th>\n",
       "      <th>^GDAXI</th>\n",
       "      <th>^IXIC</th>\n",
       "    </tr>\n",
       "    <tr>\n",
       "      <th>Date</th>\n",
       "      <th></th>\n",
       "      <th></th>\n",
       "      <th></th>\n",
       "      <th></th>\n",
       "      <th></th>\n",
       "      <th></th>\n",
       "      <th></th>\n",
       "      <th></th>\n",
       "      <th></th>\n",
       "      <th></th>\n",
       "      <th></th>\n",
       "      <th></th>\n",
       "      <th></th>\n",
       "      <th></th>\n",
       "      <th></th>\n",
       "      <th></th>\n",
       "      <th></th>\n",
       "      <th></th>\n",
       "      <th></th>\n",
       "      <th></th>\n",
       "      <th></th>\n",
       "    </tr>\n",
       "  </thead>\n",
       "  <tbody>\n",
       "    <tr>\n",
       "      <th>2019-01-02</th>\n",
       "      <td>3943.409424</td>\n",
       "      <td>96.820000</td>\n",
       "      <td>24.5</td>\n",
       "      <td>23346.240234</td>\n",
       "      <td>10580.190430</td>\n",
       "      <td>6665.939941</td>\n",
       "      <td>3943.409424</td>\n",
       "      <td>96.820000</td>\n",
       "      <td>24.5</td>\n",
       "      <td>23346.240234</td>\n",
       "      <td>...</td>\n",
       "      <td>22.1</td>\n",
       "      <td>23058.609375</td>\n",
       "      <td>10477.769531</td>\n",
       "      <td>6506.910156</td>\n",
       "      <td>5244856835</td>\n",
       "      <td>0.0</td>\n",
       "      <td>354300.0</td>\n",
       "      <td>321570000.0</td>\n",
       "      <td>79626700.0</td>\n",
       "      <td>2.261800e+09</td>\n",
       "    </tr>\n",
       "    <tr>\n",
       "      <th>2019-01-03</th>\n",
       "      <td>3836.741211</td>\n",
       "      <td>96.309998</td>\n",
       "      <td>24.4</td>\n",
       "      <td>22686.220703</td>\n",
       "      <td>10416.660156</td>\n",
       "      <td>6463.500000</td>\n",
       "      <td>3836.741211</td>\n",
       "      <td>96.309998</td>\n",
       "      <td>24.4</td>\n",
       "      <td>22686.220703</td>\n",
       "      <td>...</td>\n",
       "      <td>24.5</td>\n",
       "      <td>23176.390625</td>\n",
       "      <td>10467.110352</td>\n",
       "      <td>6584.770020</td>\n",
       "      <td>4530215218</td>\n",
       "      <td>0.0</td>\n",
       "      <td>280300.0</td>\n",
       "      <td>424240000.0</td>\n",
       "      <td>84733800.0</td>\n",
       "      <td>2.607290e+09</td>\n",
       "    </tr>\n",
       "  </tbody>\n",
       "</table>\n",
       "<p>2 rows × 36 columns</p>\n",
       "</div>"
      ],
      "text/plain": [
       "              Adj Close                                               \\\n",
       "                BTC-USD   DX-Y.NYB   NOG          ^DJI        ^GDAXI   \n",
       "Date                                                                   \n",
       "2019-01-02  3943.409424  96.820000  24.5  23346.240234  10580.190430   \n",
       "2019-01-03  3836.741211  96.309998  24.4  22686.220703  10416.660156   \n",
       "\n",
       "                               Close                                 ...  \\\n",
       "                  ^IXIC      BTC-USD   DX-Y.NYB   NOG          ^DJI  ...   \n",
       "Date                                                                 ...   \n",
       "2019-01-02  6665.939941  3943.409424  96.820000  24.5  23346.240234  ...   \n",
       "2019-01-03  6463.500000  3836.741211  96.309998  24.4  22686.220703  ...   \n",
       "\n",
       "            Open                                               Volume  \\\n",
       "             NOG          ^DJI        ^GDAXI        ^IXIC     BTC-USD   \n",
       "Date                                                                    \n",
       "2019-01-02  22.1  23058.609375  10477.769531  6506.910156  5244856835   \n",
       "2019-01-03  24.5  23176.390625  10467.110352  6584.770020  4530215218   \n",
       "\n",
       "                                                                      \n",
       "           DX-Y.NYB       NOG         ^DJI      ^GDAXI         ^IXIC  \n",
       "Date                                                                  \n",
       "2019-01-02      0.0  354300.0  321570000.0  79626700.0  2.261800e+09  \n",
       "2019-01-03      0.0  280300.0  424240000.0  84733800.0  2.607290e+09  \n",
       "\n",
       "[2 rows x 36 columns]"
      ]
     },
     "execution_count": 3,
     "metadata": {},
     "output_type": "execute_result"
    }
   ],
   "source": [
    "raw_df = stock_prices\n",
    "raw_df.head(2)"
   ]
  },
  {
   "cell_type": "code",
   "execution_count": 4,
   "metadata": {},
   "outputs": [],
   "source": [
    "raw_df['Date'] =  raw_df.index"
   ]
  },
  {
   "cell_type": "code",
   "execution_count": 5,
   "metadata": {},
   "outputs": [],
   "source": [
    "raw_df['Date'] = pd.to_datetime(raw_df['Date'])"
   ]
  },
  {
   "cell_type": "markdown",
   "metadata": {},
   "source": [
    "## Check features correlation with BITCOIN "
   ]
  },
  {
   "cell_type": "code",
   "execution_count": 6,
   "metadata": {
    "scrolled": true
   },
   "outputs": [
    {
     "data": {
      "text/html": [
       "<div>\n",
       "<style scoped>\n",
       "    .dataframe tbody tr th:only-of-type {\n",
       "        vertical-align: middle;\n",
       "    }\n",
       "\n",
       "    .dataframe tbody tr th {\n",
       "        vertical-align: top;\n",
       "    }\n",
       "\n",
       "    .dataframe thead th {\n",
       "        text-align: right;\n",
       "    }\n",
       "</style>\n",
       "<table border=\"1\" class=\"dataframe\">\n",
       "  <thead>\n",
       "    <tr style=\"text-align: right;\">\n",
       "      <th></th>\n",
       "      <th>BTC-USD</th>\n",
       "      <th>DX-Y.NYB</th>\n",
       "      <th>NOG</th>\n",
       "      <th>^DJI</th>\n",
       "      <th>^GDAXI</th>\n",
       "      <th>^IXIC</th>\n",
       "    </tr>\n",
       "  </thead>\n",
       "  <tbody>\n",
       "    <tr>\n",
       "      <th>BTC-USD</th>\n",
       "      <td>1.000000</td>\n",
       "      <td>-0.424758</td>\n",
       "      <td>-0.654218</td>\n",
       "      <td>0.500355</td>\n",
       "      <td>0.469043</td>\n",
       "      <td>0.732410</td>\n",
       "    </tr>\n",
       "    <tr>\n",
       "      <th>DX-Y.NYB</th>\n",
       "      <td>-0.424758</td>\n",
       "      <td>1.000000</td>\n",
       "      <td>0.307506</td>\n",
       "      <td>-0.488744</td>\n",
       "      <td>-0.416812</td>\n",
       "      <td>-0.672304</td>\n",
       "    </tr>\n",
       "    <tr>\n",
       "      <th>NOG</th>\n",
       "      <td>-0.654218</td>\n",
       "      <td>0.307506</td>\n",
       "      <td>1.000000</td>\n",
       "      <td>0.003377</td>\n",
       "      <td>-0.007338</td>\n",
       "      <td>-0.749678</td>\n",
       "    </tr>\n",
       "    <tr>\n",
       "      <th>^DJI</th>\n",
       "      <td>0.500355</td>\n",
       "      <td>-0.488744</td>\n",
       "      <td>0.003377</td>\n",
       "      <td>1.000000</td>\n",
       "      <td>0.946408</td>\n",
       "      <td>0.571395</td>\n",
       "    </tr>\n",
       "    <tr>\n",
       "      <th>^GDAXI</th>\n",
       "      <td>0.469043</td>\n",
       "      <td>-0.416812</td>\n",
       "      <td>-0.007338</td>\n",
       "      <td>0.946408</td>\n",
       "      <td>1.000000</td>\n",
       "      <td>0.549738</td>\n",
       "    </tr>\n",
       "    <tr>\n",
       "      <th>^IXIC</th>\n",
       "      <td>0.732410</td>\n",
       "      <td>-0.672304</td>\n",
       "      <td>-0.749678</td>\n",
       "      <td>0.571395</td>\n",
       "      <td>0.549738</td>\n",
       "      <td>1.000000</td>\n",
       "    </tr>\n",
       "  </tbody>\n",
       "</table>\n",
       "</div>"
      ],
      "text/plain": [
       "           BTC-USD  DX-Y.NYB       NOG      ^DJI    ^GDAXI     ^IXIC\n",
       "BTC-USD   1.000000 -0.424758 -0.654218  0.500355  0.469043  0.732410\n",
       "DX-Y.NYB -0.424758  1.000000  0.307506 -0.488744 -0.416812 -0.672304\n",
       "NOG      -0.654218  0.307506  1.000000  0.003377 -0.007338 -0.749678\n",
       "^DJI      0.500355 -0.488744  0.003377  1.000000  0.946408  0.571395\n",
       "^GDAXI    0.469043 -0.416812 -0.007338  0.946408  1.000000  0.549738\n",
       "^IXIC     0.732410 -0.672304 -0.749678  0.571395  0.549738  1.000000"
      ]
     },
     "execution_count": 6,
     "metadata": {},
     "output_type": "execute_result"
    }
   ],
   "source": [
    "stock_prices['Close'].corr()"
   ]
  },
  {
   "cell_type": "code",
   "execution_count": 7,
   "metadata": {},
   "outputs": [
    {
     "data": {
      "text/plain": [
       "<AxesSubplot:>"
      ]
     },
     "execution_count": 7,
     "metadata": {},
     "output_type": "execute_result"
    },
    {
     "data": {
      "image/png": "[encoded data removed]",
      "text/plain": [
       "<Figure size 432x288 with 2 Axes>"
      ]
     },
     "metadata": {
      "needs_background": "light"
     },
     "output_type": "display_data"
    }
   ],
   "source": [
    "sns.heatmap(stock_prices['Close'].corr())"
   ]
  },
  {
   "cell_type": "markdown",
   "metadata": {},
   "source": [
    "## Exploratory analysis"
   ]
  },
  {
   "cell_type": "raw",
   "metadata": {
    "scrolled": true
   },
   "source": [
    "data = raw_df['Close']['BTC-USD']\n",
    "plt.plot(data)\n",
    "\n",
    "plt.title('Bitcoin price over time')\n",
    "plt.xlabel('date')\n",
    "plt.ylabel('Price in $')\n",
    "plt.show()"
   ]
  },
  {
   "cell_type": "raw",
   "metadata": {
    "scrolled": true
   },
   "source": [
    "data = raw_df['Volume']['BTC-USD']\n",
    "plt.plot(data)\n",
    "\n",
    "plt.title('Bitcoin volume over time')\n",
    "plt.xlabel('date')\n",
    "plt.ylabel('Price in $')\n",
    "plt.show()"
   ]
  },
  {
   "cell_type": "markdown",
   "metadata": {},
   "source": [
    "## formatting data - from yahoo finance"
   ]
  },
  {
   "cell_type": "code",
   "execution_count": 8,
   "metadata": {},
   "outputs": [],
   "source": [
    "def get_data(indices,keys):\n",
    "    a =[(key,index) for key in keys for index in indices]\n",
    "    return raw_df[a] "
   ]
  },
  {
   "cell_type": "code",
   "execution_count": 9,
   "metadata": {},
   "outputs": [],
   "source": [
    "####### INCLUDE NEW FEATURES HERE ####### \n",
    "df = get_data(['BTC-USD','^DJI', 'NOG','DX-Y.NYB','^GDAXI','^IXIC'],['Close','High','Low','Volume'])  "
   ]
  },
  {
   "cell_type": "code",
   "execution_count": 10,
   "metadata": {},
   "outputs": [
    {
     "data": {
      "text/html": [
       "<div>\n",
       "<style scoped>\n",
       "    .dataframe tbody tr th:only-of-type {\n",
       "        vertical-align: middle;\n",
       "    }\n",
       "\n",
       "    .dataframe tbody tr th {\n",
       "        vertical-align: top;\n",
       "    }\n",
       "\n",
       "    .dataframe thead tr th {\n",
       "        text-align: left;\n",
       "    }\n",
       "\n",
       "    .dataframe thead tr:last-of-type th {\n",
       "        text-align: right;\n",
       "    }\n",
       "</style>\n",
       "<table border=\"1\" class=\"dataframe\">\n",
       "  <thead>\n",
       "    <tr>\n",
       "      <th></th>\n",
       "      <th colspan=\"6\" halign=\"left\">Close</th>\n",
       "      <th colspan=\"4\" halign=\"left\">High</th>\n",
       "      <th>...</th>\n",
       "      <th colspan=\"4\" halign=\"left\">Low</th>\n",
       "      <th colspan=\"6\" halign=\"left\">Volume</th>\n",
       "    </tr>\n",
       "    <tr>\n",
       "      <th></th>\n",
       "      <th>BTC-USD</th>\n",
       "      <th>^DJI</th>\n",
       "      <th>NOG</th>\n",
       "      <th>DX-Y.NYB</th>\n",
       "      <th>^GDAXI</th>\n",
       "      <th>^IXIC</th>\n",
       "      <th>BTC-USD</th>\n",
       "      <th>^DJI</th>\n",
       "      <th>NOG</th>\n",
       "      <th>DX-Y.NYB</th>\n",
       "      <th>...</th>\n",
       "      <th>NOG</th>\n",
       "      <th>DX-Y.NYB</th>\n",
       "      <th>^GDAXI</th>\n",
       "      <th>^IXIC</th>\n",
       "      <th>BTC-USD</th>\n",
       "      <th>^DJI</th>\n",
       "      <th>NOG</th>\n",
       "      <th>DX-Y.NYB</th>\n",
       "      <th>^GDAXI</th>\n",
       "      <th>^IXIC</th>\n",
       "    </tr>\n",
       "    <tr>\n",
       "      <th>Date</th>\n",
       "      <th></th>\n",
       "      <th></th>\n",
       "      <th></th>\n",
       "      <th></th>\n",
       "      <th></th>\n",
       "      <th></th>\n",
       "      <th></th>\n",
       "      <th></th>\n",
       "      <th></th>\n",
       "      <th></th>\n",
       "      <th></th>\n",
       "      <th></th>\n",
       "      <th></th>\n",
       "      <th></th>\n",
       "      <th></th>\n",
       "      <th></th>\n",
       "      <th></th>\n",
       "      <th></th>\n",
       "      <th></th>\n",
       "      <th></th>\n",
       "      <th></th>\n",
       "    </tr>\n",
       "  </thead>\n",
       "  <tbody>\n",
       "    <tr>\n",
       "      <th>2019-01-02</th>\n",
       "      <td>3943.409424</td>\n",
       "      <td>23346.240234</td>\n",
       "      <td>24.5</td>\n",
       "      <td>96.820000</td>\n",
       "      <td>10580.190430</td>\n",
       "      <td>6665.939941</td>\n",
       "      <td>3947.981201</td>\n",
       "      <td>23413.470703</td>\n",
       "      <td>24.5</td>\n",
       "      <td>96.959999</td>\n",
       "      <td>...</td>\n",
       "      <td>21.600000</td>\n",
       "      <td>95.820000</td>\n",
       "      <td>10386.969727</td>\n",
       "      <td>6506.879883</td>\n",
       "      <td>5244856835</td>\n",
       "      <td>321570000.0</td>\n",
       "      <td>354300.0</td>\n",
       "      <td>0.0</td>\n",
       "      <td>79626700.0</td>\n",
       "      <td>2.261800e+09</td>\n",
       "    </tr>\n",
       "    <tr>\n",
       "      <th>2019-01-03</th>\n",
       "      <td>3836.741211</td>\n",
       "      <td>22686.220703</td>\n",
       "      <td>24.4</td>\n",
       "      <td>96.309998</td>\n",
       "      <td>10416.660156</td>\n",
       "      <td>6463.500000</td>\n",
       "      <td>3935.685059</td>\n",
       "      <td>23176.390625</td>\n",
       "      <td>24.9</td>\n",
       "      <td>96.750000</td>\n",
       "      <td>...</td>\n",
       "      <td>23.299999</td>\n",
       "      <td>96.209999</td>\n",
       "      <td>10400.110352</td>\n",
       "      <td>6457.129883</td>\n",
       "      <td>4530215218</td>\n",
       "      <td>424240000.0</td>\n",
       "      <td>280300.0</td>\n",
       "      <td>0.0</td>\n",
       "      <td>84733800.0</td>\n",
       "      <td>2.607290e+09</td>\n",
       "    </tr>\n",
       "    <tr>\n",
       "      <th>2019-01-04</th>\n",
       "      <td>3857.717529</td>\n",
       "      <td>23433.160156</td>\n",
       "      <td>27.1</td>\n",
       "      <td>96.190002</td>\n",
       "      <td>10767.690430</td>\n",
       "      <td>6738.859863</td>\n",
       "      <td>3865.934570</td>\n",
       "      <td>23518.640625</td>\n",
       "      <td>27.4</td>\n",
       "      <td>96.610001</td>\n",
       "      <td>...</td>\n",
       "      <td>24.799999</td>\n",
       "      <td>96.050003</td>\n",
       "      <td>10483.900391</td>\n",
       "      <td>6554.240234</td>\n",
       "      <td>4847965467</td>\n",
       "      <td>396020000.0</td>\n",
       "      <td>485300.0</td>\n",
       "      <td>0.0</td>\n",
       "      <td>95339500.0</td>\n",
       "      <td>2.579550e+09</td>\n",
       "    </tr>\n",
       "  </tbody>\n",
       "</table>\n",
       "<p>3 rows × 24 columns</p>\n",
       "</div>"
      ],
      "text/plain": [
       "                  Close                                               \\\n",
       "                BTC-USD          ^DJI   NOG   DX-Y.NYB        ^GDAXI   \n",
       "Date                                                                   \n",
       "2019-01-02  3943.409424  23346.240234  24.5  96.820000  10580.190430   \n",
       "2019-01-03  3836.741211  22686.220703  24.4  96.309998  10416.660156   \n",
       "2019-01-04  3857.717529  23433.160156  27.1  96.190002  10767.690430   \n",
       "\n",
       "                                High                                 ...  \\\n",
       "                  ^IXIC      BTC-USD          ^DJI   NOG   DX-Y.NYB  ...   \n",
       "Date                                                                 ...   \n",
       "2019-01-02  6665.939941  3947.981201  23413.470703  24.5  96.959999  ...   \n",
       "2019-01-03  6463.500000  3935.685059  23176.390625  24.9  96.750000  ...   \n",
       "2019-01-04  6738.859863  3865.934570  23518.640625  27.4  96.610001  ...   \n",
       "\n",
       "                  Low                                            Volume  \\\n",
       "                  NOG   DX-Y.NYB        ^GDAXI        ^IXIC     BTC-USD   \n",
       "Date                                                                      \n",
       "2019-01-02  21.600000  95.820000  10386.969727  6506.879883  5244856835   \n",
       "2019-01-03  23.299999  96.209999  10400.110352  6457.129883  4530215218   \n",
       "2019-01-04  24.799999  96.050003  10483.900391  6554.240234  4847965467   \n",
       "\n",
       "                                                                      \n",
       "                   ^DJI       NOG DX-Y.NYB      ^GDAXI         ^IXIC  \n",
       "Date                                                                  \n",
       "2019-01-02  321570000.0  354300.0      0.0  79626700.0  2.261800e+09  \n",
       "2019-01-03  424240000.0  280300.0      0.0  84733800.0  2.607290e+09  \n",
       "2019-01-04  396020000.0  485300.0      0.0  95339500.0  2.579550e+09  \n",
       "\n",
       "[3 rows x 24 columns]"
      ]
     },
     "execution_count": 10,
     "metadata": {},
     "output_type": "execute_result"
    }
   ],
   "source": [
    "df.head(3)"
   ]
  },
  {
   "cell_type": "markdown",
   "metadata": {},
   "source": [
    "## Data preprossesing"
   ]
  },
  {
   "cell_type": "markdown",
   "metadata": {},
   "source": [
    "### getting rid of NaNs"
   ]
  },
  {
   "cell_type": "code",
   "execution_count": 11,
   "metadata": {},
   "outputs": [],
   "source": [
    "df = df.fillna(method='ffill')"
   ]
  },
  {
   "cell_type": "markdown",
   "metadata": {},
   "source": [
    "### calculating percentage change of btc_price"
   ]
  },
  {
   "cell_type": "code",
   "execution_count": 12,
   "metadata": {},
   "outputs": [],
   "source": [
    "df['percentage_change_price'] = df['Close']['BTC-USD'].pct_change()"
   ]
  },
  {
   "cell_type": "raw",
   "metadata": {
    "scrolled": false
   },
   "source": [
    "df.head(2)"
   ]
  },
  {
   "cell_type": "code",
   "execution_count": 13,
   "metadata": {
    "scrolled": false
   },
   "outputs": [
    {
     "data": {
      "text/plain": [
       "True     371\n",
       "False    322\n",
       "Name: percentage_change_price, dtype: int64"
      ]
     },
     "execution_count": 13,
     "metadata": {},
     "output_type": "execute_result"
    }
   ],
   "source": [
    "####### CHECK UNBALANCED DATA SET ########\n",
    "(df['percentage_change_price']>0).value_counts()"
   ]
  },
  {
   "cell_type": "markdown",
   "metadata": {},
   "source": [
    "## Transform Date"
   ]
  },
  {
   "cell_type": "code",
   "execution_count": 14,
   "metadata": {},
   "outputs": [
    {
     "data": {
      "text/plain": [
       "MultiIndex(levels=[['Adj Close', 'Close', 'High', 'Low', 'Open', 'Volume', 'Date', 'percentage_change_price'], ['BTC-USD', 'DX-Y.NYB', 'NOG', '^DJI', '^GDAXI', '^IXIC', '']],\n",
       "           codes=[[1, 1, 1, 1, 1, 1, 2, 2, 2, 2, 2, 2, 3, 3, 3, 3, 3, 3, 5, 5, 5, 5, 5, 5, 7], [0, 3, 2, 1, 4, 5, 0, 3, 2, 1, 4, 5, 0, 3, 2, 1, 4, 5, 0, 3, 2, 1, 4, 5, 6]])"
      ]
     },
     "execution_count": 14,
     "metadata": {},
     "output_type": "execute_result"
    }
   ],
   "source": [
    "df.columns"
   ]
  },
  {
   "cell_type": "code",
   "execution_count": 15,
   "metadata": {},
   "outputs": [
    {
     "data": {
      "text/plain": [
       "['Close_BTC-USD',\n",
       " 'Close_^DJI',\n",
       " 'Close_NOG',\n",
       " 'Close_DX-Y.NYB',\n",
       " 'Close_^GDAXI',\n",
       " 'Close_^IXIC',\n",
       " 'High_BTC-USD',\n",
       " 'High_^DJI',\n",
       " 'High_NOG',\n",
       " 'High_DX-Y.NYB',\n",
       " 'High_^GDAXI',\n",
       " 'High_^IXIC',\n",
       " 'Low_BTC-USD',\n",
       " 'Low_^DJI',\n",
       " 'Low_NOG',\n",
       " 'Low_DX-Y.NYB',\n",
       " 'Low_^GDAXI',\n",
       " 'Low_^IXIC',\n",
       " 'Volume_BTC-USD',\n",
       " 'Volume_^DJI',\n",
       " 'Volume_NOG',\n",
       " 'Volume_DX-Y.NYB',\n",
       " 'Volume_^GDAXI',\n",
       " 'Volume_^IXIC',\n",
       " 'percentage_change_price_']"
      ]
     },
     "execution_count": 15,
     "metadata": {},
     "output_type": "execute_result"
    }
   ],
   "source": [
    "new_colum_names = []\n",
    "for el1, el2 in df.columns:\n",
    "    new_colum_names.append(el1 + \"_\" + el2)\n",
    "new_colum_names"
   ]
  },
  {
   "cell_type": "code",
   "execution_count": 16,
   "metadata": {},
   "outputs": [],
   "source": [
    "df.columns = new_colum_names"
   ]
  },
  {
   "cell_type": "code",
   "execution_count": 17,
   "metadata": {},
   "outputs": [],
   "source": [
    "df['Date'] = df.index"
   ]
  },
  {
   "cell_type": "code",
   "execution_count": 18,
   "metadata": {
    "scrolled": true
   },
   "outputs": [],
   "source": [
    "df['Date'] = pd.to_datetime(df['Date'])\n",
    "df['month'] = df['Date'].dt.month\n",
    "\n",
    "df['year'] = df['Date'].dt.year"
   ]
  },
  {
   "cell_type": "raw",
   "metadata": {},
   "source": [
    "# No need -> Endoding : date - TBC\n",
    "month_dummies = pd.get_dummies(df['month'])\n",
    "df = pd.concat([df, month_dummies], axis=1)\n"
   ]
  },
  {
   "cell_type": "code",
   "execution_count": 19,
   "metadata": {},
   "outputs": [
    {
     "data": {
      "text/html": [
       "<div>\n",
       "<style scoped>\n",
       "    .dataframe tbody tr th:only-of-type {\n",
       "        vertical-align: middle;\n",
       "    }\n",
       "\n",
       "    .dataframe tbody tr th {\n",
       "        vertical-align: top;\n",
       "    }\n",
       "\n",
       "    .dataframe thead th {\n",
       "        text-align: right;\n",
       "    }\n",
       "</style>\n",
       "<table border=\"1\" class=\"dataframe\">\n",
       "  <thead>\n",
       "    <tr style=\"text-align: right;\">\n",
       "      <th></th>\n",
       "      <th>Close_BTC-USD</th>\n",
       "      <th>Close_^DJI</th>\n",
       "      <th>Close_NOG</th>\n",
       "      <th>Close_DX-Y.NYB</th>\n",
       "      <th>Close_^GDAXI</th>\n",
       "      <th>Close_^IXIC</th>\n",
       "      <th>High_BTC-USD</th>\n",
       "      <th>High_^DJI</th>\n",
       "      <th>High_NOG</th>\n",
       "      <th>High_DX-Y.NYB</th>\n",
       "      <th>...</th>\n",
       "      <th>Volume_^DJI</th>\n",
       "      <th>Volume_NOG</th>\n",
       "      <th>Volume_DX-Y.NYB</th>\n",
       "      <th>Volume_^GDAXI</th>\n",
       "      <th>Volume_^IXIC</th>\n",
       "      <th>percentage_change_price_</th>\n",
       "      <th>Date</th>\n",
       "      <th>month</th>\n",
       "      <th>year</th>\n",
       "      <th>delta_binary</th>\n",
       "    </tr>\n",
       "    <tr>\n",
       "      <th>Date</th>\n",
       "      <th></th>\n",
       "      <th></th>\n",
       "      <th></th>\n",
       "      <th></th>\n",
       "      <th></th>\n",
       "      <th></th>\n",
       "      <th></th>\n",
       "      <th></th>\n",
       "      <th></th>\n",
       "      <th></th>\n",
       "      <th></th>\n",
       "      <th></th>\n",
       "      <th></th>\n",
       "      <th></th>\n",
       "      <th></th>\n",
       "      <th></th>\n",
       "      <th></th>\n",
       "      <th></th>\n",
       "      <th></th>\n",
       "      <th></th>\n",
       "      <th></th>\n",
       "    </tr>\n",
       "  </thead>\n",
       "  <tbody>\n",
       "    <tr>\n",
       "      <th>2019-01-02</th>\n",
       "      <td>3943.409424</td>\n",
       "      <td>23346.240234</td>\n",
       "      <td>24.5</td>\n",
       "      <td>96.820000</td>\n",
       "      <td>10580.190430</td>\n",
       "      <td>6665.939941</td>\n",
       "      <td>3947.981201</td>\n",
       "      <td>23413.470703</td>\n",
       "      <td>24.5</td>\n",
       "      <td>96.959999</td>\n",
       "      <td>...</td>\n",
       "      <td>321570000.0</td>\n",
       "      <td>354300.0</td>\n",
       "      <td>0.0</td>\n",
       "      <td>79626700.0</td>\n",
       "      <td>2.261800e+09</td>\n",
       "      <td>NaN</td>\n",
       "      <td>2019-01-02</td>\n",
       "      <td>1</td>\n",
       "      <td>2019</td>\n",
       "      <td>0</td>\n",
       "    </tr>\n",
       "    <tr>\n",
       "      <th>2019-01-03</th>\n",
       "      <td>3836.741211</td>\n",
       "      <td>22686.220703</td>\n",
       "      <td>24.4</td>\n",
       "      <td>96.309998</td>\n",
       "      <td>10416.660156</td>\n",
       "      <td>6463.500000</td>\n",
       "      <td>3935.685059</td>\n",
       "      <td>23176.390625</td>\n",
       "      <td>24.9</td>\n",
       "      <td>96.750000</td>\n",
       "      <td>...</td>\n",
       "      <td>424240000.0</td>\n",
       "      <td>280300.0</td>\n",
       "      <td>0.0</td>\n",
       "      <td>84733800.0</td>\n",
       "      <td>2.607290e+09</td>\n",
       "      <td>-0.02705</td>\n",
       "      <td>2019-01-03</td>\n",
       "      <td>1</td>\n",
       "      <td>2019</td>\n",
       "      <td>0</td>\n",
       "    </tr>\n",
       "  </tbody>\n",
       "</table>\n",
       "<p>2 rows × 29 columns</p>\n",
       "</div>"
      ],
      "text/plain": [
       "            Close_BTC-USD    Close_^DJI  Close_NOG  Close_DX-Y.NYB  \\\n",
       "Date                                                                 \n",
       "2019-01-02    3943.409424  23346.240234       24.5       96.820000   \n",
       "2019-01-03    3836.741211  22686.220703       24.4       96.309998   \n",
       "\n",
       "            Close_^GDAXI  Close_^IXIC  High_BTC-USD     High_^DJI  High_NOG  \\\n",
       "Date                                                                          \n",
       "2019-01-02  10580.190430  6665.939941   3947.981201  23413.470703      24.5   \n",
       "2019-01-03  10416.660156  6463.500000   3935.685059  23176.390625      24.9   \n",
       "\n",
       "            High_DX-Y.NYB  ...  Volume_^DJI  Volume_NOG  Volume_DX-Y.NYB  \\\n",
       "Date                       ...                                             \n",
       "2019-01-02      96.959999  ...  321570000.0    354300.0              0.0   \n",
       "2019-01-03      96.750000  ...  424240000.0    280300.0              0.0   \n",
       "\n",
       "            Volume_^GDAXI  Volume_^IXIC  percentage_change_price_       Date  \\\n",
       "Date                                                                           \n",
       "2019-01-02     79626700.0  2.261800e+09                       NaN 2019-01-02   \n",
       "2019-01-03     84733800.0  2.607290e+09                  -0.02705 2019-01-03   \n",
       "\n",
       "            month  year  delta_binary  \n",
       "Date                                   \n",
       "2019-01-02      1  2019             0  \n",
       "2019-01-03      1  2019             0  \n",
       "\n",
       "[2 rows x 29 columns]"
      ]
     },
     "execution_count": 19,
     "metadata": {},
     "output_type": "execute_result"
    }
   ],
   "source": [
    "# Define percentage change in price column\n",
    "df['delta_binary'] = df.percentage_change_price_>0\n",
    "df['delta_binary'] = df['delta_binary'].astype(int)\n",
    "df.head(2)"
   ]
  },
  {
   "cell_type": "code",
   "execution_count": 20,
   "metadata": {},
   "outputs": [
    {
     "data": {
      "text/html": [
       "<div>\n",
       "<style scoped>\n",
       "    .dataframe tbody tr th:only-of-type {\n",
       "        vertical-align: middle;\n",
       "    }\n",
       "\n",
       "    .dataframe tbody tr th {\n",
       "        vertical-align: top;\n",
       "    }\n",
       "\n",
       "    .dataframe thead th {\n",
       "        text-align: right;\n",
       "    }\n",
       "</style>\n",
       "<table border=\"1\" class=\"dataframe\">\n",
       "  <thead>\n",
       "    <tr style=\"text-align: right;\">\n",
       "      <th></th>\n",
       "      <th>percentage_change_price_</th>\n",
       "      <th>delta_binary</th>\n",
       "    </tr>\n",
       "    <tr>\n",
       "      <th>Date</th>\n",
       "      <th></th>\n",
       "      <th></th>\n",
       "    </tr>\n",
       "  </thead>\n",
       "  <tbody>\n",
       "    <tr>\n",
       "      <th>2019-01-02</th>\n",
       "      <td>NaN</td>\n",
       "      <td>0</td>\n",
       "    </tr>\n",
       "    <tr>\n",
       "      <th>2019-01-03</th>\n",
       "      <td>-0.02705</td>\n",
       "      <td>0</td>\n",
       "    </tr>\n",
       "  </tbody>\n",
       "</table>\n",
       "</div>"
      ],
      "text/plain": [
       "            percentage_change_price_  delta_binary\n",
       "Date                                              \n",
       "2019-01-02                       NaN             0\n",
       "2019-01-03                  -0.02705             0"
      ]
     },
     "execution_count": 20,
     "metadata": {},
     "output_type": "execute_result"
    }
   ],
   "source": [
    "df[['percentage_change_price_','delta_binary']].head(2)"
   ]
  },
  {
   "cell_type": "raw",
   "metadata": {},
   "source": [
    "# No need to do that anymore\n",
    "df = df.rename(columns={ 1:\"m_1\", 2: \"m_2\", 3 : \"m_3\", 4 : \"m_4\", 5: 'm_5\"', 6: \"m_6\", 7: \"m_7\", 8: \"m_8\",\\\n",
    "                    9: \"m_9\",10 : \"m_10\",11 : \"m_11\", 12 : \"m_12\"})"
   ]
  },
  {
   "cell_type": "code",
   "execution_count": 21,
   "metadata": {
    "scrolled": true
   },
   "outputs": [
    {
     "data": {
      "text/plain": [
       "Index(['Close_BTC-USD', 'Close_^DJI', 'Close_NOG', 'Close_DX-Y.NYB',\n",
       "       'Close_^GDAXI', 'Close_^IXIC', 'High_BTC-USD', 'High_^DJI', 'High_NOG',\n",
       "       'High_DX-Y.NYB', 'High_^GDAXI', 'High_^IXIC', 'Low_BTC-USD', 'Low_^DJI',\n",
       "       'Low_NOG', 'Low_DX-Y.NYB', 'Low_^GDAXI', 'Low_^IXIC', 'Volume_BTC-USD',\n",
       "       'Volume_^DJI', 'Volume_NOG', 'Volume_DX-Y.NYB', 'Volume_^GDAXI',\n",
       "       'Volume_^IXIC', 'percentage_change_price_', 'Date', 'month', 'year'],\n",
       "      dtype='object')"
      ]
     },
     "execution_count": 21,
     "metadata": {},
     "output_type": "execute_result"
    }
   ],
   "source": [
    "scaled_names = df.columns[:-1]\n",
    "scaled_names"
   ]
  },
  {
   "cell_type": "markdown",
   "metadata": {},
   "source": [
    "## Data Sampling"
   ]
  },
  {
   "cell_type": "markdown",
   "metadata": {},
   "source": [
    "- Out of this very long time-series, we will subsample it into shorter samples, each corresponding to one sequence of data  𝑋𝑖  with its corresponding prediction  𝑦𝑖 .\n",
    "- get_sample -> function to get this random sample\n",
    "\n",
    "Note:\n",
    "  \n",
    "  - **length** corresponds to the lenght of the observed sequence\n",
    "  - **temporal_horizon** corresponds to the number of days between your last seen stock market value and the day you are trying to predict. -> in our case we want to predict for now the day after so tempor_horizon =1"
   ]
  },
  {
   "cell_type": "raw",
   "metadata": {
    "scrolled": false
   },
   "source": [
    "df.shape"
   ]
  },
  {
   "cell_type": "code",
   "execution_count": 22,
   "metadata": {
    "scrolled": true
   },
   "outputs": [],
   "source": [
    "\n",
    "def get_sample(df, length, temporal_horizon):\n",
    "    \n",
    "    features = [col_name for col_name in df.columns if col_name not in {'Date', 'Close_BTC-USD','delta_binary',\n",
    "                                                                        'percentage_change_price_'} ]\n",
    "    \n",
    "    temporal_horizon = temporal_horizon - 1\n",
    "    last_possible = df.shape[0] - temporal_horizon - length\n",
    "\n",
    "    random_start = np.random.randint(0, last_possible)\n",
    "    X_sample = df[features].iloc[random_start: random_start+length].values ## we need to say which features we are using??!\n",
    "    y_sample = df['delta_binary'].iloc[random_start+length+temporal_horizon]\n",
    "    y_before = df['delta_binary'].iloc[random_start+length+temporal_horizon-1]\n",
    "   \n",
    "    return X_sample, y_sample, y_before"
   ]
  },
  {
   "cell_type": "markdown",
   "metadata": {},
   "source": [
    "get_sample(df,1,1)"
   ]
  },
  {
   "cell_type": "markdown",
   "metadata": {},
   "source": [
    "For instance, get_sample(df, 10, 3) returns a first list of **10 stock market values**, and a second value which is the stock market value 3 days after the last seen value."
   ]
  },
  {
   "cell_type": "markdown",
   "metadata": {},
   "source": [
    "## Dataset construction"
   ]
  },
  {
   "cell_type": "markdown",
   "metadata": {},
   "source": [
    "The previous function creates a sample (𝑋𝑖,𝑦𝑖) . If we repeat this operation, we will get multiple samples, that once concatenated will correspond to our entire dataset (𝑋,𝑦) .\n",
    "\n",
    "Create a function get_X_y(data, temporal_horizon, length_of_sequences) that create this dataset.\n",
    "\n",
    "- data corresponds to your input data\n",
    "- temporal_horizon is the number of days between the last seen value and the predicted one\n",
    "- length_of_sequences is a list that corresponds to the length of each sample 𝑋𝑖 : [len(X_1), len(X_2), len(X_3), ..., ] as that each sequence 𝑋𝑖 has no reason to be of the same length as the other one.\n",
    "\n",
    "Hint: This function should use get_sample"
   ]
  },
  {
   "cell_type": "code",
   "execution_count": 23,
   "metadata": {},
   "outputs": [],
   "source": [
    "# create a matrix\n",
    "def get_X_y(df, temporal_horizon, length_of_sequences):\n",
    "    X, y, y_before = [], [], []\n",
    "\n",
    "    for len_ in length_of_sequences:\n",
    "        xi, yi, y_bi = get_sample(df, len_, temporal_horizon)\n",
    "        X.append(xi)\n",
    "        y.append(yi)\n",
    "        y_before.append(y_bi)\n",
    "        \n",
    "    return X, np.array(y), np.array(y_before)"
   ]
  },
  {
   "cell_type": "markdown",
   "metadata": {},
   "source": [
    " - Write a function given a dataframe, a temporal horizon and a list of sequence length outputs the padded train and test set.\n",
    " - To have a batch_size larger than one, we need to **pad** our data_ purely engineering reason\n",
    " "
   ]
  },
  {
   "cell_type": "code",
   "execution_count": 24,
   "metadata": {},
   "outputs": [],
   "source": [
    "from sklearn.model_selection import train_test_split\n",
    "\n",
    "def generate_data(df_train, df_test, temporal_horizon, min_len, max_len):\n",
    "      \n",
    "    length_of_sequences_train = np.random.randint(min_len, max_len, len(df_train)) \n",
    "    length_of_sequences_test = np.random.randint(min_len, max_len, len(df_test)) \n",
    "    \n",
    "    # Train \n",
    "    X_train, y_train, y_b_train = get_X_y(df_train, temporal_horizon, length_of_sequences_train)\n",
    "    X_train = pad_sequences(X_train, padding='post', dtype='float32')\n",
    "   \n",
    "    # Test\n",
    "    X_test, y_test, y_b_test = get_X_y(df_test, temporal_horizon, length_of_sequences_test)\n",
    "    X_test = pad_sequences(X_test, padding='post', dtype='float32')\n",
    "    \n",
    "    return X_train, X_test, y_train, y_test, y_b_test, y_b_train"
   ]
  },
  {
   "cell_type": "markdown",
   "metadata": {},
   "source": [
    "- Generate data with a temporal horizon of 1 days, and 100 time-series of 10 to 10 seen days ."
   ]
  },
  {
   "cell_type": "markdown",
   "metadata": {},
   "source": [
    "## Split data"
   ]
  },
  {
   "cell_type": "code",
   "execution_count": 25,
   "metadata": {},
   "outputs": [],
   "source": [
    "from tensorflow.keras.preprocessing.sequence import pad_sequences\n",
    "\n",
    "# Splitting 80/20\n",
    "start = 1 # do a for loop\n",
    "index = round((len(df)-start)*.8)\n",
    "\n",
    "# Past\n",
    "df_train = df.iloc[start:index+start]\n",
    "\n",
    "#Future\n",
    "df_test = df.iloc[start+index:]\n",
    "\n",
    "\n",
    "temporal_horizon = 1 # -> predict the day after\n",
    "min_len = 20\n",
    "max_len = 30\n",
    "#(group 10 days,group of 20 days , # observations each time)\n"
   ]
  },
  {
   "cell_type": "code",
   "execution_count": 26,
   "metadata": {},
   "outputs": [],
   "source": [
    "#df.head(2)"
   ]
  },
  {
   "cell_type": "code",
   "execution_count": 27,
   "metadata": {
    "scrolled": true
   },
   "outputs": [],
   "source": [
    "df_test = df_test.drop(columns = 'Date')\n",
    "df = df.drop(columns = ['Date'])"
   ]
  },
  {
   "cell_type": "code",
   "execution_count": 28,
   "metadata": {},
   "outputs": [],
   "source": [
    "df_train = df_train.drop(columns = 'Date')"
   ]
  },
  {
   "cell_type": "markdown",
   "metadata": {},
   "source": [
    "df_test.dtypes"
   ]
  },
  {
   "cell_type": "code",
   "execution_count": null,
   "metadata": {},
   "outputs": [],
   "source": []
  },
  {
   "cell_type": "markdown",
   "metadata": {},
   "source": [
    "## Feature scaling"
   ]
  },
  {
   "cell_type": "markdown",
   "metadata": {},
   "source": [
    "##### Fetaure scaling: only on train data ######"
   ]
  },
  {
   "cell_type": "raw",
   "metadata": {},
   "source": [
    "df.columns"
   ]
  },
  {
   "cell_type": "raw",
   "metadata": {},
   "source": [
    "df_test.shape,df_train.shape"
   ]
  },
  {
   "cell_type": "code",
   "execution_count": 29,
   "metadata": {
    "scrolled": true
   },
   "outputs": [],
   "source": [
    "# Scaling: MinMaxScaler\n",
    "from sklearn.preprocessing import MinMaxScaler\n",
    "\n",
    "#features_list = [col_name for col_name in df.columns if col_name not in {'Date', 'Close'} ]\n",
    "\n",
    "# normalizing features\n",
    "normalizer_features = MinMaxScaler()\n",
    "normalizer_features.fit(df_train)\n",
    "scaled_df = pd.DataFrame(normalizer_features.transform(df))\n",
    "\n",
    "# mormalizing output/target\n",
    "#normalizer_output = MinMaxScaler()\n",
    "#normalizer_output.fit(df_train[['percentage_change_price']])\n",
    "#scaled_df['percentage_change_price'] = normalizer_output.transform(df[['percentage_change_price']])\n",
    "scaled_df['delta_binary'] = df.reset_index()[['delta_binary']]\n",
    "\n",
    "# not normalizing, uncomment this\n",
    "# scaled_df = df"
   ]
  },
  {
   "cell_type": "raw",
   "metadata": {
    "scrolled": true
   },
   "source": [
    "scaled_df['delta_binary']"
   ]
  },
  {
   "cell_type": "raw",
   "metadata": {},
   "source": [
    "scaled_df.head(5)"
   ]
  },
  {
   "cell_type": "markdown",
   "metadata": {},
   "source": [
    "## Generate data sequences"
   ]
  },
  {
   "cell_type": "raw",
   "metadata": {},
   "source": [
    "scaled_df.head(1)"
   ]
  },
  {
   "cell_type": "code",
   "execution_count": 30,
   "metadata": {},
   "outputs": [],
   "source": [
    "scaled_df_train, scaled_df_test = scaled_df.iloc[start:(index+start)], scaled_df.iloc[start+index:]"
   ]
  },
  {
   "cell_type": "code",
   "execution_count": 31,
   "metadata": {},
   "outputs": [],
   "source": [
    "X_train, X_test, y_train, y_test, y_b_test, y_b_train = generate_data(scaled_df_train,\n",
    "                                                    scaled_df_test, temporal_horizon, min_len, max_len)"
   ]
  },
  {
   "cell_type": "code",
   "execution_count": 32,
   "metadata": {},
   "outputs": [
    {
     "name": "stdout",
     "output_type": "stream",
     "text": [
      "(554, 29, 28)\n",
      "(138, 29, 28)\n",
      "(554,)\n",
      "(138,)\n",
      "(554,)\n",
      "(138,)\n"
     ]
    }
   ],
   "source": [
    "print(X_train.shape)\n",
    "print(X_test.shape)\n",
    "print(y_train.shape)\n",
    "print(y_test.shape)\n",
    "print(y_b_train.shape)\n",
    "print(y_b_test.shape)"
   ]
  },
  {
   "cell_type": "raw",
   "metadata": {},
   "source": [
    "y_test"
   ]
  },
  {
   "cell_type": "markdown",
   "metadata": {},
   "source": [
    "## Baseline model: LSTM with feature scaling "
   ]
  },
  {
   "cell_type": "markdown",
   "metadata": {},
   "source": [
    "- LSTM: Introduced to prevent the vanishing gradient: for **long** time-series, the gradient (of the backpropagation, during the optimizer updates) vanished to 0."
   ]
  },
  {
   "cell_type": "code",
   "execution_count": 33,
   "metadata": {},
   "outputs": [],
   "source": [
    "from tensorflow.keras.models import Sequential\n",
    "from tensorflow.keras import layers\n",
    "\n",
    "def init_model():\n",
    "\n",
    "    model = Sequential()\n",
    "    model.add(layers.Masking())\n",
    "    model.add(layers.LSTM(7, activation='tanh'))\n",
    "    model.add(layers.Dense(10, activation='relu'))\n",
    "    model.add(layers.Dense(1, activation='sigmoid'))\n",
    "    \n",
    "    model.compile(loss='binary_crossentropy', \n",
    "                  optimizer='rmsprop', \n",
    "                  metrics=['accuracy'])# find loss an penalizing negative or positive results - alternatives to mae\n",
    "                                  # mae weighted\n",
    "    return model\n"
   ]
  },
  {
   "cell_type": "code",
   "execution_count": 34,
   "metadata": {
    "scrolled": true
   },
   "outputs": [
    {
     "name": "stdout",
     "output_type": "stream",
     "text": [
      "Epoch 1/10000\n",
      "28/28 [==============================] - 9s 331ms/step - loss: 0.6940 - accuracy: 0.5011 - val_loss: 0.7083 - val_accuracy: 0.4234\n",
      "Epoch 2/10000\n",
      "28/28 [==============================] - 1s 53ms/step - loss: 0.6920 - accuracy: 0.5327 - val_loss: 0.6967 - val_accuracy: 0.4144\n",
      "Epoch 3/10000\n",
      "28/28 [==============================] - 2s 57ms/step - loss: 0.6909 - accuracy: 0.5395 - val_loss: 0.6964 - val_accuracy: 0.4144\n",
      "Epoch 4/10000\n",
      "28/28 [==============================] - 2s 55ms/step - loss: 0.6867 - accuracy: 0.5711 - val_loss: 0.7120 - val_accuracy: 0.3964\n",
      "Epoch 5/10000\n",
      "28/28 [==============================] - 2s 59ms/step - loss: 0.6873 - accuracy: 0.5350 - val_loss: 0.6966 - val_accuracy: 0.4414\n",
      "Epoch 6/10000\n",
      "28/28 [==============================] - 2s 57ms/step - loss: 0.6847 - accuracy: 0.5756 - val_loss: 0.6974 - val_accuracy: 0.4685\n",
      "Epoch 7/10000\n",
      "28/28 [==============================] - 1s 53ms/step - loss: 0.6825 - accuracy: 0.5643 - val_loss: 0.6962 - val_accuracy: 0.4865\n",
      "Epoch 8/10000\n",
      "28/28 [==============================] - 2s 56ms/step - loss: 0.6799 - accuracy: 0.5824 - val_loss: 0.7014 - val_accuracy: 0.4505\n",
      "Epoch 9/10000\n",
      "28/28 [==============================] - 2s 54ms/step - loss: 0.6779 - accuracy: 0.5914 - val_loss: 0.6973 - val_accuracy: 0.5405\n",
      "Epoch 10/10000\n",
      "28/28 [==============================] - 2s 57ms/step - loss: 0.6760 - accuracy: 0.5959 - val_loss: 0.6999 - val_accuracy: 0.5225\n",
      "Epoch 11/10000\n",
      "28/28 [==============================] - 2s 56ms/step - loss: 0.6739 - accuracy: 0.5959 - val_loss: 0.6992 - val_accuracy: 0.5405\n",
      "Epoch 12/10000\n",
      "28/28 [==============================] - 2s 58ms/step - loss: 0.6734 - accuracy: 0.6005 - val_loss: 0.7009 - val_accuracy: 0.5586\n",
      "Epoch 13/10000\n",
      "28/28 [==============================] - 2s 56ms/step - loss: 0.6718 - accuracy: 0.6027 - val_loss: 0.7011 - val_accuracy: 0.5676\n",
      "Epoch 14/10000\n",
      "28/28 [==============================] - 2s 55ms/step - loss: 0.6671 - accuracy: 0.6275 - val_loss: 0.7450 - val_accuracy: 0.3874\n",
      "Epoch 15/10000\n",
      "28/28 [==============================] - 2s 60ms/step - loss: 0.6701 - accuracy: 0.6050 - val_loss: 0.7016 - val_accuracy: 0.5315\n",
      "Epoch 16/10000\n",
      "28/28 [==============================] - 2s 63ms/step - loss: 0.6684 - accuracy: 0.6163 - val_loss: 0.7174 - val_accuracy: 0.4685\n",
      "Epoch 17/10000\n",
      "28/28 [==============================] - 2s 59ms/step - loss: 0.6697 - accuracy: 0.6117 - val_loss: 0.7111 - val_accuracy: 0.5045\n",
      "Epoch 18/10000\n",
      "28/28 [==============================] - 2s 54ms/step - loss: 0.6662 - accuracy: 0.6117 - val_loss: 0.7068 - val_accuracy: 0.5586\n",
      "Epoch 19/10000\n",
      "28/28 [==============================] - 2s 56ms/step - loss: 0.6663 - accuracy: 0.6275 - val_loss: 0.7194 - val_accuracy: 0.4595\n",
      "Epoch 20/10000\n",
      "28/28 [==============================] - 2s 61ms/step - loss: 0.6656 - accuracy: 0.6230 - val_loss: 0.7258 - val_accuracy: 0.4595\n",
      "Epoch 21/10000\n",
      "28/28 [==============================] - 2s 54ms/step - loss: 0.6661 - accuracy: 0.6050 - val_loss: 0.7066 - val_accuracy: 0.5315\n",
      "Epoch 22/10000\n",
      "28/28 [==============================] - 2s 57ms/step - loss: 0.6653 - accuracy: 0.6050 - val_loss: 0.7114 - val_accuracy: 0.5586\n",
      "Epoch 23/10000\n",
      "28/28 [==============================] - 2s 55ms/step - loss: 0.6646 - accuracy: 0.6072 - val_loss: 0.7107 - val_accuracy: 0.5495\n",
      "Epoch 24/10000\n",
      "28/28 [==============================] - 2s 58ms/step - loss: 0.6642 - accuracy: 0.6321 - val_loss: 0.7080 - val_accuracy: 0.5495\n",
      "Epoch 25/10000\n",
      "28/28 [==============================] - 2s 55ms/step - loss: 0.6631 - accuracy: 0.6095 - val_loss: 0.7176 - val_accuracy: 0.4955\n",
      "Epoch 26/10000\n",
      "28/28 [==============================] - 2s 54ms/step - loss: 0.6611 - accuracy: 0.6095 - val_loss: 0.7265 - val_accuracy: 0.4775\n",
      "Epoch 27/10000\n",
      "28/28 [==============================] - 2s 55ms/step - loss: 0.6629 - accuracy: 0.6095 - val_loss: 0.7211 - val_accuracy: 0.4595\n",
      "Epoch 28/10000\n",
      "28/28 [==============================] - 1s 51ms/step - loss: 0.6640 - accuracy: 0.6185 - val_loss: 0.7000 - val_accuracy: 0.5315\n",
      "Epoch 29/10000\n",
      "28/28 [==============================] - 1s 50ms/step - loss: 0.6621 - accuracy: 0.6208 - val_loss: 0.7094 - val_accuracy: 0.5135\n",
      "Epoch 30/10000\n",
      "28/28 [==============================] - 1s 50ms/step - loss: 0.6578 - accuracy: 0.6095 - val_loss: 0.7009 - val_accuracy: 0.5766\n",
      "Epoch 31/10000\n",
      "28/28 [==============================] - 1s 51ms/step - loss: 0.6569 - accuracy: 0.6117 - val_loss: 0.7155 - val_accuracy: 0.4865\n",
      "Epoch 32/10000\n",
      "28/28 [==============================] - 1s 52ms/step - loss: 0.6602 - accuracy: 0.6072 - val_loss: 0.7020 - val_accuracy: 0.5586\n",
      "Epoch 33/10000\n",
      "28/28 [==============================] - 1s 51ms/step - loss: 0.6577 - accuracy: 0.6050 - val_loss: 0.7022 - val_accuracy: 0.5405\n",
      "Epoch 34/10000\n",
      "28/28 [==============================] - 1s 52ms/step - loss: 0.6557 - accuracy: 0.6185 - val_loss: 0.6987 - val_accuracy: 0.5495\n",
      "Epoch 35/10000\n",
      "28/28 [==============================] - 2s 56ms/step - loss: 0.6575 - accuracy: 0.5982 - val_loss: 0.7076 - val_accuracy: 0.5225\n",
      "Epoch 36/10000\n",
      "28/28 [==============================] - 2s 58ms/step - loss: 0.6533 - accuracy: 0.6163 - val_loss: 0.7119 - val_accuracy: 0.5045\n",
      "Epoch 37/10000\n",
      "28/28 [==============================] - 1s 51ms/step - loss: 0.6540 - accuracy: 0.6050 - val_loss: 0.7227 - val_accuracy: 0.4775\n",
      "Epoch 38/10000\n",
      "28/28 [==============================] - 2s 57ms/step - loss: 0.6516 - accuracy: 0.6072 - val_loss: 0.6946 - val_accuracy: 0.5676\n",
      "Epoch 39/10000\n",
      "28/28 [==============================] - 2s 56ms/step - loss: 0.6481 - accuracy: 0.6298 - val_loss: 0.7003 - val_accuracy: 0.5405\n",
      "Epoch 40/10000\n",
      "28/28 [==============================] - 1s 51ms/step - loss: 0.6484 - accuracy: 0.6298 - val_loss: 0.7014 - val_accuracy: 0.5405\n",
      "Epoch 41/10000\n",
      "28/28 [==============================] - 1s 51ms/step - loss: 0.6426 - accuracy: 0.6230 - val_loss: 0.7051 - val_accuracy: 0.5405\n",
      "Epoch 42/10000\n",
      "28/28 [==============================] - 1s 52ms/step - loss: 0.6452 - accuracy: 0.6095 - val_loss: 0.6998 - val_accuracy: 0.5766\n",
      "Epoch 43/10000\n",
      "28/28 [==============================] - 2s 60ms/step - loss: 0.6425 - accuracy: 0.6163 - val_loss: 0.6839 - val_accuracy: 0.5676\n",
      "Epoch 44/10000\n",
      "28/28 [==============================] - 2s 62ms/step - loss: 0.6399 - accuracy: 0.6253 - val_loss: 0.6952 - val_accuracy: 0.5766\n",
      "Epoch 45/10000\n",
      "28/28 [==============================] - 2s 56ms/step - loss: 0.6357 - accuracy: 0.6298 - val_loss: 0.7115 - val_accuracy: 0.5135\n",
      "Epoch 46/10000\n",
      "28/28 [==============================] - 2s 61ms/step - loss: 0.6360 - accuracy: 0.6253 - val_loss: 0.7061 - val_accuracy: 0.5135\n",
      "Epoch 47/10000\n",
      "28/28 [==============================] - 2s 60ms/step - loss: 0.6322 - accuracy: 0.6411 - val_loss: 0.6873 - val_accuracy: 0.5766\n",
      "Epoch 48/10000\n",
      "28/28 [==============================] - 1s 53ms/step - loss: 0.6325 - accuracy: 0.6275 - val_loss: 0.6911 - val_accuracy: 0.5586\n",
      "Epoch 49/10000\n",
      "28/28 [==============================] - 2s 56ms/step - loss: 0.6329 - accuracy: 0.6275 - val_loss: 0.7026 - val_accuracy: 0.5495\n",
      "Epoch 50/10000\n",
      "28/28 [==============================] - 2s 60ms/step - loss: 0.6277 - accuracy: 0.6321 - val_loss: 0.6918 - val_accuracy: 0.5856\n",
      "Epoch 51/10000\n",
      "28/28 [==============================] - 2s 61ms/step - loss: 0.6283 - accuracy: 0.6479 - val_loss: 0.7580 - val_accuracy: 0.4144\n",
      "Epoch 52/10000\n",
      "28/28 [==============================] - 2s 62ms/step - loss: 0.6229 - accuracy: 0.6614 - val_loss: 0.6811 - val_accuracy: 0.5405\n",
      "Epoch 53/10000\n",
      "28/28 [==============================] - 1s 52ms/step - loss: 0.6290 - accuracy: 0.6185 - val_loss: 0.6864 - val_accuracy: 0.5495\n",
      "Epoch 54/10000\n",
      "28/28 [==============================] - 1s 53ms/step - loss: 0.6279 - accuracy: 0.6275 - val_loss: 0.6816 - val_accuracy: 0.5586\n",
      "Epoch 55/10000\n",
      "28/28 [==============================] - 1s 52ms/step - loss: 0.6186 - accuracy: 0.6411 - val_loss: 0.6966 - val_accuracy: 0.5676\n",
      "Epoch 56/10000\n",
      "28/28 [==============================] - 1s 50ms/step - loss: 0.6234 - accuracy: 0.6253 - val_loss: 0.6780 - val_accuracy: 0.5586\n",
      "Epoch 57/10000\n",
      "28/28 [==============================] - 1s 51ms/step - loss: 0.6230 - accuracy: 0.6275 - val_loss: 0.6763 - val_accuracy: 0.5856\n",
      "Epoch 58/10000\n",
      "28/28 [==============================] - 1s 52ms/step - loss: 0.6191 - accuracy: 0.6208 - val_loss: 0.6770 - val_accuracy: 0.5766\n",
      "Epoch 59/10000\n",
      "28/28 [==============================] - 1s 53ms/step - loss: 0.6182 - accuracy: 0.6569 - val_loss: 0.7548 - val_accuracy: 0.4685\n",
      "Epoch 60/10000\n",
      "28/28 [==============================] - 1s 52ms/step - loss: 0.6240 - accuracy: 0.6388 - val_loss: 0.6903 - val_accuracy: 0.6126\n",
      "Epoch 61/10000\n",
      "28/28 [==============================] - 1s 53ms/step - loss: 0.6167 - accuracy: 0.6411 - val_loss: 0.6766 - val_accuracy: 0.6036\n",
      "Epoch 62/10000\n",
      "28/28 [==============================] - 2s 59ms/step - loss: 0.6090 - accuracy: 0.6524 - val_loss: 0.7670 - val_accuracy: 0.4505\n",
      "Epoch 63/10000\n",
      "28/28 [==============================] - 2s 57ms/step - loss: 0.6219 - accuracy: 0.6456 - val_loss: 0.7508 - val_accuracy: 0.4505\n",
      "Epoch 64/10000\n",
      "28/28 [==============================] - 1s 50ms/step - loss: 0.6163 - accuracy: 0.6546 - val_loss: 0.6777 - val_accuracy: 0.5766\n",
      "Epoch 65/10000\n",
      "28/28 [==============================] - 1s 52ms/step - loss: 0.6127 - accuracy: 0.6501 - val_loss: 0.6758 - val_accuracy: 0.5856\n",
      "Epoch 66/10000\n",
      "28/28 [==============================] - 1s 51ms/step - loss: 0.6115 - accuracy: 0.6433 - val_loss: 0.6681 - val_accuracy: 0.6306\n",
      "Epoch 67/10000\n",
      "28/28 [==============================] - 1s 49ms/step - loss: 0.6070 - accuracy: 0.6795 - val_loss: 0.6917 - val_accuracy: 0.6667\n",
      "Epoch 68/10000\n",
      "28/28 [==============================] - 2s 55ms/step - loss: 0.6065 - accuracy: 0.6456 - val_loss: 0.6674 - val_accuracy: 0.6757\n",
      "Epoch 69/10000\n",
      "28/28 [==============================] - 1s 52ms/step - loss: 0.6049 - accuracy: 0.6411 - val_loss: 0.6755 - val_accuracy: 0.5946\n",
      "Epoch 70/10000\n",
      "28/28 [==============================] - 1s 52ms/step - loss: 0.6052 - accuracy: 0.6546 - val_loss: 0.6762 - val_accuracy: 0.6216\n",
      "Epoch 71/10000\n",
      "28/28 [==============================] - 1s 52ms/step - loss: 0.6018 - accuracy: 0.6614 - val_loss: 0.6798 - val_accuracy: 0.6126\n",
      "Epoch 72/10000\n",
      "28/28 [==============================] - 1s 52ms/step - loss: 0.6041 - accuracy: 0.6569 - val_loss: 0.6710 - val_accuracy: 0.6306\n",
      "Epoch 73/10000\n",
      "28/28 [==============================] - 1s 51ms/step - loss: 0.6036 - accuracy: 0.6321 - val_loss: 0.7524 - val_accuracy: 0.5135\n",
      "Epoch 74/10000\n",
      "28/28 [==============================] - 1s 50ms/step - loss: 0.6049 - accuracy: 0.6524 - val_loss: 0.6879 - val_accuracy: 0.6577\n",
      "Epoch 75/10000\n",
      "28/28 [==============================] - 1s 53ms/step - loss: 0.5951 - accuracy: 0.6862 - val_loss: 0.6689 - val_accuracy: 0.6486\n",
      "Epoch 76/10000\n",
      "28/28 [==============================] - 1s 53ms/step - loss: 0.6051 - accuracy: 0.6388 - val_loss: 0.7141 - val_accuracy: 0.5946\n",
      "Epoch 77/10000\n",
      "28/28 [==============================] - 1s 52ms/step - loss: 0.5979 - accuracy: 0.6569 - val_loss: 0.6990 - val_accuracy: 0.5946\n",
      "Epoch 78/10000\n",
      "28/28 [==============================] - 2s 56ms/step - loss: 0.6022 - accuracy: 0.6614 - val_loss: 0.6615 - val_accuracy: 0.6667\n",
      "Epoch 79/10000\n",
      "28/28 [==============================] - 1s 53ms/step - loss: 0.6056 - accuracy: 0.6637 - val_loss: 0.6910 - val_accuracy: 0.6126\n",
      "Epoch 80/10000\n",
      "28/28 [==============================] - 1s 52ms/step - loss: 0.6019 - accuracy: 0.6388 - val_loss: 0.6945 - val_accuracy: 0.5856\n",
      "Epoch 81/10000\n",
      "28/28 [==============================] - 2s 54ms/step - loss: 0.6038 - accuracy: 0.6366 - val_loss: 0.6802 - val_accuracy: 0.6757\n",
      "Epoch 82/10000\n",
      "28/28 [==============================] - 1s 53ms/step - loss: 0.5897 - accuracy: 0.6772 - val_loss: 0.6798 - val_accuracy: 0.6216\n",
      "Epoch 83/10000\n",
      "28/28 [==============================] - 1s 53ms/step - loss: 0.6006 - accuracy: 0.6682 - val_loss: 0.6621 - val_accuracy: 0.6396\n",
      "Epoch 84/10000\n",
      "28/28 [==============================] - 1s 52ms/step - loss: 0.5989 - accuracy: 0.6614 - val_loss: 0.6795 - val_accuracy: 0.6577\n",
      "Epoch 85/10000\n",
      "28/28 [==============================] - 1s 53ms/step - loss: 0.5979 - accuracy: 0.6637 - val_loss: 0.6715 - val_accuracy: 0.6486\n",
      "Epoch 86/10000\n",
      "28/28 [==============================] - 1s 53ms/step - loss: 0.5969 - accuracy: 0.6682 - val_loss: 0.6691 - val_accuracy: 0.6577\n",
      "Epoch 87/10000\n",
      "28/28 [==============================] - 1s 52ms/step - loss: 0.5922 - accuracy: 0.6772 - val_loss: 0.7022 - val_accuracy: 0.6306\n",
      "Epoch 88/10000\n",
      "28/28 [==============================] - 2s 54ms/step - loss: 0.5949 - accuracy: 0.6524 - val_loss: 0.6726 - val_accuracy: 0.6306\n",
      "Epoch 89/10000\n",
      "28/28 [==============================] - 1s 53ms/step - loss: 0.5953 - accuracy: 0.6366 - val_loss: 0.6744 - val_accuracy: 0.6667\n",
      "Epoch 90/10000\n",
      "28/28 [==============================] - 1s 53ms/step - loss: 0.5869 - accuracy: 0.6659 - val_loss: 0.7039 - val_accuracy: 0.5946\n",
      "Epoch 91/10000\n",
      "28/28 [==============================] - 2s 54ms/step - loss: 0.6047 - accuracy: 0.6727 - val_loss: 0.6785 - val_accuracy: 0.6306\n",
      "Epoch 92/10000\n",
      "28/28 [==============================] - 1s 53ms/step - loss: 0.5916 - accuracy: 0.6772 - val_loss: 0.6685 - val_accuracy: 0.6577\n",
      "Epoch 93/10000\n",
      "28/28 [==============================] - 1s 52ms/step - loss: 0.5887 - accuracy: 0.6795 - val_loss: 0.7031 - val_accuracy: 0.5586\n",
      "Epoch 94/10000\n",
      "28/28 [==============================] - 2s 58ms/step - loss: 0.5832 - accuracy: 0.6659 - val_loss: 0.6899 - val_accuracy: 0.6577\n",
      "Epoch 95/10000\n",
      "28/28 [==============================] - 2s 57ms/step - loss: 0.5801 - accuracy: 0.6591 - val_loss: 0.6729 - val_accuracy: 0.6216\n",
      "Epoch 96/10000\n",
      "28/28 [==============================] - 2s 60ms/step - loss: 0.5978 - accuracy: 0.6569 - val_loss: 0.6798 - val_accuracy: 0.6396\n",
      "Epoch 97/10000\n",
      "28/28 [==============================] - 1s 53ms/step - loss: 0.5852 - accuracy: 0.6772 - val_loss: 0.6860 - val_accuracy: 0.6396\n",
      "Epoch 98/10000\n",
      "28/28 [==============================] - 1s 53ms/step - loss: 0.5874 - accuracy: 0.6704 - val_loss: 0.6851 - val_accuracy: 0.6577\n",
      "Epoch 99/10000\n",
      "28/28 [==============================] - 1s 52ms/step - loss: 0.5885 - accuracy: 0.6795 - val_loss: 0.6917 - val_accuracy: 0.6667\n",
      "Epoch 100/10000\n",
      "28/28 [==============================] - 2s 54ms/step - loss: 0.5917 - accuracy: 0.6659 - val_loss: 0.6939 - val_accuracy: 0.6396\n",
      "Epoch 101/10000\n",
      "28/28 [==============================] - 1s 53ms/step - loss: 0.5816 - accuracy: 0.6817 - val_loss: 0.6771 - val_accuracy: 0.6396\n",
      "Epoch 102/10000\n",
      "28/28 [==============================] - 1s 52ms/step - loss: 0.5856 - accuracy: 0.6727 - val_loss: 0.6889 - val_accuracy: 0.6396\n",
      "Epoch 103/10000\n",
      "28/28 [==============================] - 1s 52ms/step - loss: 0.6122 - accuracy: 0.6208 - val_loss: 0.7021 - val_accuracy: 0.6667\n",
      "Epoch 104/10000\n",
      "28/28 [==============================] - 1s 52ms/step - loss: 0.5836 - accuracy: 0.6749 - val_loss: 0.7242 - val_accuracy: 0.5586\n",
      "Epoch 105/10000\n",
      "28/28 [==============================] - 1s 53ms/step - loss: 0.5922 - accuracy: 0.6614 - val_loss: 0.6841 - val_accuracy: 0.6757\n",
      "Epoch 106/10000\n",
      "28/28 [==============================] - 2s 54ms/step - loss: 0.5834 - accuracy: 0.6862 - val_loss: 0.6934 - val_accuracy: 0.5856\n",
      "Epoch 107/10000\n",
      "28/28 [==============================] - 1s 52ms/step - loss: 0.5837 - accuracy: 0.7020 - val_loss: 0.6712 - val_accuracy: 0.6396\n",
      "Epoch 108/10000\n",
      "28/28 [==============================] - 2s 54ms/step - loss: 0.5836 - accuracy: 0.6840 - val_loss: 0.6645 - val_accuracy: 0.6486\n",
      "Epoch 109/10000\n",
      "28/28 [==============================] - 1s 51ms/step - loss: 0.5796 - accuracy: 0.6659 - val_loss: 0.6886 - val_accuracy: 0.6036\n",
      "Epoch 110/10000\n",
      "28/28 [==============================] - 1s 52ms/step - loss: 0.5772 - accuracy: 0.6907 - val_loss: 0.6714 - val_accuracy: 0.6667\n",
      "Epoch 111/10000\n",
      "28/28 [==============================] - 2s 54ms/step - loss: 0.5785 - accuracy: 0.6501 - val_loss: 0.6808 - val_accuracy: 0.6667\n",
      "Epoch 112/10000\n",
      "28/28 [==============================] - 2s 54ms/step - loss: 0.5778 - accuracy: 0.6772 - val_loss: 0.6736 - val_accuracy: 0.6216\n",
      "Epoch 113/10000\n"
     ]
    },
    {
     "name": "stdout",
     "output_type": "stream",
     "text": [
      "28/28 [==============================] - 2s 54ms/step - loss: 0.5827 - accuracy: 0.6772 - val_loss: 0.7796 - val_accuracy: 0.5405\n",
      "Epoch 114/10000\n",
      "28/28 [==============================] - 1s 51ms/step - loss: 0.5864 - accuracy: 0.7111 - val_loss: 0.6602 - val_accuracy: 0.6486\n",
      "Epoch 115/10000\n",
      "28/28 [==============================] - 2s 54ms/step - loss: 0.5853 - accuracy: 0.6727 - val_loss: 0.6658 - val_accuracy: 0.6216\n",
      "Epoch 116/10000\n",
      "28/28 [==============================] - 1s 52ms/step - loss: 0.5725 - accuracy: 0.6727 - val_loss: 0.6934 - val_accuracy: 0.5766\n",
      "Epoch 117/10000\n",
      "28/28 [==============================] - 2s 56ms/step - loss: 0.5756 - accuracy: 0.6772 - val_loss: 0.6882 - val_accuracy: 0.6126\n",
      "Epoch 118/10000\n",
      "28/28 [==============================] - 1s 51ms/step - loss: 0.5674 - accuracy: 0.6862 - val_loss: 0.7624 - val_accuracy: 0.5495\n",
      "Epoch 119/10000\n",
      "28/28 [==============================] - 1s 52ms/step - loss: 0.5756 - accuracy: 0.6975 - val_loss: 0.6779 - val_accuracy: 0.6577\n",
      "Epoch 120/10000\n",
      "28/28 [==============================] - 1s 53ms/step - loss: 0.5782 - accuracy: 0.6998 - val_loss: 0.6776 - val_accuracy: 0.6937\n",
      "Epoch 121/10000\n",
      "28/28 [==============================] - 1s 53ms/step - loss: 0.5773 - accuracy: 0.6772 - val_loss: 0.6774 - val_accuracy: 0.6847\n",
      "Epoch 122/10000\n",
      "28/28 [==============================] - 1s 50ms/step - loss: 0.5825 - accuracy: 0.6862 - val_loss: 0.6675 - val_accuracy: 0.6486\n",
      "Epoch 123/10000\n",
      "28/28 [==============================] - 1s 52ms/step - loss: 0.5745 - accuracy: 0.6840 - val_loss: 0.7074 - val_accuracy: 0.5856\n",
      "Epoch 124/10000\n",
      "28/28 [==============================] - 1s 51ms/step - loss: 0.5774 - accuracy: 0.6998 - val_loss: 0.6992 - val_accuracy: 0.6036\n",
      "Epoch 125/10000\n",
      "28/28 [==============================] - 1s 51ms/step - loss: 0.5792 - accuracy: 0.6953 - val_loss: 0.6823 - val_accuracy: 0.6306\n",
      "Epoch 126/10000\n",
      "28/28 [==============================] - 1s 50ms/step - loss: 0.5746 - accuracy: 0.6749 - val_loss: 0.6789 - val_accuracy: 0.5946\n",
      "Epoch 127/10000\n",
      "28/28 [==============================] - 1s 51ms/step - loss: 0.5681 - accuracy: 0.7043 - val_loss: 0.6952 - val_accuracy: 0.6126\n",
      "Epoch 128/10000\n",
      "28/28 [==============================] - 1s 53ms/step - loss: 0.5792 - accuracy: 0.6998 - val_loss: 0.6825 - val_accuracy: 0.6036\n",
      "Epoch 129/10000\n",
      "28/28 [==============================] - 1s 52ms/step - loss: 0.5647 - accuracy: 0.7111 - val_loss: 0.6906 - val_accuracy: 0.6667\n",
      "Epoch 130/10000\n",
      "28/28 [==============================] - 2s 55ms/step - loss: 0.5775 - accuracy: 0.6885 - val_loss: 0.6993 - val_accuracy: 0.6306\n",
      "Epoch 131/10000\n",
      "28/28 [==============================] - 2s 54ms/step - loss: 0.5752 - accuracy: 0.6907 - val_loss: 0.6695 - val_accuracy: 0.6577\n",
      "Epoch 132/10000\n",
      "28/28 [==============================] - 1s 53ms/step - loss: 0.5701 - accuracy: 0.6840 - val_loss: 0.6795 - val_accuracy: 0.6847\n",
      "Epoch 133/10000\n",
      "28/28 [==============================] - 1s 52ms/step - loss: 0.5611 - accuracy: 0.6907 - val_loss: 0.7098 - val_accuracy: 0.6306\n",
      "Epoch 134/10000\n",
      "28/28 [==============================] - 1s 52ms/step - loss: 0.5734 - accuracy: 0.7020 - val_loss: 0.6588 - val_accuracy: 0.6486\n",
      "Epoch 135/10000\n",
      "28/28 [==============================] - 1s 51ms/step - loss: 0.5723 - accuracy: 0.6840 - val_loss: 0.6636 - val_accuracy: 0.6847\n",
      "Epoch 136/10000\n",
      "28/28 [==============================] - 1s 54ms/step - loss: 0.5707 - accuracy: 0.6795 - val_loss: 0.7187 - val_accuracy: 0.6126\n",
      "Epoch 137/10000\n",
      "28/28 [==============================] - 1s 53ms/step - loss: 0.5744 - accuracy: 0.6772 - val_loss: 0.6882 - val_accuracy: 0.6036\n",
      "Epoch 138/10000\n",
      "28/28 [==============================] - 2s 54ms/step - loss: 0.5640 - accuracy: 0.6907 - val_loss: 0.7251 - val_accuracy: 0.5766\n",
      "Epoch 139/10000\n",
      "28/28 [==============================] - 1s 52ms/step - loss: 0.5672 - accuracy: 0.6795 - val_loss: 0.6632 - val_accuracy: 0.7117\n",
      "Epoch 140/10000\n",
      "28/28 [==============================] - 2s 54ms/step - loss: 0.5674 - accuracy: 0.7065 - val_loss: 0.6643 - val_accuracy: 0.6486\n",
      "Epoch 141/10000\n",
      "28/28 [==============================] - 1s 51ms/step - loss: 0.5631 - accuracy: 0.7043 - val_loss: 0.7829 - val_accuracy: 0.5495\n",
      "Epoch 142/10000\n",
      "28/28 [==============================] - 1s 54ms/step - loss: 0.5696 - accuracy: 0.7088 - val_loss: 0.6887 - val_accuracy: 0.5766\n",
      "Epoch 143/10000\n",
      "28/28 [==============================] - 2s 56ms/step - loss: 0.5711 - accuracy: 0.6998 - val_loss: 0.6706 - val_accuracy: 0.6667\n",
      "Epoch 144/10000\n",
      "28/28 [==============================] - 2s 55ms/step - loss: 0.5678 - accuracy: 0.7156 - val_loss: 0.6989 - val_accuracy: 0.5856\n",
      "Epoch 145/10000\n",
      "28/28 [==============================] - 2s 56ms/step - loss: 0.5704 - accuracy: 0.6772 - val_loss: 0.6839 - val_accuracy: 0.6036\n",
      "Epoch 146/10000\n",
      "28/28 [==============================] - 1s 53ms/step - loss: 0.5623 - accuracy: 0.7201 - val_loss: 0.7029 - val_accuracy: 0.6577\n",
      "Epoch 147/10000\n",
      "28/28 [==============================] - 1s 53ms/step - loss: 0.5701 - accuracy: 0.6885 - val_loss: 0.6686 - val_accuracy: 0.6757\n",
      "Epoch 148/10000\n",
      "28/28 [==============================] - 1s 53ms/step - loss: 0.5971 - accuracy: 0.6704 - val_loss: 0.7011 - val_accuracy: 0.6486\n",
      "Epoch 149/10000\n",
      "28/28 [==============================] - 2s 54ms/step - loss: 0.5928 - accuracy: 0.6704 - val_loss: 0.6657 - val_accuracy: 0.6757\n",
      "Epoch 150/10000\n",
      "28/28 [==============================] - 1s 53ms/step - loss: 0.5762 - accuracy: 0.6907 - val_loss: 0.6892 - val_accuracy: 0.6757\n",
      "Epoch 151/10000\n",
      "28/28 [==============================] - 2s 54ms/step - loss: 0.5548 - accuracy: 0.6975 - val_loss: 0.6883 - val_accuracy: 0.6667\n",
      "Epoch 152/10000\n",
      "28/28 [==============================] - 2s 54ms/step - loss: 0.5680 - accuracy: 0.6930 - val_loss: 0.6820 - val_accuracy: 0.6486\n",
      "Epoch 153/10000\n",
      "28/28 [==============================] - 2s 55ms/step - loss: 0.5620 - accuracy: 0.7133 - val_loss: 0.6833 - val_accuracy: 0.6216\n",
      "Epoch 154/10000\n",
      "28/28 [==============================] - 2s 58ms/step - loss: 0.5681 - accuracy: 0.6930 - val_loss: 0.6613 - val_accuracy: 0.6937\n",
      "Epoch 155/10000\n",
      "28/28 [==============================] - 1s 53ms/step - loss: 0.5596 - accuracy: 0.7088 - val_loss: 0.6734 - val_accuracy: 0.5946\n",
      "Epoch 156/10000\n",
      "28/28 [==============================] - 2s 55ms/step - loss: 0.5596 - accuracy: 0.6998 - val_loss: 0.6723 - val_accuracy: 0.6577\n",
      "Epoch 157/10000\n",
      "28/28 [==============================] - 2s 57ms/step - loss: 0.5633 - accuracy: 0.7065 - val_loss: 0.6629 - val_accuracy: 0.6577\n",
      "Epoch 158/10000\n",
      "28/28 [==============================] - 2s 54ms/step - loss: 0.5564 - accuracy: 0.7156 - val_loss: 0.6838 - val_accuracy: 0.6486\n",
      "Epoch 159/10000\n",
      "28/28 [==============================] - 2s 54ms/step - loss: 0.5651 - accuracy: 0.6907 - val_loss: 0.6857 - val_accuracy: 0.6486\n",
      "Epoch 160/10000\n",
      "28/28 [==============================] - 2s 55ms/step - loss: 0.5551 - accuracy: 0.6907 - val_loss: 0.7398 - val_accuracy: 0.6036\n",
      "Epoch 161/10000\n",
      "28/28 [==============================] - 2s 58ms/step - loss: 0.5600 - accuracy: 0.7088 - val_loss: 0.6750 - val_accuracy: 0.6486\n",
      "Epoch 162/10000\n",
      "28/28 [==============================] - 1s 50ms/step - loss: 0.5654 - accuracy: 0.7133 - val_loss: 0.6943 - val_accuracy: 0.6306\n",
      "Epoch 163/10000\n",
      "28/28 [==============================] - 1s 51ms/step - loss: 0.5597 - accuracy: 0.6998 - val_loss: 0.6909 - val_accuracy: 0.5856\n",
      "Epoch 164/10000\n",
      "28/28 [==============================] - 1s 52ms/step - loss: 0.5646 - accuracy: 0.7111 - val_loss: 0.7419 - val_accuracy: 0.5766\n",
      "Epoch 165/10000\n",
      "28/28 [==============================] - 1s 53ms/step - loss: 0.5668 - accuracy: 0.7020 - val_loss: 0.7006 - val_accuracy: 0.6036\n",
      "Epoch 166/10000\n",
      "28/28 [==============================] - 1s 52ms/step - loss: 0.5679 - accuracy: 0.6930 - val_loss: 0.7158 - val_accuracy: 0.5676\n",
      "Epoch 167/10000\n",
      "28/28 [==============================] - 1s 53ms/step - loss: 0.5578 - accuracy: 0.7020 - val_loss: 0.6950 - val_accuracy: 0.6126\n",
      "Epoch 168/10000\n",
      "28/28 [==============================] - 1s 53ms/step - loss: 0.5568 - accuracy: 0.6930 - val_loss: 0.7516 - val_accuracy: 0.5586\n",
      "Epoch 169/10000\n",
      "28/28 [==============================] - 1s 52ms/step - loss: 0.5510 - accuracy: 0.7223 - val_loss: 0.6716 - val_accuracy: 0.6577\n",
      "Epoch 170/10000\n",
      "28/28 [==============================] - 1s 51ms/step - loss: 0.5620 - accuracy: 0.6998 - val_loss: 0.6984 - val_accuracy: 0.5946\n",
      "Epoch 171/10000\n",
      "28/28 [==============================] - 1s 51ms/step - loss: 0.5554 - accuracy: 0.7156 - val_loss: 0.7066 - val_accuracy: 0.5495\n",
      "Epoch 172/10000\n",
      "28/28 [==============================] - 1s 52ms/step - loss: 0.5619 - accuracy: 0.6998 - val_loss: 0.6965 - val_accuracy: 0.6396\n",
      "Epoch 173/10000\n",
      "28/28 [==============================] - 1s 51ms/step - loss: 0.5539 - accuracy: 0.7088 - val_loss: 0.6615 - val_accuracy: 0.6396\n",
      "Epoch 174/10000\n",
      "28/28 [==============================] - ETA: 0s - loss: 0.5823 - accuracy: 0.6817Restoring model weights from the end of the best epoch.\n",
      "28/28 [==============================] - 1s 51ms/step - loss: 0.5823 - accuracy: 0.6817 - val_loss: 0.6756 - val_accuracy: 0.6396\n",
      "Epoch 00174: early stopping\n"
     ]
    }
   ],
   "source": [
    "# Fit the model\n",
    "from tensorflow.keras.callbacks import EarlyStopping\n",
    "\n",
    "model = init_model()\n",
    "\n",
    "es = EarlyStopping(patience=40, mode='min', verbose=1, monitor='val_loss',restore_best_weights=True)\n",
    "# patience = 30 - > if my algorithm doesnt improve my performance for a certain number of iterations \n",
    "# (patience) stop the fitting process, return the weights as they are\n",
    "\n",
    "history = model.fit(X_train,y_train,\n",
    "          batch_size=16,\n",
    "          epochs=10000, # iteration through your data\n",
    "          validation_split=0.2,\n",
    "          callbacks=[es],\n",
    "          verbose=1)"
   ]
  },
  {
   "cell_type": "markdown",
   "metadata": {},
   "source": [
    "#history.history"
   ]
  },
  {
   "cell_type": "code",
   "execution_count": 35,
   "metadata": {
    "scrolled": false
   },
   "outputs": [
    {
     "data": {
      "image/png": "[encoded data removed]",
      "text/plain": [
       "<Figure size 432x288 with 1 Axes>"
      ]
     },
     "metadata": {
      "needs_background": "light"
     },
     "output_type": "display_data"
    },
    {
     "data": {
      "image/png": "[encoded data removed]",
      "text/plain": [
       "<Figure size 432x288 with 1 Axes>"
      ]
     },
     "metadata": {
      "needs_background": "light"
     },
     "output_type": "display_data"
    }
   ],
   "source": [
    "\n",
    "def plot_loss(history):\n",
    "    plt.plot(history.history['loss'])\n",
    "    plt.plot(history.history['val_loss'])\n",
    "    plt.title('Model loss')\n",
    "    plt.ylabel('Binary_crossentropy - Loss')\n",
    "    plt.xlabel('Epoch')\n",
    "    plt.legend(['Train', 'Validation'], loc='best')\n",
    "    plt.show()\n",
    "    \n",
    "    plt.plot(history.history['accuracy'])\n",
    "    plt.plot(history.history['val_accuracy'])\n",
    "    plt.title('Model loss')\n",
    "    plt.ylabel('Accuracy')\n",
    "    plt.xlabel('Epoch')\n",
    "    plt.legend(['Train', 'Validation'], loc='best')\n",
    "    plt.show()\n",
    "    \n",
    "plot_loss(history)"
   ]
  },
  {
   "cell_type": "raw",
   "metadata": {
    "scrolled": true
   },
   "source": [
    "model.metrics_names"
   ]
  },
  {
   "cell_type": "code",
   "execution_count": 36,
   "metadata": {
    "scrolled": false
   },
   "outputs": [
    {
     "name": "stdout",
     "output_type": "stream",
     "text": [
      "5/5 [==============================] - 0s 9ms/step - loss: 0.6641 - accuracy: 0.5942\n",
      "Loss on the test set : 0.66408241\n",
      "Accuracy on the test set : 0.59420288\n"
     ]
    }
   ],
   "source": [
    "y_pred = model.predict(X_test)\n",
    "res = model.evaluate(X_test,y_test)\n",
    "print(f'Loss on the test set : {res[0]:.8f}')\n",
    "print(f'Accuracy on the test set : {res[1]:.8f}')"
   ]
  }
 ],
 "metadata": {
  "kernelspec": {
   "display_name": "Python 3",
   "language": "python",
   "name": "python3"
  },
  "language_info": {
   "codemirror_mode": {
    "name": "ipython",
    "version": 3
   },
   "file_extension": ".py",
   "mimetype": "text/x-python",
   "name": "python",
   "nbconvert_exporter": "python",
   "pygments_lexer": "ipython3",
   "version": "3.7.7"
  },
  "toc": {
   "base_numbering": 1,
   "nav_menu": {},
   "number_sections": true,
   "sideBar": true,
   "skip_h1_title": false,
   "title_cell": "Table of Contents",
   "title_sidebar": "Contents",
   "toc_cell": false,
   "toc_position": {
    "height": "calc(100% - 180px)",
    "left": "10px",
    "top": "150px",
    "width": "351.375px"
   },
   "toc_section_display": true,
   "toc_window_display": false
  }
 },
 "nbformat": 4,
 "nbformat_minor": 4
}
