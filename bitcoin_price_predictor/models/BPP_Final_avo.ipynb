{
 "cells": [
  {
   "cell_type": "markdown",
   "metadata": {},
   "source": [
    "# Bitcoin price predictor using RNN"
   ]
  },
  {
   "cell_type": "markdown",
   "metadata": {},
   "source": [
    "## Load data"
   ]
  },
  {
   "cell_type": "code",
   "execution_count": 1,
   "metadata": {
    "ExecuteTime": {
     "end_time": "2020-11-24T22:36:41.003973Z",
     "start_time": "2020-11-24T22:36:39.354541Z"
    },
    "scrolled": true
   },
   "outputs": [],
   "source": [
    "import pandas as pd\n",
    "import numpy as np\n",
    "np.random.seed(123)\n",
    "import matplotlib.pyplot as plt\n",
    "%matplotlib inline\n",
    "import random\n",
    "random.seed(123)\n",
    "import seaborn as sns\n",
    "import datetime\n",
    "from datetime import date\n",
    "import yfinance as yf"
   ]
  },
  {
   "cell_type": "code",
   "execution_count": 2,
   "metadata": {
    "ExecuteTime": {
     "end_time": "2020-11-24T22:36:41.568251Z",
     "start_time": "2020-11-24T22:36:41.007037Z"
    }
   },
   "outputs": [
    {
     "name": "stdout",
     "output_type": "stream",
     "text": [
      "[*********************100%***********************]  8 of 8 completed\n"
     ]
    }
   ],
   "source": [
    "########## DOWNLOAD DATA DIRECTLY FROM YAHOO FINANCE ##########\n",
    "stocks = ['BTC-USD','^GSPC','DX-Y.NYB','^IXIC','GOOG','BTC=F','^KS11','000001.SS'] #### ADD FEATURES HERE ####\n",
    "end = datetime.date.today()\n",
    "start = datetime.datetime(2019,11,1)\n",
    "stock_prices = yf.download(stocks,start=start,end = end, interval='1d')"
   ]
  },
  {
   "cell_type": "code",
   "execution_count": 3,
   "metadata": {
    "ExecuteTime": {
     "end_time": "2020-11-24T22:36:41.612517Z",
     "start_time": "2020-11-24T22:36:41.571243Z"
    }
   },
   "outputs": [
    {
     "data": {
      "text/html": [
       "<div>\n",
       "<style scoped>\n",
       "    .dataframe tbody tr th:only-of-type {\n",
       "        vertical-align: middle;\n",
       "    }\n",
       "\n",
       "    .dataframe tbody tr th {\n",
       "        vertical-align: top;\n",
       "    }\n",
       "\n",
       "    .dataframe thead tr th {\n",
       "        text-align: left;\n",
       "    }\n",
       "\n",
       "    .dataframe thead tr:last-of-type th {\n",
       "        text-align: right;\n",
       "    }\n",
       "</style>\n",
       "<table border=\"1\" class=\"dataframe\">\n",
       "  <thead>\n",
       "    <tr>\n",
       "      <th></th>\n",
       "      <th colspan=\"8\" halign=\"left\">Adj Close</th>\n",
       "      <th colspan=\"2\" halign=\"left\">Close</th>\n",
       "      <th>...</th>\n",
       "      <th colspan=\"2\" halign=\"left\">Open</th>\n",
       "      <th colspan=\"8\" halign=\"left\">Volume</th>\n",
       "    </tr>\n",
       "    <tr>\n",
       "      <th></th>\n",
       "      <th>000001.SS</th>\n",
       "      <th>BTC-USD</th>\n",
       "      <th>BTC=F</th>\n",
       "      <th>DX-Y.NYB</th>\n",
       "      <th>GOOG</th>\n",
       "      <th>^GSPC</th>\n",
       "      <th>^IXIC</th>\n",
       "      <th>^KS11</th>\n",
       "      <th>000001.SS</th>\n",
       "      <th>BTC-USD</th>\n",
       "      <th>...</th>\n",
       "      <th>^IXIC</th>\n",
       "      <th>^KS11</th>\n",
       "      <th>000001.SS</th>\n",
       "      <th>BTC-USD</th>\n",
       "      <th>BTC=F</th>\n",
       "      <th>DX-Y.NYB</th>\n",
       "      <th>GOOG</th>\n",
       "      <th>^GSPC</th>\n",
       "      <th>^IXIC</th>\n",
       "      <th>^KS11</th>\n",
       "    </tr>\n",
       "    <tr>\n",
       "      <th>Date</th>\n",
       "      <th></th>\n",
       "      <th></th>\n",
       "      <th></th>\n",
       "      <th></th>\n",
       "      <th></th>\n",
       "      <th></th>\n",
       "      <th></th>\n",
       "      <th></th>\n",
       "      <th></th>\n",
       "      <th></th>\n",
       "      <th></th>\n",
       "      <th></th>\n",
       "      <th></th>\n",
       "      <th></th>\n",
       "      <th></th>\n",
       "      <th></th>\n",
       "      <th></th>\n",
       "      <th></th>\n",
       "      <th></th>\n",
       "      <th></th>\n",
       "      <th></th>\n",
       "    </tr>\n",
       "  </thead>\n",
       "  <tbody>\n",
       "    <tr>\n",
       "      <th>2019-11-01</th>\n",
       "      <td>2958.199951</td>\n",
       "      <td>9261.104492</td>\n",
       "      <td>9235.0</td>\n",
       "      <td>97.230003</td>\n",
       "      <td>1273.739990</td>\n",
       "      <td>3066.909912</td>\n",
       "      <td>8386.400391</td>\n",
       "      <td>2100.199951</td>\n",
       "      <td>2958.199951</td>\n",
       "      <td>9261.104492</td>\n",
       "      <td>...</td>\n",
       "      <td>8335.049805</td>\n",
       "      <td>2084.790039</td>\n",
       "      <td>159900.0</td>\n",
       "      <td>24324691031</td>\n",
       "      <td>2641.0</td>\n",
       "      <td>0.0</td>\n",
       "      <td>1670100.0</td>\n",
       "      <td>3.930200e+09</td>\n",
       "      <td>2.057310e+09</td>\n",
       "      <td>418300.0</td>\n",
       "    </tr>\n",
       "    <tr>\n",
       "      <th>2019-11-02</th>\n",
       "      <td>NaN</td>\n",
       "      <td>9324.717773</td>\n",
       "      <td>NaN</td>\n",
       "      <td>NaN</td>\n",
       "      <td>NaN</td>\n",
       "      <td>NaN</td>\n",
       "      <td>NaN</td>\n",
       "      <td>NaN</td>\n",
       "      <td>NaN</td>\n",
       "      <td>9324.717773</td>\n",
       "      <td>...</td>\n",
       "      <td>NaN</td>\n",
       "      <td>NaN</td>\n",
       "      <td>NaN</td>\n",
       "      <td>21242676385</td>\n",
       "      <td>NaN</td>\n",
       "      <td>NaN</td>\n",
       "      <td>NaN</td>\n",
       "      <td>NaN</td>\n",
       "      <td>NaN</td>\n",
       "      <td>NaN</td>\n",
       "    </tr>\n",
       "    <tr>\n",
       "      <th>2019-11-03</th>\n",
       "      <td>NaN</td>\n",
       "      <td>9235.354492</td>\n",
       "      <td>NaN</td>\n",
       "      <td>NaN</td>\n",
       "      <td>NaN</td>\n",
       "      <td>NaN</td>\n",
       "      <td>NaN</td>\n",
       "      <td>NaN</td>\n",
       "      <td>NaN</td>\n",
       "      <td>9235.354492</td>\n",
       "      <td>...</td>\n",
       "      <td>NaN</td>\n",
       "      <td>NaN</td>\n",
       "      <td>NaN</td>\n",
       "      <td>21132220847</td>\n",
       "      <td>NaN</td>\n",
       "      <td>NaN</td>\n",
       "      <td>NaN</td>\n",
       "      <td>NaN</td>\n",
       "      <td>NaN</td>\n",
       "      <td>NaN</td>\n",
       "    </tr>\n",
       "    <tr>\n",
       "      <th>2019-11-04</th>\n",
       "      <td>2975.489990</td>\n",
       "      <td>9412.612305</td>\n",
       "      <td>9565.0</td>\n",
       "      <td>97.510002</td>\n",
       "      <td>1291.369995</td>\n",
       "      <td>3078.270020</td>\n",
       "      <td>8433.200195</td>\n",
       "      <td>2130.239990</td>\n",
       "      <td>2975.489990</td>\n",
       "      <td>9412.612305</td>\n",
       "      <td>...</td>\n",
       "      <td>8445.500000</td>\n",
       "      <td>2111.320068</td>\n",
       "      <td>167200.0</td>\n",
       "      <td>26170255634</td>\n",
       "      <td>3453.0</td>\n",
       "      <td>0.0</td>\n",
       "      <td>1501000.0</td>\n",
       "      <td>4.146850e+09</td>\n",
       "      <td>2.149910e+09</td>\n",
       "      <td>476300.0</td>\n",
       "    </tr>\n",
       "    <tr>\n",
       "      <th>2019-11-05</th>\n",
       "      <td>2991.560059</td>\n",
       "      <td>9342.527344</td>\n",
       "      <td>9420.0</td>\n",
       "      <td>97.980003</td>\n",
       "      <td>1292.030029</td>\n",
       "      <td>3074.620117</td>\n",
       "      <td>8434.679688</td>\n",
       "      <td>2142.639893</td>\n",
       "      <td>2991.560059</td>\n",
       "      <td>9342.527344</td>\n",
       "      <td>...</td>\n",
       "      <td>8446.620117</td>\n",
       "      <td>2133.659912</td>\n",
       "      <td>179900.0</td>\n",
       "      <td>26198609047</td>\n",
       "      <td>2875.0</td>\n",
       "      <td>0.0</td>\n",
       "      <td>1282700.0</td>\n",
       "      <td>4.486130e+09</td>\n",
       "      <td>2.316710e+09</td>\n",
       "      <td>400600.0</td>\n",
       "    </tr>\n",
       "  </tbody>\n",
       "</table>\n",
       "<p>5 rows × 48 columns</p>\n",
       "</div>"
      ],
      "text/plain": [
       "              Adj Close                                               \\\n",
       "              000001.SS      BTC-USD   BTC=F   DX-Y.NYB         GOOG   \n",
       "Date                                                                   \n",
       "2019-11-01  2958.199951  9261.104492  9235.0  97.230003  1273.739990   \n",
       "2019-11-02          NaN  9324.717773     NaN        NaN          NaN   \n",
       "2019-11-03          NaN  9235.354492     NaN        NaN          NaN   \n",
       "2019-11-04  2975.489990  9412.612305  9565.0  97.510002  1291.369995   \n",
       "2019-11-05  2991.560059  9342.527344  9420.0  97.980003  1292.030029   \n",
       "\n",
       "                                                         Close               \\\n",
       "                  ^GSPC        ^IXIC        ^KS11    000001.SS      BTC-USD   \n",
       "Date                                                                          \n",
       "2019-11-01  3066.909912  8386.400391  2100.199951  2958.199951  9261.104492   \n",
       "2019-11-02          NaN          NaN          NaN          NaN  9324.717773   \n",
       "2019-11-03          NaN          NaN          NaN          NaN  9235.354492   \n",
       "2019-11-04  3078.270020  8433.200195  2130.239990  2975.489990  9412.612305   \n",
       "2019-11-05  3074.620117  8434.679688  2142.639893  2991.560059  9342.527344   \n",
       "\n",
       "            ...         Open                 Volume                       \\\n",
       "            ...        ^IXIC        ^KS11 000001.SS      BTC-USD   BTC=F   \n",
       "Date        ...                                                            \n",
       "2019-11-01  ...  8335.049805  2084.790039  159900.0  24324691031  2641.0   \n",
       "2019-11-02  ...          NaN          NaN       NaN  21242676385     NaN   \n",
       "2019-11-03  ...          NaN          NaN       NaN  21132220847     NaN   \n",
       "2019-11-04  ...  8445.500000  2111.320068  167200.0  26170255634  3453.0   \n",
       "2019-11-05  ...  8446.620117  2133.659912  179900.0  26198609047  2875.0   \n",
       "\n",
       "                                                                      \n",
       "           DX-Y.NYB       GOOG         ^GSPC         ^IXIC     ^KS11  \n",
       "Date                                                                  \n",
       "2019-11-01      0.0  1670100.0  3.930200e+09  2.057310e+09  418300.0  \n",
       "2019-11-02      NaN        NaN           NaN           NaN       NaN  \n",
       "2019-11-03      NaN        NaN           NaN           NaN       NaN  \n",
       "2019-11-04      0.0  1501000.0  4.146850e+09  2.149910e+09  476300.0  \n",
       "2019-11-05      0.0  1282700.0  4.486130e+09  2.316710e+09  400600.0  \n",
       "\n",
       "[5 rows x 48 columns]"
      ]
     },
     "execution_count": 3,
     "metadata": {},
     "output_type": "execute_result"
    }
   ],
   "source": [
    "raw_df = stock_prices\n",
    "raw_df.head(5)"
   ]
  },
  {
   "cell_type": "code",
   "execution_count": 4,
   "metadata": {
    "ExecuteTime": {
     "end_time": "2020-11-24T22:36:41.620485Z",
     "start_time": "2020-11-24T22:36:41.614827Z"
    }
   },
   "outputs": [],
   "source": [
    "raw_df['Date'] =  raw_df.index"
   ]
  },
  {
   "cell_type": "code",
   "execution_count": 5,
   "metadata": {
    "ExecuteTime": {
     "end_time": "2020-11-24T22:36:41.629493Z",
     "start_time": "2020-11-24T22:36:41.622613Z"
    }
   },
   "outputs": [],
   "source": [
    "raw_df['Date'] = pd.to_datetime(raw_df['Date'])"
   ]
  },
  {
   "cell_type": "markdown",
   "metadata": {},
   "source": [
    "## Check features correlation with BITCOIN "
   ]
  },
  {
   "cell_type": "code",
   "execution_count": 6,
   "metadata": {
    "ExecuteTime": {
     "end_time": "2020-11-24T22:36:41.643485Z",
     "start_time": "2020-11-24T22:36:41.631676Z"
    },
    "scrolled": true
   },
   "outputs": [
    {
     "data": {
      "text/html": [
       "<div>\n",
       "<style scoped>\n",
       "    .dataframe tbody tr th:only-of-type {\n",
       "        vertical-align: middle;\n",
       "    }\n",
       "\n",
       "    .dataframe tbody tr th {\n",
       "        vertical-align: top;\n",
       "    }\n",
       "\n",
       "    .dataframe thead th {\n",
       "        text-align: right;\n",
       "    }\n",
       "</style>\n",
       "<table border=\"1\" class=\"dataframe\">\n",
       "  <thead>\n",
       "    <tr style=\"text-align: right;\">\n",
       "      <th></th>\n",
       "      <th>000001.SS</th>\n",
       "      <th>BTC-USD</th>\n",
       "      <th>BTC=F</th>\n",
       "      <th>DX-Y.NYB</th>\n",
       "      <th>GOOG</th>\n",
       "      <th>^GSPC</th>\n",
       "      <th>^IXIC</th>\n",
       "      <th>^KS11</th>\n",
       "    </tr>\n",
       "  </thead>\n",
       "  <tbody>\n",
       "    <tr>\n",
       "      <th>000001.SS</th>\n",
       "      <td>1.000000</td>\n",
       "      <td>0.719462</td>\n",
       "      <td>0.719330</td>\n",
       "      <td>-0.901404</td>\n",
       "      <td>0.802687</td>\n",
       "      <td>0.770758</td>\n",
       "      <td>0.889007</td>\n",
       "      <td>0.824519</td>\n",
       "    </tr>\n",
       "    <tr>\n",
       "      <th>BTC-USD</th>\n",
       "      <td>0.719462</td>\n",
       "      <td>1.000000</td>\n",
       "      <td>0.998666</td>\n",
       "      <td>-0.758327</td>\n",
       "      <td>0.877832</td>\n",
       "      <td>0.730924</td>\n",
       "      <td>0.849910</td>\n",
       "      <td>0.777889</td>\n",
       "    </tr>\n",
       "    <tr>\n",
       "      <th>BTC=F</th>\n",
       "      <td>0.719330</td>\n",
       "      <td>0.998666</td>\n",
       "      <td>1.000000</td>\n",
       "      <td>-0.757852</td>\n",
       "      <td>0.877129</td>\n",
       "      <td>0.733214</td>\n",
       "      <td>0.848698</td>\n",
       "      <td>0.777914</td>\n",
       "    </tr>\n",
       "    <tr>\n",
       "      <th>DX-Y.NYB</th>\n",
       "      <td>-0.901404</td>\n",
       "      <td>-0.758327</td>\n",
       "      <td>-0.757852</td>\n",
       "      <td>1.000000</td>\n",
       "      <td>-0.777180</td>\n",
       "      <td>-0.782485</td>\n",
       "      <td>-0.882620</td>\n",
       "      <td>-0.857360</td>\n",
       "    </tr>\n",
       "    <tr>\n",
       "      <th>GOOG</th>\n",
       "      <td>0.802687</td>\n",
       "      <td>0.877832</td>\n",
       "      <td>0.877129</td>\n",
       "      <td>-0.777180</td>\n",
       "      <td>1.000000</td>\n",
       "      <td>0.895609</td>\n",
       "      <td>0.927435</td>\n",
       "      <td>0.878716</td>\n",
       "    </tr>\n",
       "    <tr>\n",
       "      <th>^GSPC</th>\n",
       "      <td>0.770758</td>\n",
       "      <td>0.730924</td>\n",
       "      <td>0.733214</td>\n",
       "      <td>-0.782485</td>\n",
       "      <td>0.895609</td>\n",
       "      <td>1.000000</td>\n",
       "      <td>0.856393</td>\n",
       "      <td>0.963131</td>\n",
       "    </tr>\n",
       "    <tr>\n",
       "      <th>^IXIC</th>\n",
       "      <td>0.889007</td>\n",
       "      <td>0.849910</td>\n",
       "      <td>0.848698</td>\n",
       "      <td>-0.882620</td>\n",
       "      <td>0.927435</td>\n",
       "      <td>0.856393</td>\n",
       "      <td>1.000000</td>\n",
       "      <td>0.880036</td>\n",
       "    </tr>\n",
       "    <tr>\n",
       "      <th>^KS11</th>\n",
       "      <td>0.824519</td>\n",
       "      <td>0.777889</td>\n",
       "      <td>0.777914</td>\n",
       "      <td>-0.857360</td>\n",
       "      <td>0.878716</td>\n",
       "      <td>0.963131</td>\n",
       "      <td>0.880036</td>\n",
       "      <td>1.000000</td>\n",
       "    </tr>\n",
       "  </tbody>\n",
       "</table>\n",
       "</div>"
      ],
      "text/plain": [
       "           000001.SS   BTC-USD     BTC=F  DX-Y.NYB      GOOG     ^GSPC  \\\n",
       "000001.SS   1.000000  0.719462  0.719330 -0.901404  0.802687  0.770758   \n",
       "BTC-USD     0.719462  1.000000  0.998666 -0.758327  0.877832  0.730924   \n",
       "BTC=F       0.719330  0.998666  1.000000 -0.757852  0.877129  0.733214   \n",
       "DX-Y.NYB   -0.901404 -0.758327 -0.757852  1.000000 -0.777180 -0.782485   \n",
       "GOOG        0.802687  0.877832  0.877129 -0.777180  1.000000  0.895609   \n",
       "^GSPC       0.770758  0.730924  0.733214 -0.782485  0.895609  1.000000   \n",
       "^IXIC       0.889007  0.849910  0.848698 -0.882620  0.927435  0.856393   \n",
       "^KS11       0.824519  0.777889  0.777914 -0.857360  0.878716  0.963131   \n",
       "\n",
       "              ^IXIC     ^KS11  \n",
       "000001.SS  0.889007  0.824519  \n",
       "BTC-USD    0.849910  0.777889  \n",
       "BTC=F      0.848698  0.777914  \n",
       "DX-Y.NYB  -0.882620 -0.857360  \n",
       "GOOG       0.927435  0.878716  \n",
       "^GSPC      0.856393  0.963131  \n",
       "^IXIC      1.000000  0.880036  \n",
       "^KS11      0.880036  1.000000  "
      ]
     },
     "execution_count": 6,
     "metadata": {},
     "output_type": "execute_result"
    }
   ],
   "source": [
    "stock_prices['Close'].corr()"
   ]
  },
  {
   "cell_type": "code",
   "execution_count": 7,
   "metadata": {
    "ExecuteTime": {
     "end_time": "2020-11-24T22:36:41.983826Z",
     "start_time": "2020-11-24T22:36:41.645564Z"
    }
   },
   "outputs": [
    {
     "data": {
      "text/plain": [
       "<AxesSubplot:>"
      ]
     },
     "execution_count": 7,
     "metadata": {},
     "output_type": "execute_result"
    },
    {
     "data": {
      "image/png": "[encoded data removed]",
      "text/plain": [
       "<Figure size 432x288 with 2 Axes>"
      ]
     },
     "metadata": {
      "needs_background": "light"
     },
     "output_type": "display_data"
    }
   ],
   "source": [
    "sns.heatmap(stock_prices['Close'].corr())"
   ]
  },
  {
   "cell_type": "markdown",
   "metadata": {},
   "source": [
    "## Exploratory analysis"
   ]
  },
  {
   "cell_type": "raw",
   "metadata": {
    "scrolled": true
   },
   "source": [
    "data = raw_df['Close']['BTC-USD']\n",
    "plt.plot(data)\n",
    "\n",
    "plt.title('Bitcoin price over time')\n",
    "plt.xlabel('date')\n",
    "plt.ylabel('Price in $')\n",
    "plt.show()"
   ]
  },
  {
   "cell_type": "raw",
   "metadata": {
    "scrolled": true
   },
   "source": [
    "data = raw_df['Volume']['BTC-USD']\n",
    "plt.plot(data)\n",
    "\n",
    "plt.title('Bitcoin volume over time')\n",
    "plt.xlabel('date')\n",
    "plt.ylabel('Price in $')\n",
    "plt.show()"
   ]
  },
  {
   "cell_type": "markdown",
   "metadata": {},
   "source": [
    "## formatting data - from yahoo finance"
   ]
  },
  {
   "cell_type": "code",
   "execution_count": 8,
   "metadata": {
    "ExecuteTime": {
     "end_time": "2020-11-24T22:36:41.990872Z",
     "start_time": "2020-11-24T22:36:41.988069Z"
    }
   },
   "outputs": [],
   "source": [
    "def get_data(indices,keys):\n",
    "    a =[(key,index) for key in keys for index in indices]\n",
    "    return raw_df[a] "
   ]
  },
  {
   "cell_type": "code",
   "execution_count": 9,
   "metadata": {
    "ExecuteTime": {
     "end_time": "2020-11-24T22:36:42.001812Z",
     "start_time": "2020-11-24T22:36:41.993877Z"
    }
   },
   "outputs": [],
   "source": [
    "####### INCLUDE NEW FEATURES HERE ####### \n",
    "df = get_data(['BTC-USD','^GSPC','DX-Y.NYB','^IXIC','GOOG','BTC=F','^KS11','000001.SS'],['Close','High','Low','Volume'])  "
   ]
  },
  {
   "cell_type": "code",
   "execution_count": 10,
   "metadata": {
    "ExecuteTime": {
     "end_time": "2020-11-24T22:36:42.029151Z",
     "start_time": "2020-11-24T22:36:42.003768Z"
    }
   },
   "outputs": [
    {
     "data": {
      "text/html": [
       "<div>\n",
       "<style scoped>\n",
       "    .dataframe tbody tr th:only-of-type {\n",
       "        vertical-align: middle;\n",
       "    }\n",
       "\n",
       "    .dataframe tbody tr th {\n",
       "        vertical-align: top;\n",
       "    }\n",
       "\n",
       "    .dataframe thead tr th {\n",
       "        text-align: left;\n",
       "    }\n",
       "\n",
       "    .dataframe thead tr:last-of-type th {\n",
       "        text-align: right;\n",
       "    }\n",
       "</style>\n",
       "<table border=\"1\" class=\"dataframe\">\n",
       "  <thead>\n",
       "    <tr>\n",
       "      <th></th>\n",
       "      <th colspan=\"8\" halign=\"left\">Close</th>\n",
       "      <th colspan=\"2\" halign=\"left\">High</th>\n",
       "      <th>...</th>\n",
       "      <th colspan=\"2\" halign=\"left\">Low</th>\n",
       "      <th colspan=\"8\" halign=\"left\">Volume</th>\n",
       "    </tr>\n",
       "    <tr>\n",
       "      <th></th>\n",
       "      <th>BTC-USD</th>\n",
       "      <th>^GSPC</th>\n",
       "      <th>DX-Y.NYB</th>\n",
       "      <th>^IXIC</th>\n",
       "      <th>GOOG</th>\n",
       "      <th>BTC=F</th>\n",
       "      <th>^KS11</th>\n",
       "      <th>000001.SS</th>\n",
       "      <th>BTC-USD</th>\n",
       "      <th>^GSPC</th>\n",
       "      <th>...</th>\n",
       "      <th>^KS11</th>\n",
       "      <th>000001.SS</th>\n",
       "      <th>BTC-USD</th>\n",
       "      <th>^GSPC</th>\n",
       "      <th>DX-Y.NYB</th>\n",
       "      <th>^IXIC</th>\n",
       "      <th>GOOG</th>\n",
       "      <th>BTC=F</th>\n",
       "      <th>^KS11</th>\n",
       "      <th>000001.SS</th>\n",
       "    </tr>\n",
       "    <tr>\n",
       "      <th>Date</th>\n",
       "      <th></th>\n",
       "      <th></th>\n",
       "      <th></th>\n",
       "      <th></th>\n",
       "      <th></th>\n",
       "      <th></th>\n",
       "      <th></th>\n",
       "      <th></th>\n",
       "      <th></th>\n",
       "      <th></th>\n",
       "      <th></th>\n",
       "      <th></th>\n",
       "      <th></th>\n",
       "      <th></th>\n",
       "      <th></th>\n",
       "      <th></th>\n",
       "      <th></th>\n",
       "      <th></th>\n",
       "      <th></th>\n",
       "      <th></th>\n",
       "      <th></th>\n",
       "    </tr>\n",
       "  </thead>\n",
       "  <tbody>\n",
       "    <tr>\n",
       "      <th>2019-11-01</th>\n",
       "      <td>9261.104492</td>\n",
       "      <td>3066.909912</td>\n",
       "      <td>97.230003</td>\n",
       "      <td>8386.400391</td>\n",
       "      <td>1273.73999</td>\n",
       "      <td>9235.0</td>\n",
       "      <td>2100.199951</td>\n",
       "      <td>2958.199951</td>\n",
       "      <td>9275.657227</td>\n",
       "      <td>3066.949951</td>\n",
       "      <td>...</td>\n",
       "      <td>2081.530029</td>\n",
       "      <td>2917.149902</td>\n",
       "      <td>24324691031</td>\n",
       "      <td>3.930200e+09</td>\n",
       "      <td>0.0</td>\n",
       "      <td>2.057310e+09</td>\n",
       "      <td>1670100.0</td>\n",
       "      <td>2641.0</td>\n",
       "      <td>418300.0</td>\n",
       "      <td>159900.0</td>\n",
       "    </tr>\n",
       "    <tr>\n",
       "      <th>2019-11-02</th>\n",
       "      <td>9324.717773</td>\n",
       "      <td>NaN</td>\n",
       "      <td>NaN</td>\n",
       "      <td>NaN</td>\n",
       "      <td>NaN</td>\n",
       "      <td>NaN</td>\n",
       "      <td>NaN</td>\n",
       "      <td>NaN</td>\n",
       "      <td>9377.486328</td>\n",
       "      <td>NaN</td>\n",
       "      <td>...</td>\n",
       "      <td>NaN</td>\n",
       "      <td>NaN</td>\n",
       "      <td>21242676385</td>\n",
       "      <td>NaN</td>\n",
       "      <td>NaN</td>\n",
       "      <td>NaN</td>\n",
       "      <td>NaN</td>\n",
       "      <td>NaN</td>\n",
       "      <td>NaN</td>\n",
       "      <td>NaN</td>\n",
       "    </tr>\n",
       "    <tr>\n",
       "      <th>2019-11-03</th>\n",
       "      <td>9235.354492</td>\n",
       "      <td>NaN</td>\n",
       "      <td>NaN</td>\n",
       "      <td>NaN</td>\n",
       "      <td>NaN</td>\n",
       "      <td>NaN</td>\n",
       "      <td>NaN</td>\n",
       "      <td>NaN</td>\n",
       "      <td>9379.806641</td>\n",
       "      <td>NaN</td>\n",
       "      <td>...</td>\n",
       "      <td>NaN</td>\n",
       "      <td>NaN</td>\n",
       "      <td>21132220847</td>\n",
       "      <td>NaN</td>\n",
       "      <td>NaN</td>\n",
       "      <td>NaN</td>\n",
       "      <td>NaN</td>\n",
       "      <td>NaN</td>\n",
       "      <td>NaN</td>\n",
       "      <td>NaN</td>\n",
       "    </tr>\n",
       "  </tbody>\n",
       "</table>\n",
       "<p>3 rows × 32 columns</p>\n",
       "</div>"
      ],
      "text/plain": [
       "                  Close                                                   \\\n",
       "                BTC-USD        ^GSPC   DX-Y.NYB        ^IXIC        GOOG   \n",
       "Date                                                                       \n",
       "2019-11-01  9261.104492  3066.909912  97.230003  8386.400391  1273.73999   \n",
       "2019-11-02  9324.717773          NaN        NaN          NaN         NaN   \n",
       "2019-11-03  9235.354492          NaN        NaN          NaN         NaN   \n",
       "\n",
       "                                                     High               ...  \\\n",
       "             BTC=F        ^KS11    000001.SS      BTC-USD        ^GSPC  ...   \n",
       "Date                                                                    ...   \n",
       "2019-11-01  9235.0  2100.199951  2958.199951  9275.657227  3066.949951  ...   \n",
       "2019-11-02     NaN          NaN          NaN  9377.486328          NaN  ...   \n",
       "2019-11-03     NaN          NaN          NaN  9379.806641          NaN  ...   \n",
       "\n",
       "                    Low                    Volume                         \\\n",
       "                  ^KS11    000001.SS      BTC-USD         ^GSPC DX-Y.NYB   \n",
       "Date                                                                       \n",
       "2019-11-01  2081.530029  2917.149902  24324691031  3.930200e+09      0.0   \n",
       "2019-11-02          NaN          NaN  21242676385           NaN      NaN   \n",
       "2019-11-03          NaN          NaN  21132220847           NaN      NaN   \n",
       "\n",
       "                                                                 \n",
       "                   ^IXIC       GOOG   BTC=F     ^KS11 000001.SS  \n",
       "Date                                                             \n",
       "2019-11-01  2.057310e+09  1670100.0  2641.0  418300.0  159900.0  \n",
       "2019-11-02           NaN        NaN     NaN       NaN       NaN  \n",
       "2019-11-03           NaN        NaN     NaN       NaN       NaN  \n",
       "\n",
       "[3 rows x 32 columns]"
      ]
     },
     "execution_count": 10,
     "metadata": {},
     "output_type": "execute_result"
    }
   ],
   "source": [
    "df.head(3)"
   ]
  },
  {
   "cell_type": "markdown",
   "metadata": {},
   "source": [
    "## Data preprossesing"
   ]
  },
  {
   "cell_type": "markdown",
   "metadata": {},
   "source": [
    "### getting rid of NaNs"
   ]
  },
  {
   "cell_type": "code",
   "execution_count": 11,
   "metadata": {
    "ExecuteTime": {
     "end_time": "2020-11-24T22:36:42.036568Z",
     "start_time": "2020-11-24T22:36:42.031410Z"
    }
   },
   "outputs": [],
   "source": [
    "df = df.fillna(method='ffill')"
   ]
  },
  {
   "cell_type": "markdown",
   "metadata": {},
   "source": [
    "### calculating percentage change of btc_price"
   ]
  },
  {
   "cell_type": "code",
   "execution_count": 12,
   "metadata": {
    "ExecuteTime": {
     "end_time": "2020-11-24T22:36:42.050103Z",
     "start_time": "2020-11-24T22:36:42.040243Z"
    }
   },
   "outputs": [],
   "source": [
    "df['percentage_change_price'] = df['Close']['BTC-USD'].pct_change()"
   ]
  },
  {
   "cell_type": "code",
   "execution_count": 13,
   "metadata": {
    "ExecuteTime": {
     "end_time": "2020-11-24T22:36:42.082255Z",
     "start_time": "2020-11-24T22:36:42.053581Z"
    }
   },
   "outputs": [
    {
     "data": {
      "text/html": [
       "<div>\n",
       "<style scoped>\n",
       "    .dataframe tbody tr th:only-of-type {\n",
       "        vertical-align: middle;\n",
       "    }\n",
       "\n",
       "    .dataframe tbody tr th {\n",
       "        vertical-align: top;\n",
       "    }\n",
       "\n",
       "    .dataframe thead tr th {\n",
       "        text-align: left;\n",
       "    }\n",
       "\n",
       "    .dataframe thead tr:last-of-type th {\n",
       "        text-align: right;\n",
       "    }\n",
       "</style>\n",
       "<table border=\"1\" class=\"dataframe\">\n",
       "  <thead>\n",
       "    <tr>\n",
       "      <th></th>\n",
       "      <th colspan=\"8\" halign=\"left\">Close</th>\n",
       "      <th colspan=\"2\" halign=\"left\">High</th>\n",
       "      <th>...</th>\n",
       "      <th>Low</th>\n",
       "      <th colspan=\"8\" halign=\"left\">Volume</th>\n",
       "      <th>percentage_change_price</th>\n",
       "    </tr>\n",
       "    <tr>\n",
       "      <th></th>\n",
       "      <th>BTC-USD</th>\n",
       "      <th>^GSPC</th>\n",
       "      <th>DX-Y.NYB</th>\n",
       "      <th>^IXIC</th>\n",
       "      <th>GOOG</th>\n",
       "      <th>BTC=F</th>\n",
       "      <th>^KS11</th>\n",
       "      <th>000001.SS</th>\n",
       "      <th>BTC-USD</th>\n",
       "      <th>^GSPC</th>\n",
       "      <th>...</th>\n",
       "      <th>000001.SS</th>\n",
       "      <th>BTC-USD</th>\n",
       "      <th>^GSPC</th>\n",
       "      <th>DX-Y.NYB</th>\n",
       "      <th>^IXIC</th>\n",
       "      <th>GOOG</th>\n",
       "      <th>BTC=F</th>\n",
       "      <th>^KS11</th>\n",
       "      <th>000001.SS</th>\n",
       "      <th></th>\n",
       "    </tr>\n",
       "    <tr>\n",
       "      <th>Date</th>\n",
       "      <th></th>\n",
       "      <th></th>\n",
       "      <th></th>\n",
       "      <th></th>\n",
       "      <th></th>\n",
       "      <th></th>\n",
       "      <th></th>\n",
       "      <th></th>\n",
       "      <th></th>\n",
       "      <th></th>\n",
       "      <th></th>\n",
       "      <th></th>\n",
       "      <th></th>\n",
       "      <th></th>\n",
       "      <th></th>\n",
       "      <th></th>\n",
       "      <th></th>\n",
       "      <th></th>\n",
       "      <th></th>\n",
       "      <th></th>\n",
       "      <th></th>\n",
       "    </tr>\n",
       "  </thead>\n",
       "  <tbody>\n",
       "    <tr>\n",
       "      <th>2019-11-01</th>\n",
       "      <td>9261.104492</td>\n",
       "      <td>3066.909912</td>\n",
       "      <td>97.230003</td>\n",
       "      <td>8386.400391</td>\n",
       "      <td>1273.73999</td>\n",
       "      <td>9235.0</td>\n",
       "      <td>2100.199951</td>\n",
       "      <td>2958.199951</td>\n",
       "      <td>9275.657227</td>\n",
       "      <td>3066.949951</td>\n",
       "      <td>...</td>\n",
       "      <td>2917.149902</td>\n",
       "      <td>24324691031</td>\n",
       "      <td>3.930200e+09</td>\n",
       "      <td>0.0</td>\n",
       "      <td>2.057310e+09</td>\n",
       "      <td>1670100.0</td>\n",
       "      <td>2641.0</td>\n",
       "      <td>418300.0</td>\n",
       "      <td>159900.0</td>\n",
       "      <td>NaN</td>\n",
       "    </tr>\n",
       "    <tr>\n",
       "      <th>2019-11-02</th>\n",
       "      <td>9324.717773</td>\n",
       "      <td>3066.909912</td>\n",
       "      <td>97.230003</td>\n",
       "      <td>8386.400391</td>\n",
       "      <td>1273.73999</td>\n",
       "      <td>9235.0</td>\n",
       "      <td>2100.199951</td>\n",
       "      <td>2958.199951</td>\n",
       "      <td>9377.486328</td>\n",
       "      <td>3066.949951</td>\n",
       "      <td>...</td>\n",
       "      <td>2917.149902</td>\n",
       "      <td>21242676385</td>\n",
       "      <td>3.930200e+09</td>\n",
       "      <td>0.0</td>\n",
       "      <td>2.057310e+09</td>\n",
       "      <td>1670100.0</td>\n",
       "      <td>2641.0</td>\n",
       "      <td>418300.0</td>\n",
       "      <td>159900.0</td>\n",
       "      <td>0.006869</td>\n",
       "    </tr>\n",
       "  </tbody>\n",
       "</table>\n",
       "<p>2 rows × 33 columns</p>\n",
       "</div>"
      ],
      "text/plain": [
       "                  Close                                                   \\\n",
       "                BTC-USD        ^GSPC   DX-Y.NYB        ^IXIC        GOOG   \n",
       "Date                                                                       \n",
       "2019-11-01  9261.104492  3066.909912  97.230003  8386.400391  1273.73999   \n",
       "2019-11-02  9324.717773  3066.909912  97.230003  8386.400391  1273.73999   \n",
       "\n",
       "                                                     High               ...  \\\n",
       "             BTC=F        ^KS11    000001.SS      BTC-USD        ^GSPC  ...   \n",
       "Date                                                                    ...   \n",
       "2019-11-01  9235.0  2100.199951  2958.199951  9275.657227  3066.949951  ...   \n",
       "2019-11-02  9235.0  2100.199951  2958.199951  9377.486328  3066.949951  ...   \n",
       "\n",
       "                    Low       Volume                                       \\\n",
       "              000001.SS      BTC-USD         ^GSPC DX-Y.NYB         ^IXIC   \n",
       "Date                                                                        \n",
       "2019-11-01  2917.149902  24324691031  3.930200e+09      0.0  2.057310e+09   \n",
       "2019-11-02  2917.149902  21242676385  3.930200e+09      0.0  2.057310e+09   \n",
       "\n",
       "                                                  percentage_change_price  \n",
       "                 GOOG   BTC=F     ^KS11 000001.SS                          \n",
       "Date                                                                       \n",
       "2019-11-01  1670100.0  2641.0  418300.0  159900.0                     NaN  \n",
       "2019-11-02  1670100.0  2641.0  418300.0  159900.0                0.006869  \n",
       "\n",
       "[2 rows x 33 columns]"
      ]
     },
     "execution_count": 13,
     "metadata": {},
     "output_type": "execute_result"
    }
   ],
   "source": [
    "df.head(2)"
   ]
  },
  {
   "cell_type": "code",
   "execution_count": 14,
   "metadata": {
    "ExecuteTime": {
     "end_time": "2020-11-24T22:36:42.092932Z",
     "start_time": "2020-11-24T22:36:42.084814Z"
    },
    "scrolled": false
   },
   "outputs": [
    {
     "data": {
      "text/plain": [
       "True     208\n",
       "False    182\n",
       "Name: percentage_change_price, dtype: int64"
      ]
     },
     "execution_count": 14,
     "metadata": {},
     "output_type": "execute_result"
    }
   ],
   "source": [
    "####### CHECK UNBALANCED DATA SET ########\n",
    "(df['percentage_change_price']>0).value_counts()"
   ]
  },
  {
   "cell_type": "markdown",
   "metadata": {},
   "source": [
    "## Transform Date"
   ]
  },
  {
   "cell_type": "code",
   "execution_count": 15,
   "metadata": {
    "ExecuteTime": {
     "end_time": "2020-11-24T22:36:42.098618Z",
     "start_time": "2020-11-24T22:36:42.094666Z"
    }
   },
   "outputs": [
    {
     "data": {
      "text/plain": [
       "MultiIndex(levels=[['Adj Close', 'Close', 'High', 'Low', 'Open', 'Volume', 'Date', 'percentage_change_price'], ['000001.SS', 'BTC-USD', 'BTC=F', 'DX-Y.NYB', 'GOOG', '^GSPC', '^IXIC', '^KS11', '']],\n",
       "           codes=[[1, 1, 1, 1, 1, 1, 1, 1, 2, 2, 2, 2, 2, 2, 2, 2, 3, 3, 3, 3, 3, 3, 3, 3, 5, 5, 5, 5, 5, 5, 5, 5, 7], [1, 5, 3, 6, 4, 2, 7, 0, 1, 5, 3, 6, 4, 2, 7, 0, 1, 5, 3, 6, 4, 2, 7, 0, 1, 5, 3, 6, 4, 2, 7, 0, 8]])"
      ]
     },
     "execution_count": 15,
     "metadata": {},
     "output_type": "execute_result"
    }
   ],
   "source": [
    "df.columns"
   ]
  },
  {
   "cell_type": "code",
   "execution_count": 16,
   "metadata": {
    "ExecuteTime": {
     "end_time": "2020-11-24T22:36:42.108644Z",
     "start_time": "2020-11-24T22:36:42.101133Z"
    }
   },
   "outputs": [
    {
     "data": {
      "text/plain": [
       "['Close_BTC-USD',\n",
       " 'Close_^GSPC',\n",
       " 'Close_DX-Y.NYB',\n",
       " 'Close_^IXIC',\n",
       " 'Close_GOOG',\n",
       " 'Close_BTC=F',\n",
       " 'Close_^KS11',\n",
       " 'Close_000001.SS',\n",
       " 'High_BTC-USD',\n",
       " 'High_^GSPC',\n",
       " 'High_DX-Y.NYB',\n",
       " 'High_^IXIC',\n",
       " 'High_GOOG',\n",
       " 'High_BTC=F',\n",
       " 'High_^KS11',\n",
       " 'High_000001.SS',\n",
       " 'Low_BTC-USD',\n",
       " 'Low_^GSPC',\n",
       " 'Low_DX-Y.NYB',\n",
       " 'Low_^IXIC',\n",
       " 'Low_GOOG',\n",
       " 'Low_BTC=F',\n",
       " 'Low_^KS11',\n",
       " 'Low_000001.SS',\n",
       " 'Volume_BTC-USD',\n",
       " 'Volume_^GSPC',\n",
       " 'Volume_DX-Y.NYB',\n",
       " 'Volume_^IXIC',\n",
       " 'Volume_GOOG',\n",
       " 'Volume_BTC=F',\n",
       " 'Volume_^KS11',\n",
       " 'Volume_000001.SS',\n",
       " 'percentage_change_price_']"
      ]
     },
     "execution_count": 16,
     "metadata": {},
     "output_type": "execute_result"
    }
   ],
   "source": [
    "new_colum_names = []\n",
    "for el1, el2 in df.columns:\n",
    "    new_colum_names.append(el1 + \"_\" + el2)\n",
    "new_colum_names"
   ]
  },
  {
   "cell_type": "code",
   "execution_count": 17,
   "metadata": {
    "ExecuteTime": {
     "end_time": "2020-11-24T22:36:42.116535Z",
     "start_time": "2020-11-24T22:36:42.112502Z"
    }
   },
   "outputs": [],
   "source": [
    "df.columns = new_colum_names"
   ]
  },
  {
   "cell_type": "code",
   "execution_count": 18,
   "metadata": {
    "ExecuteTime": {
     "end_time": "2020-11-24T22:36:42.125381Z",
     "start_time": "2020-11-24T22:36:42.119940Z"
    }
   },
   "outputs": [],
   "source": [
    "df['Date'] = df.index"
   ]
  },
  {
   "cell_type": "code",
   "execution_count": 19,
   "metadata": {
    "ExecuteTime": {
     "end_time": "2020-11-24T22:36:42.134206Z",
     "start_time": "2020-11-24T22:36:42.127851Z"
    },
    "scrolled": true
   },
   "outputs": [],
   "source": [
    "df['Date'] = pd.to_datetime(df['Date'])\n",
    "df['month'] = df['Date'].dt.month\n",
    "\n",
    "df['year'] = df['Date'].dt.year"
   ]
  },
  {
   "cell_type": "raw",
   "metadata": {},
   "source": [
    "# No need -> Endoding : date - TBC\n",
    "month_dummies = pd.get_dummies(df['month'])\n",
    "df = pd.concat([df, month_dummies], axis=1)\n"
   ]
  },
  {
   "cell_type": "code",
   "execution_count": 20,
   "metadata": {
    "ExecuteTime": {
     "end_time": "2020-11-24T22:36:42.159969Z",
     "start_time": "2020-11-24T22:36:42.136523Z"
    }
   },
   "outputs": [
    {
     "data": {
      "text/html": [
       "<div>\n",
       "<style scoped>\n",
       "    .dataframe tbody tr th:only-of-type {\n",
       "        vertical-align: middle;\n",
       "    }\n",
       "\n",
       "    .dataframe tbody tr th {\n",
       "        vertical-align: top;\n",
       "    }\n",
       "\n",
       "    .dataframe thead th {\n",
       "        text-align: right;\n",
       "    }\n",
       "</style>\n",
       "<table border=\"1\" class=\"dataframe\">\n",
       "  <thead>\n",
       "    <tr style=\"text-align: right;\">\n",
       "      <th></th>\n",
       "      <th>Close_BTC-USD</th>\n",
       "      <th>Close_^GSPC</th>\n",
       "      <th>Close_DX-Y.NYB</th>\n",
       "      <th>Close_^IXIC</th>\n",
       "      <th>Close_GOOG</th>\n",
       "      <th>Close_BTC=F</th>\n",
       "      <th>Close_^KS11</th>\n",
       "      <th>Close_000001.SS</th>\n",
       "      <th>High_BTC-USD</th>\n",
       "      <th>High_^GSPC</th>\n",
       "      <th>...</th>\n",
       "      <th>Volume_^IXIC</th>\n",
       "      <th>Volume_GOOG</th>\n",
       "      <th>Volume_BTC=F</th>\n",
       "      <th>Volume_^KS11</th>\n",
       "      <th>Volume_000001.SS</th>\n",
       "      <th>percentage_change_price_</th>\n",
       "      <th>Date</th>\n",
       "      <th>month</th>\n",
       "      <th>year</th>\n",
       "      <th>delta_binary</th>\n",
       "    </tr>\n",
       "    <tr>\n",
       "      <th>Date</th>\n",
       "      <th></th>\n",
       "      <th></th>\n",
       "      <th></th>\n",
       "      <th></th>\n",
       "      <th></th>\n",
       "      <th></th>\n",
       "      <th></th>\n",
       "      <th></th>\n",
       "      <th></th>\n",
       "      <th></th>\n",
       "      <th></th>\n",
       "      <th></th>\n",
       "      <th></th>\n",
       "      <th></th>\n",
       "      <th></th>\n",
       "      <th></th>\n",
       "      <th></th>\n",
       "      <th></th>\n",
       "      <th></th>\n",
       "      <th></th>\n",
       "      <th></th>\n",
       "    </tr>\n",
       "  </thead>\n",
       "  <tbody>\n",
       "    <tr>\n",
       "      <th>2019-11-01</th>\n",
       "      <td>9261.104492</td>\n",
       "      <td>3066.909912</td>\n",
       "      <td>97.230003</td>\n",
       "      <td>8386.400391</td>\n",
       "      <td>1273.73999</td>\n",
       "      <td>9235.0</td>\n",
       "      <td>2100.199951</td>\n",
       "      <td>2958.199951</td>\n",
       "      <td>9275.657227</td>\n",
       "      <td>3066.949951</td>\n",
       "      <td>...</td>\n",
       "      <td>2.057310e+09</td>\n",
       "      <td>1670100.0</td>\n",
       "      <td>2641.0</td>\n",
       "      <td>418300.0</td>\n",
       "      <td>159900.0</td>\n",
       "      <td>NaN</td>\n",
       "      <td>2019-11-01</td>\n",
       "      <td>11</td>\n",
       "      <td>2019</td>\n",
       "      <td>0</td>\n",
       "    </tr>\n",
       "    <tr>\n",
       "      <th>2019-11-02</th>\n",
       "      <td>9324.717773</td>\n",
       "      <td>3066.909912</td>\n",
       "      <td>97.230003</td>\n",
       "      <td>8386.400391</td>\n",
       "      <td>1273.73999</td>\n",
       "      <td>9235.0</td>\n",
       "      <td>2100.199951</td>\n",
       "      <td>2958.199951</td>\n",
       "      <td>9377.486328</td>\n",
       "      <td>3066.949951</td>\n",
       "      <td>...</td>\n",
       "      <td>2.057310e+09</td>\n",
       "      <td>1670100.0</td>\n",
       "      <td>2641.0</td>\n",
       "      <td>418300.0</td>\n",
       "      <td>159900.0</td>\n",
       "      <td>0.006869</td>\n",
       "      <td>2019-11-02</td>\n",
       "      <td>11</td>\n",
       "      <td>2019</td>\n",
       "      <td>1</td>\n",
       "    </tr>\n",
       "  </tbody>\n",
       "</table>\n",
       "<p>2 rows × 37 columns</p>\n",
       "</div>"
      ],
      "text/plain": [
       "            Close_BTC-USD  Close_^GSPC  Close_DX-Y.NYB  Close_^IXIC  \\\n",
       "Date                                                                  \n",
       "2019-11-01    9261.104492  3066.909912       97.230003  8386.400391   \n",
       "2019-11-02    9324.717773  3066.909912       97.230003  8386.400391   \n",
       "\n",
       "            Close_GOOG  Close_BTC=F  Close_^KS11  Close_000001.SS  \\\n",
       "Date                                                                \n",
       "2019-11-01  1273.73999       9235.0  2100.199951      2958.199951   \n",
       "2019-11-02  1273.73999       9235.0  2100.199951      2958.199951   \n",
       "\n",
       "            High_BTC-USD   High_^GSPC  ...  Volume_^IXIC  Volume_GOOG  \\\n",
       "Date                                   ...                              \n",
       "2019-11-01   9275.657227  3066.949951  ...  2.057310e+09    1670100.0   \n",
       "2019-11-02   9377.486328  3066.949951  ...  2.057310e+09    1670100.0   \n",
       "\n",
       "            Volume_BTC=F  Volume_^KS11  Volume_000001.SS  \\\n",
       "Date                                                       \n",
       "2019-11-01        2641.0      418300.0          159900.0   \n",
       "2019-11-02        2641.0      418300.0          159900.0   \n",
       "\n",
       "            percentage_change_price_       Date  month  year  delta_binary  \n",
       "Date                                                                        \n",
       "2019-11-01                       NaN 2019-11-01     11  2019             0  \n",
       "2019-11-02                  0.006869 2019-11-02     11  2019             1  \n",
       "\n",
       "[2 rows x 37 columns]"
      ]
     },
     "execution_count": 20,
     "metadata": {},
     "output_type": "execute_result"
    }
   ],
   "source": [
    "# Define percentage change in price column\n",
    "df['delta_binary'] = df.percentage_change_price_>0\n",
    "df['delta_binary'] = df['delta_binary'].astype(int)\n",
    "df.head(2)"
   ]
  },
  {
   "cell_type": "code",
   "execution_count": 21,
   "metadata": {
    "ExecuteTime": {
     "end_time": "2020-11-24T22:36:42.170605Z",
     "start_time": "2020-11-24T22:36:42.161847Z"
    }
   },
   "outputs": [
    {
     "data": {
      "text/html": [
       "<div>\n",
       "<style scoped>\n",
       "    .dataframe tbody tr th:only-of-type {\n",
       "        vertical-align: middle;\n",
       "    }\n",
       "\n",
       "    .dataframe tbody tr th {\n",
       "        vertical-align: top;\n",
       "    }\n",
       "\n",
       "    .dataframe thead th {\n",
       "        text-align: right;\n",
       "    }\n",
       "</style>\n",
       "<table border=\"1\" class=\"dataframe\">\n",
       "  <thead>\n",
       "    <tr style=\"text-align: right;\">\n",
       "      <th></th>\n",
       "      <th>percentage_change_price_</th>\n",
       "      <th>delta_binary</th>\n",
       "    </tr>\n",
       "    <tr>\n",
       "      <th>Date</th>\n",
       "      <th></th>\n",
       "      <th></th>\n",
       "    </tr>\n",
       "  </thead>\n",
       "  <tbody>\n",
       "    <tr>\n",
       "      <th>2019-11-01</th>\n",
       "      <td>NaN</td>\n",
       "      <td>0</td>\n",
       "    </tr>\n",
       "    <tr>\n",
       "      <th>2019-11-02</th>\n",
       "      <td>0.006869</td>\n",
       "      <td>1</td>\n",
       "    </tr>\n",
       "  </tbody>\n",
       "</table>\n",
       "</div>"
      ],
      "text/plain": [
       "            percentage_change_price_  delta_binary\n",
       "Date                                              \n",
       "2019-11-01                       NaN             0\n",
       "2019-11-02                  0.006869             1"
      ]
     },
     "execution_count": 21,
     "metadata": {},
     "output_type": "execute_result"
    }
   ],
   "source": [
    "df[['percentage_change_price_','delta_binary']].head(2)"
   ]
  },
  {
   "cell_type": "code",
   "execution_count": 22,
   "metadata": {
    "ExecuteTime": {
     "end_time": "2020-11-24T22:36:42.176616Z",
     "start_time": "2020-11-24T22:36:42.172515Z"
    },
    "scrolled": true
   },
   "outputs": [
    {
     "data": {
      "text/plain": [
       "Index(['Close_BTC-USD', 'Close_^GSPC', 'Close_DX-Y.NYB', 'Close_^IXIC',\n",
       "       'Close_GOOG', 'Close_BTC=F', 'Close_^KS11', 'Close_000001.SS',\n",
       "       'High_BTC-USD', 'High_^GSPC', 'High_DX-Y.NYB', 'High_^IXIC',\n",
       "       'High_GOOG', 'High_BTC=F', 'High_^KS11', 'High_000001.SS',\n",
       "       'Low_BTC-USD', 'Low_^GSPC', 'Low_DX-Y.NYB', 'Low_^IXIC', 'Low_GOOG',\n",
       "       'Low_BTC=F', 'Low_^KS11', 'Low_000001.SS', 'Volume_BTC-USD',\n",
       "       'Volume_^GSPC', 'Volume_DX-Y.NYB', 'Volume_^IXIC', 'Volume_GOOG',\n",
       "       'Volume_BTC=F', 'Volume_^KS11', 'Volume_000001.SS',\n",
       "       'percentage_change_price_', 'Date', 'month', 'year'],\n",
       "      dtype='object')"
      ]
     },
     "execution_count": 22,
     "metadata": {},
     "output_type": "execute_result"
    }
   ],
   "source": [
    "scaled_names = df.columns[:-1]\n",
    "scaled_names"
   ]
  },
  {
   "cell_type": "markdown",
   "metadata": {},
   "source": [
    "## Data Sampling"
   ]
  },
  {
   "cell_type": "markdown",
   "metadata": {},
   "source": [
    "- Out of this very long time-series, we will subsample it into shorter samples, each corresponding to one sequence of data  𝑋𝑖  with its corresponding prediction  𝑦𝑖 .\n",
    "- get_sample -> function to get this random sample\n",
    "\n",
    "Note:\n",
    "  \n",
    "  - **length** corresponds to the lenght of the observed sequence\n",
    "  - **temporal_horizon** corresponds to the number of days between your last seen stock market value and the day you are trying to predict. -> in our case we want to predict for now the day after so tempor_horizon =1"
   ]
  },
  {
   "cell_type": "raw",
   "metadata": {
    "scrolled": false
   },
   "source": [
    "df.shape"
   ]
  },
  {
   "cell_type": "code",
   "execution_count": 23,
   "metadata": {
    "ExecuteTime": {
     "end_time": "2020-11-24T22:36:42.186292Z",
     "start_time": "2020-11-24T22:36:42.182216Z"
    },
    "scrolled": true
   },
   "outputs": [],
   "source": [
    "\n",
    "def get_sample(df, length, temporal_horizon, random_start):\n",
    "    features = [col_name for col_name in df.columns if col_name not in {'Date', 'Close_BTC-USD','delta_binary',\n",
    "                                                                        'percentage_change_price_'} ]\n",
    "    \n",
    "    temporal_horizon = temporal_horizon - 1\n",
    "    last_possible = df.shape[0] - temporal_horizon - length\n",
    "\n",
    "    X_sample = df[features].iloc[random_start: random_start+length].values ## we need to say which features we are using??!\n",
    "    y_sample = df['delta_binary'].iloc[random_start+length+temporal_horizon]\n",
    "    y_before = df['delta_binary'].iloc[random_start+length+temporal_horizon-1]\n",
    "   \n",
    "    return X_sample, y_sample, y_before"
   ]
  },
  {
   "cell_type": "markdown",
   "metadata": {},
   "source": [
    "get_sample(df,1,1)"
   ]
  },
  {
   "cell_type": "markdown",
   "metadata": {},
   "source": [
    "For instance, get_sample(df, 10, 3) returns a first list of **10 stock market values**, and a second value which is the stock market value 3 days after the last seen value."
   ]
  },
  {
   "cell_type": "markdown",
   "metadata": {},
   "source": [
    "## Dataset construction"
   ]
  },
  {
   "cell_type": "markdown",
   "metadata": {},
   "source": [
    "The previous function creates a sample (𝑋𝑖,𝑦𝑖) . If we repeat this operation, we will get multiple samples, that once concatenated will correspond to our entire dataset (𝑋,𝑦) .\n",
    "\n",
    "Create a function get_X_y(data, temporal_horizon, length_of_sequences) that create this dataset.\n",
    "\n",
    "- data corresponds to your input data\n",
    "- temporal_horizon is the number of days between the last seen value and the predicted one\n",
    "- length_of_sequences is a list that corresponds to the length of each sample 𝑋𝑖 : [len(X_1), len(X_2), len(X_3), ..., ] as that each sequence 𝑋𝑖 has no reason to be of the same length as the other one.\n",
    "\n",
    "Hint: This function should use get_sample"
   ]
  },
  {
   "cell_type": "code",
   "execution_count": 24,
   "metadata": {
    "ExecuteTime": {
     "end_time": "2020-11-24T22:36:42.192569Z",
     "start_time": "2020-11-24T22:36:42.188658Z"
    }
   },
   "outputs": [],
   "source": [
    "# create a matrix\n",
    "def get_X_y(df, temporal_horizon, length_of_sequences, start_of_sequences):\n",
    "    X, y, y_before = [], [], []\n",
    "    \n",
    "    #import ipdb;ipdb.set_trace()\n",
    "\n",
    "    for start in start_of_sequences:\n",
    "        xi, yi, y_bi = get_sample(df, length_of_sequences, temporal_horizon, start)\n",
    "        X.append(xi)\n",
    "        y.append(yi)\n",
    "        y_before.append(y_bi)\n",
    "        \n",
    "    return X, np.array(y), np.array(y_before)"
   ]
  },
  {
   "cell_type": "markdown",
   "metadata": {},
   "source": [
    " - Write a function given a dataframe, a temporal horizon and a list of sequence length outputs the padded train and test set.\n",
    " - To have a batch_size larger than one, we need to **pad** our data_ purely engineering reason\n",
    " "
   ]
  },
  {
   "cell_type": "code",
   "execution_count": 25,
   "metadata": {
    "ExecuteTime": {
     "end_time": "2020-11-24T22:36:42.572361Z",
     "start_time": "2020-11-24T22:36:42.194610Z"
    }
   },
   "outputs": [],
   "source": [
    "from sklearn.model_selection import train_test_split\n",
    "\n",
    "def generate_data(df_train, df_test, temporal_horizon, length_of_sequences):\n",
    "    \n",
    "    np.random.seed(0)\n",
    "    # Train \n",
    "    last_possible = df_train.shape[0] - temporal_horizon - length_of_sequences\n",
    "    random_start = np.random.randint(0, last_possible)\n",
    "    \n",
    "    start_of_sequences_train = np.random.randint(0, last_possible, df_train.shape[0])\n",
    "    \n",
    "    X_train, y_train, y_b_train = get_X_y(df_train, temporal_horizon, length_of_sequences, start_of_sequences_train)\n",
    "    X_train = pad_sequences(X_train, padding='post', dtype='float32')\n",
    "   \n",
    "    # Test\n",
    "    last_possible = df_test.shape[0] - temporal_horizon - length_of_sequences\n",
    "    random_start = np.random.randint(0, last_possible)\n",
    "    \n",
    "    start_of_sequences_test = np.random.randint(0, last_possible, df_test.shape[0])\n",
    "    \n",
    "    X_test, y_test, y_b_test = get_X_y(df_test, temporal_horizon, length_of_sequences, start_of_sequences_test)\n",
    "    X_test = pad_sequences(X_test, padding='post', dtype='float32')\n",
    "    \n",
    "    return X_train, X_test, y_train, y_test, y_b_test, y_b_train"
   ]
  },
  {
   "cell_type": "code",
   "execution_count": 26,
   "metadata": {
    "ExecuteTime": {
     "end_time": "2020-11-24T22:36:42.577569Z",
     "start_time": "2020-11-24T22:36:42.575097Z"
    }
   },
   "outputs": [],
   "source": [
    "#generate_data(df_train, df_test, 1, 10)[0]"
   ]
  },
  {
   "cell_type": "code",
   "execution_count": 27,
   "metadata": {
    "ExecuteTime": {
     "end_time": "2020-11-24T22:36:42.582075Z",
     "start_time": "2020-11-24T22:36:42.579856Z"
    }
   },
   "outputs": [],
   "source": [
    "#old - generate_data(df_train, df_test, temporal_horizon, min_len, max_len)[0].shape"
   ]
  },
  {
   "cell_type": "markdown",
   "metadata": {},
   "source": [
    "- Generate data with a temporal horizon of 1 days, and 100 time-series of 10 to 10 seen days ."
   ]
  },
  {
   "cell_type": "markdown",
   "metadata": {},
   "source": [
    "## Split data"
   ]
  },
  {
   "cell_type": "code",
   "execution_count": 28,
   "metadata": {
    "ExecuteTime": {
     "end_time": "2020-11-24T22:36:55.945294Z",
     "start_time": "2020-11-24T22:36:50.470044Z"
    }
   },
   "outputs": [],
   "source": [
    "from tensorflow.keras.preprocessing.sequence import pad_sequences\n",
    "\n",
    "# Splitting 80/20\n",
    "start = 1 # do a for loop\n",
    "index = round((len(df)-start)*.8)\n",
    "\n",
    "# Past\n",
    "df_train = df.iloc[start:index+start]\n",
    "\n",
    "#Future\n",
    "df_test = df.iloc[start+index:]\n",
    "\n",
    "\n",
    "temporal_horizon = 1 # -> predict the day after\n",
    "#min_len = 7\n",
    "#max_len = 8\n",
    "\n",
    "length_of_sequences = 7\n",
    "\n",
    "#(group 10 days,group of 20 days , # observations each time)\n"
   ]
  },
  {
   "cell_type": "code",
   "execution_count": 29,
   "metadata": {
    "ExecuteTime": {
     "end_time": "2020-11-24T22:37:14.018491Z",
     "start_time": "2020-11-24T22:37:13.979560Z"
    }
   },
   "outputs": [
    {
     "data": {
      "text/html": [
       "<div>\n",
       "<style scoped>\n",
       "    .dataframe tbody tr th:only-of-type {\n",
       "        vertical-align: middle;\n",
       "    }\n",
       "\n",
       "    .dataframe tbody tr th {\n",
       "        vertical-align: top;\n",
       "    }\n",
       "\n",
       "    .dataframe thead th {\n",
       "        text-align: right;\n",
       "    }\n",
       "</style>\n",
       "<table border=\"1\" class=\"dataframe\">\n",
       "  <thead>\n",
       "    <tr style=\"text-align: right;\">\n",
       "      <th></th>\n",
       "      <th>Close_BTC-USD</th>\n",
       "      <th>Close_^GSPC</th>\n",
       "      <th>Close_DX-Y.NYB</th>\n",
       "      <th>Close_^IXIC</th>\n",
       "      <th>Close_GOOG</th>\n",
       "      <th>Close_BTC=F</th>\n",
       "      <th>Close_^KS11</th>\n",
       "      <th>Close_000001.SS</th>\n",
       "      <th>High_BTC-USD</th>\n",
       "      <th>High_^GSPC</th>\n",
       "      <th>...</th>\n",
       "      <th>Volume_^IXIC</th>\n",
       "      <th>Volume_GOOG</th>\n",
       "      <th>Volume_BTC=F</th>\n",
       "      <th>Volume_^KS11</th>\n",
       "      <th>Volume_000001.SS</th>\n",
       "      <th>percentage_change_price_</th>\n",
       "      <th>Date</th>\n",
       "      <th>month</th>\n",
       "      <th>year</th>\n",
       "      <th>delta_binary</th>\n",
       "    </tr>\n",
       "    <tr>\n",
       "      <th>Date</th>\n",
       "      <th></th>\n",
       "      <th></th>\n",
       "      <th></th>\n",
       "      <th></th>\n",
       "      <th></th>\n",
       "      <th></th>\n",
       "      <th></th>\n",
       "      <th></th>\n",
       "      <th></th>\n",
       "      <th></th>\n",
       "      <th></th>\n",
       "      <th></th>\n",
       "      <th></th>\n",
       "      <th></th>\n",
       "      <th></th>\n",
       "      <th></th>\n",
       "      <th></th>\n",
       "      <th></th>\n",
       "      <th></th>\n",
       "      <th></th>\n",
       "      <th></th>\n",
       "    </tr>\n",
       "  </thead>\n",
       "  <tbody>\n",
       "    <tr>\n",
       "      <th>2019-11-02</th>\n",
       "      <td>9324.717773</td>\n",
       "      <td>3066.909912</td>\n",
       "      <td>97.230003</td>\n",
       "      <td>8386.400391</td>\n",
       "      <td>1273.739990</td>\n",
       "      <td>9235.0</td>\n",
       "      <td>2100.199951</td>\n",
       "      <td>2958.199951</td>\n",
       "      <td>9377.486328</td>\n",
       "      <td>3066.949951</td>\n",
       "      <td>...</td>\n",
       "      <td>2.057310e+09</td>\n",
       "      <td>1670100.0</td>\n",
       "      <td>2641.0</td>\n",
       "      <td>418300.0</td>\n",
       "      <td>159900.0</td>\n",
       "      <td>0.006869</td>\n",
       "      <td>2019-11-02</td>\n",
       "      <td>11</td>\n",
       "      <td>2019</td>\n",
       "      <td>1</td>\n",
       "    </tr>\n",
       "    <tr>\n",
       "      <th>2019-11-03</th>\n",
       "      <td>9235.354492</td>\n",
       "      <td>3066.909912</td>\n",
       "      <td>97.230003</td>\n",
       "      <td>8386.400391</td>\n",
       "      <td>1273.739990</td>\n",
       "      <td>9235.0</td>\n",
       "      <td>2100.199951</td>\n",
       "      <td>2958.199951</td>\n",
       "      <td>9379.806641</td>\n",
       "      <td>3066.949951</td>\n",
       "      <td>...</td>\n",
       "      <td>2.057310e+09</td>\n",
       "      <td>1670100.0</td>\n",
       "      <td>2641.0</td>\n",
       "      <td>418300.0</td>\n",
       "      <td>159900.0</td>\n",
       "      <td>-0.009583</td>\n",
       "      <td>2019-11-03</td>\n",
       "      <td>11</td>\n",
       "      <td>2019</td>\n",
       "      <td>0</td>\n",
       "    </tr>\n",
       "    <tr>\n",
       "      <th>2019-11-04</th>\n",
       "      <td>9412.612305</td>\n",
       "      <td>3078.270020</td>\n",
       "      <td>97.510002</td>\n",
       "      <td>8433.200195</td>\n",
       "      <td>1291.369995</td>\n",
       "      <td>9565.0</td>\n",
       "      <td>2130.239990</td>\n",
       "      <td>2975.489990</td>\n",
       "      <td>9505.051758</td>\n",
       "      <td>3085.199951</td>\n",
       "      <td>...</td>\n",
       "      <td>2.149910e+09</td>\n",
       "      <td>1501000.0</td>\n",
       "      <td>3453.0</td>\n",
       "      <td>476300.0</td>\n",
       "      <td>167200.0</td>\n",
       "      <td>0.019193</td>\n",
       "      <td>2019-11-04</td>\n",
       "      <td>11</td>\n",
       "      <td>2019</td>\n",
       "      <td>1</td>\n",
       "    </tr>\n",
       "    <tr>\n",
       "      <th>2019-11-05</th>\n",
       "      <td>9342.527344</td>\n",
       "      <td>3074.620117</td>\n",
       "      <td>97.980003</td>\n",
       "      <td>8434.679688</td>\n",
       "      <td>1292.030029</td>\n",
       "      <td>9420.0</td>\n",
       "      <td>2142.639893</td>\n",
       "      <td>2991.560059</td>\n",
       "      <td>9457.417969</td>\n",
       "      <td>3083.949951</td>\n",
       "      <td>...</td>\n",
       "      <td>2.316710e+09</td>\n",
       "      <td>1282700.0</td>\n",
       "      <td>2875.0</td>\n",
       "      <td>400600.0</td>\n",
       "      <td>179900.0</td>\n",
       "      <td>-0.007446</td>\n",
       "      <td>2019-11-05</td>\n",
       "      <td>11</td>\n",
       "      <td>2019</td>\n",
       "      <td>0</td>\n",
       "    </tr>\n",
       "    <tr>\n",
       "      <th>2019-11-06</th>\n",
       "      <td>9360.879883</td>\n",
       "      <td>3076.780029</td>\n",
       "      <td>97.949997</td>\n",
       "      <td>8410.629883</td>\n",
       "      <td>1291.800049</td>\n",
       "      <td>9360.0</td>\n",
       "      <td>2144.149902</td>\n",
       "      <td>2978.600098</td>\n",
       "      <td>9423.237305</td>\n",
       "      <td>3078.340088</td>\n",
       "      <td>...</td>\n",
       "      <td>2.332650e+09</td>\n",
       "      <td>1152700.0</td>\n",
       "      <td>1366.0</td>\n",
       "      <td>410100.0</td>\n",
       "      <td>165300.0</td>\n",
       "      <td>0.001964</td>\n",
       "      <td>2019-11-06</td>\n",
       "      <td>11</td>\n",
       "      <td>2019</td>\n",
       "      <td>1</td>\n",
       "    </tr>\n",
       "  </tbody>\n",
       "</table>\n",
       "<p>5 rows × 37 columns</p>\n",
       "</div>"
      ],
      "text/plain": [
       "            Close_BTC-USD  Close_^GSPC  Close_DX-Y.NYB  Close_^IXIC  \\\n",
       "Date                                                                  \n",
       "2019-11-02    9324.717773  3066.909912       97.230003  8386.400391   \n",
       "2019-11-03    9235.354492  3066.909912       97.230003  8386.400391   \n",
       "2019-11-04    9412.612305  3078.270020       97.510002  8433.200195   \n",
       "2019-11-05    9342.527344  3074.620117       97.980003  8434.679688   \n",
       "2019-11-06    9360.879883  3076.780029       97.949997  8410.629883   \n",
       "\n",
       "             Close_GOOG  Close_BTC=F  Close_^KS11  Close_000001.SS  \\\n",
       "Date                                                                 \n",
       "2019-11-02  1273.739990       9235.0  2100.199951      2958.199951   \n",
       "2019-11-03  1273.739990       9235.0  2100.199951      2958.199951   \n",
       "2019-11-04  1291.369995       9565.0  2130.239990      2975.489990   \n",
       "2019-11-05  1292.030029       9420.0  2142.639893      2991.560059   \n",
       "2019-11-06  1291.800049       9360.0  2144.149902      2978.600098   \n",
       "\n",
       "            High_BTC-USD   High_^GSPC  ...  Volume_^IXIC  Volume_GOOG  \\\n",
       "Date                                   ...                              \n",
       "2019-11-02   9377.486328  3066.949951  ...  2.057310e+09    1670100.0   \n",
       "2019-11-03   9379.806641  3066.949951  ...  2.057310e+09    1670100.0   \n",
       "2019-11-04   9505.051758  3085.199951  ...  2.149910e+09    1501000.0   \n",
       "2019-11-05   9457.417969  3083.949951  ...  2.316710e+09    1282700.0   \n",
       "2019-11-06   9423.237305  3078.340088  ...  2.332650e+09    1152700.0   \n",
       "\n",
       "            Volume_BTC=F  Volume_^KS11  Volume_000001.SS  \\\n",
       "Date                                                       \n",
       "2019-11-02        2641.0      418300.0          159900.0   \n",
       "2019-11-03        2641.0      418300.0          159900.0   \n",
       "2019-11-04        3453.0      476300.0          167200.0   \n",
       "2019-11-05        2875.0      400600.0          179900.0   \n",
       "2019-11-06        1366.0      410100.0          165300.0   \n",
       "\n",
       "            percentage_change_price_       Date  month  year  delta_binary  \n",
       "Date                                                                        \n",
       "2019-11-02                  0.006869 2019-11-02     11  2019             1  \n",
       "2019-11-03                 -0.009583 2019-11-03     11  2019             0  \n",
       "2019-11-04                  0.019193 2019-11-04     11  2019             1  \n",
       "2019-11-05                 -0.007446 2019-11-05     11  2019             0  \n",
       "2019-11-06                  0.001964 2019-11-06     11  2019             1  \n",
       "\n",
       "[5 rows x 37 columns]"
      ]
     },
     "execution_count": 29,
     "metadata": {},
     "output_type": "execute_result"
    }
   ],
   "source": [
    "df_train.head()"
   ]
  },
  {
   "cell_type": "code",
   "execution_count": 30,
   "metadata": {
    "ExecuteTime": {
     "end_time": "2020-11-24T22:37:27.418352Z",
     "start_time": "2020-11-24T22:37:27.411559Z"
    },
    "scrolled": true
   },
   "outputs": [],
   "source": [
    "df_test = df_test.drop(columns = 'Date')\n",
    "df = df.drop(columns = ['Date'])"
   ]
  },
  {
   "cell_type": "code",
   "execution_count": 31,
   "metadata": {
    "ExecuteTime": {
     "end_time": "2020-11-24T22:37:28.235538Z",
     "start_time": "2020-11-24T22:37:28.229808Z"
    }
   },
   "outputs": [],
   "source": [
    "df_train = df_train.drop(columns = 'Date')"
   ]
  },
  {
   "cell_type": "code",
   "execution_count": 33,
   "metadata": {
    "ExecuteTime": {
     "end_time": "2020-11-24T22:42:35.006307Z",
     "start_time": "2020-11-24T22:42:34.972527Z"
    }
   },
   "outputs": [
    {
     "data": {
      "text/html": [
       "<div>\n",
       "<style scoped>\n",
       "    .dataframe tbody tr th:only-of-type {\n",
       "        vertical-align: middle;\n",
       "    }\n",
       "\n",
       "    .dataframe tbody tr th {\n",
       "        vertical-align: top;\n",
       "    }\n",
       "\n",
       "    .dataframe thead th {\n",
       "        text-align: right;\n",
       "    }\n",
       "</style>\n",
       "<table border=\"1\" class=\"dataframe\">\n",
       "  <thead>\n",
       "    <tr style=\"text-align: right;\">\n",
       "      <th></th>\n",
       "      <th>Close_BTC-USD</th>\n",
       "      <th>Close_^GSPC</th>\n",
       "      <th>Close_DX-Y.NYB</th>\n",
       "      <th>Close_^IXIC</th>\n",
       "      <th>Close_GOOG</th>\n",
       "      <th>Close_BTC=F</th>\n",
       "      <th>Close_^KS11</th>\n",
       "      <th>Close_000001.SS</th>\n",
       "      <th>High_BTC-USD</th>\n",
       "      <th>High_^GSPC</th>\n",
       "      <th>...</th>\n",
       "      <th>Volume_DX-Y.NYB</th>\n",
       "      <th>Volume_^IXIC</th>\n",
       "      <th>Volume_GOOG</th>\n",
       "      <th>Volume_BTC=F</th>\n",
       "      <th>Volume_^KS11</th>\n",
       "      <th>Volume_000001.SS</th>\n",
       "      <th>percentage_change_price_</th>\n",
       "      <th>month</th>\n",
       "      <th>year</th>\n",
       "      <th>delta_binary</th>\n",
       "    </tr>\n",
       "    <tr>\n",
       "      <th>Date</th>\n",
       "      <th></th>\n",
       "      <th></th>\n",
       "      <th></th>\n",
       "      <th></th>\n",
       "      <th></th>\n",
       "      <th></th>\n",
       "      <th></th>\n",
       "      <th></th>\n",
       "      <th></th>\n",
       "      <th></th>\n",
       "      <th></th>\n",
       "      <th></th>\n",
       "      <th></th>\n",
       "      <th></th>\n",
       "      <th></th>\n",
       "      <th></th>\n",
       "      <th></th>\n",
       "      <th></th>\n",
       "      <th></th>\n",
       "      <th></th>\n",
       "      <th></th>\n",
       "    </tr>\n",
       "  </thead>\n",
       "  <tbody>\n",
       "    <tr>\n",
       "      <th>2019-11-01</th>\n",
       "      <td>9261.104492</td>\n",
       "      <td>3066.909912</td>\n",
       "      <td>97.230003</td>\n",
       "      <td>8386.400391</td>\n",
       "      <td>1273.739990</td>\n",
       "      <td>9235.0</td>\n",
       "      <td>2100.199951</td>\n",
       "      <td>2958.199951</td>\n",
       "      <td>9275.657227</td>\n",
       "      <td>3066.949951</td>\n",
       "      <td>...</td>\n",
       "      <td>0.0</td>\n",
       "      <td>2.057310e+09</td>\n",
       "      <td>1670100.0</td>\n",
       "      <td>2641.0</td>\n",
       "      <td>418300.0</td>\n",
       "      <td>159900.0</td>\n",
       "      <td>NaN</td>\n",
       "      <td>11</td>\n",
       "      <td>2019</td>\n",
       "      <td>0</td>\n",
       "    </tr>\n",
       "    <tr>\n",
       "      <th>2019-11-02</th>\n",
       "      <td>9324.717773</td>\n",
       "      <td>3066.909912</td>\n",
       "      <td>97.230003</td>\n",
       "      <td>8386.400391</td>\n",
       "      <td>1273.739990</td>\n",
       "      <td>9235.0</td>\n",
       "      <td>2100.199951</td>\n",
       "      <td>2958.199951</td>\n",
       "      <td>9377.486328</td>\n",
       "      <td>3066.949951</td>\n",
       "      <td>...</td>\n",
       "      <td>0.0</td>\n",
       "      <td>2.057310e+09</td>\n",
       "      <td>1670100.0</td>\n",
       "      <td>2641.0</td>\n",
       "      <td>418300.0</td>\n",
       "      <td>159900.0</td>\n",
       "      <td>0.006869</td>\n",
       "      <td>11</td>\n",
       "      <td>2019</td>\n",
       "      <td>1</td>\n",
       "    </tr>\n",
       "    <tr>\n",
       "      <th>2019-11-03</th>\n",
       "      <td>9235.354492</td>\n",
       "      <td>3066.909912</td>\n",
       "      <td>97.230003</td>\n",
       "      <td>8386.400391</td>\n",
       "      <td>1273.739990</td>\n",
       "      <td>9235.0</td>\n",
       "      <td>2100.199951</td>\n",
       "      <td>2958.199951</td>\n",
       "      <td>9379.806641</td>\n",
       "      <td>3066.949951</td>\n",
       "      <td>...</td>\n",
       "      <td>0.0</td>\n",
       "      <td>2.057310e+09</td>\n",
       "      <td>1670100.0</td>\n",
       "      <td>2641.0</td>\n",
       "      <td>418300.0</td>\n",
       "      <td>159900.0</td>\n",
       "      <td>-0.009583</td>\n",
       "      <td>11</td>\n",
       "      <td>2019</td>\n",
       "      <td>0</td>\n",
       "    </tr>\n",
       "    <tr>\n",
       "      <th>2019-11-04</th>\n",
       "      <td>9412.612305</td>\n",
       "      <td>3078.270020</td>\n",
       "      <td>97.510002</td>\n",
       "      <td>8433.200195</td>\n",
       "      <td>1291.369995</td>\n",
       "      <td>9565.0</td>\n",
       "      <td>2130.239990</td>\n",
       "      <td>2975.489990</td>\n",
       "      <td>9505.051758</td>\n",
       "      <td>3085.199951</td>\n",
       "      <td>...</td>\n",
       "      <td>0.0</td>\n",
       "      <td>2.149910e+09</td>\n",
       "      <td>1501000.0</td>\n",
       "      <td>3453.0</td>\n",
       "      <td>476300.0</td>\n",
       "      <td>167200.0</td>\n",
       "      <td>0.019193</td>\n",
       "      <td>11</td>\n",
       "      <td>2019</td>\n",
       "      <td>1</td>\n",
       "    </tr>\n",
       "    <tr>\n",
       "      <th>2019-11-05</th>\n",
       "      <td>9342.527344</td>\n",
       "      <td>3074.620117</td>\n",
       "      <td>97.980003</td>\n",
       "      <td>8434.679688</td>\n",
       "      <td>1292.030029</td>\n",
       "      <td>9420.0</td>\n",
       "      <td>2142.639893</td>\n",
       "      <td>2991.560059</td>\n",
       "      <td>9457.417969</td>\n",
       "      <td>3083.949951</td>\n",
       "      <td>...</td>\n",
       "      <td>0.0</td>\n",
       "      <td>2.316710e+09</td>\n",
       "      <td>1282700.0</td>\n",
       "      <td>2875.0</td>\n",
       "      <td>400600.0</td>\n",
       "      <td>179900.0</td>\n",
       "      <td>-0.007446</td>\n",
       "      <td>11</td>\n",
       "      <td>2019</td>\n",
       "      <td>0</td>\n",
       "    </tr>\n",
       "  </tbody>\n",
       "</table>\n",
       "<p>5 rows × 36 columns</p>\n",
       "</div>"
      ],
      "text/plain": [
       "            Close_BTC-USD  Close_^GSPC  Close_DX-Y.NYB  Close_^IXIC  \\\n",
       "Date                                                                  \n",
       "2019-11-01    9261.104492  3066.909912       97.230003  8386.400391   \n",
       "2019-11-02    9324.717773  3066.909912       97.230003  8386.400391   \n",
       "2019-11-03    9235.354492  3066.909912       97.230003  8386.400391   \n",
       "2019-11-04    9412.612305  3078.270020       97.510002  8433.200195   \n",
       "2019-11-05    9342.527344  3074.620117       97.980003  8434.679688   \n",
       "\n",
       "             Close_GOOG  Close_BTC=F  Close_^KS11  Close_000001.SS  \\\n",
       "Date                                                                 \n",
       "2019-11-01  1273.739990       9235.0  2100.199951      2958.199951   \n",
       "2019-11-02  1273.739990       9235.0  2100.199951      2958.199951   \n",
       "2019-11-03  1273.739990       9235.0  2100.199951      2958.199951   \n",
       "2019-11-04  1291.369995       9565.0  2130.239990      2975.489990   \n",
       "2019-11-05  1292.030029       9420.0  2142.639893      2991.560059   \n",
       "\n",
       "            High_BTC-USD   High_^GSPC  ...  Volume_DX-Y.NYB  Volume_^IXIC  \\\n",
       "Date                                   ...                                  \n",
       "2019-11-01   9275.657227  3066.949951  ...              0.0  2.057310e+09   \n",
       "2019-11-02   9377.486328  3066.949951  ...              0.0  2.057310e+09   \n",
       "2019-11-03   9379.806641  3066.949951  ...              0.0  2.057310e+09   \n",
       "2019-11-04   9505.051758  3085.199951  ...              0.0  2.149910e+09   \n",
       "2019-11-05   9457.417969  3083.949951  ...              0.0  2.316710e+09   \n",
       "\n",
       "            Volume_GOOG  Volume_BTC=F  Volume_^KS11  Volume_000001.SS  \\\n",
       "Date                                                                    \n",
       "2019-11-01    1670100.0        2641.0      418300.0          159900.0   \n",
       "2019-11-02    1670100.0        2641.0      418300.0          159900.0   \n",
       "2019-11-03    1670100.0        2641.0      418300.0          159900.0   \n",
       "2019-11-04    1501000.0        3453.0      476300.0          167200.0   \n",
       "2019-11-05    1282700.0        2875.0      400600.0          179900.0   \n",
       "\n",
       "            percentage_change_price_  month  year  delta_binary  \n",
       "Date                                                             \n",
       "2019-11-01                       NaN     11  2019             0  \n",
       "2019-11-02                  0.006869     11  2019             1  \n",
       "2019-11-03                 -0.009583     11  2019             0  \n",
       "2019-11-04                  0.019193     11  2019             1  \n",
       "2019-11-05                 -0.007446     11  2019             0  \n",
       "\n",
       "[5 rows x 36 columns]"
      ]
     },
     "execution_count": 33,
     "metadata": {},
     "output_type": "execute_result"
    }
   ],
   "source": [
    "df.head()"
   ]
  },
  {
   "cell_type": "markdown",
   "metadata": {},
   "source": [
    "df_test.dtypes"
   ]
  },
  {
   "cell_type": "code",
   "execution_count": null,
   "metadata": {},
   "outputs": [],
   "source": []
  },
  {
   "cell_type": "markdown",
   "metadata": {},
   "source": [
    "## Feature scaling"
   ]
  },
  {
   "cell_type": "markdown",
   "metadata": {},
   "source": [
    "##### Fetaure scaling: only on train data ######"
   ]
  },
  {
   "cell_type": "raw",
   "metadata": {},
   "source": [
    "df.columns"
   ]
  },
  {
   "cell_type": "raw",
   "metadata": {},
   "source": [
    "df_test.shape,df_train.shape"
   ]
  },
  {
   "cell_type": "code",
   "execution_count": null,
   "metadata": {
    "scrolled": true
   },
   "outputs": [],
   "source": [
    "# Scaling: MinMaxScaler\n",
    "from sklearn.preprocessing import MinMaxScaler\n",
    "\n",
    "#features_list = [col_name for col_name in df.columns if col_name not in {'Date', 'Close'} ]\n",
    "\n",
    "# normalizing features\n",
    "normalizer_features = MinMaxScaler()\n",
    "normalizer_features.fit(df_train)\n",
    "scaled_df = pd.DataFrame(normalizer_features.transform(df))\n",
    "\n",
    "# mormalizing output/target\n",
    "#normalizer_output = MinMaxScaler()\n",
    "#normalizer_output.fit(df_train[['percentage_change_price']])\n",
    "#scaled_df['percentage_change_price'] = normalizer_output.transform(df[['percentage_change_price']])\n",
    "scaled_df['delta_binary'] = df.reset_index()[['delta_binary']]\n",
    "\n",
    "# not normalizing, uncomment this\n",
    "# scaled_df = df"
   ]
  },
  {
   "cell_type": "raw",
   "metadata": {
    "scrolled": true
   },
   "source": [
    "scaled_df['delta_binary']"
   ]
  },
  {
   "cell_type": "raw",
   "metadata": {},
   "source": [
    "scaled_df.head(5)"
   ]
  },
  {
   "cell_type": "markdown",
   "metadata": {},
   "source": [
    "## Generate data sequences"
   ]
  },
  {
   "cell_type": "raw",
   "metadata": {},
   "source": [
    "scaled_df.head(1)"
   ]
  },
  {
   "cell_type": "code",
   "execution_count": null,
   "metadata": {},
   "outputs": [],
   "source": [
    "scaled_df_train, scaled_df_test = scaled_df.iloc[start:(index+start)], scaled_df.iloc[start+index:]"
   ]
  },
  {
   "cell_type": "code",
   "execution_count": null,
   "metadata": {},
   "outputs": [],
   "source": [
    "X_train, X_test, y_train, y_test, y_b_test, y_b_train = generate_data(scaled_df_train,\n",
    "                                                    scaled_df_test, temporal_horizon, length_of_sequences)"
   ]
  },
  {
   "cell_type": "code",
   "execution_count": null,
   "metadata": {},
   "outputs": [],
   "source": [
    "print(X_train.shape)\n",
    "print(X_test.shape)\n",
    "print(y_train.shape)\n",
    "print(y_test.shape)\n",
    "print(y_b_train.shape)\n",
    "print(y_b_test.shape)"
   ]
  },
  {
   "cell_type": "raw",
   "metadata": {},
   "source": [
    "y_test"
   ]
  },
  {
   "cell_type": "markdown",
   "metadata": {},
   "source": [
    "## Baseline model: LSTM with feature scaling "
   ]
  },
  {
   "cell_type": "markdown",
   "metadata": {},
   "source": [
    "- LSTM: Introduced to prevent the vanishing gradient: for **long** time-series, the gradient (of the backpropagation, during the optimizer updates) vanished to 0."
   ]
  },
  {
   "cell_type": "code",
   "execution_count": null,
   "metadata": {},
   "outputs": [],
   "source": [
    "from tensorflow.keras.models import Sequential\n",
    "from tensorflow.keras import layers\n",
    "\n",
    "def init_model():\n",
    "\n",
    "    model = Sequential()\n",
    "    model.add(layers.Masking())\n",
    "    model.add(layers.LSTM(7, activation='tanh'))\n",
    "    model.add(layers.Dropout(0.1))\n",
    "    #model.add(layers.Dense(10, activation='relu'))\n",
    "    #model.add(layers.Dropout(0.1))\n",
    "    model.add(layers.Dense(1, activation='sigmoid'))\n",
    "    \n",
    "    model.compile(loss='binary_crossentropy', \n",
    "                  optimizer='rmsprop', \n",
    "                  metrics=['accuracy'])# find loss an penalizing negative or positive results - alternatives to mae\n",
    "                                  # mae weighted\n",
    "    return model\n"
   ]
  },
  {
   "cell_type": "code",
   "execution_count": null,
   "metadata": {},
   "outputs": [],
   "source": [
    "X_train.shape"
   ]
  },
  {
   "cell_type": "code",
   "execution_count": null,
   "metadata": {},
   "outputs": [],
   "source": [
    "X_test.shape"
   ]
  },
  {
   "cell_type": "code",
   "execution_count": null,
   "metadata": {
    "scrolled": true
   },
   "outputs": [],
   "source": [
    "# Fit the model\n",
    "from tensorflow.keras.callbacks import EarlyStopping\n",
    "\n",
    "model = init_model()\n",
    "\n",
    "es = EarlyStopping(patience=50, mode='min', verbose=1, monitor='val_loss',restore_best_weights=True)\n",
    "# patience = 30 - > if my algorithm doesnt improve my performance for a certain number of iterations \n",
    "# (patience) stop the fitting process, return the weights as they are\n",
    "\n",
    "history = model.fit(X_train,y_train,\n",
    "          batch_size=310, \n",
    "          epochs=10000, # iteration through your data\n",
    "          validation_split=0.2,\n",
    "          callbacks=[es],\n",
    "          verbose=1)"
   ]
  },
  {
   "cell_type": "markdown",
   "metadata": {},
   "source": [
    "#history.history"
   ]
  },
  {
   "cell_type": "code",
   "execution_count": null,
   "metadata": {
    "scrolled": false
   },
   "outputs": [],
   "source": [
    "\n",
    "def plot_loss(history):\n",
    "    plt.plot(history.history['loss'])\n",
    "    plt.plot(history.history['val_loss'])\n",
    "    plt.title('Model loss')\n",
    "    plt.ylabel('Binary_crossentropy - Loss')\n",
    "    plt.xlabel('Epoch')\n",
    "    plt.legend(['Train', 'Validation'], loc='best')\n",
    "    plt.show()\n",
    "    \n",
    "    plt.plot(history.history['accuracy'])\n",
    "    plt.plot(history.history['val_accuracy'])\n",
    "    plt.title('Model loss')\n",
    "    plt.ylabel('Accuracy')\n",
    "    plt.xlabel('Epoch')\n",
    "    plt.legend(['Train', 'Validation'], loc='best')\n",
    "    plt.show()\n",
    "    \n",
    "plot_loss(history)"
   ]
  },
  {
   "cell_type": "code",
   "execution_count": null,
   "metadata": {
    "scrolled": true
   },
   "outputs": [],
   "source": [
    "y_pred = model.predict(X_test)\n",
    "res = model.evaluate(X_test,y_test)\n",
    "print(f'Loss on the test set : {res[0]:.8f}')\n",
    "print(f'Accuracy on the test set : {res[1]:.8f}')"
   ]
  },
  {
   "cell_type": "markdown",
   "metadata": {
    "heading_collapsed": true
   },
   "source": [
    "## TAs testing stuff"
   ]
  },
  {
   "cell_type": "code",
   "execution_count": null,
   "metadata": {
    "hidden": true
   },
   "outputs": [],
   "source": [
    "bin_y_pred = y_pred >  0.5"
   ]
  },
  {
   "cell_type": "code",
   "execution_count": null,
   "metadata": {
    "hidden": true
   },
   "outputs": [],
   "source": [
    "y_pred.reshape(-1).shape"
   ]
  },
  {
   "cell_type": "code",
   "execution_count": null,
   "metadata": {
    "hidden": true
   },
   "outputs": [],
   "source": [
    "y_test.shape"
   ]
  },
  {
   "cell_type": "code",
   "execution_count": null,
   "metadata": {
    "hidden": true
   },
   "outputs": [],
   "source": []
  },
  {
   "cell_type": "code",
   "execution_count": null,
   "metadata": {
    "hidden": true
   },
   "outputs": [],
   "source": [
    "res_df = pd.DataFrame({'y_true': y_test, 'y_pred': y_pred.reshape(-1)})"
   ]
  },
  {
   "cell_type": "code",
   "execution_count": null,
   "metadata": {
    "hidden": true
   },
   "outputs": [],
   "source": [
    "res_df.head()"
   ]
  },
  {
   "cell_type": "code",
   "execution_count": null,
   "metadata": {
    "hidden": true
   },
   "outputs": [],
   "source": [
    "res_df['y_pred_bin'] = res_df['y_pred'] > 0.5"
   ]
  },
  {
   "cell_type": "code",
   "execution_count": null,
   "metadata": {
    "hidden": true
   },
   "outputs": [],
   "source": [
    "res_df.head()"
   ]
  },
  {
   "cell_type": "code",
   "execution_count": null,
   "metadata": {
    "hidden": true
   },
   "outputs": [],
   "source": [
    "res_df['correct'] = res_df['y_pred_bin'] == res_df['y_true'] "
   ]
  },
  {
   "cell_type": "code",
   "execution_count": null,
   "metadata": {
    "hidden": true
   },
   "outputs": [],
   "source": [
    "res_df.head()"
   ]
  },
  {
   "cell_type": "code",
   "execution_count": null,
   "metadata": {
    "hidden": true
   },
   "outputs": [],
   "source": [
    "res_df['correct'].sum() / len(res_df)"
   ]
  },
  {
   "cell_type": "code",
   "execution_count": null,
   "metadata": {
    "hidden": true
   },
   "outputs": [],
   "source": [
    "res_df.groupby('y_pred_bin')['y_pred_bin'].count().plot.bar()"
   ]
  },
  {
   "cell_type": "code",
   "execution_count": null,
   "metadata": {
    "hidden": true
   },
   "outputs": [],
   "source": [
    "res_df.groupby('y_true')['y_true'].count().plot.bar()"
   ]
  },
  {
   "cell_type": "code",
   "execution_count": null,
   "metadata": {
    "hidden": true
   },
   "outputs": [],
   "source": [
    "sum(correct ) /len(correct)"
   ]
  },
  {
   "cell_type": "code",
   "execution_count": null,
   "metadata": {
    "hidden": true
   },
   "outputs": [],
   "source": [
    "X_test.shape"
   ]
  },
  {
   "cell_type": "code",
   "execution_count": null,
   "metadata": {
    "hidden": true
   },
   "outputs": [],
   "source": [
    "X_test[0,:,:] == X_test[1,:,:]"
   ]
  },
  {
   "cell_type": "code",
   "execution_count": null,
   "metadata": {
    "hidden": true
   },
   "outputs": [],
   "source": [
    "X_test[1,:,:]"
   ]
  },
  {
   "cell_type": "markdown",
   "metadata": {},
   "source": [
    "## Backtesting the model "
   ]
  },
  {
   "cell_type": "code",
   "execution_count": null,
   "metadata": {},
   "outputs": [],
   "source": [
    "today_test_data = scaled_df.iloc[-7:,:-1].values.reshape(1,7,36)"
   ]
  },
  {
   "cell_type": "code",
   "execution_count": null,
   "metadata": {},
   "outputs": [],
   "source": [
    "if model.predict(today_test_data)[0,0] > 0.5:\n",
    "    print('time to buy')\n",
    "else:\n",
    "    print('time to sell')"
   ]
  },
  {
   "cell_type": "code",
   "execution_count": null,
   "metadata": {},
   "outputs": [],
   "source": [
    "for day in range[7]:\n",
    "    scaled_df.iloc[(-day-7):,:-1].values.reshape(1,day,36)\n",
    "    \n",
    "    "
   ]
  }
 ],
 "metadata": {
  "kernelspec": {
   "display_name": "Python 3",
   "language": "python",
   "name": "python3"
  },
  "language_info": {
   "codemirror_mode": {
    "name": "ipython",
    "version": 3
   },
   "file_extension": ".py",
   "mimetype": "text/x-python",
   "name": "python",
   "nbconvert_exporter": "python",
   "pygments_lexer": "ipython3",
   "version": "3.7.7"
  },
  "toc": {
   "base_numbering": 1,
   "nav_menu": {},
   "number_sections": true,
   "sideBar": true,
   "skip_h1_title": false,
   "title_cell": "Table of Contents",
   "title_sidebar": "Contents",
   "toc_cell": false,
   "toc_position": {
    "height": "calc(100% - 180px)",
    "left": "10px",
    "top": "150px",
    "width": "351.375px"
   },
   "toc_section_display": true,
   "toc_window_display": false
  }
 },
 "nbformat": 4,
 "nbformat_minor": 4
}
