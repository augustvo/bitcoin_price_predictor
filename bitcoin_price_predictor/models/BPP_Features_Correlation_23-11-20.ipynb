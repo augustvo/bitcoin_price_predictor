{
 "cells": [
  {
   "cell_type": "code",
   "execution_count": 1,
   "metadata": {},
   "outputs": [],
   "source": [
    "import pandas as pd\n",
    "import numpy as np\n",
    "import matplotlib.pyplot as plt\n",
    "%matplotlib inline\n",
    "import random\n",
    "random.seed(123)\n",
    "import seaborn as sns\n",
    "import datetime\n",
    "from datetime import date\n",
    "import yfinance as yf"
   ]
  },
  {
   "cell_type": "code",
   "execution_count": 34,
   "metadata": {},
   "outputs": [
    {
     "name": "stdout",
     "output_type": "stream",
     "text": [
      "[*********************100%***********************]  10 of 10 completed\n"
     ]
    }
   ],
   "source": [
    "########## DOWNLOAD DATA DIRECTLY FROM YAHOO FINANCE ##########\n",
    "# BITCOIN, US DOLLAR, VOLATILITY INDEX, S&P 500, DOW JONES, GOLD PRICE, OIL PRICE ^GDAXI\n",
    "\n",
    "stocks = ['BTC-USD','DX-Y.NYB','^GSPC','^DJI','GC=F','NEM', 'NOG', '^GSPC','EURUSD=X','EURUSD=X','^RUT','^GDAXI'] #### ADD FEATURES HERE ####\n",
    "end = datetime.date.today()\n",
    "start = datetime.datetime(2019,1,1)\n",
    "stock_prices = yf.download(stocks,start=start,end = end, interval='1d')"
   ]
  },
  {
   "cell_type": "code",
   "execution_count": 37,
   "metadata": {
    "scrolled": false
   },
   "outputs": [
    {
     "data": {
      "text/html": [
       "<div>\n",
       "<style scoped>\n",
       "    .dataframe tbody tr th:only-of-type {\n",
       "        vertical-align: middle;\n",
       "    }\n",
       "\n",
       "    .dataframe tbody tr th {\n",
       "        vertical-align: top;\n",
       "    }\n",
       "\n",
       "    .dataframe thead th {\n",
       "        text-align: right;\n",
       "    }\n",
       "</style>\n",
       "<table border=\"1\" class=\"dataframe\">\n",
       "  <thead>\n",
       "    <tr style=\"text-align: right;\">\n",
       "      <th></th>\n",
       "      <th>BTC-USD</th>\n",
       "      <th>DX-Y.NYB</th>\n",
       "      <th>EURUSD=X</th>\n",
       "      <th>GC=F</th>\n",
       "      <th>NEM</th>\n",
       "      <th>NOG</th>\n",
       "      <th>^DJI</th>\n",
       "      <th>^GDAXI</th>\n",
       "      <th>^GSPC</th>\n",
       "      <th>^RUT</th>\n",
       "    </tr>\n",
       "  </thead>\n",
       "  <tbody>\n",
       "    <tr>\n",
       "      <th>BTC-USD</th>\n",
       "      <td>1.000000</td>\n",
       "      <td>-0.417016</td>\n",
       "      <td>0.358110</td>\n",
       "      <td>0.695106</td>\n",
       "      <td>0.617082</td>\n",
       "      <td>-0.654002</td>\n",
       "      <td>0.495658</td>\n",
       "      <td>0.468255</td>\n",
       "      <td>0.720980</td>\n",
       "      <td>0.268432</td>\n",
       "    </tr>\n",
       "    <tr>\n",
       "      <th>DX-Y.NYB</th>\n",
       "      <td>-0.417016</td>\n",
       "      <td>1.000000</td>\n",
       "      <td>-0.971180</td>\n",
       "      <td>-0.506821</td>\n",
       "      <td>-0.447645</td>\n",
       "      <td>0.303644</td>\n",
       "      <td>-0.484875</td>\n",
       "      <td>-0.414770</td>\n",
       "      <td>-0.611207</td>\n",
       "      <td>-0.457375</td>\n",
       "    </tr>\n",
       "    <tr>\n",
       "      <th>EURUSD=X</th>\n",
       "      <td>0.358110</td>\n",
       "      <td>-0.971180</td>\n",
       "      <td>1.000000</td>\n",
       "      <td>0.472474</td>\n",
       "      <td>0.441728</td>\n",
       "      <td>-0.327737</td>\n",
       "      <td>0.354072</td>\n",
       "      <td>0.276929</td>\n",
       "      <td>0.512295</td>\n",
       "      <td>0.336854</td>\n",
       "    </tr>\n",
       "    <tr>\n",
       "      <th>GC=F</th>\n",
       "      <td>0.695106</td>\n",
       "      <td>-0.506821</td>\n",
       "      <td>0.472474</td>\n",
       "      <td>1.000000</td>\n",
       "      <td>0.963607</td>\n",
       "      <td>-0.913033</td>\n",
       "      <td>0.249533</td>\n",
       "      <td>0.257364</td>\n",
       "      <td>0.686693</td>\n",
       "      <td>-0.077133</td>\n",
       "    </tr>\n",
       "    <tr>\n",
       "      <th>NEM</th>\n",
       "      <td>0.617082</td>\n",
       "      <td>-0.447645</td>\n",
       "      <td>0.441728</td>\n",
       "      <td>0.963607</td>\n",
       "      <td>1.000000</td>\n",
       "      <td>-0.905184</td>\n",
       "      <td>0.144587</td>\n",
       "      <td>0.156095</td>\n",
       "      <td>0.606655</td>\n",
       "      <td>-0.163195</td>\n",
       "    </tr>\n",
       "    <tr>\n",
       "      <th>NOG</th>\n",
       "      <td>-0.654002</td>\n",
       "      <td>0.303644</td>\n",
       "      <td>-0.327737</td>\n",
       "      <td>-0.913033</td>\n",
       "      <td>-0.905184</td>\n",
       "      <td>1.000000</td>\n",
       "      <td>0.008176</td>\n",
       "      <td>-0.004590</td>\n",
       "      <td>-0.471005</td>\n",
       "      <td>0.322980</td>\n",
       "    </tr>\n",
       "    <tr>\n",
       "      <th>^DJI</th>\n",
       "      <td>0.495658</td>\n",
       "      <td>-0.484875</td>\n",
       "      <td>0.354072</td>\n",
       "      <td>0.249533</td>\n",
       "      <td>0.144587</td>\n",
       "      <td>0.008176</td>\n",
       "      <td>1.000000</td>\n",
       "      <td>0.946767</td>\n",
       "      <td>0.861247</td>\n",
       "      <td>0.912807</td>\n",
       "    </tr>\n",
       "    <tr>\n",
       "      <th>^GDAXI</th>\n",
       "      <td>0.468255</td>\n",
       "      <td>-0.414770</td>\n",
       "      <td>0.276929</td>\n",
       "      <td>0.257364</td>\n",
       "      <td>0.156095</td>\n",
       "      <td>-0.004590</td>\n",
       "      <td>0.946767</td>\n",
       "      <td>1.000000</td>\n",
       "      <td>0.825894</td>\n",
       "      <td>0.840833</td>\n",
       "    </tr>\n",
       "    <tr>\n",
       "      <th>^GSPC</th>\n",
       "      <td>0.720980</td>\n",
       "      <td>-0.611207</td>\n",
       "      <td>0.512295</td>\n",
       "      <td>0.686693</td>\n",
       "      <td>0.606655</td>\n",
       "      <td>-0.471005</td>\n",
       "      <td>0.861247</td>\n",
       "      <td>0.825894</td>\n",
       "      <td>1.000000</td>\n",
       "      <td>0.640249</td>\n",
       "    </tr>\n",
       "    <tr>\n",
       "      <th>^RUT</th>\n",
       "      <td>0.268432</td>\n",
       "      <td>-0.457375</td>\n",
       "      <td>0.336854</td>\n",
       "      <td>-0.077133</td>\n",
       "      <td>-0.163195</td>\n",
       "      <td>0.322980</td>\n",
       "      <td>0.912807</td>\n",
       "      <td>0.840833</td>\n",
       "      <td>0.640249</td>\n",
       "      <td>1.000000</td>\n",
       "    </tr>\n",
       "  </tbody>\n",
       "</table>\n",
       "</div>"
      ],
      "text/plain": [
       "           BTC-USD  DX-Y.NYB  EURUSD=X      GC=F       NEM       NOG  \\\n",
       "BTC-USD   1.000000 -0.417016  0.358110  0.695106  0.617082 -0.654002   \n",
       "DX-Y.NYB -0.417016  1.000000 -0.971180 -0.506821 -0.447645  0.303644   \n",
       "EURUSD=X  0.358110 -0.971180  1.000000  0.472474  0.441728 -0.327737   \n",
       "GC=F      0.695106 -0.506821  0.472474  1.000000  0.963607 -0.913033   \n",
       "NEM       0.617082 -0.447645  0.441728  0.963607  1.000000 -0.905184   \n",
       "NOG      -0.654002  0.303644 -0.327737 -0.913033 -0.905184  1.000000   \n",
       "^DJI      0.495658 -0.484875  0.354072  0.249533  0.144587  0.008176   \n",
       "^GDAXI    0.468255 -0.414770  0.276929  0.257364  0.156095 -0.004590   \n",
       "^GSPC     0.720980 -0.611207  0.512295  0.686693  0.606655 -0.471005   \n",
       "^RUT      0.268432 -0.457375  0.336854 -0.077133 -0.163195  0.322980   \n",
       "\n",
       "              ^DJI    ^GDAXI     ^GSPC      ^RUT  \n",
       "BTC-USD   0.495658  0.468255  0.720980  0.268432  \n",
       "DX-Y.NYB -0.484875 -0.414770 -0.611207 -0.457375  \n",
       "EURUSD=X  0.354072  0.276929  0.512295  0.336854  \n",
       "GC=F      0.249533  0.257364  0.686693 -0.077133  \n",
       "NEM       0.144587  0.156095  0.606655 -0.163195  \n",
       "NOG       0.008176 -0.004590 -0.471005  0.322980  \n",
       "^DJI      1.000000  0.946767  0.861247  0.912807  \n",
       "^GDAXI    0.946767  1.000000  0.825894  0.840833  \n",
       "^GSPC     0.861247  0.825894  1.000000  0.640249  \n",
       "^RUT      0.912807  0.840833  0.640249  1.000000  "
      ]
     },
     "execution_count": 37,
     "metadata": {},
     "output_type": "execute_result"
    }
   ],
   "source": [
    "stock_prices['Close'].corr()"
   ]
  },
  {
   "cell_type": "code",
   "execution_count": 33,
   "metadata": {},
   "outputs": [
    {
     "data": {
      "text/plain": [
       "<AxesSubplot:>"
      ]
     },
     "execution_count": 33,
     "metadata": {},
     "output_type": "execute_result"
    },
    {
     "data": {
      "image/png": "[encoded data removed]",
      "text/plain": [
       "<Figure size 432x288 with 2 Axes>"
      ]
     },
     "metadata": {
      "needs_background": "light"
     },
     "output_type": "display_data"
    }
   ],
   "source": [
    "sns.heatmap(stock_prices['Close'].corr())"
   ]
  }
 ],
 "metadata": {
  "kernelspec": {
   "display_name": "Python 3",
   "language": "python",
   "name": "python3"
  },
  "language_info": {
   "codemirror_mode": {
    "name": "ipython",
    "version": 3
   },
   "file_extension": ".py",
   "mimetype": "text/x-python",
   "name": "python",
   "nbconvert_exporter": "python",
   "pygments_lexer": "ipython3",
   "version": "3.7.7"
  },
  "toc": {
   "base_numbering": 1,
   "nav_menu": {},
   "number_sections": true,
   "sideBar": true,
   "skip_h1_title": false,
   "title_cell": "Table of Contents",
   "title_sidebar": "Contents",
   "toc_cell": false,
   "toc_position": {},
   "toc_section_display": true,
   "toc_window_display": false
  }
 },
 "nbformat": 4,
 "nbformat_minor": 4
}
