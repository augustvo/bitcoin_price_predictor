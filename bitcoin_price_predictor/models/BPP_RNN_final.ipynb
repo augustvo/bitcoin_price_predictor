{
 "cells": [
  {
   "cell_type": "markdown",
   "metadata": {},
   "source": [
    "# Bitcoin price predictor using RNN"
   ]
  },
  {
   "cell_type": "markdown",
   "metadata": {},
   "source": [
    "## Load data"
   ]
  },
  {
   "cell_type": "code",
   "execution_count": 1,
   "metadata": {
    "ExecuteTime": {
     "end_time": "2020-11-24T11:38:39.034318Z",
     "start_time": "2020-11-24T11:38:36.720265Z"
    },
    "scrolled": true
   },
   "outputs": [],
   "source": [
    "import pandas as pd\n",
    "import numpy as np\n",
    "import matplotlib.pyplot as plt\n",
    "%matplotlib inline\n",
    "import random\n",
    "random.seed(123)\n",
    "import seaborn as sns\n",
    "import datetime\n",
    "from datetime import date\n",
    "import yfinance as yf"
   ]
  },
  {
   "cell_type": "code",
   "execution_count": 2,
   "metadata": {
    "ExecuteTime": {
     "end_time": "2020-11-24T11:38:39.575817Z",
     "start_time": "2020-11-24T11:38:39.036645Z"
    }
   },
   "outputs": [
    {
     "name": "stdout",
     "output_type": "stream",
     "text": [
      "[*********************100%***********************]  4 of 4 completed\n"
     ]
    }
   ],
   "source": [
    "########## DOWNLOAD DATA DIRECTLY FROM YAHOO FINANCE ##########\n",
    "\n",
    "stocks = ['BTC-USD','GOOG','GC=F','TSLA'] ## add featues here\n",
    "end = datetime.date.today()\n",
    "start = datetime.datetime(2019,1,2)\n",
    "stock_prices = yf.download(stocks,start=start,end = end, interval='1d')"
   ]
  },
  {
   "cell_type": "code",
   "execution_count": 3,
   "metadata": {
    "ExecuteTime": {
     "end_time": "2020-11-24T11:38:50.343958Z",
     "start_time": "2020-11-24T11:38:50.303689Z"
    }
   },
   "outputs": [
    {
     "data": {
      "text/html": [
       "<div>\n",
       "<style scoped>\n",
       "    .dataframe tbody tr th:only-of-type {\n",
       "        vertical-align: middle;\n",
       "    }\n",
       "\n",
       "    .dataframe tbody tr th {\n",
       "        vertical-align: top;\n",
       "    }\n",
       "\n",
       "    .dataframe thead tr th {\n",
       "        text-align: left;\n",
       "    }\n",
       "\n",
       "    .dataframe thead tr:last-of-type th {\n",
       "        text-align: right;\n",
       "    }\n",
       "</style>\n",
       "<table border=\"1\" class=\"dataframe\">\n",
       "  <thead>\n",
       "    <tr>\n",
       "      <th></th>\n",
       "      <th colspan=\"4\" halign=\"left\">Adj Close</th>\n",
       "      <th colspan=\"4\" halign=\"left\">Close</th>\n",
       "      <th colspan=\"2\" halign=\"left\">High</th>\n",
       "      <th>...</th>\n",
       "      <th colspan=\"2\" halign=\"left\">Low</th>\n",
       "      <th colspan=\"4\" halign=\"left\">Open</th>\n",
       "      <th colspan=\"4\" halign=\"left\">Volume</th>\n",
       "    </tr>\n",
       "    <tr>\n",
       "      <th></th>\n",
       "      <th>BTC-USD</th>\n",
       "      <th>GC=F</th>\n",
       "      <th>GOOG</th>\n",
       "      <th>TSLA</th>\n",
       "      <th>BTC-USD</th>\n",
       "      <th>GC=F</th>\n",
       "      <th>GOOG</th>\n",
       "      <th>TSLA</th>\n",
       "      <th>BTC-USD</th>\n",
       "      <th>GC=F</th>\n",
       "      <th>...</th>\n",
       "      <th>GOOG</th>\n",
       "      <th>TSLA</th>\n",
       "      <th>BTC-USD</th>\n",
       "      <th>GC=F</th>\n",
       "      <th>GOOG</th>\n",
       "      <th>TSLA</th>\n",
       "      <th>BTC-USD</th>\n",
       "      <th>GC=F</th>\n",
       "      <th>GOOG</th>\n",
       "      <th>TSLA</th>\n",
       "    </tr>\n",
       "    <tr>\n",
       "      <th>Date</th>\n",
       "      <th></th>\n",
       "      <th></th>\n",
       "      <th></th>\n",
       "      <th></th>\n",
       "      <th></th>\n",
       "      <th></th>\n",
       "      <th></th>\n",
       "      <th></th>\n",
       "      <th></th>\n",
       "      <th></th>\n",
       "      <th></th>\n",
       "      <th></th>\n",
       "      <th></th>\n",
       "      <th></th>\n",
       "      <th></th>\n",
       "      <th></th>\n",
       "      <th></th>\n",
       "      <th></th>\n",
       "      <th></th>\n",
       "      <th></th>\n",
       "      <th></th>\n",
       "    </tr>\n",
       "  </thead>\n",
       "  <tbody>\n",
       "    <tr>\n",
       "      <th>2019-01-02</th>\n",
       "      <td>3943.409424</td>\n",
       "      <td>1281.000000</td>\n",
       "      <td>1045.849976</td>\n",
       "      <td>62.023998</td>\n",
       "      <td>3943.409424</td>\n",
       "      <td>1281.000000</td>\n",
       "      <td>1045.849976</td>\n",
       "      <td>62.023998</td>\n",
       "      <td>3947.981201</td>\n",
       "      <td>1286.0</td>\n",
       "      <td>...</td>\n",
       "      <td>1015.710022</td>\n",
       "      <td>59.759998</td>\n",
       "      <td>3849.216309</td>\n",
       "      <td>1286.000000</td>\n",
       "      <td>1016.570007</td>\n",
       "      <td>61.220001</td>\n",
       "      <td>5244856835</td>\n",
       "      <td>149.0</td>\n",
       "      <td>1532600.0</td>\n",
       "      <td>58293000.0</td>\n",
       "    </tr>\n",
       "    <tr>\n",
       "      <th>2019-01-03</th>\n",
       "      <td>3836.741211</td>\n",
       "      <td>1291.800049</td>\n",
       "      <td>1016.059998</td>\n",
       "      <td>60.071999</td>\n",
       "      <td>3836.741211</td>\n",
       "      <td>1291.800049</td>\n",
       "      <td>1016.059998</td>\n",
       "      <td>60.071999</td>\n",
       "      <td>3935.685059</td>\n",
       "      <td>1292.0</td>\n",
       "      <td>...</td>\n",
       "      <td>1014.070007</td>\n",
       "      <td>59.476002</td>\n",
       "      <td>3931.048584</td>\n",
       "      <td>1286.800049</td>\n",
       "      <td>1041.000000</td>\n",
       "      <td>61.400002</td>\n",
       "      <td>4530215218</td>\n",
       "      <td>10.0</td>\n",
       "      <td>1841100.0</td>\n",
       "      <td>34826000.0</td>\n",
       "    </tr>\n",
       "  </tbody>\n",
       "</table>\n",
       "<p>2 rows × 24 columns</p>\n",
       "</div>"
      ],
      "text/plain": [
       "              Adj Close                                             Close  \\\n",
       "                BTC-USD         GC=F         GOOG       TSLA      BTC-USD   \n",
       "Date                                                                        \n",
       "2019-01-02  3943.409424  1281.000000  1045.849976  62.023998  3943.409424   \n",
       "2019-01-03  3836.741211  1291.800049  1016.059998  60.071999  3836.741211   \n",
       "\n",
       "                                                        High          ...  \\\n",
       "                   GC=F         GOOG       TSLA      BTC-USD    GC=F  ...   \n",
       "Date                                                                  ...   \n",
       "2019-01-02  1281.000000  1045.849976  62.023998  3947.981201  1286.0  ...   \n",
       "2019-01-03  1291.800049  1016.059998  60.071999  3935.685059  1292.0  ...   \n",
       "\n",
       "                    Low                    Open                            \\\n",
       "                   GOOG       TSLA      BTC-USD         GC=F         GOOG   \n",
       "Date                                                                        \n",
       "2019-01-02  1015.710022  59.759998  3849.216309  1286.000000  1016.570007   \n",
       "2019-01-03  1014.070007  59.476002  3931.048584  1286.800049  1041.000000   \n",
       "\n",
       "                           Volume                                \n",
       "                 TSLA     BTC-USD   GC=F       GOOG        TSLA  \n",
       "Date                                                             \n",
       "2019-01-02  61.220001  5244856835  149.0  1532600.0  58293000.0  \n",
       "2019-01-03  61.400002  4530215218   10.0  1841100.0  34826000.0  \n",
       "\n",
       "[2 rows x 24 columns]"
      ]
     },
     "execution_count": 3,
     "metadata": {},
     "output_type": "execute_result"
    }
   ],
   "source": [
    "raw_df = stock_prices\n",
    "raw_df.head(2)"
   ]
  },
  {
   "cell_type": "code",
   "execution_count": 4,
   "metadata": {
    "ExecuteTime": {
     "end_time": "2020-11-24T11:38:52.425506Z",
     "start_time": "2020-11-24T11:38:52.420846Z"
    }
   },
   "outputs": [],
   "source": [
    "raw_df['Date'] =  raw_df.index"
   ]
  },
  {
   "cell_type": "code",
   "execution_count": 5,
   "metadata": {
    "ExecuteTime": {
     "end_time": "2020-11-24T11:38:52.743088Z",
     "start_time": "2020-11-24T11:38:52.736411Z"
    }
   },
   "outputs": [],
   "source": [
    "raw_df['Date'] = pd.to_datetime(raw_df['Date'])"
   ]
  },
  {
   "cell_type": "code",
   "execution_count": 6,
   "metadata": {
    "ExecuteTime": {
     "end_time": "2020-11-24T11:38:53.182774Z",
     "start_time": "2020-11-24T11:38:53.152619Z"
    }
   },
   "outputs": [
    {
     "data": {
      "text/html": [
       "<div>\n",
       "<style scoped>\n",
       "    .dataframe tbody tr th:only-of-type {\n",
       "        vertical-align: middle;\n",
       "    }\n",
       "\n",
       "    .dataframe tbody tr th {\n",
       "        vertical-align: top;\n",
       "    }\n",
       "\n",
       "    .dataframe thead tr th {\n",
       "        text-align: left;\n",
       "    }\n",
       "\n",
       "    .dataframe thead tr:last-of-type th {\n",
       "        text-align: right;\n",
       "    }\n",
       "</style>\n",
       "<table border=\"1\" class=\"dataframe\">\n",
       "  <thead>\n",
       "    <tr>\n",
       "      <th></th>\n",
       "      <th colspan=\"4\" halign=\"left\">Adj Close</th>\n",
       "      <th colspan=\"4\" halign=\"left\">Close</th>\n",
       "      <th colspan=\"2\" halign=\"left\">High</th>\n",
       "      <th>...</th>\n",
       "      <th>Low</th>\n",
       "      <th colspan=\"4\" halign=\"left\">Open</th>\n",
       "      <th colspan=\"4\" halign=\"left\">Volume</th>\n",
       "      <th>Date</th>\n",
       "    </tr>\n",
       "    <tr>\n",
       "      <th></th>\n",
       "      <th>BTC-USD</th>\n",
       "      <th>GC=F</th>\n",
       "      <th>GOOG</th>\n",
       "      <th>TSLA</th>\n",
       "      <th>BTC-USD</th>\n",
       "      <th>GC=F</th>\n",
       "      <th>GOOG</th>\n",
       "      <th>TSLA</th>\n",
       "      <th>BTC-USD</th>\n",
       "      <th>GC=F</th>\n",
       "      <th>...</th>\n",
       "      <th>TSLA</th>\n",
       "      <th>BTC-USD</th>\n",
       "      <th>GC=F</th>\n",
       "      <th>GOOG</th>\n",
       "      <th>TSLA</th>\n",
       "      <th>BTC-USD</th>\n",
       "      <th>GC=F</th>\n",
       "      <th>GOOG</th>\n",
       "      <th>TSLA</th>\n",
       "      <th></th>\n",
       "    </tr>\n",
       "    <tr>\n",
       "      <th>Date</th>\n",
       "      <th></th>\n",
       "      <th></th>\n",
       "      <th></th>\n",
       "      <th></th>\n",
       "      <th></th>\n",
       "      <th></th>\n",
       "      <th></th>\n",
       "      <th></th>\n",
       "      <th></th>\n",
       "      <th></th>\n",
       "      <th></th>\n",
       "      <th></th>\n",
       "      <th></th>\n",
       "      <th></th>\n",
       "      <th></th>\n",
       "      <th></th>\n",
       "      <th></th>\n",
       "      <th></th>\n",
       "      <th></th>\n",
       "      <th></th>\n",
       "      <th></th>\n",
       "    </tr>\n",
       "  </thead>\n",
       "  <tbody>\n",
       "    <tr>\n",
       "      <th>2019-01-02</th>\n",
       "      <td>3943.409424</td>\n",
       "      <td>1281.000000</td>\n",
       "      <td>1045.849976</td>\n",
       "      <td>62.023998</td>\n",
       "      <td>3943.409424</td>\n",
       "      <td>1281.000000</td>\n",
       "      <td>1045.849976</td>\n",
       "      <td>62.023998</td>\n",
       "      <td>3947.981201</td>\n",
       "      <td>1286.0</td>\n",
       "      <td>...</td>\n",
       "      <td>59.759998</td>\n",
       "      <td>3849.216309</td>\n",
       "      <td>1286.000000</td>\n",
       "      <td>1016.570007</td>\n",
       "      <td>61.220001</td>\n",
       "      <td>5244856835</td>\n",
       "      <td>149.0</td>\n",
       "      <td>1532600.0</td>\n",
       "      <td>58293000.0</td>\n",
       "      <td>2019-01-02</td>\n",
       "    </tr>\n",
       "    <tr>\n",
       "      <th>2019-01-03</th>\n",
       "      <td>3836.741211</td>\n",
       "      <td>1291.800049</td>\n",
       "      <td>1016.059998</td>\n",
       "      <td>60.071999</td>\n",
       "      <td>3836.741211</td>\n",
       "      <td>1291.800049</td>\n",
       "      <td>1016.059998</td>\n",
       "      <td>60.071999</td>\n",
       "      <td>3935.685059</td>\n",
       "      <td>1292.0</td>\n",
       "      <td>...</td>\n",
       "      <td>59.476002</td>\n",
       "      <td>3931.048584</td>\n",
       "      <td>1286.800049</td>\n",
       "      <td>1041.000000</td>\n",
       "      <td>61.400002</td>\n",
       "      <td>4530215218</td>\n",
       "      <td>10.0</td>\n",
       "      <td>1841100.0</td>\n",
       "      <td>34826000.0</td>\n",
       "      <td>2019-01-03</td>\n",
       "    </tr>\n",
       "  </tbody>\n",
       "</table>\n",
       "<p>2 rows × 25 columns</p>\n",
       "</div>"
      ],
      "text/plain": [
       "              Adj Close                                             Close  \\\n",
       "                BTC-USD         GC=F         GOOG       TSLA      BTC-USD   \n",
       "Date                                                                        \n",
       "2019-01-02  3943.409424  1281.000000  1045.849976  62.023998  3943.409424   \n",
       "2019-01-03  3836.741211  1291.800049  1016.059998  60.071999  3836.741211   \n",
       "\n",
       "                                                        High          ...  \\\n",
       "                   GC=F         GOOG       TSLA      BTC-USD    GC=F  ...   \n",
       "Date                                                                  ...   \n",
       "2019-01-02  1281.000000  1045.849976  62.023998  3947.981201  1286.0  ...   \n",
       "2019-01-03  1291.800049  1016.059998  60.071999  3935.685059  1292.0  ...   \n",
       "\n",
       "                  Low         Open                                       \\\n",
       "                 TSLA      BTC-USD         GC=F         GOOG       TSLA   \n",
       "Date                                                                      \n",
       "2019-01-02  59.759998  3849.216309  1286.000000  1016.570007  61.220001   \n",
       "2019-01-03  59.476002  3931.048584  1286.800049  1041.000000  61.400002   \n",
       "\n",
       "                Volume                                     Date  \n",
       "               BTC-USD   GC=F       GOOG        TSLA             \n",
       "Date                                                             \n",
       "2019-01-02  5244856835  149.0  1532600.0  58293000.0 2019-01-02  \n",
       "2019-01-03  4530215218   10.0  1841100.0  34826000.0 2019-01-03  \n",
       "\n",
       "[2 rows x 25 columns]"
      ]
     },
     "execution_count": 6,
     "metadata": {},
     "output_type": "execute_result"
    }
   ],
   "source": [
    "raw_df.head(2)"
   ]
  },
  {
   "cell_type": "markdown",
   "metadata": {},
   "source": [
    "## Exploratory analysis"
   ]
  },
  {
   "cell_type": "code",
   "execution_count": 7,
   "metadata": {
    "ExecuteTime": {
     "end_time": "2020-11-24T11:38:55.189143Z",
     "start_time": "2020-11-24T11:38:54.971995Z"
    },
    "scrolled": true
   },
   "outputs": [
    {
     "name": "stderr",
     "output_type": "stream",
     "text": [
      "/Users/pedro/.pyenv/versions/3.7.7/envs/lewagon/lib/python3.7/site-packages/pandas/plotting/_converter.py:129: FutureWarning: Using an implicitly registered datetime converter for a matplotlib plotting method. The converter was registered by pandas on import. Future versions of pandas will require you to explicitly register matplotlib converters.\n",
      "\n",
      "To register the converters:\n",
      "\t>>> from pandas.plotting import register_matplotlib_converters\n",
      "\t>>> register_matplotlib_converters()\n",
      "  warnings.warn(msg, FutureWarning)\n"
     ]
    },
    {
     "data": {
      "image/png": "[encoded data removed]",
      "text/plain": [
       "<Figure size 432x288 with 1 Axes>"
      ]
     },
     "metadata": {
      "needs_background": "light"
     },
     "output_type": "display_data"
    }
   ],
   "source": [
    "data = raw_df['Close']['BTC-USD']\n",
    "plt.plot(data)\n",
    "\n",
    "plt.title('Bitcoin price over time')\n",
    "plt.xlabel('date')\n",
    "plt.ylabel('Price in $')\n",
    "plt.show()"
   ]
  },
  {
   "cell_type": "code",
   "execution_count": 8,
   "metadata": {
    "ExecuteTime": {
     "end_time": "2020-11-24T11:38:56.219572Z",
     "start_time": "2020-11-24T11:38:56.028499Z"
    },
    "scrolled": true
   },
   "outputs": [
    {
     "data": {
      "image/png": "[encoded data removed]",
      "text/plain": [
       "<Figure size 432x288 with 1 Axes>"
      ]
     },
     "metadata": {
      "needs_background": "light"
     },
     "output_type": "display_data"
    }
   ],
   "source": [
    "data = raw_df['Volume']['BTC-USD']\n",
    "plt.plot(data)\n",
    "\n",
    "plt.title('Bitcoin volume over time')\n",
    "plt.xlabel('date')\n",
    "plt.ylabel('Price in $')\n",
    "plt.show()"
   ]
  },
  {
   "cell_type": "markdown",
   "metadata": {},
   "source": [
    "## formatting data - from yahoo finance"
   ]
  },
  {
   "cell_type": "code",
   "execution_count": 9,
   "metadata": {
    "ExecuteTime": {
     "end_time": "2020-11-24T11:38:57.364421Z",
     "start_time": "2020-11-24T11:38:57.359916Z"
    }
   },
   "outputs": [],
   "source": [
    "def get_data(indices,keys):\n",
    "    a =[(key,index) for key in keys for index in indices]\n",
    "    return raw_df[a]"
   ]
  },
  {
   "cell_type": "code",
   "execution_count": 10,
   "metadata": {
    "ExecuteTime": {
     "end_time": "2020-11-24T11:38:58.150582Z",
     "start_time": "2020-11-24T11:38:58.143237Z"
    }
   },
   "outputs": [],
   "source": [
    "####### INCLUDE NEW FEATURES HERE ####### \n",
    "df = get_data(['BTC-USD','GOOG','GC=F','TSLA'],['Close','Volume'])"
   ]
  },
  {
   "cell_type": "code",
   "execution_count": 11,
   "metadata": {
    "ExecuteTime": {
     "end_time": "2020-11-24T11:38:59.583963Z",
     "start_time": "2020-11-24T11:38:59.572001Z"
    }
   },
   "outputs": [
    {
     "data": {
      "text/html": [
       "<div>\n",
       "<style scoped>\n",
       "    .dataframe tbody tr th:only-of-type {\n",
       "        vertical-align: middle;\n",
       "    }\n",
       "\n",
       "    .dataframe tbody tr th {\n",
       "        vertical-align: top;\n",
       "    }\n",
       "\n",
       "    .dataframe thead tr th {\n",
       "        text-align: left;\n",
       "    }\n",
       "\n",
       "    .dataframe thead tr:last-of-type th {\n",
       "        text-align: right;\n",
       "    }\n",
       "</style>\n",
       "<table border=\"1\" class=\"dataframe\">\n",
       "  <thead>\n",
       "    <tr>\n",
       "      <th></th>\n",
       "      <th colspan=\"4\" halign=\"left\">Close</th>\n",
       "      <th colspan=\"4\" halign=\"left\">Volume</th>\n",
       "    </tr>\n",
       "    <tr>\n",
       "      <th></th>\n",
       "      <th>BTC-USD</th>\n",
       "      <th>GOOG</th>\n",
       "      <th>GC=F</th>\n",
       "      <th>TSLA</th>\n",
       "      <th>BTC-USD</th>\n",
       "      <th>GOOG</th>\n",
       "      <th>GC=F</th>\n",
       "      <th>TSLA</th>\n",
       "    </tr>\n",
       "    <tr>\n",
       "      <th>Date</th>\n",
       "      <th></th>\n",
       "      <th></th>\n",
       "      <th></th>\n",
       "      <th></th>\n",
       "      <th></th>\n",
       "      <th></th>\n",
       "      <th></th>\n",
       "      <th></th>\n",
       "    </tr>\n",
       "  </thead>\n",
       "  <tbody>\n",
       "    <tr>\n",
       "      <th>2019-01-02</th>\n",
       "      <td>3943.409424</td>\n",
       "      <td>1045.849976</td>\n",
       "      <td>1281.000000</td>\n",
       "      <td>62.023998</td>\n",
       "      <td>5244856835</td>\n",
       "      <td>1532600.0</td>\n",
       "      <td>149.0</td>\n",
       "      <td>58293000.0</td>\n",
       "    </tr>\n",
       "    <tr>\n",
       "      <th>2019-01-03</th>\n",
       "      <td>3836.741211</td>\n",
       "      <td>1016.059998</td>\n",
       "      <td>1291.800049</td>\n",
       "      <td>60.071999</td>\n",
       "      <td>4530215218</td>\n",
       "      <td>1841100.0</td>\n",
       "      <td>10.0</td>\n",
       "      <td>34826000.0</td>\n",
       "    </tr>\n",
       "  </tbody>\n",
       "</table>\n",
       "</div>"
      ],
      "text/plain": [
       "                  Close                                           Volume  \\\n",
       "                BTC-USD         GOOG         GC=F       TSLA     BTC-USD   \n",
       "Date                                                                       \n",
       "2019-01-02  3943.409424  1045.849976  1281.000000  62.023998  5244856835   \n",
       "2019-01-03  3836.741211  1016.059998  1291.800049  60.071999  4530215218   \n",
       "\n",
       "                                          \n",
       "                 GOOG   GC=F        TSLA  \n",
       "Date                                      \n",
       "2019-01-02  1532600.0  149.0  58293000.0  \n",
       "2019-01-03  1841100.0   10.0  34826000.0  "
      ]
     },
     "execution_count": 11,
     "metadata": {},
     "output_type": "execute_result"
    }
   ],
   "source": [
    "df.head(2)"
   ]
  },
  {
   "cell_type": "markdown",
   "metadata": {},
   "source": [
    "## Data preprossesing"
   ]
  },
  {
   "cell_type": "markdown",
   "metadata": {},
   "source": [
    "### getting rid of NaNs"
   ]
  },
  {
   "cell_type": "code",
   "execution_count": 12,
   "metadata": {
    "ExecuteTime": {
     "end_time": "2020-11-24T11:39:01.351041Z",
     "start_time": "2020-11-24T11:39:01.347981Z"
    }
   },
   "outputs": [],
   "source": [
    "df = df.fillna(method='ffill')"
   ]
  },
  {
   "cell_type": "markdown",
   "metadata": {},
   "source": [
    "### calculating percentage change of btc_price"
   ]
  },
  {
   "cell_type": "code",
   "execution_count": 13,
   "metadata": {
    "ExecuteTime": {
     "end_time": "2020-11-24T11:39:04.697294Z",
     "start_time": "2020-11-24T11:39:04.691554Z"
    }
   },
   "outputs": [],
   "source": [
    "df['percentage_change_price'] = df['Close']['BTC-USD'].pct_change()"
   ]
  },
  {
   "cell_type": "code",
   "execution_count": 14,
   "metadata": {
    "ExecuteTime": {
     "end_time": "2020-11-24T11:39:05.444973Z",
     "start_time": "2020-11-24T11:39:05.431585Z"
    },
    "scrolled": false
   },
   "outputs": [
    {
     "data": {
      "text/html": [
       "<div>\n",
       "<style scoped>\n",
       "    .dataframe tbody tr th:only-of-type {\n",
       "        vertical-align: middle;\n",
       "    }\n",
       "\n",
       "    .dataframe tbody tr th {\n",
       "        vertical-align: top;\n",
       "    }\n",
       "\n",
       "    .dataframe thead tr th {\n",
       "        text-align: left;\n",
       "    }\n",
       "\n",
       "    .dataframe thead tr:last-of-type th {\n",
       "        text-align: right;\n",
       "    }\n",
       "</style>\n",
       "<table border=\"1\" class=\"dataframe\">\n",
       "  <thead>\n",
       "    <tr>\n",
       "      <th></th>\n",
       "      <th colspan=\"4\" halign=\"left\">Close</th>\n",
       "      <th colspan=\"4\" halign=\"left\">Volume</th>\n",
       "      <th>percentage_change_price</th>\n",
       "    </tr>\n",
       "    <tr>\n",
       "      <th></th>\n",
       "      <th>BTC-USD</th>\n",
       "      <th>GOOG</th>\n",
       "      <th>GC=F</th>\n",
       "      <th>TSLA</th>\n",
       "      <th>BTC-USD</th>\n",
       "      <th>GOOG</th>\n",
       "      <th>GC=F</th>\n",
       "      <th>TSLA</th>\n",
       "      <th></th>\n",
       "    </tr>\n",
       "    <tr>\n",
       "      <th>Date</th>\n",
       "      <th></th>\n",
       "      <th></th>\n",
       "      <th></th>\n",
       "      <th></th>\n",
       "      <th></th>\n",
       "      <th></th>\n",
       "      <th></th>\n",
       "      <th></th>\n",
       "      <th></th>\n",
       "    </tr>\n",
       "  </thead>\n",
       "  <tbody>\n",
       "    <tr>\n",
       "      <th>2019-01-02</th>\n",
       "      <td>3943.409424</td>\n",
       "      <td>1045.849976</td>\n",
       "      <td>1281.000000</td>\n",
       "      <td>62.023998</td>\n",
       "      <td>5244856835</td>\n",
       "      <td>1532600.0</td>\n",
       "      <td>149.0</td>\n",
       "      <td>58293000.0</td>\n",
       "      <td>NaN</td>\n",
       "    </tr>\n",
       "    <tr>\n",
       "      <th>2019-01-03</th>\n",
       "      <td>3836.741211</td>\n",
       "      <td>1016.059998</td>\n",
       "      <td>1291.800049</td>\n",
       "      <td>60.071999</td>\n",
       "      <td>4530215218</td>\n",
       "      <td>1841100.0</td>\n",
       "      <td>10.0</td>\n",
       "      <td>34826000.0</td>\n",
       "      <td>-0.02705</td>\n",
       "    </tr>\n",
       "  </tbody>\n",
       "</table>\n",
       "</div>"
      ],
      "text/plain": [
       "                  Close                                           Volume  \\\n",
       "                BTC-USD         GOOG         GC=F       TSLA     BTC-USD   \n",
       "Date                                                                       \n",
       "2019-01-02  3943.409424  1045.849976  1281.000000  62.023998  5244856835   \n",
       "2019-01-03  3836.741211  1016.059998  1291.800049  60.071999  4530215218   \n",
       "\n",
       "                                         percentage_change_price  \n",
       "                 GOOG   GC=F        TSLA                          \n",
       "Date                                                              \n",
       "2019-01-02  1532600.0  149.0  58293000.0                     NaN  \n",
       "2019-01-03  1841100.0   10.0  34826000.0                -0.02705  "
      ]
     },
     "execution_count": 14,
     "metadata": {},
     "output_type": "execute_result"
    }
   ],
   "source": [
    "df.head(2)"
   ]
  },
  {
   "cell_type": "code",
   "execution_count": 15,
   "metadata": {
    "ExecuteTime": {
     "end_time": "2020-11-24T11:39:06.153240Z",
     "start_time": "2020-11-24T11:39:06.145969Z"
    },
    "scrolled": false
   },
   "outputs": [
    {
     "data": {
      "text/plain": [
       "True     371\n",
       "False    322\n",
       "Name: percentage_change_price, dtype: int64"
      ]
     },
     "execution_count": 15,
     "metadata": {},
     "output_type": "execute_result"
    }
   ],
   "source": [
    "####### CHECK UNBALANCED DATA SET ########\n",
    "(df['percentage_change_price']>0).value_counts()"
   ]
  },
  {
   "cell_type": "markdown",
   "metadata": {},
   "source": [
    "## Transform Date"
   ]
  },
  {
   "cell_type": "code",
   "execution_count": 16,
   "metadata": {
    "ExecuteTime": {
     "end_time": "2020-11-24T11:39:08.215343Z",
     "start_time": "2020-11-24T11:39:08.210667Z"
    }
   },
   "outputs": [
    {
     "data": {
      "text/plain": [
       "MultiIndex(levels=[['Adj Close', 'Close', 'High', 'Low', 'Open', 'Volume', 'Date', 'percentage_change_price'], ['BTC-USD', 'GC=F', 'GOOG', 'TSLA', '']],\n",
       "           codes=[[1, 1, 1, 1, 5, 5, 5, 5, 7], [0, 2, 1, 3, 0, 2, 1, 3, 4]])"
      ]
     },
     "execution_count": 16,
     "metadata": {},
     "output_type": "execute_result"
    }
   ],
   "source": [
    "df.columns"
   ]
  },
  {
   "cell_type": "code",
   "execution_count": 17,
   "metadata": {
    "ExecuteTime": {
     "end_time": "2020-11-24T11:39:08.963226Z",
     "start_time": "2020-11-24T11:39:08.958953Z"
    }
   },
   "outputs": [
    {
     "data": {
      "text/plain": [
       "['Close_BTC-USD',\n",
       " 'Close_GOOG',\n",
       " 'Close_GC=F',\n",
       " 'Close_TSLA',\n",
       " 'Volume_BTC-USD',\n",
       " 'Volume_GOOG',\n",
       " 'Volume_GC=F',\n",
       " 'Volume_TSLA',\n",
       " 'percentage_change_price_']"
      ]
     },
     "execution_count": 17,
     "metadata": {},
     "output_type": "execute_result"
    }
   ],
   "source": [
    "new_colum_names = []\n",
    "for el1, el2 in df.columns:\n",
    "    new_colum_names.append(el1 + \"_\" + el2)\n",
    "new_colum_names"
   ]
  },
  {
   "cell_type": "code",
   "execution_count": 18,
   "metadata": {
    "ExecuteTime": {
     "end_time": "2020-11-24T11:39:09.688252Z",
     "start_time": "2020-11-24T11:39:09.685234Z"
    }
   },
   "outputs": [],
   "source": [
    "df.columns = new_colum_names"
   ]
  },
  {
   "cell_type": "code",
   "execution_count": 19,
   "metadata": {
    "ExecuteTime": {
     "end_time": "2020-11-24T11:39:10.111777Z",
     "start_time": "2020-11-24T11:39:10.108531Z"
    }
   },
   "outputs": [],
   "source": [
    "df['Date'] = df.index"
   ]
  },
  {
   "cell_type": "code",
   "execution_count": 20,
   "metadata": {
    "ExecuteTime": {
     "end_time": "2020-11-24T11:39:11.081819Z",
     "start_time": "2020-11-24T11:39:11.074495Z"
    },
    "scrolled": true
   },
   "outputs": [],
   "source": [
    "df['Date'] = pd.to_datetime(df['Date'])\n",
    "df['month'] = df['Date'].dt.month\n",
    "\n",
    "df['year'] = df['Date'].dt.year"
   ]
  },
  {
   "cell_type": "raw",
   "metadata": {},
   "source": [
    "# No need -> Endoding : date - TBC\n",
    "month_dummies = pd.get_dummies(df['month'])\n",
    "df = pd.concat([df, month_dummies], axis=1)\n"
   ]
  },
  {
   "cell_type": "code",
   "execution_count": 21,
   "metadata": {
    "ExecuteTime": {
     "end_time": "2020-11-24T11:39:14.283567Z",
     "start_time": "2020-11-24T11:39:14.267283Z"
    }
   },
   "outputs": [
    {
     "data": {
      "text/html": [
       "<div>\n",
       "<style scoped>\n",
       "    .dataframe tbody tr th:only-of-type {\n",
       "        vertical-align: middle;\n",
       "    }\n",
       "\n",
       "    .dataframe tbody tr th {\n",
       "        vertical-align: top;\n",
       "    }\n",
       "\n",
       "    .dataframe thead th {\n",
       "        text-align: right;\n",
       "    }\n",
       "</style>\n",
       "<table border=\"1\" class=\"dataframe\">\n",
       "  <thead>\n",
       "    <tr style=\"text-align: right;\">\n",
       "      <th></th>\n",
       "      <th>Close_BTC-USD</th>\n",
       "      <th>Close_GOOG</th>\n",
       "      <th>Close_GC=F</th>\n",
       "      <th>Close_TSLA</th>\n",
       "      <th>Volume_BTC-USD</th>\n",
       "      <th>Volume_GOOG</th>\n",
       "      <th>Volume_GC=F</th>\n",
       "      <th>Volume_TSLA</th>\n",
       "      <th>percentage_change_price_</th>\n",
       "      <th>Date</th>\n",
       "      <th>month</th>\n",
       "      <th>year</th>\n",
       "      <th>delta_binary</th>\n",
       "    </tr>\n",
       "    <tr>\n",
       "      <th>Date</th>\n",
       "      <th></th>\n",
       "      <th></th>\n",
       "      <th></th>\n",
       "      <th></th>\n",
       "      <th></th>\n",
       "      <th></th>\n",
       "      <th></th>\n",
       "      <th></th>\n",
       "      <th></th>\n",
       "      <th></th>\n",
       "      <th></th>\n",
       "      <th></th>\n",
       "      <th></th>\n",
       "    </tr>\n",
       "  </thead>\n",
       "  <tbody>\n",
       "    <tr>\n",
       "      <th>2019-01-02</th>\n",
       "      <td>3943.409424</td>\n",
       "      <td>1045.849976</td>\n",
       "      <td>1281.000000</td>\n",
       "      <td>62.023998</td>\n",
       "      <td>5244856835</td>\n",
       "      <td>1532600.0</td>\n",
       "      <td>149.0</td>\n",
       "      <td>58293000.0</td>\n",
       "      <td>NaN</td>\n",
       "      <td>2019-01-02</td>\n",
       "      <td>1</td>\n",
       "      <td>2019</td>\n",
       "      <td>0</td>\n",
       "    </tr>\n",
       "    <tr>\n",
       "      <th>2019-01-03</th>\n",
       "      <td>3836.741211</td>\n",
       "      <td>1016.059998</td>\n",
       "      <td>1291.800049</td>\n",
       "      <td>60.071999</td>\n",
       "      <td>4530215218</td>\n",
       "      <td>1841100.0</td>\n",
       "      <td>10.0</td>\n",
       "      <td>34826000.0</td>\n",
       "      <td>-0.02705</td>\n",
       "      <td>2019-01-03</td>\n",
       "      <td>1</td>\n",
       "      <td>2019</td>\n",
       "      <td>0</td>\n",
       "    </tr>\n",
       "  </tbody>\n",
       "</table>\n",
       "</div>"
      ],
      "text/plain": [
       "            Close_BTC-USD   Close_GOOG   Close_GC=F  Close_TSLA  \\\n",
       "Date                                                              \n",
       "2019-01-02    3943.409424  1045.849976  1281.000000   62.023998   \n",
       "2019-01-03    3836.741211  1016.059998  1291.800049   60.071999   \n",
       "\n",
       "            Volume_BTC-USD  Volume_GOOG  Volume_GC=F  Volume_TSLA  \\\n",
       "Date                                                                \n",
       "2019-01-02      5244856835    1532600.0        149.0   58293000.0   \n",
       "2019-01-03      4530215218    1841100.0         10.0   34826000.0   \n",
       "\n",
       "            percentage_change_price_       Date  month  year  delta_binary  \n",
       "Date                                                                        \n",
       "2019-01-02                       NaN 2019-01-02      1  2019             0  \n",
       "2019-01-03                  -0.02705 2019-01-03      1  2019             0  "
      ]
     },
     "execution_count": 21,
     "metadata": {},
     "output_type": "execute_result"
    }
   ],
   "source": [
    "# Define percentage change in price column\n",
    "df['delta_binary'] = df.percentage_change_price_>0\n",
    "df['delta_binary'] = df['delta_binary'].astype(int)\n",
    "df.head(2)"
   ]
  },
  {
   "cell_type": "code",
   "execution_count": 23,
   "metadata": {
    "ExecuteTime": {
     "end_time": "2020-11-24T11:39:34.206362Z",
     "start_time": "2020-11-24T11:39:34.198333Z"
    }
   },
   "outputs": [
    {
     "data": {
      "text/html": [
       "<div>\n",
       "<style scoped>\n",
       "    .dataframe tbody tr th:only-of-type {\n",
       "        vertical-align: middle;\n",
       "    }\n",
       "\n",
       "    .dataframe tbody tr th {\n",
       "        vertical-align: top;\n",
       "    }\n",
       "\n",
       "    .dataframe thead th {\n",
       "        text-align: right;\n",
       "    }\n",
       "</style>\n",
       "<table border=\"1\" class=\"dataframe\">\n",
       "  <thead>\n",
       "    <tr style=\"text-align: right;\">\n",
       "      <th></th>\n",
       "      <th>percentage_change_price_</th>\n",
       "      <th>delta_binary</th>\n",
       "    </tr>\n",
       "    <tr>\n",
       "      <th>Date</th>\n",
       "      <th></th>\n",
       "      <th></th>\n",
       "    </tr>\n",
       "  </thead>\n",
       "  <tbody>\n",
       "    <tr>\n",
       "      <th>2019-01-02</th>\n",
       "      <td>NaN</td>\n",
       "      <td>0</td>\n",
       "    </tr>\n",
       "    <tr>\n",
       "      <th>2019-01-03</th>\n",
       "      <td>-0.027050</td>\n",
       "      <td>0</td>\n",
       "    </tr>\n",
       "    <tr>\n",
       "      <th>2019-01-04</th>\n",
       "      <td>0.005467</td>\n",
       "      <td>1</td>\n",
       "    </tr>\n",
       "    <tr>\n",
       "      <th>2019-01-05</th>\n",
       "      <td>-0.003246</td>\n",
       "      <td>0</td>\n",
       "    </tr>\n",
       "    <tr>\n",
       "      <th>2019-01-06</th>\n",
       "      <td>0.060189</td>\n",
       "      <td>1</td>\n",
       "    </tr>\n",
       "  </tbody>\n",
       "</table>\n",
       "</div>"
      ],
      "text/plain": [
       "            percentage_change_price_  delta_binary\n",
       "Date                                              \n",
       "2019-01-02                       NaN             0\n",
       "2019-01-03                 -0.027050             0\n",
       "2019-01-04                  0.005467             1\n",
       "2019-01-05                 -0.003246             0\n",
       "2019-01-06                  0.060189             1"
      ]
     },
     "execution_count": 23,
     "metadata": {},
     "output_type": "execute_result"
    }
   ],
   "source": [
    "df[['percentage_change_price_','delta_binary']].head(5)"
   ]
  },
  {
   "cell_type": "raw",
   "metadata": {},
   "source": [
    "# No need to do that anymore\n",
    "df = df.rename(columns={ 1:\"m_1\", 2: \"m_2\", 3 : \"m_3\", 4 : \"m_4\", 5: 'm_5\"', 6: \"m_6\", 7: \"m_7\", 8: \"m_8\",\\\n",
    "                    9: \"m_9\",10 : \"m_10\",11 : \"m_11\", 12 : \"m_12\"})"
   ]
  },
  {
   "cell_type": "code",
   "execution_count": 23,
   "metadata": {
    "ExecuteTime": {
     "end_time": "2020-11-23T18:58:24.895896Z",
     "start_time": "2020-11-23T18:58:24.891768Z"
    },
    "scrolled": true
   },
   "outputs": [
    {
     "data": {
      "text/plain": [
       "Index(['Close_BTC-USD', 'Close_GOOG', 'Close_GC=F', 'Close_TSLA',\n",
       "       'Volume_BTC-USD', 'Volume_GOOG', 'Volume_GC=F', 'Volume_TSLA',\n",
       "       'percentage_change_price_', 'Date', 'month', 'year'],\n",
       "      dtype='object')"
      ]
     },
     "execution_count": 23,
     "metadata": {},
     "output_type": "execute_result"
    }
   ],
   "source": [
    "scaled_names = df.columns[:-1]\n",
    "scaled_names"
   ]
  },
  {
   "cell_type": "markdown",
   "metadata": {},
   "source": [
    "## Data Sampling"
   ]
  },
  {
   "cell_type": "markdown",
   "metadata": {},
   "source": [
    "- Out of this very long time-series, we will subsample it into shorter samples, each corresponding to one sequence of data  𝑋𝑖  with its corresponding prediction  𝑦𝑖 .\n",
    "- get_sample -> function to get this random sample\n",
    "\n",
    "Note:\n",
    "  \n",
    "  - **length** corresponds to the lenght of the observed sequence\n",
    "  - **temporal_horizon** corresponds to the number of days between your last seen stock market value and the day you are trying to predict. -> in our case we want to predict for now the day after so tempor_horizon =1"
   ]
  },
  {
   "cell_type": "code",
   "execution_count": 24,
   "metadata": {
    "ExecuteTime": {
     "end_time": "2020-11-23T18:58:24.902818Z",
     "start_time": "2020-11-23T18:58:24.899465Z"
    },
    "scrolled": true
   },
   "outputs": [
    {
     "data": {
      "text/plain": [
       "(692, 13)"
      ]
     },
     "execution_count": 24,
     "metadata": {},
     "output_type": "execute_result"
    }
   ],
   "source": [
    "df.shape"
   ]
  },
  {
   "cell_type": "code",
   "execution_count": 25,
   "metadata": {
    "ExecuteTime": {
     "end_time": "2020-11-23T18:58:24.910033Z",
     "start_time": "2020-11-23T18:58:24.905231Z"
    },
    "scrolled": true
   },
   "outputs": [],
   "source": [
    "import numpy as np\n",
    "\n",
    "def get_sample(df, length, temporal_horizon):\n",
    "    \n",
    "    features = [col_name for col_name in df.columns if col_name not in {'Date', 'Close_BTC-USD','delta_binary',\n",
    "                                                                        'percentage_change_price_'} ]\n",
    "    \n",
    "    temporal_horizon = temporal_horizon - 1\n",
    "    last_possible = df.shape[0] - temporal_horizon - length\n",
    "\n",
    "    random_start = np.random.randint(0, last_possible)\n",
    "    X_sample = df[features].iloc[random_start: random_start+length].values ## we need to say which features we are using??!\n",
    "    y_sample = df['delta_binary'].iloc[random_start+length+temporal_horizon]\n",
    "    y_before = df['delta_binary'].iloc[random_start+length+temporal_horizon-1]\n",
    "   \n",
    "    return X_sample, y_sample, y_before"
   ]
  },
  {
   "cell_type": "code",
   "execution_count": 26,
   "metadata": {
    "ExecuteTime": {
     "end_time": "2020-11-23T18:58:24.917653Z",
     "start_time": "2020-11-23T18:58:24.911974Z"
    }
   },
   "outputs": [
    {
     "data": {
      "text/plain": [
       "(array([[1.23367004e+03, 1.71050000e+03, 1.53824005e+02, 3.31879599e+10,\n",
       "         2.95130000e+06, 1.25500000e+03, 1.52220000e+07, 4.00000000e+00,\n",
       "         2.02000000e+03]]),\n",
       " 1,\n",
       " 1)"
      ]
     },
     "execution_count": 26,
     "metadata": {},
     "output_type": "execute_result"
    }
   ],
   "source": [
    "get_sample(df,1,1)"
   ]
  },
  {
   "cell_type": "markdown",
   "metadata": {},
   "source": [
    "For instance, get_sample(df, 10, 3) returns a first list of **10 stock market values**, and a second value which is the stock market value 3 days after the last seen value."
   ]
  },
  {
   "cell_type": "markdown",
   "metadata": {},
   "source": [
    "## Dataset construction"
   ]
  },
  {
   "cell_type": "markdown",
   "metadata": {},
   "source": [
    "The previous function creates a sample (𝑋𝑖,𝑦𝑖) . If we repeat this operation, we will get multiple samples, that once concatenated will correspond to our entire dataset (𝑋,𝑦) .\n",
    "\n",
    "Create a function get_X_y(data, temporal_horizon, length_of_sequences) that create this dataset.\n",
    "\n",
    "- data corresponds to your input data\n",
    "- temporal_horizon is the number of days between the last seen value and the predicted one\n",
    "- length_of_sequences is a list that corresponds to the length of each sample 𝑋𝑖 : [len(X_1), len(X_2), len(X_3), ..., ] as that each sequence 𝑋𝑖 has no reason to be of the same length as the other one.\n",
    "\n",
    "Hint: This function should use get_sample"
   ]
  },
  {
   "cell_type": "code",
   "execution_count": 27,
   "metadata": {
    "ExecuteTime": {
     "end_time": "2020-11-23T18:58:24.923778Z",
     "start_time": "2020-11-23T18:58:24.919795Z"
    }
   },
   "outputs": [],
   "source": [
    "# create a matrix\n",
    "def get_X_y(df, temporal_horizon, length_of_sequences):\n",
    "    X, y, y_before = [], [], []\n",
    "\n",
    "    for len_ in length_of_sequences:\n",
    "        xi, yi, y_bi = get_sample(df, len_, temporal_horizon)\n",
    "        X.append(xi)\n",
    "        y.append(yi)\n",
    "        y_before.append(y_bi)\n",
    "        \n",
    "    return X, np.array(y), np.array(y_before)"
   ]
  },
  {
   "cell_type": "markdown",
   "metadata": {},
   "source": [
    " - Write a function given a dataframe, a temporal horizon and a list of sequence length outputs the padded train and test set.\n",
    " - To have a batch_size larger than one, we need to **pad** our data_ purely engineering reason\n",
    " "
   ]
  },
  {
   "cell_type": "code",
   "execution_count": 28,
   "metadata": {
    "ExecuteTime": {
     "end_time": "2020-11-23T18:58:25.256878Z",
     "start_time": "2020-11-23T18:58:24.925873Z"
    }
   },
   "outputs": [],
   "source": [
    "from sklearn.model_selection import train_test_split\n",
    "\n",
    "def generate_data(df_train, df_test, temporal_horizon, min_len, max_len):\n",
    "      \n",
    "    length_of_sequences_train = np.random.randint(min_len, max_len, len(df_train)) \n",
    "    length_of_sequences_test = np.random.randint(min_len, max_len, len(df_test))\n",
    "    \n",
    "    # Train \n",
    "    X_train, y_train, y_b_train = get_X_y(df_train, temporal_horizon, length_of_sequences_train)\n",
    "    X_train = pad_sequences(X_train, padding='post', dtype='float32')\n",
    "   \n",
    "    # Test\n",
    "    X_test, y_test, y_b_test = get_X_y(df_test, temporal_horizon, length_of_sequences_test)\n",
    "    X_test = pad_sequences(X_test, padding='post', dtype='float32')\n",
    "    \n",
    "    return X_train, X_test, y_train, y_test, y_b_test, y_b_train"
   ]
  },
  {
   "cell_type": "markdown",
   "metadata": {},
   "source": [
    "- Generate data with a temporal horizon of 1 days, and 100 time-series of 10 to 10 seen days ."
   ]
  },
  {
   "cell_type": "markdown",
   "metadata": {},
   "source": [
    "## Split data"
   ]
  },
  {
   "cell_type": "code",
   "execution_count": 29,
   "metadata": {
    "ExecuteTime": {
     "end_time": "2020-11-23T18:58:29.260263Z",
     "start_time": "2020-11-23T18:58:25.259247Z"
    }
   },
   "outputs": [],
   "source": [
    "from tensorflow.keras.preprocessing.sequence import pad_sequences\n",
    "\n",
    "# Splitting 80/20\n",
    "start = 1 # do a for loop\n",
    "index = round((len(df)-start)*.8)\n",
    "\n",
    "# Past\n",
    "df_train = df.iloc[start:index+start]\n",
    "\n",
    "#Future\n",
    "df_test = df.iloc[start+index:]\n",
    "\n",
    "\n",
    "temporal_horizon = 1 # -> predict the day after\n",
    "min_len = 20\n",
    "max_len = 30\n",
    "#(group 10 days,group of 20 days , # observations each time)\n"
   ]
  },
  {
   "cell_type": "code",
   "execution_count": 30,
   "metadata": {
    "ExecuteTime": {
     "end_time": "2020-11-23T18:58:29.264720Z",
     "start_time": "2020-11-23T18:58:29.262404Z"
    }
   },
   "outputs": [],
   "source": [
    "#df.head(2)"
   ]
  },
  {
   "cell_type": "code",
   "execution_count": 31,
   "metadata": {
    "ExecuteTime": {
     "end_time": "2020-11-23T18:58:29.274670Z",
     "start_time": "2020-11-23T18:58:29.267620Z"
    },
    "scrolled": true
   },
   "outputs": [],
   "source": [
    "df_test = df_test.drop(columns = 'Date')\n",
    "df = df.drop(columns = ['Date'])"
   ]
  },
  {
   "cell_type": "code",
   "execution_count": 32,
   "metadata": {
    "ExecuteTime": {
     "end_time": "2020-11-23T18:58:29.281763Z",
     "start_time": "2020-11-23T18:58:29.278020Z"
    }
   },
   "outputs": [],
   "source": [
    "df_train = df_train.drop(columns = 'Date')"
   ]
  },
  {
   "cell_type": "code",
   "execution_count": 33,
   "metadata": {
    "ExecuteTime": {
     "end_time": "2020-11-23T18:58:29.290929Z",
     "start_time": "2020-11-23T18:58:29.284356Z"
    }
   },
   "outputs": [
    {
     "data": {
      "text/plain": [
       "Close_BTC-USD               float64\n",
       "Close_GOOG                  float64\n",
       "Close_GC=F                  float64\n",
       "Close_TSLA                  float64\n",
       "Volume_BTC-USD                int64\n",
       "Volume_GOOG                 float64\n",
       "Volume_GC=F                 float64\n",
       "Volume_TSLA                 float64\n",
       "percentage_change_price_    float64\n",
       "month                         int64\n",
       "year                          int64\n",
       "delta_binary                  int64\n",
       "dtype: object"
      ]
     },
     "execution_count": 33,
     "metadata": {},
     "output_type": "execute_result"
    }
   ],
   "source": [
    "df_test.dtypes"
   ]
  },
  {
   "cell_type": "markdown",
   "metadata": {},
   "source": [
    "## Feature scaling"
   ]
  },
  {
   "cell_type": "markdown",
   "metadata": {},
   "source": [
    "##### Fetaure scaling: only on train data ######"
   ]
  },
  {
   "cell_type": "code",
   "execution_count": 34,
   "metadata": {
    "ExecuteTime": {
     "end_time": "2020-11-23T18:58:29.297116Z",
     "start_time": "2020-11-23T18:58:29.292982Z"
    }
   },
   "outputs": [
    {
     "data": {
      "text/plain": [
       "Index(['Close_BTC-USD', 'Close_GOOG', 'Close_GC=F', 'Close_TSLA',\n",
       "       'Volume_BTC-USD', 'Volume_GOOG', 'Volume_GC=F', 'Volume_TSLA',\n",
       "       'percentage_change_price_', 'month', 'year', 'delta_binary'],\n",
       "      dtype='object')"
      ]
     },
     "execution_count": 34,
     "metadata": {},
     "output_type": "execute_result"
    }
   ],
   "source": [
    "df.columns"
   ]
  },
  {
   "cell_type": "code",
   "execution_count": 35,
   "metadata": {
    "ExecuteTime": {
     "end_time": "2020-11-23T18:58:29.303394Z",
     "start_time": "2020-11-23T18:58:29.299500Z"
    }
   },
   "outputs": [
    {
     "data": {
      "text/plain": [
       "((138, 12), (553, 12))"
      ]
     },
     "execution_count": 35,
     "metadata": {},
     "output_type": "execute_result"
    }
   ],
   "source": [
    "df_test.shape,df_train.shape"
   ]
  },
  {
   "cell_type": "code",
   "execution_count": 36,
   "metadata": {
    "ExecuteTime": {
     "end_time": "2020-11-23T18:58:29.319971Z",
     "start_time": "2020-11-23T18:58:29.306472Z"
    },
    "scrolled": true
   },
   "outputs": [
    {
     "name": "stderr",
     "output_type": "stream",
     "text": [
      "/Users/pedro/.pyenv/versions/3.7.7/envs/lewagon/lib/python3.7/site-packages/sklearn/preprocessing/data.py:334: DataConversionWarning: Data with input dtype int64, float64 were all converted to float64 by MinMaxScaler.\n",
      "  return self.partial_fit(X, y)\n"
     ]
    }
   ],
   "source": [
    "# Scaling: MinMaxScaler\n",
    "from sklearn.preprocessing import MinMaxScaler\n",
    "\n",
    "#features_list = [col_name for col_name in df.columns if col_name not in {'Date', 'Close'} ]\n",
    "\n",
    "# normalizing features\n",
    "normalizer_features = MinMaxScaler()\n",
    "normalizer_features.fit(df_train)\n",
    "scaled_df = pd.DataFrame(normalizer_features.transform(df))\n",
    "\n",
    "# mormalizing output/target\n",
    "#normalizer_output = MinMaxScaler()\n",
    "#normalizer_output.fit(df_train[['percentage_change_price']])\n",
    "#scaled_df['percentage_change_price'] = normalizer_output.transform(df[['percentage_change_price']])\n",
    "scaled_df['delta_binary'] = df.reset_index()[['delta_binary']]\n",
    "\n",
    "# not normalizing, uncomment this\n",
    "# scaled_df = df"
   ]
  },
  {
   "cell_type": "code",
   "execution_count": 37,
   "metadata": {
    "ExecuteTime": {
     "end_time": "2020-11-23T18:58:29.328494Z",
     "start_time": "2020-11-23T18:58:29.322297Z"
    }
   },
   "outputs": [
    {
     "data": {
      "text/plain": [
       "0      0\n",
       "1      0\n",
       "2      1\n",
       "3      0\n",
       "4      1\n",
       "5      0\n",
       "6      1\n",
       "7      1\n",
       "8      0\n",
       "9      1\n",
       "10     0\n",
       "11     0\n",
       "12     1\n",
       "13     0\n",
       "14     1\n",
       "15     1\n",
       "16     0\n",
       "17     1\n",
       "18     0\n",
       "19     0\n",
       "20     1\n",
       "21     0\n",
       "22     1\n",
       "23     0\n",
       "24     1\n",
       "25     0\n",
       "26     0\n",
       "27     0\n",
       "28     1\n",
       "29     0\n",
       "      ..\n",
       "662    0\n",
       "663    1\n",
       "664    1\n",
       "665    0\n",
       "666    1\n",
       "667    1\n",
       "668    1\n",
       "669    0\n",
       "670    0\n",
       "671    1\n",
       "672    1\n",
       "673    1\n",
       "674    0\n",
       "675    0\n",
       "676    1\n",
       "677    0\n",
       "678    0\n",
       "679    1\n",
       "680    1\n",
       "681    1\n",
       "682    0\n",
       "683    0\n",
       "684    1\n",
       "685    1\n",
       "686    1\n",
       "687    1\n",
       "688    1\n",
       "689    1\n",
       "690    0\n",
       "691    0\n",
       "Name: delta_binary, Length: 692, dtype: int64"
      ]
     },
     "execution_count": 37,
     "metadata": {},
     "output_type": "execute_result"
    }
   ],
   "source": [
    "scaled_df['delta_binary']"
   ]
  },
  {
   "cell_type": "code",
   "execution_count": 38,
   "metadata": {
    "ExecuteTime": {
     "end_time": "2020-11-23T18:58:29.343398Z",
     "start_time": "2020-11-23T18:58:29.330294Z"
    }
   },
   "outputs": [
    {
     "data": {
      "text/html": [
       "<div>\n",
       "<style scoped>\n",
       "    .dataframe tbody tr th:only-of-type {\n",
       "        vertical-align: middle;\n",
       "    }\n",
       "\n",
       "    .dataframe tbody tr th {\n",
       "        vertical-align: top;\n",
       "    }\n",
       "\n",
       "    .dataframe thead th {\n",
       "        text-align: right;\n",
       "    }\n",
       "</style>\n",
       "<table border=\"1\" class=\"dataframe\">\n",
       "  <thead>\n",
       "    <tr style=\"text-align: right;\">\n",
       "      <th></th>\n",
       "      <th>0</th>\n",
       "      <th>1</th>\n",
       "      <th>2</th>\n",
       "      <th>3</th>\n",
       "      <th>4</th>\n",
       "      <th>5</th>\n",
       "      <th>6</th>\n",
       "      <th>7</th>\n",
       "      <th>8</th>\n",
       "      <th>9</th>\n",
       "      <th>10</th>\n",
       "      <th>11</th>\n",
       "      <th>delta_binary</th>\n",
       "    </tr>\n",
       "  </thead>\n",
       "  <tbody>\n",
       "    <tr>\n",
       "      <th>0</th>\n",
       "      <td>0.056561</td>\n",
       "      <td>0.05834</td>\n",
       "      <td>0.021421</td>\n",
       "      <td>0.108309</td>\n",
       "      <td>0.010264</td>\n",
       "      <td>0.202253</td>\n",
       "      <td>0.000046</td>\n",
       "      <td>0.171440</td>\n",
       "      <td>NaN</td>\n",
       "      <td>0.0</td>\n",
       "      <td>0.0</td>\n",
       "      <td>0.0</td>\n",
       "      <td>0</td>\n",
       "    </tr>\n",
       "    <tr>\n",
       "      <th>1</th>\n",
       "      <td>0.045470</td>\n",
       "      <td>0.00000</td>\n",
       "      <td>0.041194</td>\n",
       "      <td>0.100249</td>\n",
       "      <td>0.000000</td>\n",
       "      <td>0.254902</td>\n",
       "      <td>0.000003</td>\n",
       "      <td>0.092529</td>\n",
       "      <td>0.622584</td>\n",
       "      <td>0.0</td>\n",
       "      <td>0.0</td>\n",
       "      <td>0.0</td>\n",
       "      <td>0</td>\n",
       "    </tr>\n",
       "  </tbody>\n",
       "</table>\n",
       "</div>"
      ],
      "text/plain": [
       "          0        1         2         3         4         5         6  \\\n",
       "0  0.056561  0.05834  0.021421  0.108309  0.010264  0.202253  0.000046   \n",
       "1  0.045470  0.00000  0.041194  0.100249  0.000000  0.254902  0.000003   \n",
       "\n",
       "          7         8    9   10   11  delta_binary  \n",
       "0  0.171440       NaN  0.0  0.0  0.0             0  \n",
       "1  0.092529  0.622584  0.0  0.0  0.0             0  "
      ]
     },
     "execution_count": 38,
     "metadata": {},
     "output_type": "execute_result"
    }
   ],
   "source": [
    "scaled_df.head(2)"
   ]
  },
  {
   "cell_type": "markdown",
   "metadata": {},
   "source": [
    "## Generate data sequences"
   ]
  },
  {
   "cell_type": "code",
   "execution_count": 39,
   "metadata": {
    "ExecuteTime": {
     "end_time": "2020-11-23T18:58:29.361476Z",
     "start_time": "2020-11-23T18:58:29.345322Z"
    }
   },
   "outputs": [
    {
     "data": {
      "text/html": [
       "<div>\n",
       "<style scoped>\n",
       "    .dataframe tbody tr th:only-of-type {\n",
       "        vertical-align: middle;\n",
       "    }\n",
       "\n",
       "    .dataframe tbody tr th {\n",
       "        vertical-align: top;\n",
       "    }\n",
       "\n",
       "    .dataframe thead th {\n",
       "        text-align: right;\n",
       "    }\n",
       "</style>\n",
       "<table border=\"1\" class=\"dataframe\">\n",
       "  <thead>\n",
       "    <tr style=\"text-align: right;\">\n",
       "      <th></th>\n",
       "      <th>0</th>\n",
       "      <th>1</th>\n",
       "      <th>2</th>\n",
       "      <th>3</th>\n",
       "      <th>4</th>\n",
       "      <th>5</th>\n",
       "      <th>6</th>\n",
       "      <th>7</th>\n",
       "      <th>8</th>\n",
       "      <th>9</th>\n",
       "      <th>10</th>\n",
       "      <th>11</th>\n",
       "      <th>delta_binary</th>\n",
       "    </tr>\n",
       "  </thead>\n",
       "  <tbody>\n",
       "    <tr>\n",
       "      <th>0</th>\n",
       "      <td>0.056561</td>\n",
       "      <td>0.05834</td>\n",
       "      <td>0.021421</td>\n",
       "      <td>0.108309</td>\n",
       "      <td>0.010264</td>\n",
       "      <td>0.202253</td>\n",
       "      <td>0.000046</td>\n",
       "      <td>0.17144</td>\n",
       "      <td>NaN</td>\n",
       "      <td>0.0</td>\n",
       "      <td>0.0</td>\n",
       "      <td>0.0</td>\n",
       "      <td>0</td>\n",
       "    </tr>\n",
       "  </tbody>\n",
       "</table>\n",
       "</div>"
      ],
      "text/plain": [
       "          0        1         2         3         4         5         6  \\\n",
       "0  0.056561  0.05834  0.021421  0.108309  0.010264  0.202253  0.000046   \n",
       "\n",
       "         7   8    9   10   11  delta_binary  \n",
       "0  0.17144 NaN  0.0  0.0  0.0             0  "
      ]
     },
     "execution_count": 39,
     "metadata": {},
     "output_type": "execute_result"
    }
   ],
   "source": [
    "scaled_df.head(1)"
   ]
  },
  {
   "cell_type": "code",
   "execution_count": 40,
   "metadata": {
    "ExecuteTime": {
     "end_time": "2020-11-23T18:58:29.368802Z",
     "start_time": "2020-11-23T18:58:29.364257Z"
    }
   },
   "outputs": [],
   "source": [
    "scaled_df_train, scaled_df_test = scaled_df.iloc[start:(index+start)], scaled_df.iloc[start+index:]"
   ]
  },
  {
   "cell_type": "code",
   "execution_count": 41,
   "metadata": {
    "ExecuteTime": {
     "end_time": "2020-11-23T18:58:30.251858Z",
     "start_time": "2020-11-23T18:58:29.371784Z"
    }
   },
   "outputs": [],
   "source": [
    "X_train, X_test, y_train, y_test, y_b_test, y_b_train = generate_data(scaled_df_train,\n",
    "                                                    scaled_df_test, temporal_horizon, min_len, max_len)"
   ]
  },
  {
   "cell_type": "code",
   "execution_count": 42,
   "metadata": {
    "ExecuteTime": {
     "end_time": "2020-11-23T18:58:30.259238Z",
     "start_time": "2020-11-23T18:58:30.254656Z"
    },
    "scrolled": true
   },
   "outputs": [
    {
     "name": "stdout",
     "output_type": "stream",
     "text": [
      "(553, 29, 12)\n",
      "(138, 29, 12)\n",
      "(553,)\n",
      "(138,)\n",
      "(553,)\n",
      "(138,)\n"
     ]
    }
   ],
   "source": [
    "print(X_train.shape)\n",
    "print(X_test.shape)\n",
    "print(y_train.shape)\n",
    "print(y_test.shape)\n",
    "print(y_b_train.shape)\n",
    "print(y_b_test.shape)"
   ]
  },
  {
   "cell_type": "code",
   "execution_count": 43,
   "metadata": {
    "ExecuteTime": {
     "end_time": "2020-11-23T18:58:30.269697Z",
     "start_time": "2020-11-23T18:58:30.261569Z"
    }
   },
   "outputs": [
    {
     "data": {
      "text/plain": [
       "array([[[0.0734065 , 0.30795306, 0.0501646 , ..., 0.18181819,\n",
       "         0.        , 0.        ],\n",
       "        [0.0788947 , 0.34931374, 0.03496883, ..., 0.27272728,\n",
       "         0.        , 1.        ],\n",
       "        [0.15394023, 0.36118132, 0.03789812, ..., 0.27272728,\n",
       "         0.        , 1.        ],\n",
       "        ...,\n",
       "        [0.        , 0.        , 0.        , ..., 0.        ,\n",
       "         0.        , 0.        ],\n",
       "        [0.        , 0.        , 0.        , ..., 0.        ,\n",
       "         0.        , 0.        ],\n",
       "        [0.        , 0.        , 0.        , ..., 0.        ,\n",
       "         0.        , 0.        ]],\n",
       "\n",
       "       [[0.53565747, 0.62434644, 0.3625046 , ..., 0.90909094,\n",
       "         0.        , 1.        ],\n",
       "        [0.5384874 , 0.62434644, 0.3676308 , ..., 0.90909094,\n",
       "         0.        , 1.        ],\n",
       "        [0.5105477 , 0.59659636, 0.36909556, ..., 0.90909094,\n",
       "         0.        , 0.        ],\n",
       "        ...,\n",
       "        [0.39968374, 0.6545053 , 0.36140594, ..., 1.        ,\n",
       "         0.        , 1.        ],\n",
       "        [0.        , 0.        , 0.        , ..., 0.        ,\n",
       "         0.        , 0.        ],\n",
       "        [0.        , 0.        , 0.        , ..., 0.        ,\n",
       "         0.        , 0.        ]],\n",
       "\n",
       "       [[0.46581173, 0.7907291 , 0.5170266 , ..., 0.        ,\n",
       "         1.        , 0.        ],\n",
       "        [0.4957057 , 0.81011695, 0.5276455 , ..., 0.        ,\n",
       "         1.        , 1.        ],\n",
       "        [0.48228988, 0.81011695, 0.5276455 , ..., 0.        ,\n",
       "         1.        , 0.        ],\n",
       "        ...,\n",
       "        [0.6011891 , 0.84407496, 0.51464665, ..., 0.09090909,\n",
       "         1.        , 0.        ],\n",
       "        [0.64615864, 0.84634674, 0.52819484, ..., 0.09090909,\n",
       "         1.        , 1.        ],\n",
       "        [0.        , 0.        , 0.        , ..., 0.        ,\n",
       "         0.        , 0.        ]],\n",
       "\n",
       "       ...,\n",
       "\n",
       "       [[0.628034  , 0.8085308 , 0.8560967 , ..., 0.36363637,\n",
       "         1.        , 0.        ],\n",
       "        [0.6552043 , 0.8085308 , 0.8560967 , ..., 0.36363637,\n",
       "         1.        , 1.        ],\n",
       "        [0.6303149 , 0.8085308 , 0.88960075, ..., 0.36363637,\n",
       "         1.        , 0.        ],\n",
       "        ...,\n",
       "        [0.        , 0.        , 0.        , ..., 0.        ,\n",
       "         0.        , 0.        ],\n",
       "        [0.        , 0.        , 0.        , ..., 0.        ,\n",
       "         0.        , 0.        ],\n",
       "        [0.        , 0.        , 0.        , ..., 0.        ,\n",
       "         0.        , 0.        ]],\n",
       "\n",
       "       [[0.54033464, 0.36474568, 0.43354073, ..., 0.8181818 ,\n",
       "         0.        , 1.        ],\n",
       "        [0.5393711 , 0.37720084, 0.41285247, ..., 0.8181818 ,\n",
       "         0.        , 0.        ],\n",
       "        [0.51184446, 0.39047837, 0.39069924, ..., 0.8181818 ,\n",
       "         0.        , 0.        ],\n",
       "        ...,\n",
       "        [0.6252772 , 0.53915757, 0.43701935, ..., 0.90909094,\n",
       "         0.        , 1.        ],\n",
       "        [0.        , 0.        , 0.        , ..., 0.        ,\n",
       "         0.        , 0.        ],\n",
       "        [0.        , 0.        , 0.        , ..., 0.        ,\n",
       "         0.        , 0.        ]],\n",
       "\n",
       "       [[0.39715505, 0.65317357, 0.3760526 , ..., 1.        ,\n",
       "         0.        , 1.        ],\n",
       "        [0.39427906, 0.65317357, 0.3760526 , ..., 1.        ,\n",
       "         0.        , 0.        ],\n",
       "        [0.42759904, 0.65317357, 0.38960078, ..., 1.        ,\n",
       "         0.        , 1.        ],\n",
       "        ...,\n",
       "        [0.56230366, 0.82866263, 0.51775897, ..., 0.        ,\n",
       "         1.        , 0.        ],\n",
       "        [0.55364954, 0.8531422 , 0.5120835 , ..., 0.        ,\n",
       "         1.        , 0.        ],\n",
       "        [0.57499266, 0.9093278 , 0.53002566, ..., 0.        ,\n",
       "         1.        , 1.        ]]], dtype=float32)"
      ]
     },
     "execution_count": 43,
     "metadata": {},
     "output_type": "execute_result"
    }
   ],
   "source": [
    "X_train"
   ]
  },
  {
   "cell_type": "markdown",
   "metadata": {},
   "source": [
    "## Baseline model: LSTM with feature scaling "
   ]
  },
  {
   "cell_type": "markdown",
   "metadata": {},
   "source": [
    "- LSTM: Introduced to prevent the vanishing gradient: for **long** time-series, the gradient (of the backpropagation, during the optimizer updates) vanished to 0."
   ]
  },
  {
   "cell_type": "code",
   "execution_count": 80,
   "metadata": {
    "ExecuteTime": {
     "end_time": "2020-11-23T21:41:40.044515Z",
     "start_time": "2020-11-23T21:41:40.040210Z"
    }
   },
   "outputs": [],
   "source": [
    "from tensorflow.keras.models import Sequential\n",
    "from tensorflow.keras import layers\n",
    "\n",
    "def init_model():\n",
    "\n",
    "    model = Sequential()\n",
    "    model.add(layers.Masking())\n",
    "    model.add(layers.LSTM(10, activation='tanh'))\n",
    "    model.add(layers.Dense(15, activation='relu'))\n",
    "    model.add(layers.Dense(1, activation='sigmoid'))\n",
    "    \n",
    "    model.compile(loss='binary_crossentropy',\n",
    "                  optimizer='rmsprop', \n",
    "                  metrics=['accuracy'])# find loss an penalizing negative or positive results - alternatives to mae\n",
    "                                  # mae weighted\n",
    "    return model\n"
   ]
  },
  {
   "cell_type": "code",
   "execution_count": 81,
   "metadata": {
    "ExecuteTime": {
     "end_time": "2020-11-23T21:42:08.067221Z",
     "start_time": "2020-11-23T21:41:40.385107Z"
    }
   },
   "outputs": [
    {
     "name": "stdout",
     "output_type": "stream",
     "text": [
      "Epoch 1/1000\n",
      "25/25 - 1s - loss: 0.6983 - accuracy: 0.4832 - val_loss: 0.6975 - val_accuracy: 0.4940\n",
      "Epoch 2/1000\n",
      "25/25 - 0s - loss: 0.6950 - accuracy: 0.5168 - val_loss: 0.6956 - val_accuracy: 0.4639\n",
      "Epoch 3/1000\n",
      "25/25 - 0s - loss: 0.6943 - accuracy: 0.4987 - val_loss: 0.6941 - val_accuracy: 0.4880\n",
      "Epoch 4/1000\n",
      "25/25 - 0s - loss: 0.6941 - accuracy: 0.4910 - val_loss: 0.6945 - val_accuracy: 0.4940\n",
      "Epoch 5/1000\n",
      "25/25 - 0s - loss: 0.6939 - accuracy: 0.5194 - val_loss: 0.6934 - val_accuracy: 0.4940\n",
      "Epoch 6/1000\n",
      "25/25 - 0s - loss: 0.6935 - accuracy: 0.4832 - val_loss: 0.6925 - val_accuracy: 0.4819\n",
      "Epoch 7/1000\n",
      "25/25 - 0s - loss: 0.6935 - accuracy: 0.4884 - val_loss: 0.6926 - val_accuracy: 0.4880\n",
      "Epoch 8/1000\n",
      "25/25 - 0s - loss: 0.6933 - accuracy: 0.5013 - val_loss: 0.6922 - val_accuracy: 0.4819\n",
      "Epoch 9/1000\n",
      "25/25 - 0s - loss: 0.6929 - accuracy: 0.4806 - val_loss: 0.6919 - val_accuracy: 0.4940\n",
      "Epoch 10/1000\n",
      "25/25 - 0s - loss: 0.6928 - accuracy: 0.4832 - val_loss: 0.6915 - val_accuracy: 0.4940\n",
      "Epoch 11/1000\n",
      "25/25 - 0s - loss: 0.6928 - accuracy: 0.4910 - val_loss: 0.6919 - val_accuracy: 0.5181\n",
      "Epoch 12/1000\n",
      "25/25 - 0s - loss: 0.6926 - accuracy: 0.5142 - val_loss: 0.6917 - val_accuracy: 0.5241\n",
      "Epoch 13/1000\n",
      "25/25 - 0s - loss: 0.6925 - accuracy: 0.4987 - val_loss: 0.6921 - val_accuracy: 0.5602\n",
      "Epoch 14/1000\n",
      "25/25 - 0s - loss: 0.6926 - accuracy: 0.5194 - val_loss: 0.6915 - val_accuracy: 0.5120\n",
      "Epoch 15/1000\n",
      "25/25 - 0s - loss: 0.6923 - accuracy: 0.5039 - val_loss: 0.6912 - val_accuracy: 0.5301\n",
      "Epoch 16/1000\n",
      "25/25 - 0s - loss: 0.6922 - accuracy: 0.5220 - val_loss: 0.6913 - val_accuracy: 0.5120\n",
      "Epoch 17/1000\n",
      "25/25 - 0s - loss: 0.6924 - accuracy: 0.5220 - val_loss: 0.6910 - val_accuracy: 0.5120\n",
      "Epoch 18/1000\n",
      "25/25 - 0s - loss: 0.6922 - accuracy: 0.4987 - val_loss: 0.6915 - val_accuracy: 0.5723\n",
      "Epoch 19/1000\n",
      "25/25 - 0s - loss: 0.6918 - accuracy: 0.5297 - val_loss: 0.6908 - val_accuracy: 0.5181\n",
      "Epoch 20/1000\n",
      "25/25 - 0s - loss: 0.6918 - accuracy: 0.5349 - val_loss: 0.6902 - val_accuracy: 0.5422\n",
      "Epoch 21/1000\n",
      "25/25 - 0s - loss: 0.6919 - accuracy: 0.5039 - val_loss: 0.6901 - val_accuracy: 0.5241\n",
      "Epoch 22/1000\n",
      "25/25 - 0s - loss: 0.6916 - accuracy: 0.5271 - val_loss: 0.6902 - val_accuracy: 0.5241\n",
      "Epoch 23/1000\n",
      "25/25 - 0s - loss: 0.6915 - accuracy: 0.5323 - val_loss: 0.6902 - val_accuracy: 0.5482\n",
      "Epoch 24/1000\n",
      "25/25 - 0s - loss: 0.6912 - accuracy: 0.5245 - val_loss: 0.6900 - val_accuracy: 0.5241\n",
      "Epoch 25/1000\n",
      "25/25 - 0s - loss: 0.6911 - accuracy: 0.5245 - val_loss: 0.6894 - val_accuracy: 0.5361\n",
      "Epoch 26/1000\n",
      "25/25 - 0s - loss: 0.6908 - accuracy: 0.5168 - val_loss: 0.6888 - val_accuracy: 0.5422\n",
      "Epoch 27/1000\n",
      "25/25 - 0s - loss: 0.6906 - accuracy: 0.5401 - val_loss: 0.6885 - val_accuracy: 0.5422\n",
      "Epoch 28/1000\n",
      "25/25 - 0s - loss: 0.6903 - accuracy: 0.5375 - val_loss: 0.6884 - val_accuracy: 0.5241\n",
      "Epoch 29/1000\n",
      "25/25 - 0s - loss: 0.6900 - accuracy: 0.5271 - val_loss: 0.6874 - val_accuracy: 0.5482\n",
      "Epoch 30/1000\n",
      "25/25 - 0s - loss: 0.6896 - accuracy: 0.5504 - val_loss: 0.6876 - val_accuracy: 0.5602\n",
      "Epoch 31/1000\n",
      "25/25 - 0s - loss: 0.6890 - accuracy: 0.5323 - val_loss: 0.6863 - val_accuracy: 0.5602\n",
      "Epoch 32/1000\n",
      "25/25 - 0s - loss: 0.6890 - accuracy: 0.5452 - val_loss: 0.6854 - val_accuracy: 0.6024\n",
      "Epoch 33/1000\n",
      "25/25 - 0s - loss: 0.6883 - accuracy: 0.5323 - val_loss: 0.6840 - val_accuracy: 0.5904\n",
      "Epoch 34/1000\n",
      "25/25 - 0s - loss: 0.6884 - accuracy: 0.5349 - val_loss: 0.6840 - val_accuracy: 0.5663\n",
      "Epoch 35/1000\n",
      "25/25 - 0s - loss: 0.6875 - accuracy: 0.5220 - val_loss: 0.6840 - val_accuracy: 0.5843\n",
      "Epoch 36/1000\n",
      "25/25 - 0s - loss: 0.6872 - accuracy: 0.5323 - val_loss: 0.6849 - val_accuracy: 0.5542\n",
      "Epoch 37/1000\n",
      "25/25 - 0s - loss: 0.6872 - accuracy: 0.5452 - val_loss: 0.6851 - val_accuracy: 0.5663\n",
      "Epoch 38/1000\n",
      "25/25 - 0s - loss: 0.6869 - accuracy: 0.5530 - val_loss: 0.6851 - val_accuracy: 0.5542\n",
      "Epoch 39/1000\n",
      "25/25 - 0s - loss: 0.6860 - accuracy: 0.5426 - val_loss: 0.6847 - val_accuracy: 0.5542\n",
      "Epoch 40/1000\n",
      "25/25 - 0s - loss: 0.6859 - accuracy: 0.5478 - val_loss: 0.6838 - val_accuracy: 0.5783\n",
      "Epoch 41/1000\n",
      "25/25 - 0s - loss: 0.6852 - accuracy: 0.5452 - val_loss: 0.6831 - val_accuracy: 0.5783\n",
      "Epoch 42/1000\n",
      "25/25 - 0s - loss: 0.6844 - accuracy: 0.5659 - val_loss: 0.6812 - val_accuracy: 0.5843\n",
      "Epoch 43/1000\n",
      "25/25 - 0s - loss: 0.6839 - accuracy: 0.5504 - val_loss: 0.6798 - val_accuracy: 0.6084\n",
      "Epoch 44/1000\n",
      "25/25 - 0s - loss: 0.6834 - accuracy: 0.5452 - val_loss: 0.6818 - val_accuracy: 0.5602\n",
      "Epoch 45/1000\n",
      "25/25 - 0s - loss: 0.6827 - accuracy: 0.5607 - val_loss: 0.6805 - val_accuracy: 0.5783\n",
      "Epoch 46/1000\n",
      "25/25 - 0s - loss: 0.6820 - accuracy: 0.5504 - val_loss: 0.6781 - val_accuracy: 0.6325\n",
      "Epoch 47/1000\n",
      "25/25 - 0s - loss: 0.6821 - accuracy: 0.5530 - val_loss: 0.6772 - val_accuracy: 0.6325\n",
      "Epoch 48/1000\n",
      "25/25 - 0s - loss: 0.6808 - accuracy: 0.5607 - val_loss: 0.6781 - val_accuracy: 0.6145\n",
      "Epoch 49/1000\n",
      "25/25 - 0s - loss: 0.6799 - accuracy: 0.5581 - val_loss: 0.6770 - val_accuracy: 0.6024\n",
      "Epoch 50/1000\n",
      "25/25 - 0s - loss: 0.6785 - accuracy: 0.5530 - val_loss: 0.6801 - val_accuracy: 0.5964\n",
      "Epoch 51/1000\n",
      "25/25 - 0s - loss: 0.6758 - accuracy: 0.5840 - val_loss: 0.6787 - val_accuracy: 0.6145\n",
      "Epoch 52/1000\n",
      "25/25 - 0s - loss: 0.6777 - accuracy: 0.5556 - val_loss: 0.6815 - val_accuracy: 0.5723\n",
      "Epoch 53/1000\n",
      "25/25 - 0s - loss: 0.6795 - accuracy: 0.5581 - val_loss: 0.6756 - val_accuracy: 0.5843\n",
      "Epoch 54/1000\n",
      "25/25 - 0s - loss: 0.6758 - accuracy: 0.5659 - val_loss: 0.6772 - val_accuracy: 0.5783\n",
      "Epoch 55/1000\n",
      "25/25 - 0s - loss: 0.6751 - accuracy: 0.5736 - val_loss: 0.6747 - val_accuracy: 0.5843\n",
      "Epoch 56/1000\n",
      "25/25 - 0s - loss: 0.6724 - accuracy: 0.5814 - val_loss: 0.6811 - val_accuracy: 0.5964\n",
      "Epoch 57/1000\n",
      "25/25 - 0s - loss: 0.6740 - accuracy: 0.5633 - val_loss: 0.6782 - val_accuracy: 0.5783\n",
      "Epoch 58/1000\n",
      "25/25 - 0s - loss: 0.6738 - accuracy: 0.5659 - val_loss: 0.6764 - val_accuracy: 0.5904\n",
      "Epoch 59/1000\n",
      "25/25 - 0s - loss: 0.6712 - accuracy: 0.5633 - val_loss: 0.6761 - val_accuracy: 0.5723\n",
      "Epoch 60/1000\n",
      "25/25 - 0s - loss: 0.6726 - accuracy: 0.5504 - val_loss: 0.6772 - val_accuracy: 0.5783\n",
      "Epoch 61/1000\n",
      "25/25 - 0s - loss: 0.6657 - accuracy: 0.5840 - val_loss: 0.6731 - val_accuracy: 0.5723\n",
      "Epoch 62/1000\n",
      "25/25 - 0s - loss: 0.6668 - accuracy: 0.5685 - val_loss: 0.6732 - val_accuracy: 0.5783\n",
      "Epoch 63/1000\n",
      "25/25 - 0s - loss: 0.6682 - accuracy: 0.5659 - val_loss: 0.6824 - val_accuracy: 0.5542\n",
      "Epoch 64/1000\n",
      "25/25 - 0s - loss: 0.6683 - accuracy: 0.5452 - val_loss: 0.6734 - val_accuracy: 0.5663\n",
      "Epoch 65/1000\n",
      "25/25 - 0s - loss: 0.6661 - accuracy: 0.5581 - val_loss: 0.6766 - val_accuracy: 0.5602\n",
      "Epoch 66/1000\n",
      "25/25 - 0s - loss: 0.6618 - accuracy: 0.5814 - val_loss: 0.6785 - val_accuracy: 0.5542\n",
      "Epoch 67/1000\n",
      "25/25 - 0s - loss: 0.6654 - accuracy: 0.5736 - val_loss: 0.6796 - val_accuracy: 0.5482\n",
      "Epoch 68/1000\n",
      "25/25 - 0s - loss: 0.6636 - accuracy: 0.5995 - val_loss: 0.6762 - val_accuracy: 0.5663\n",
      "Epoch 69/1000\n",
      "25/25 - 0s - loss: 0.6632 - accuracy: 0.5736 - val_loss: 0.6843 - val_accuracy: 0.5301\n",
      "Epoch 70/1000\n",
      "25/25 - 0s - loss: 0.6596 - accuracy: 0.5659 - val_loss: 0.6724 - val_accuracy: 0.5663\n",
      "Epoch 71/1000\n",
      "25/25 - 0s - loss: 0.6593 - accuracy: 0.5711 - val_loss: 0.6805 - val_accuracy: 0.5422\n",
      "Epoch 72/1000\n",
      "25/25 - 0s - loss: 0.6587 - accuracy: 0.5711 - val_loss: 0.6776 - val_accuracy: 0.5663\n",
      "Epoch 73/1000\n",
      "25/25 - 0s - loss: 0.6567 - accuracy: 0.5840 - val_loss: 0.6761 - val_accuracy: 0.5663\n",
      "Epoch 74/1000\n",
      "25/25 - 0s - loss: 0.6526 - accuracy: 0.5788 - val_loss: 0.6840 - val_accuracy: 0.5723\n",
      "Epoch 75/1000\n",
      "25/25 - 0s - loss: 0.6564 - accuracy: 0.5685 - val_loss: 0.6706 - val_accuracy: 0.5723\n",
      "Epoch 76/1000\n",
      "25/25 - 0s - loss: 0.6499 - accuracy: 0.5917 - val_loss: 0.6767 - val_accuracy: 0.5843\n",
      "Epoch 77/1000\n",
      "25/25 - 0s - loss: 0.6546 - accuracy: 0.5891 - val_loss: 0.6748 - val_accuracy: 0.5723\n",
      "Epoch 78/1000\n",
      "25/25 - 0s - loss: 0.6502 - accuracy: 0.5840 - val_loss: 0.6727 - val_accuracy: 0.5602\n",
      "Epoch 79/1000\n",
      "25/25 - 0s - loss: 0.6487 - accuracy: 0.6098 - val_loss: 0.6734 - val_accuracy: 0.5904\n",
      "Epoch 80/1000\n",
      "25/25 - 0s - loss: 0.6480 - accuracy: 0.5685 - val_loss: 0.6876 - val_accuracy: 0.5361\n",
      "Epoch 81/1000\n",
      "25/25 - 0s - loss: 0.6511 - accuracy: 0.6176 - val_loss: 0.6757 - val_accuracy: 0.5542\n",
      "Epoch 82/1000\n",
      "25/25 - 0s - loss: 0.6513 - accuracy: 0.5891 - val_loss: 0.6791 - val_accuracy: 0.5301\n"
     ]
    },
    {
     "name": "stdout",
     "output_type": "stream",
     "text": [
      "Epoch 83/1000\n",
      "25/25 - 0s - loss: 0.6475 - accuracy: 0.5995 - val_loss: 0.6734 - val_accuracy: 0.5602\n",
      "Epoch 84/1000\n",
      "25/25 - 0s - loss: 0.6404 - accuracy: 0.6150 - val_loss: 0.6738 - val_accuracy: 0.5663\n",
      "Epoch 85/1000\n",
      "25/25 - 0s - loss: 0.6458 - accuracy: 0.5762 - val_loss: 0.6824 - val_accuracy: 0.5663\n",
      "Epoch 86/1000\n",
      "25/25 - 0s - loss: 0.6493 - accuracy: 0.5866 - val_loss: 0.6822 - val_accuracy: 0.5663\n",
      "Epoch 87/1000\n",
      "25/25 - 0s - loss: 0.6455 - accuracy: 0.6047 - val_loss: 0.6824 - val_accuracy: 0.5723\n",
      "Epoch 88/1000\n",
      "25/25 - 0s - loss: 0.6430 - accuracy: 0.5917 - val_loss: 0.6778 - val_accuracy: 0.5602\n",
      "Epoch 89/1000\n",
      "25/25 - 0s - loss: 0.6398 - accuracy: 0.5891 - val_loss: 0.6829 - val_accuracy: 0.5542\n",
      "Epoch 90/1000\n",
      "25/25 - 0s - loss: 0.6375 - accuracy: 0.6098 - val_loss: 0.6817 - val_accuracy: 0.5783\n",
      "Epoch 91/1000\n",
      "25/25 - 0s - loss: 0.6418 - accuracy: 0.5891 - val_loss: 0.6818 - val_accuracy: 0.5904\n",
      "Epoch 92/1000\n",
      "25/25 - 0s - loss: 0.6357 - accuracy: 0.5969 - val_loss: 0.6894 - val_accuracy: 0.5663\n",
      "Epoch 93/1000\n",
      "25/25 - 0s - loss: 0.6375 - accuracy: 0.5943 - val_loss: 0.6863 - val_accuracy: 0.5482\n",
      "Epoch 94/1000\n",
      "25/25 - 0s - loss: 0.6367 - accuracy: 0.6124 - val_loss: 0.6822 - val_accuracy: 0.5602\n",
      "Epoch 95/1000\n",
      "25/25 - 0s - loss: 0.6269 - accuracy: 0.6176 - val_loss: 0.7113 - val_accuracy: 0.4940\n"
     ]
    }
   ],
   "source": [
    "# Fit the model\n",
    "from tensorflow.keras.callbacks import EarlyStopping\n",
    "\n",
    "model = init_model()\n",
    "\n",
    "es = EarlyStopping(patience=20, mode='min', verbose=0, monitor='val_loss',restore_best_weights=True)\n",
    "# patience = 30 - > if my algorithm doesnt improve my performance for a certain number of iterations \n",
    "# (patience) stop the fitting process, return the weights as they are\n",
    "\n",
    "history = model.fit(X_train,y_train,\n",
    "          batch_size=16,\n",
    "          epochs=1000, # iteration through your data\n",
    "          validation_split=0.3,\n",
    "          callbacks=[es],\n",
    "          verbose=2)"
   ]
  },
  {
   "cell_type": "code",
   "execution_count": 82,
   "metadata": {
    "ExecuteTime": {
     "end_time": "2020-11-23T21:42:08.077044Z",
     "start_time": "2020-11-23T21:42:08.069280Z"
    }
   },
   "outputs": [
    {
     "data": {
      "text/plain": [
       "{'loss': [0.6983041763305664,\n",
       "  0.6950061321258545,\n",
       "  0.6942731142044067,\n",
       "  0.6941465735435486,\n",
       "  0.69388747215271,\n",
       "  0.6935276389122009,\n",
       "  0.6934805512428284,\n",
       "  0.6933172941207886,\n",
       "  0.6929166913032532,\n",
       "  0.692753255367279,\n",
       "  0.6928278207778931,\n",
       "  0.6926005482673645,\n",
       "  0.6924926042556763,\n",
       "  0.692575991153717,\n",
       "  0.692290723323822,\n",
       "  0.6922008395195007,\n",
       "  0.6924111247062683,\n",
       "  0.6921814680099487,\n",
       "  0.6918408274650574,\n",
       "  0.6917816996574402,\n",
       "  0.6918610334396362,\n",
       "  0.6916411519050598,\n",
       "  0.6914960145950317,\n",
       "  0.6912053823471069,\n",
       "  0.6911213994026184,\n",
       "  0.6908146739006042,\n",
       "  0.6906118392944336,\n",
       "  0.6903071999549866,\n",
       "  0.6900324821472168,\n",
       "  0.6896164417266846,\n",
       "  0.6889910101890564,\n",
       "  0.6889733672142029,\n",
       "  0.6882745027542114,\n",
       "  0.6884173154830933,\n",
       "  0.687497079372406,\n",
       "  0.6871550679206848,\n",
       "  0.6872424483299255,\n",
       "  0.6868647336959839,\n",
       "  0.6860244274139404,\n",
       "  0.6859352588653564,\n",
       "  0.6852208971977234,\n",
       "  0.6844087243080139,\n",
       "  0.6839062571525574,\n",
       "  0.6833747029304504,\n",
       "  0.6826574206352234,\n",
       "  0.6819955706596375,\n",
       "  0.6820650100708008,\n",
       "  0.6808075904846191,\n",
       "  0.6799120903015137,\n",
       "  0.6785134077072144,\n",
       "  0.6758254766464233,\n",
       "  0.6777360439300537,\n",
       "  0.6794723272323608,\n",
       "  0.6757687926292419,\n",
       "  0.6750778555870056,\n",
       "  0.6724306344985962,\n",
       "  0.6740064024925232,\n",
       "  0.6737671494483948,\n",
       "  0.671216607093811,\n",
       "  0.6725873351097107,\n",
       "  0.6656550765037537,\n",
       "  0.6667861938476562,\n",
       "  0.6682470440864563,\n",
       "  0.6682804822921753,\n",
       "  0.6661401391029358,\n",
       "  0.6618315577507019,\n",
       "  0.6653844714164734,\n",
       "  0.6635516881942749,\n",
       "  0.6632285714149475,\n",
       "  0.6595816016197205,\n",
       "  0.6593034267425537,\n",
       "  0.6587415337562561,\n",
       "  0.656712532043457,\n",
       "  0.6526167988777161,\n",
       "  0.6564156413078308,\n",
       "  0.6499304175376892,\n",
       "  0.6545795798301697,\n",
       "  0.6501688361167908,\n",
       "  0.64865642786026,\n",
       "  0.6480218172073364,\n",
       "  0.6510564088821411,\n",
       "  0.6513064503669739,\n",
       "  0.6475167274475098,\n",
       "  0.6404159665107727,\n",
       "  0.645764946937561,\n",
       "  0.6492909789085388,\n",
       "  0.6455431580543518,\n",
       "  0.6430293321609497,\n",
       "  0.6398469805717468,\n",
       "  0.6374634504318237,\n",
       "  0.6417558193206787,\n",
       "  0.6357322335243225,\n",
       "  0.637478768825531,\n",
       "  0.6367232203483582,\n",
       "  0.6269147992134094],\n",
       " 'accuracy': [0.4832041263580322,\n",
       "  0.5167958736419678,\n",
       "  0.49870800971984863,\n",
       "  0.49095606803894043,\n",
       "  0.5193798542022705,\n",
       "  0.4832041263580322,\n",
       "  0.4883720874786377,\n",
       "  0.5012919902801514,\n",
       "  0.4806201457977295,\n",
       "  0.4832041263580322,\n",
       "  0.49095606803894043,\n",
       "  0.514211893081665,\n",
       "  0.49870800971984863,\n",
       "  0.5193798542022705,\n",
       "  0.5038759708404541,\n",
       "  0.5219638347625732,\n",
       "  0.5219638347625732,\n",
       "  0.49870800971984863,\n",
       "  0.5297157764434814,\n",
       "  0.5348837375640869,\n",
       "  0.5038759708404541,\n",
       "  0.5271317958831787,\n",
       "  0.5322997570037842,\n",
       "  0.524547815322876,\n",
       "  0.524547815322876,\n",
       "  0.5167958736419678,\n",
       "  0.5400516986846924,\n",
       "  0.5374677181243896,\n",
       "  0.5271317958831787,\n",
       "  0.5503876209259033,\n",
       "  0.5322997570037842,\n",
       "  0.5452196598052979,\n",
       "  0.5322997570037842,\n",
       "  0.5348837375640869,\n",
       "  0.5219638347625732,\n",
       "  0.5322997570037842,\n",
       "  0.5452196598052979,\n",
       "  0.552971601486206,\n",
       "  0.5426356792449951,\n",
       "  0.5478036403656006,\n",
       "  0.5452196598052979,\n",
       "  0.565891444683075,\n",
       "  0.5503876209259033,\n",
       "  0.5452196598052979,\n",
       "  0.5607235431671143,\n",
       "  0.5503876209259033,\n",
       "  0.552971601486206,\n",
       "  0.5607235431671143,\n",
       "  0.5581395626068115,\n",
       "  0.552971601486206,\n",
       "  0.5839793086051941,\n",
       "  0.5555555820465088,\n",
       "  0.5581395626068115,\n",
       "  0.565891444683075,\n",
       "  0.5736433863639832,\n",
       "  0.5813953280448914,\n",
       "  0.5633074641227722,\n",
       "  0.565891444683075,\n",
       "  0.5633074641227722,\n",
       "  0.5503876209259033,\n",
       "  0.5839793086051941,\n",
       "  0.5684754252433777,\n",
       "  0.565891444683075,\n",
       "  0.5452196598052979,\n",
       "  0.5581395626068115,\n",
       "  0.5813953280448914,\n",
       "  0.5736433863639832,\n",
       "  0.5994831919670105,\n",
       "  0.5736433863639832,\n",
       "  0.565891444683075,\n",
       "  0.5710594058036804,\n",
       "  0.5710594058036804,\n",
       "  0.5839793086051941,\n",
       "  0.5788113474845886,\n",
       "  0.5684754252433777,\n",
       "  0.5917312502861023,\n",
       "  0.5891472697257996,\n",
       "  0.5839793086051941,\n",
       "  0.6098191142082214,\n",
       "  0.5684754252433777,\n",
       "  0.6175710558891296,\n",
       "  0.5891472697257996,\n",
       "  0.5994831919670105,\n",
       "  0.6149870753288269,\n",
       "  0.5762273669242859,\n",
       "  0.5865632891654968,\n",
       "  0.604651153087616,\n",
       "  0.5917312502861023,\n",
       "  0.5891472697257996,\n",
       "  0.6098191142082214,\n",
       "  0.5891472697257996,\n",
       "  0.5968992114067078,\n",
       "  0.594315230846405,\n",
       "  0.6124030947685242,\n",
       "  0.6175710558891296],\n",
       " 'val_loss': [0.6975051760673523,\n",
       "  0.6955766677856445,\n",
       "  0.6940709948539734,\n",
       "  0.6944757699966431,\n",
       "  0.6933823823928833,\n",
       "  0.6925139427185059,\n",
       "  0.6926118731498718,\n",
       "  0.6921669244766235,\n",
       "  0.6918638944625854,\n",
       "  0.6915120482444763,\n",
       "  0.691870927810669,\n",
       "  0.6916767954826355,\n",
       "  0.6920862793922424,\n",
       "  0.6915314793586731,\n",
       "  0.6912202835083008,\n",
       "  0.6912859678268433,\n",
       "  0.6910096406936646,\n",
       "  0.6914581656455994,\n",
       "  0.6907992362976074,\n",
       "  0.6901689767837524,\n",
       "  0.6901111602783203,\n",
       "  0.6902067065238953,\n",
       "  0.6901941895484924,\n",
       "  0.6899716258049011,\n",
       "  0.6894422769546509,\n",
       "  0.6887547373771667,\n",
       "  0.6885033845901489,\n",
       "  0.6883509755134583,\n",
       "  0.6874415278434753,\n",
       "  0.6875638961791992,\n",
       "  0.6863341927528381,\n",
       "  0.6853842735290527,\n",
       "  0.6840325593948364,\n",
       "  0.6839935779571533,\n",
       "  0.6840384006500244,\n",
       "  0.6849230527877808,\n",
       "  0.685124933719635,\n",
       "  0.6850934624671936,\n",
       "  0.684749186038971,\n",
       "  0.6838018894195557,\n",
       "  0.6831151843070984,\n",
       "  0.6811670660972595,\n",
       "  0.6798245906829834,\n",
       "  0.6818116903305054,\n",
       "  0.6804637908935547,\n",
       "  0.6780757904052734,\n",
       "  0.677218496799469,\n",
       "  0.6780778169631958,\n",
       "  0.6769711971282959,\n",
       "  0.6801290512084961,\n",
       "  0.678670346736908,\n",
       "  0.6815083622932434,\n",
       "  0.6756129264831543,\n",
       "  0.6772440075874329,\n",
       "  0.6747185587882996,\n",
       "  0.6811367869377136,\n",
       "  0.6781831979751587,\n",
       "  0.6764357089996338,\n",
       "  0.676123857498169,\n",
       "  0.6771853566169739,\n",
       "  0.6730632781982422,\n",
       "  0.6732416152954102,\n",
       "  0.6823655366897583,\n",
       "  0.6734269857406616,\n",
       "  0.6766470670700073,\n",
       "  0.6784892082214355,\n",
       "  0.6796490550041199,\n",
       "  0.676155149936676,\n",
       "  0.6843399405479431,\n",
       "  0.6724082231521606,\n",
       "  0.6805475950241089,\n",
       "  0.6776342391967773,\n",
       "  0.6761088967323303,\n",
       "  0.684014618396759,\n",
       "  0.6705710887908936,\n",
       "  0.6766968369483948,\n",
       "  0.6748309135437012,\n",
       "  0.672737717628479,\n",
       "  0.6734110116958618,\n",
       "  0.6875869631767273,\n",
       "  0.6757305860519409,\n",
       "  0.6791471838951111,\n",
       "  0.6734166145324707,\n",
       "  0.6738407015800476,\n",
       "  0.682418704032898,\n",
       "  0.6822336316108704,\n",
       "  0.6824482083320618,\n",
       "  0.6778276562690735,\n",
       "  0.6828898191452026,\n",
       "  0.6816927194595337,\n",
       "  0.6817976236343384,\n",
       "  0.6893957853317261,\n",
       "  0.6863016486167908,\n",
       "  0.6821845769882202,\n",
       "  0.7113387584686279],\n",
       " 'val_accuracy': [0.4939759075641632,\n",
       "  0.46385541558265686,\n",
       "  0.4879518151283264,\n",
       "  0.4939759075641632,\n",
       "  0.4939759075641632,\n",
       "  0.4819277226924896,\n",
       "  0.4879518151283264,\n",
       "  0.4819277226924896,\n",
       "  0.4939759075641632,\n",
       "  0.4939759075641632,\n",
       "  0.5180723071098328,\n",
       "  0.5240963697433472,\n",
       "  0.5602409839630127,\n",
       "  0.5120481848716736,\n",
       "  0.5301204919815063,\n",
       "  0.5120481848716736,\n",
       "  0.5120481848716736,\n",
       "  0.5722891688346863,\n",
       "  0.5180723071098328,\n",
       "  0.5421686768531799,\n",
       "  0.5240963697433472,\n",
       "  0.5240963697433472,\n",
       "  0.5481927990913391,\n",
       "  0.5240963697433472,\n",
       "  0.5361445546150208,\n",
       "  0.5421686768531799,\n",
       "  0.5421686768531799,\n",
       "  0.5240963697433472,\n",
       "  0.5481927990913391,\n",
       "  0.5602409839630127,\n",
       "  0.5602409839630127,\n",
       "  0.6024096608161926,\n",
       "  0.5903614163398743,\n",
       "  0.5662650465965271,\n",
       "  0.5843373537063599,\n",
       "  0.5542168617248535,\n",
       "  0.5662650465965271,\n",
       "  0.5542168617248535,\n",
       "  0.5542168617248535,\n",
       "  0.5783132314682007,\n",
       "  0.5783132314682007,\n",
       "  0.5843373537063599,\n",
       "  0.608433723449707,\n",
       "  0.5602409839630127,\n",
       "  0.5783132314682007,\n",
       "  0.6325300931930542,\n",
       "  0.6325300931930542,\n",
       "  0.6144578456878662,\n",
       "  0.6024096608161926,\n",
       "  0.5963855385780334,\n",
       "  0.6144578456878662,\n",
       "  0.5722891688346863,\n",
       "  0.5843373537063599,\n",
       "  0.5783132314682007,\n",
       "  0.5843373537063599,\n",
       "  0.5963855385780334,\n",
       "  0.5783132314682007,\n",
       "  0.5903614163398743,\n",
       "  0.5722891688346863,\n",
       "  0.5783132314682007,\n",
       "  0.5722891688346863,\n",
       "  0.5783132314682007,\n",
       "  0.5542168617248535,\n",
       "  0.5662650465965271,\n",
       "  0.5602409839630127,\n",
       "  0.5542168617248535,\n",
       "  0.5481927990913391,\n",
       "  0.5662650465965271,\n",
       "  0.5301204919815063,\n",
       "  0.5662650465965271,\n",
       "  0.5421686768531799,\n",
       "  0.5662650465965271,\n",
       "  0.5662650465965271,\n",
       "  0.5722891688346863,\n",
       "  0.5722891688346863,\n",
       "  0.5843373537063599,\n",
       "  0.5722891688346863,\n",
       "  0.5602409839630127,\n",
       "  0.5903614163398743,\n",
       "  0.5361445546150208,\n",
       "  0.5542168617248535,\n",
       "  0.5301204919815063,\n",
       "  0.5602409839630127,\n",
       "  0.5662650465965271,\n",
       "  0.5662650465965271,\n",
       "  0.5662650465965271,\n",
       "  0.5722891688346863,\n",
       "  0.5602409839630127,\n",
       "  0.5542168617248535,\n",
       "  0.5783132314682007,\n",
       "  0.5903614163398743,\n",
       "  0.5662650465965271,\n",
       "  0.5481927990913391,\n",
       "  0.5602409839630127,\n",
       "  0.4939759075641632]}"
      ]
     },
     "execution_count": 82,
     "metadata": {},
     "output_type": "execute_result"
    }
   ],
   "source": [
    "history.history"
   ]
  },
  {
   "cell_type": "code",
   "execution_count": 83,
   "metadata": {
    "ExecuteTime": {
     "end_time": "2020-11-23T21:42:08.419046Z",
     "start_time": "2020-11-23T21:42:08.079816Z"
    },
    "scrolled": false
   },
   "outputs": [
    {
     "data": {
      "image/png": "[encoded data removed]",
      "text/plain": [
       "<Figure size 432x288 with 1 Axes>"
      ]
     },
     "metadata": {
      "needs_background": "light"
     },
     "output_type": "display_data"
    },
    {
     "data": {
      "image/png": "[encoded data removed]",
      "text/plain": [
       "<Figure size 432x288 with 1 Axes>"
      ]
     },
     "metadata": {
      "needs_background": "light"
     },
     "output_type": "display_data"
    }
   ],
   "source": [
    "\n",
    "def plot_loss(history):\n",
    "    plt.plot(history.history['loss'])\n",
    "    plt.plot(history.history['val_loss'])\n",
    "    plt.title('Model loss')\n",
    "    plt.ylabel('Binary_crossentropy - Loss')\n",
    "    plt.xlabel('Epoch')\n",
    "    plt.legend(['Train', 'Validation'], loc='best')\n",
    "    plt.show()\n",
    "    \n",
    "    plt.plot(history.history['accuracy'])\n",
    "    plt.plot(history.history['val_accuracy'])\n",
    "    plt.title('Model Metrics')\n",
    "    plt.ylabel('Accuracy')\n",
    "    plt.xlabel('Epoch')\n",
    "    plt.legend(['Train', 'Validation'], loc='best')\n",
    "    plt.show()\n",
    "    \n",
    "plot_loss(history)"
   ]
  },
  {
   "cell_type": "code",
   "execution_count": 84,
   "metadata": {
    "ExecuteTime": {
     "end_time": "2020-11-23T21:42:08.426369Z",
     "start_time": "2020-11-23T21:42:08.422152Z"
    }
   },
   "outputs": [
    {
     "data": {
      "text/plain": [
       "['loss', 'accuracy']"
      ]
     },
     "execution_count": 84,
     "metadata": {},
     "output_type": "execute_result"
    }
   ],
   "source": [
    "model.metrics_names"
   ]
  },
  {
   "cell_type": "code",
   "execution_count": 85,
   "metadata": {
    "ExecuteTime": {
     "end_time": "2020-11-23T21:42:10.057970Z",
     "start_time": "2020-11-23T21:42:08.428853Z"
    },
    "scrolled": false
   },
   "outputs": [
    {
     "name": "stdout",
     "output_type": "stream",
     "text": [
      "5/5 [==============================] - 0s 2ms/step - loss: 0.7721 - accuracy: 0.5942\n",
      "Loss on the test set : 0.77206117\n",
      "Accuracy on the test set : 0.59420288\n"
     ]
    }
   ],
   "source": [
    "y_pred = model.predict(X_test)\n",
    "res = model.evaluate(X_test,y_test)\n",
    "print(f'Loss on the test set : {res[0]:.8f}')\n",
    "print(f'Accuracy on the test set : {res[1]:.8f}')"
   ]
  },
  {
   "cell_type": "markdown",
   "metadata": {
    "heading_collapsed": true
   },
   "source": [
    "## Unscale data"
   ]
  },
  {
   "cell_type": "raw",
   "metadata": {
    "hidden": true
   },
   "source": [
    "y_pred_unscale = normalizer_output.inverse_transform(y_pred)\n",
    "y_pred_unscale = y_pred_unscale.reshape(y_pred.shape[0])\n",
    "y_pred_unscale"
   ]
  },
  {
   "cell_type": "raw",
   "metadata": {
    "hidden": true
   },
   "source": [
    "y_test_unscale = normalizer_output.inverse_transform(y_test.reshape(-1,1))\n",
    "y_test_unscale =y_test_unscale.reshape(y_test.shape[0])\n",
    "y_test_unscale"
   ]
  },
  {
   "cell_type": "raw",
   "metadata": {
    "hidden": true,
    "scrolled": true
   },
   "source": [
    "# get y_pre and y_tes (unscaled) as a DataFrame\n",
    "\n",
    "res = pd.DataFrame({'y_pred_unscale' : y_pred_unscale,\n",
    "                       'y_test_unscale': y_test_unscale})\n",
    "res.head(7)"
   ]
  },
  {
   "cell_type": "markdown",
   "metadata": {
    "heading_collapsed": true
   },
   "source": [
    "## Consecutive dates: not the case!!"
   ]
  },
  {
   "cell_type": "markdown",
   "metadata": {
    "hidden": true
   },
   "source": [
    "Note: Consecutive value of y_test doesnt contain data from two consective dats(because of random smaple)"
   ]
  },
  {
   "cell_type": "raw",
   "metadata": {
    "hidden": true
   },
   "source": [
    "y_test[5]"
   ]
  },
  {
   "cell_type": "raw",
   "metadata": {
    "hidden": true
   },
   "source": [
    "y_test[6]"
   ]
  },
  {
   "cell_type": "raw",
   "metadata": {
    "hidden": true
   },
   "source": [
    "df[df['percentage_change_price']==y_test[40]]"
   ]
  },
  {
   "cell_type": "raw",
   "metadata": {
    "hidden": true,
    "scrolled": true
   },
   "source": [
    "df[df['percentage_change_price']==y_test[41]]"
   ]
  },
  {
   "cell_type": "raw",
   "metadata": {
    "hidden": true
   },
   "source": [
    "df[df['percentage_change_price']==y_b_test[40]]"
   ]
  },
  {
   "cell_type": "markdown",
   "metadata": {},
   "source": [
    "## Turn into classification task - TBD"
   ]
  },
  {
   "cell_type": "raw",
   "metadata": {
    "scrolled": true
   },
   "source": [
    "y_pred_reshape = y_pred.reshape(y_pred.shape[0])\n",
    "y_pred_reshape.shape"
   ]
  },
  {
   "cell_type": "raw",
   "metadata": {
    "scrolled": true
   },
   "source": [
    "y_test.shape"
   ]
  },
  {
   "cell_type": "raw",
   "metadata": {},
   "source": [
    "# get diff and pred_diff as a DataFrame \n",
    "results = pd.DataFrame({'diff_test' : y_test_unscale,\n",
    "                       'diff_pred': y_pred_unscale})\n",
    "results.head()"
   ]
  },
  {
   "cell_type": "raw",
   "metadata": {},
   "source": [
    "# Turn into a classification task: if variation > 0 => 1 (True) // if variation < 0 => 0 (False)\n",
    "results['binar_diff'] = results['diff_test']>0\n",
    "results['binar_pred_diff'] = results['diff_pred']>0\n",
    "results_binary = results[['binar_diff','binar_pred_diff']]\n",
    "results_binary.head()"
   ]
  },
  {
   "cell_type": "raw",
   "metadata": {},
   "source": [
    "import seaborn as sns\n",
    "sns.catplot(data = results, y = 'diff_pred', x = 'binar_diff',kind = 'box')"
   ]
  },
  {
   "cell_type": "raw",
   "metadata": {},
   "source": [
    "# find the accuracy of the model\n",
    "from sklearn.metrics import accuracy_score\n",
    "\n",
    "y_true_final= results['binar_diff']\n",
    "y_pred_final = results['binar_pred_diff']\n",
    "\n",
    "print('The accuracy of the model is: ' + str(accuracy_score(y_true_final, y_pred_final, normalize=True)*100))"
   ]
  }
 ],
 "metadata": {
  "kernelspec": {
   "display_name": "Python 3",
   "language": "python",
   "name": "python3"
  },
  "language_info": {
   "codemirror_mode": {
    "name": "ipython",
    "version": 3
   },
   "file_extension": ".py",
   "mimetype": "text/x-python",
   "name": "python",
   "nbconvert_exporter": "python",
   "pygments_lexer": "ipython3",
   "version": "3.7.7"
  },
  "toc": {
   "base_numbering": 1,
   "nav_menu": {},
   "number_sections": true,
   "sideBar": true,
   "skip_h1_title": false,
   "title_cell": "Table of Contents",
   "title_sidebar": "Contents",
   "toc_cell": false,
   "toc_position": {
    "height": "calc(100% - 180px)",
    "left": "10px",
    "top": "150px",
    "width": "360.3860168457031px"
   },
   "toc_section_display": true,
   "toc_window_display": false
  }
 },
 "nbformat": 4,
 "nbformat_minor": 4
}
