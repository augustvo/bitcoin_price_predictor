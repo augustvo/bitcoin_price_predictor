{
 "cells": [
  {
   "cell_type": "markdown",
   "metadata": {},
   "source": [
    "# Bitcoin price predictor using RNN"
   ]
  },
  {
   "cell_type": "markdown",
   "metadata": {},
   "source": [
    "## Load data"
   ]
  },
  {
   "cell_type": "code",
   "execution_count": 1,
   "metadata": {
    "ExecuteTime": {
     "end_time": "2020-11-24T17:06:43.023425Z",
     "start_time": "2020-11-24T17:06:40.925197Z"
    },
    "scrolled": true
   },
   "outputs": [],
   "source": [
    "import pandas as pd\n",
    "import numpy as np\n",
    "np.random.seed(123)\n",
    "import matplotlib.pyplot as plt\n",
    "%matplotlib inline\n",
    "import random\n",
    "random.seed(123)\n",
    "import seaborn as sns\n",
    "import datetime\n",
    "from datetime import date\n",
    "import yfinance as yf"
   ]
  },
  {
   "cell_type": "code",
   "execution_count": 2,
   "metadata": {
    "ExecuteTime": {
     "end_time": "2020-11-24T17:06:43.739435Z",
     "start_time": "2020-11-24T17:06:43.026898Z"
    }
   },
   "outputs": [
    {
     "name": "stdout",
     "output_type": "stream",
     "text": [
      "[*********************100%***********************]  8 of 8 completed\n"
     ]
    }
   ],
   "source": [
    "########## DOWNLOAD DATA DIRECTLY FROM YAHOO FINANCE ##########\n",
    "stocks = ['BTC-USD','^GSPC','DX-Y.NYB','^IXIC','GOOG','BTC=F','^KS11','000001.SS'] #### ADD FEATURES HERE ####\n",
    "end = datetime.date.today()\n",
    "start = datetime.datetime(2019,11, 1)\n",
    "stock_prices = yf.download(stocks,start=start,end = end, interval='1d')"
   ]
  },
  {
   "cell_type": "code",
   "execution_count": 3,
   "metadata": {},
   "outputs": [
    {
     "data": {
      "text/html": [
       "<div>\n",
       "<style scoped>\n",
       "    .dataframe tbody tr th:only-of-type {\n",
       "        vertical-align: middle;\n",
       "    }\n",
       "\n",
       "    .dataframe tbody tr th {\n",
       "        vertical-align: top;\n",
       "    }\n",
       "\n",
       "    .dataframe thead tr th {\n",
       "        text-align: left;\n",
       "    }\n",
       "\n",
       "    .dataframe thead tr:last-of-type th {\n",
       "        text-align: right;\n",
       "    }\n",
       "</style>\n",
       "<table border=\"1\" class=\"dataframe\">\n",
       "  <thead>\n",
       "    <tr>\n",
       "      <th></th>\n",
       "      <th colspan=\"8\" halign=\"left\">Adj Close</th>\n",
       "      <th colspan=\"2\" halign=\"left\">Close</th>\n",
       "      <th>...</th>\n",
       "      <th colspan=\"2\" halign=\"left\">Open</th>\n",
       "      <th colspan=\"8\" halign=\"left\">Volume</th>\n",
       "    </tr>\n",
       "    <tr>\n",
       "      <th></th>\n",
       "      <th>000001.SS</th>\n",
       "      <th>BTC-USD</th>\n",
       "      <th>BTC=F</th>\n",
       "      <th>DX-Y.NYB</th>\n",
       "      <th>GOOG</th>\n",
       "      <th>^GSPC</th>\n",
       "      <th>^IXIC</th>\n",
       "      <th>^KS11</th>\n",
       "      <th>000001.SS</th>\n",
       "      <th>BTC-USD</th>\n",
       "      <th>...</th>\n",
       "      <th>^IXIC</th>\n",
       "      <th>^KS11</th>\n",
       "      <th>000001.SS</th>\n",
       "      <th>BTC-USD</th>\n",
       "      <th>BTC=F</th>\n",
       "      <th>DX-Y.NYB</th>\n",
       "      <th>GOOG</th>\n",
       "      <th>^GSPC</th>\n",
       "      <th>^IXIC</th>\n",
       "      <th>^KS11</th>\n",
       "    </tr>\n",
       "    <tr>\n",
       "      <th>Date</th>\n",
       "      <th></th>\n",
       "      <th></th>\n",
       "      <th></th>\n",
       "      <th></th>\n",
       "      <th></th>\n",
       "      <th></th>\n",
       "      <th></th>\n",
       "      <th></th>\n",
       "      <th></th>\n",
       "      <th></th>\n",
       "      <th></th>\n",
       "      <th></th>\n",
       "      <th></th>\n",
       "      <th></th>\n",
       "      <th></th>\n",
       "      <th></th>\n",
       "      <th></th>\n",
       "      <th></th>\n",
       "      <th></th>\n",
       "      <th></th>\n",
       "      <th></th>\n",
       "    </tr>\n",
       "  </thead>\n",
       "  <tbody>\n",
       "    <tr>\n",
       "      <th>2019-10-31</th>\n",
       "      <td>NaN</td>\n",
       "      <td>9199.584961</td>\n",
       "      <td>9305.0</td>\n",
       "      <td>97.349998</td>\n",
       "      <td>1260.109985</td>\n",
       "      <td>3037.560059</td>\n",
       "      <td>8292.360352</td>\n",
       "      <td>NaN</td>\n",
       "      <td>NaN</td>\n",
       "      <td>9199.584961</td>\n",
       "      <td>...</td>\n",
       "      <td>8314.379883</td>\n",
       "      <td>NaN</td>\n",
       "      <td>NaN</td>\n",
       "      <td>26583653946</td>\n",
       "      <td>2086.0</td>\n",
       "      <td>0.0</td>\n",
       "      <td>1455700.0</td>\n",
       "      <td>4.139280e+09</td>\n",
       "      <td>2.258270e+09</td>\n",
       "      <td>NaN</td>\n",
       "    </tr>\n",
       "    <tr>\n",
       "      <th>2019-11-01</th>\n",
       "      <td>2958.199951</td>\n",
       "      <td>9261.104492</td>\n",
       "      <td>9235.0</td>\n",
       "      <td>97.230003</td>\n",
       "      <td>1273.739990</td>\n",
       "      <td>3066.909912</td>\n",
       "      <td>8386.400391</td>\n",
       "      <td>2100.199951</td>\n",
       "      <td>2958.199951</td>\n",
       "      <td>9261.104492</td>\n",
       "      <td>...</td>\n",
       "      <td>8335.049805</td>\n",
       "      <td>2084.790039</td>\n",
       "      <td>159900.0</td>\n",
       "      <td>24324691031</td>\n",
       "      <td>2641.0</td>\n",
       "      <td>0.0</td>\n",
       "      <td>1670100.0</td>\n",
       "      <td>3.930200e+09</td>\n",
       "      <td>2.057310e+09</td>\n",
       "      <td>418300.0</td>\n",
       "    </tr>\n",
       "    <tr>\n",
       "      <th>2019-11-02</th>\n",
       "      <td>NaN</td>\n",
       "      <td>9324.717773</td>\n",
       "      <td>NaN</td>\n",
       "      <td>NaN</td>\n",
       "      <td>NaN</td>\n",
       "      <td>NaN</td>\n",
       "      <td>NaN</td>\n",
       "      <td>NaN</td>\n",
       "      <td>NaN</td>\n",
       "      <td>9324.717773</td>\n",
       "      <td>...</td>\n",
       "      <td>NaN</td>\n",
       "      <td>NaN</td>\n",
       "      <td>NaN</td>\n",
       "      <td>21242676385</td>\n",
       "      <td>NaN</td>\n",
       "      <td>NaN</td>\n",
       "      <td>NaN</td>\n",
       "      <td>NaN</td>\n",
       "      <td>NaN</td>\n",
       "      <td>NaN</td>\n",
       "    </tr>\n",
       "    <tr>\n",
       "      <th>2019-11-03</th>\n",
       "      <td>NaN</td>\n",
       "      <td>9235.354492</td>\n",
       "      <td>NaN</td>\n",
       "      <td>NaN</td>\n",
       "      <td>NaN</td>\n",
       "      <td>NaN</td>\n",
       "      <td>NaN</td>\n",
       "      <td>NaN</td>\n",
       "      <td>NaN</td>\n",
       "      <td>9235.354492</td>\n",
       "      <td>...</td>\n",
       "      <td>NaN</td>\n",
       "      <td>NaN</td>\n",
       "      <td>NaN</td>\n",
       "      <td>21132220847</td>\n",
       "      <td>NaN</td>\n",
       "      <td>NaN</td>\n",
       "      <td>NaN</td>\n",
       "      <td>NaN</td>\n",
       "      <td>NaN</td>\n",
       "      <td>NaN</td>\n",
       "    </tr>\n",
       "    <tr>\n",
       "      <th>2019-11-04</th>\n",
       "      <td>2975.489990</td>\n",
       "      <td>9412.612305</td>\n",
       "      <td>9565.0</td>\n",
       "      <td>97.510002</td>\n",
       "      <td>1291.369995</td>\n",
       "      <td>3078.270020</td>\n",
       "      <td>8433.200195</td>\n",
       "      <td>2130.239990</td>\n",
       "      <td>2975.489990</td>\n",
       "      <td>9412.612305</td>\n",
       "      <td>...</td>\n",
       "      <td>8445.500000</td>\n",
       "      <td>2111.320068</td>\n",
       "      <td>167200.0</td>\n",
       "      <td>26170255634</td>\n",
       "      <td>3453.0</td>\n",
       "      <td>0.0</td>\n",
       "      <td>1501000.0</td>\n",
       "      <td>4.146850e+09</td>\n",
       "      <td>2.149910e+09</td>\n",
       "      <td>476300.0</td>\n",
       "    </tr>\n",
       "  </tbody>\n",
       "</table>\n",
       "<p>5 rows × 48 columns</p>\n",
       "</div>"
      ],
      "text/plain": [
       "              Adj Close                                               \\\n",
       "              000001.SS      BTC-USD   BTC=F   DX-Y.NYB         GOOG   \n",
       "Date                                                                   \n",
       "2019-10-31          NaN  9199.584961  9305.0  97.349998  1260.109985   \n",
       "2019-11-01  2958.199951  9261.104492  9235.0  97.230003  1273.739990   \n",
       "2019-11-02          NaN  9324.717773     NaN        NaN          NaN   \n",
       "2019-11-03          NaN  9235.354492     NaN        NaN          NaN   \n",
       "2019-11-04  2975.489990  9412.612305  9565.0  97.510002  1291.369995   \n",
       "\n",
       "                                                         Close               \\\n",
       "                  ^GSPC        ^IXIC        ^KS11    000001.SS      BTC-USD   \n",
       "Date                                                                          \n",
       "2019-10-31  3037.560059  8292.360352          NaN          NaN  9199.584961   \n",
       "2019-11-01  3066.909912  8386.400391  2100.199951  2958.199951  9261.104492   \n",
       "2019-11-02          NaN          NaN          NaN          NaN  9324.717773   \n",
       "2019-11-03          NaN          NaN          NaN          NaN  9235.354492   \n",
       "2019-11-04  3078.270020  8433.200195  2130.239990  2975.489990  9412.612305   \n",
       "\n",
       "            ...         Open                 Volume                       \\\n",
       "            ...        ^IXIC        ^KS11 000001.SS      BTC-USD   BTC=F   \n",
       "Date        ...                                                            \n",
       "2019-10-31  ...  8314.379883          NaN       NaN  26583653946  2086.0   \n",
       "2019-11-01  ...  8335.049805  2084.790039  159900.0  24324691031  2641.0   \n",
       "2019-11-02  ...          NaN          NaN       NaN  21242676385     NaN   \n",
       "2019-11-03  ...          NaN          NaN       NaN  21132220847     NaN   \n",
       "2019-11-04  ...  8445.500000  2111.320068  167200.0  26170255634  3453.0   \n",
       "\n",
       "                                                                      \n",
       "           DX-Y.NYB       GOOG         ^GSPC         ^IXIC     ^KS11  \n",
       "Date                                                                  \n",
       "2019-10-31      0.0  1455700.0  4.139280e+09  2.258270e+09       NaN  \n",
       "2019-11-01      0.0  1670100.0  3.930200e+09  2.057310e+09  418300.0  \n",
       "2019-11-02      NaN        NaN           NaN           NaN       NaN  \n",
       "2019-11-03      NaN        NaN           NaN           NaN       NaN  \n",
       "2019-11-04      0.0  1501000.0  4.146850e+09  2.149910e+09  476300.0  \n",
       "\n",
       "[5 rows x 48 columns]"
      ]
     },
     "execution_count": 3,
     "metadata": {},
     "output_type": "execute_result"
    }
   ],
   "source": [
    "raw_df = stock_prices\n",
    "raw_df.head(5)"
   ]
  },
  {
   "cell_type": "code",
   "execution_count": 4,
   "metadata": {},
   "outputs": [],
   "source": [
    "raw_df['Date'] =  raw_df.index"
   ]
  },
  {
   "cell_type": "code",
   "execution_count": 5,
   "metadata": {},
   "outputs": [],
   "source": [
    "raw_df['Date'] = pd.to_datetime(raw_df['Date'])"
   ]
  },
  {
   "cell_type": "markdown",
   "metadata": {},
   "source": [
    "## Check features correlation with BITCOIN "
   ]
  },
  {
   "cell_type": "code",
   "execution_count": 6,
   "metadata": {
    "scrolled": true
   },
   "outputs": [
    {
     "data": {
      "text/html": [
       "<div>\n",
       "<style scoped>\n",
       "    .dataframe tbody tr th:only-of-type {\n",
       "        vertical-align: middle;\n",
       "    }\n",
       "\n",
       "    .dataframe tbody tr th {\n",
       "        vertical-align: top;\n",
       "    }\n",
       "\n",
       "    .dataframe thead th {\n",
       "        text-align: right;\n",
       "    }\n",
       "</style>\n",
       "<table border=\"1\" class=\"dataframe\">\n",
       "  <thead>\n",
       "    <tr style=\"text-align: right;\">\n",
       "      <th></th>\n",
       "      <th>000001.SS</th>\n",
       "      <th>BTC-USD</th>\n",
       "      <th>BTC=F</th>\n",
       "      <th>DX-Y.NYB</th>\n",
       "      <th>GOOG</th>\n",
       "      <th>^GSPC</th>\n",
       "      <th>^IXIC</th>\n",
       "      <th>^KS11</th>\n",
       "    </tr>\n",
       "  </thead>\n",
       "  <tbody>\n",
       "    <tr>\n",
       "      <th>000001.SS</th>\n",
       "      <td>1.000000</td>\n",
       "      <td>0.719462</td>\n",
       "      <td>0.719330</td>\n",
       "      <td>-0.901404</td>\n",
       "      <td>0.802687</td>\n",
       "      <td>0.770758</td>\n",
       "      <td>0.889007</td>\n",
       "      <td>0.824519</td>\n",
       "    </tr>\n",
       "    <tr>\n",
       "      <th>BTC-USD</th>\n",
       "      <td>0.719462</td>\n",
       "      <td>1.000000</td>\n",
       "      <td>0.998664</td>\n",
       "      <td>-0.758371</td>\n",
       "      <td>0.876463</td>\n",
       "      <td>0.730912</td>\n",
       "      <td>0.848654</td>\n",
       "      <td>0.774521</td>\n",
       "    </tr>\n",
       "    <tr>\n",
       "      <th>BTC=F</th>\n",
       "      <td>0.719330</td>\n",
       "      <td>0.998664</td>\n",
       "      <td>1.000000</td>\n",
       "      <td>-0.757875</td>\n",
       "      <td>0.875638</td>\n",
       "      <td>0.733168</td>\n",
       "      <td>0.847322</td>\n",
       "      <td>0.777914</td>\n",
       "    </tr>\n",
       "    <tr>\n",
       "      <th>DX-Y.NYB</th>\n",
       "      <td>-0.901404</td>\n",
       "      <td>-0.758371</td>\n",
       "      <td>-0.757875</td>\n",
       "      <td>1.000000</td>\n",
       "      <td>-0.776407</td>\n",
       "      <td>-0.782554</td>\n",
       "      <td>-0.881615</td>\n",
       "      <td>-0.857360</td>\n",
       "    </tr>\n",
       "    <tr>\n",
       "      <th>GOOG</th>\n",
       "      <td>0.802687</td>\n",
       "      <td>0.876463</td>\n",
       "      <td>0.875638</td>\n",
       "      <td>-0.776407</td>\n",
       "      <td>1.000000</td>\n",
       "      <td>0.895043</td>\n",
       "      <td>0.927778</td>\n",
       "      <td>0.878716</td>\n",
       "    </tr>\n",
       "    <tr>\n",
       "      <th>^GSPC</th>\n",
       "      <td>0.770758</td>\n",
       "      <td>0.730912</td>\n",
       "      <td>0.733168</td>\n",
       "      <td>-0.782554</td>\n",
       "      <td>0.895043</td>\n",
       "      <td>1.000000</td>\n",
       "      <td>0.855965</td>\n",
       "      <td>0.963131</td>\n",
       "    </tr>\n",
       "    <tr>\n",
       "      <th>^IXIC</th>\n",
       "      <td>0.889007</td>\n",
       "      <td>0.848654</td>\n",
       "      <td>0.847322</td>\n",
       "      <td>-0.881615</td>\n",
       "      <td>0.927778</td>\n",
       "      <td>0.855965</td>\n",
       "      <td>1.000000</td>\n",
       "      <td>0.880036</td>\n",
       "    </tr>\n",
       "    <tr>\n",
       "      <th>^KS11</th>\n",
       "      <td>0.824519</td>\n",
       "      <td>0.774521</td>\n",
       "      <td>0.777914</td>\n",
       "      <td>-0.857360</td>\n",
       "      <td>0.878716</td>\n",
       "      <td>0.963131</td>\n",
       "      <td>0.880036</td>\n",
       "      <td>1.000000</td>\n",
       "    </tr>\n",
       "  </tbody>\n",
       "</table>\n",
       "</div>"
      ],
      "text/plain": [
       "           000001.SS   BTC-USD     BTC=F  DX-Y.NYB      GOOG     ^GSPC  \\\n",
       "000001.SS   1.000000  0.719462  0.719330 -0.901404  0.802687  0.770758   \n",
       "BTC-USD     0.719462  1.000000  0.998664 -0.758371  0.876463  0.730912   \n",
       "BTC=F       0.719330  0.998664  1.000000 -0.757875  0.875638  0.733168   \n",
       "DX-Y.NYB   -0.901404 -0.758371 -0.757875  1.000000 -0.776407 -0.782554   \n",
       "GOOG        0.802687  0.876463  0.875638 -0.776407  1.000000  0.895043   \n",
       "^GSPC       0.770758  0.730912  0.733168 -0.782554  0.895043  1.000000   \n",
       "^IXIC       0.889007  0.848654  0.847322 -0.881615  0.927778  0.855965   \n",
       "^KS11       0.824519  0.774521  0.777914 -0.857360  0.878716  0.963131   \n",
       "\n",
       "              ^IXIC     ^KS11  \n",
       "000001.SS  0.889007  0.824519  \n",
       "BTC-USD    0.848654  0.774521  \n",
       "BTC=F      0.847322  0.777914  \n",
       "DX-Y.NYB  -0.881615 -0.857360  \n",
       "GOOG       0.927778  0.878716  \n",
       "^GSPC      0.855965  0.963131  \n",
       "^IXIC      1.000000  0.880036  \n",
       "^KS11      0.880036  1.000000  "
      ]
     },
     "execution_count": 6,
     "metadata": {},
     "output_type": "execute_result"
    }
   ],
   "source": [
    "stock_prices['Close'].corr()"
   ]
  },
  {
   "cell_type": "code",
   "execution_count": 7,
   "metadata": {},
   "outputs": [
    {
     "data": {
      "text/plain": [
       "<AxesSubplot:>"
      ]
     },
     "execution_count": 7,
     "metadata": {},
     "output_type": "execute_result"
    },
    {
     "data": {
      "image/png": "[encoded data removed]",
      "text/plain": [
       "<Figure size 432x288 with 2 Axes>"
      ]
     },
     "metadata": {
      "needs_background": "light"
     },
     "output_type": "display_data"
    }
   ],
   "source": [
    "sns.heatmap(stock_prices['Close'].corr())"
   ]
  },
  {
   "cell_type": "markdown",
   "metadata": {},
   "source": [
    "## Exploratory analysis"
   ]
  },
  {
   "cell_type": "raw",
   "metadata": {
    "scrolled": true
   },
   "source": [
    "data = raw_df['Close']['BTC-USD']\n",
    "plt.plot(data)\n",
    "\n",
    "plt.title('Bitcoin price over time')\n",
    "plt.xlabel('date')\n",
    "plt.ylabel('Price in $')\n",
    "plt.show()"
   ]
  },
  {
   "cell_type": "raw",
   "metadata": {
    "scrolled": true
   },
   "source": [
    "data = raw_df['Volume']['BTC-USD']\n",
    "plt.plot(data)\n",
    "\n",
    "plt.title('Bitcoin volume over time')\n",
    "plt.xlabel('date')\n",
    "plt.ylabel('Price in $')\n",
    "plt.show()"
   ]
  },
  {
   "cell_type": "markdown",
   "metadata": {},
   "source": [
    "## formatting data - from yahoo finance"
   ]
  },
  {
   "cell_type": "code",
   "execution_count": 8,
   "metadata": {},
   "outputs": [],
   "source": [
    "def get_data(indices,keys):\n",
    "    a =[(key,index) for key in keys for index in indices]\n",
    "    return raw_df[a] "
   ]
  },
  {
   "cell_type": "code",
   "execution_count": 9,
   "metadata": {},
   "outputs": [],
   "source": [
    "####### INCLUDE NEW FEATURES HERE ####### \n",
    "df = get_data(['BTC-USD','^GSPC','DX-Y.NYB','^IXIC','GOOG','BTC=F','^KS11','000001.SS'],['Close','High','Low','Volume'])  "
   ]
  },
  {
   "cell_type": "code",
   "execution_count": 10,
   "metadata": {},
   "outputs": [
    {
     "data": {
      "text/html": [
       "<div>\n",
       "<style scoped>\n",
       "    .dataframe tbody tr th:only-of-type {\n",
       "        vertical-align: middle;\n",
       "    }\n",
       "\n",
       "    .dataframe tbody tr th {\n",
       "        vertical-align: top;\n",
       "    }\n",
       "\n",
       "    .dataframe thead tr th {\n",
       "        text-align: left;\n",
       "    }\n",
       "\n",
       "    .dataframe thead tr:last-of-type th {\n",
       "        text-align: right;\n",
       "    }\n",
       "</style>\n",
       "<table border=\"1\" class=\"dataframe\">\n",
       "  <thead>\n",
       "    <tr>\n",
       "      <th></th>\n",
       "      <th colspan=\"8\" halign=\"left\">Close</th>\n",
       "      <th colspan=\"2\" halign=\"left\">High</th>\n",
       "      <th>...</th>\n",
       "      <th colspan=\"2\" halign=\"left\">Low</th>\n",
       "      <th colspan=\"8\" halign=\"left\">Volume</th>\n",
       "    </tr>\n",
       "    <tr>\n",
       "      <th></th>\n",
       "      <th>BTC-USD</th>\n",
       "      <th>^GSPC</th>\n",
       "      <th>DX-Y.NYB</th>\n",
       "      <th>^IXIC</th>\n",
       "      <th>GOOG</th>\n",
       "      <th>BTC=F</th>\n",
       "      <th>^KS11</th>\n",
       "      <th>000001.SS</th>\n",
       "      <th>BTC-USD</th>\n",
       "      <th>^GSPC</th>\n",
       "      <th>...</th>\n",
       "      <th>^KS11</th>\n",
       "      <th>000001.SS</th>\n",
       "      <th>BTC-USD</th>\n",
       "      <th>^GSPC</th>\n",
       "      <th>DX-Y.NYB</th>\n",
       "      <th>^IXIC</th>\n",
       "      <th>GOOG</th>\n",
       "      <th>BTC=F</th>\n",
       "      <th>^KS11</th>\n",
       "      <th>000001.SS</th>\n",
       "    </tr>\n",
       "    <tr>\n",
       "      <th>Date</th>\n",
       "      <th></th>\n",
       "      <th></th>\n",
       "      <th></th>\n",
       "      <th></th>\n",
       "      <th></th>\n",
       "      <th></th>\n",
       "      <th></th>\n",
       "      <th></th>\n",
       "      <th></th>\n",
       "      <th></th>\n",
       "      <th></th>\n",
       "      <th></th>\n",
       "      <th></th>\n",
       "      <th></th>\n",
       "      <th></th>\n",
       "      <th></th>\n",
       "      <th></th>\n",
       "      <th></th>\n",
       "      <th></th>\n",
       "      <th></th>\n",
       "      <th></th>\n",
       "    </tr>\n",
       "  </thead>\n",
       "  <tbody>\n",
       "    <tr>\n",
       "      <th>2019-10-31</th>\n",
       "      <td>9199.584961</td>\n",
       "      <td>3037.560059</td>\n",
       "      <td>97.349998</td>\n",
       "      <td>8292.360352</td>\n",
       "      <td>1260.109985</td>\n",
       "      <td>9305.0</td>\n",
       "      <td>NaN</td>\n",
       "      <td>NaN</td>\n",
       "      <td>9383.161133</td>\n",
       "      <td>3046.899902</td>\n",
       "      <td>...</td>\n",
       "      <td>NaN</td>\n",
       "      <td>NaN</td>\n",
       "      <td>26583653946</td>\n",
       "      <td>4.139280e+09</td>\n",
       "      <td>0.0</td>\n",
       "      <td>2.258270e+09</td>\n",
       "      <td>1455700.0</td>\n",
       "      <td>2086.0</td>\n",
       "      <td>NaN</td>\n",
       "      <td>NaN</td>\n",
       "    </tr>\n",
       "    <tr>\n",
       "      <th>2019-11-01</th>\n",
       "      <td>9261.104492</td>\n",
       "      <td>3066.909912</td>\n",
       "      <td>97.230003</td>\n",
       "      <td>8386.400391</td>\n",
       "      <td>1273.739990</td>\n",
       "      <td>9235.0</td>\n",
       "      <td>2100.199951</td>\n",
       "      <td>2958.199951</td>\n",
       "      <td>9275.657227</td>\n",
       "      <td>3066.949951</td>\n",
       "      <td>...</td>\n",
       "      <td>2081.530029</td>\n",
       "      <td>2917.149902</td>\n",
       "      <td>24324691031</td>\n",
       "      <td>3.930200e+09</td>\n",
       "      <td>0.0</td>\n",
       "      <td>2.057310e+09</td>\n",
       "      <td>1670100.0</td>\n",
       "      <td>2641.0</td>\n",
       "      <td>418300.0</td>\n",
       "      <td>159900.0</td>\n",
       "    </tr>\n",
       "    <tr>\n",
       "      <th>2019-11-02</th>\n",
       "      <td>9324.717773</td>\n",
       "      <td>NaN</td>\n",
       "      <td>NaN</td>\n",
       "      <td>NaN</td>\n",
       "      <td>NaN</td>\n",
       "      <td>NaN</td>\n",
       "      <td>NaN</td>\n",
       "      <td>NaN</td>\n",
       "      <td>9377.486328</td>\n",
       "      <td>NaN</td>\n",
       "      <td>...</td>\n",
       "      <td>NaN</td>\n",
       "      <td>NaN</td>\n",
       "      <td>21242676385</td>\n",
       "      <td>NaN</td>\n",
       "      <td>NaN</td>\n",
       "      <td>NaN</td>\n",
       "      <td>NaN</td>\n",
       "      <td>NaN</td>\n",
       "      <td>NaN</td>\n",
       "      <td>NaN</td>\n",
       "    </tr>\n",
       "  </tbody>\n",
       "</table>\n",
       "<p>3 rows × 32 columns</p>\n",
       "</div>"
      ],
      "text/plain": [
       "                  Close                                                    \\\n",
       "                BTC-USD        ^GSPC   DX-Y.NYB        ^IXIC         GOOG   \n",
       "Date                                                                        \n",
       "2019-10-31  9199.584961  3037.560059  97.349998  8292.360352  1260.109985   \n",
       "2019-11-01  9261.104492  3066.909912  97.230003  8386.400391  1273.739990   \n",
       "2019-11-02  9324.717773          NaN        NaN          NaN          NaN   \n",
       "\n",
       "                                                     High               ...  \\\n",
       "             BTC=F        ^KS11    000001.SS      BTC-USD        ^GSPC  ...   \n",
       "Date                                                                    ...   \n",
       "2019-10-31  9305.0          NaN          NaN  9383.161133  3046.899902  ...   \n",
       "2019-11-01  9235.0  2100.199951  2958.199951  9275.657227  3066.949951  ...   \n",
       "2019-11-02     NaN          NaN          NaN  9377.486328          NaN  ...   \n",
       "\n",
       "                    Low                    Volume                         \\\n",
       "                  ^KS11    000001.SS      BTC-USD         ^GSPC DX-Y.NYB   \n",
       "Date                                                                       \n",
       "2019-10-31          NaN          NaN  26583653946  4.139280e+09      0.0   \n",
       "2019-11-01  2081.530029  2917.149902  24324691031  3.930200e+09      0.0   \n",
       "2019-11-02          NaN          NaN  21242676385           NaN      NaN   \n",
       "\n",
       "                                                                 \n",
       "                   ^IXIC       GOOG   BTC=F     ^KS11 000001.SS  \n",
       "Date                                                             \n",
       "2019-10-31  2.258270e+09  1455700.0  2086.0       NaN       NaN  \n",
       "2019-11-01  2.057310e+09  1670100.0  2641.0  418300.0  159900.0  \n",
       "2019-11-02           NaN        NaN     NaN       NaN       NaN  \n",
       "\n",
       "[3 rows x 32 columns]"
      ]
     },
     "execution_count": 10,
     "metadata": {},
     "output_type": "execute_result"
    }
   ],
   "source": [
    "df.head(3)"
   ]
  },
  {
   "cell_type": "markdown",
   "metadata": {},
   "source": [
    "## Data preprossesing"
   ]
  },
  {
   "cell_type": "markdown",
   "metadata": {},
   "source": [
    "### getting rid of NaNs"
   ]
  },
  {
   "cell_type": "code",
   "execution_count": 11,
   "metadata": {},
   "outputs": [],
   "source": [
    "df = df.fillna(method='ffill')"
   ]
  },
  {
   "cell_type": "markdown",
   "metadata": {},
   "source": [
    "### calculating percentage change of btc_price"
   ]
  },
  {
   "cell_type": "code",
   "execution_count": 12,
   "metadata": {},
   "outputs": [],
   "source": [
    "df['percentage_change_price'] = df['Close']['BTC-USD'].pct_change()"
   ]
  },
  {
   "cell_type": "raw",
   "metadata": {
    "scrolled": false
   },
   "source": [
    "df.head(2)"
   ]
  },
  {
   "cell_type": "code",
   "execution_count": 13,
   "metadata": {
    "scrolled": false
   },
   "outputs": [
    {
     "data": {
      "text/plain": [
       "True     208\n",
       "False    182\n",
       "Name: percentage_change_price, dtype: int64"
      ]
     },
     "execution_count": 13,
     "metadata": {},
     "output_type": "execute_result"
    }
   ],
   "source": [
    "####### CHECK UNBALANCED DATA SET ########\n",
    "(df['percentage_change_price']>0).value_counts()"
   ]
  },
  {
   "cell_type": "markdown",
   "metadata": {},
   "source": [
    "## Transform Date"
   ]
  },
  {
   "cell_type": "code",
   "execution_count": 14,
   "metadata": {},
   "outputs": [
    {
     "data": {
      "text/plain": [
       "MultiIndex(levels=[['Adj Close', 'Close', 'High', 'Low', 'Open', 'Volume', 'Date', 'percentage_change_price'], ['000001.SS', 'BTC-USD', 'BTC=F', 'DX-Y.NYB', 'GOOG', '^GSPC', '^IXIC', '^KS11', '']],\n",
       "           codes=[[1, 1, 1, 1, 1, 1, 1, 1, 2, 2, 2, 2, 2, 2, 2, 2, 3, 3, 3, 3, 3, 3, 3, 3, 5, 5, 5, 5, 5, 5, 5, 5, 7], [1, 5, 3, 6, 4, 2, 7, 0, 1, 5, 3, 6, 4, 2, 7, 0, 1, 5, 3, 6, 4, 2, 7, 0, 1, 5, 3, 6, 4, 2, 7, 0, 8]])"
      ]
     },
     "execution_count": 14,
     "metadata": {},
     "output_type": "execute_result"
    }
   ],
   "source": [
    "df.columns"
   ]
  },
  {
   "cell_type": "code",
   "execution_count": 15,
   "metadata": {},
   "outputs": [
    {
     "data": {
      "text/plain": [
       "['Close_BTC-USD',\n",
       " 'Close_^GSPC',\n",
       " 'Close_DX-Y.NYB',\n",
       " 'Close_^IXIC',\n",
       " 'Close_GOOG',\n",
       " 'Close_BTC=F',\n",
       " 'Close_^KS11',\n",
       " 'Close_000001.SS',\n",
       " 'High_BTC-USD',\n",
       " 'High_^GSPC',\n",
       " 'High_DX-Y.NYB',\n",
       " 'High_^IXIC',\n",
       " 'High_GOOG',\n",
       " 'High_BTC=F',\n",
       " 'High_^KS11',\n",
       " 'High_000001.SS',\n",
       " 'Low_BTC-USD',\n",
       " 'Low_^GSPC',\n",
       " 'Low_DX-Y.NYB',\n",
       " 'Low_^IXIC',\n",
       " 'Low_GOOG',\n",
       " 'Low_BTC=F',\n",
       " 'Low_^KS11',\n",
       " 'Low_000001.SS',\n",
       " 'Volume_BTC-USD',\n",
       " 'Volume_^GSPC',\n",
       " 'Volume_DX-Y.NYB',\n",
       " 'Volume_^IXIC',\n",
       " 'Volume_GOOG',\n",
       " 'Volume_BTC=F',\n",
       " 'Volume_^KS11',\n",
       " 'Volume_000001.SS',\n",
       " 'percentage_change_price_']"
      ]
     },
     "execution_count": 15,
     "metadata": {},
     "output_type": "execute_result"
    }
   ],
   "source": [
    "new_colum_names = []\n",
    "for el1, el2 in df.columns:\n",
    "    new_colum_names.append(el1 + \"_\" + el2)\n",
    "new_colum_names"
   ]
  },
  {
   "cell_type": "code",
   "execution_count": 16,
   "metadata": {},
   "outputs": [],
   "source": [
    "df.columns = new_colum_names"
   ]
  },
  {
   "cell_type": "code",
   "execution_count": 17,
   "metadata": {},
   "outputs": [],
   "source": [
    "df['Date'] = df.index"
   ]
  },
  {
   "cell_type": "code",
   "execution_count": 18,
   "metadata": {
    "scrolled": true
   },
   "outputs": [],
   "source": [
    "df['Date'] = pd.to_datetime(df['Date'])\n",
    "df['month'] = df['Date'].dt.month\n",
    "\n",
    "df['year'] = df['Date'].dt.year"
   ]
  },
  {
   "cell_type": "raw",
   "metadata": {},
   "source": [
    "# No need -> Endoding : date - TBC\n",
    "month_dummies = pd.get_dummies(df['month'])\n",
    "df = pd.concat([df, month_dummies], axis=1)\n"
   ]
  },
  {
   "cell_type": "code",
   "execution_count": 19,
   "metadata": {},
   "outputs": [
    {
     "data": {
      "text/html": [
       "<div>\n",
       "<style scoped>\n",
       "    .dataframe tbody tr th:only-of-type {\n",
       "        vertical-align: middle;\n",
       "    }\n",
       "\n",
       "    .dataframe tbody tr th {\n",
       "        vertical-align: top;\n",
       "    }\n",
       "\n",
       "    .dataframe thead th {\n",
       "        text-align: right;\n",
       "    }\n",
       "</style>\n",
       "<table border=\"1\" class=\"dataframe\">\n",
       "  <thead>\n",
       "    <tr style=\"text-align: right;\">\n",
       "      <th></th>\n",
       "      <th>Close_BTC-USD</th>\n",
       "      <th>Close_^GSPC</th>\n",
       "      <th>Close_DX-Y.NYB</th>\n",
       "      <th>Close_^IXIC</th>\n",
       "      <th>Close_GOOG</th>\n",
       "      <th>Close_BTC=F</th>\n",
       "      <th>Close_^KS11</th>\n",
       "      <th>Close_000001.SS</th>\n",
       "      <th>High_BTC-USD</th>\n",
       "      <th>High_^GSPC</th>\n",
       "      <th>...</th>\n",
       "      <th>Volume_^IXIC</th>\n",
       "      <th>Volume_GOOG</th>\n",
       "      <th>Volume_BTC=F</th>\n",
       "      <th>Volume_^KS11</th>\n",
       "      <th>Volume_000001.SS</th>\n",
       "      <th>percentage_change_price_</th>\n",
       "      <th>Date</th>\n",
       "      <th>month</th>\n",
       "      <th>year</th>\n",
       "      <th>delta_binary</th>\n",
       "    </tr>\n",
       "    <tr>\n",
       "      <th>Date</th>\n",
       "      <th></th>\n",
       "      <th></th>\n",
       "      <th></th>\n",
       "      <th></th>\n",
       "      <th></th>\n",
       "      <th></th>\n",
       "      <th></th>\n",
       "      <th></th>\n",
       "      <th></th>\n",
       "      <th></th>\n",
       "      <th></th>\n",
       "      <th></th>\n",
       "      <th></th>\n",
       "      <th></th>\n",
       "      <th></th>\n",
       "      <th></th>\n",
       "      <th></th>\n",
       "      <th></th>\n",
       "      <th></th>\n",
       "      <th></th>\n",
       "      <th></th>\n",
       "    </tr>\n",
       "  </thead>\n",
       "  <tbody>\n",
       "    <tr>\n",
       "      <th>2019-10-31</th>\n",
       "      <td>9199.584961</td>\n",
       "      <td>3037.560059</td>\n",
       "      <td>97.349998</td>\n",
       "      <td>8292.360352</td>\n",
       "      <td>1260.109985</td>\n",
       "      <td>9305.0</td>\n",
       "      <td>NaN</td>\n",
       "      <td>NaN</td>\n",
       "      <td>9383.161133</td>\n",
       "      <td>3046.899902</td>\n",
       "      <td>...</td>\n",
       "      <td>2.258270e+09</td>\n",
       "      <td>1455700.0</td>\n",
       "      <td>2086.0</td>\n",
       "      <td>NaN</td>\n",
       "      <td>NaN</td>\n",
       "      <td>NaN</td>\n",
       "      <td>2019-10-31</td>\n",
       "      <td>10</td>\n",
       "      <td>2019</td>\n",
       "      <td>0</td>\n",
       "    </tr>\n",
       "    <tr>\n",
       "      <th>2019-11-01</th>\n",
       "      <td>9261.104492</td>\n",
       "      <td>3066.909912</td>\n",
       "      <td>97.230003</td>\n",
       "      <td>8386.400391</td>\n",
       "      <td>1273.739990</td>\n",
       "      <td>9235.0</td>\n",
       "      <td>2100.199951</td>\n",
       "      <td>2958.199951</td>\n",
       "      <td>9275.657227</td>\n",
       "      <td>3066.949951</td>\n",
       "      <td>...</td>\n",
       "      <td>2.057310e+09</td>\n",
       "      <td>1670100.0</td>\n",
       "      <td>2641.0</td>\n",
       "      <td>418300.0</td>\n",
       "      <td>159900.0</td>\n",
       "      <td>0.006687</td>\n",
       "      <td>2019-11-01</td>\n",
       "      <td>11</td>\n",
       "      <td>2019</td>\n",
       "      <td>1</td>\n",
       "    </tr>\n",
       "  </tbody>\n",
       "</table>\n",
       "<p>2 rows × 37 columns</p>\n",
       "</div>"
      ],
      "text/plain": [
       "            Close_BTC-USD  Close_^GSPC  Close_DX-Y.NYB  Close_^IXIC  \\\n",
       "Date                                                                  \n",
       "2019-10-31    9199.584961  3037.560059       97.349998  8292.360352   \n",
       "2019-11-01    9261.104492  3066.909912       97.230003  8386.400391   \n",
       "\n",
       "             Close_GOOG  Close_BTC=F  Close_^KS11  Close_000001.SS  \\\n",
       "Date                                                                 \n",
       "2019-10-31  1260.109985       9305.0          NaN              NaN   \n",
       "2019-11-01  1273.739990       9235.0  2100.199951      2958.199951   \n",
       "\n",
       "            High_BTC-USD   High_^GSPC  ...  Volume_^IXIC  Volume_GOOG  \\\n",
       "Date                                   ...                              \n",
       "2019-10-31   9383.161133  3046.899902  ...  2.258270e+09    1455700.0   \n",
       "2019-11-01   9275.657227  3066.949951  ...  2.057310e+09    1670100.0   \n",
       "\n",
       "            Volume_BTC=F  Volume_^KS11  Volume_000001.SS  \\\n",
       "Date                                                       \n",
       "2019-10-31        2086.0           NaN               NaN   \n",
       "2019-11-01        2641.0      418300.0          159900.0   \n",
       "\n",
       "            percentage_change_price_       Date  month  year  delta_binary  \n",
       "Date                                                                        \n",
       "2019-10-31                       NaN 2019-10-31     10  2019             0  \n",
       "2019-11-01                  0.006687 2019-11-01     11  2019             1  \n",
       "\n",
       "[2 rows x 37 columns]"
      ]
     },
     "execution_count": 19,
     "metadata": {},
     "output_type": "execute_result"
    }
   ],
   "source": [
    "# Define percentage change in price column\n",
    "df['delta_binary'] = df.percentage_change_price_>0\n",
    "df['delta_binary'] = df['delta_binary'].astype(int)\n",
    "df.head(2)"
   ]
  },
  {
   "cell_type": "code",
   "execution_count": 20,
   "metadata": {},
   "outputs": [
    {
     "data": {
      "text/html": [
       "<div>\n",
       "<style scoped>\n",
       "    .dataframe tbody tr th:only-of-type {\n",
       "        vertical-align: middle;\n",
       "    }\n",
       "\n",
       "    .dataframe tbody tr th {\n",
       "        vertical-align: top;\n",
       "    }\n",
       "\n",
       "    .dataframe thead th {\n",
       "        text-align: right;\n",
       "    }\n",
       "</style>\n",
       "<table border=\"1\" class=\"dataframe\">\n",
       "  <thead>\n",
       "    <tr style=\"text-align: right;\">\n",
       "      <th></th>\n",
       "      <th>percentage_change_price_</th>\n",
       "      <th>delta_binary</th>\n",
       "    </tr>\n",
       "    <tr>\n",
       "      <th>Date</th>\n",
       "      <th></th>\n",
       "      <th></th>\n",
       "    </tr>\n",
       "  </thead>\n",
       "  <tbody>\n",
       "    <tr>\n",
       "      <th>2019-10-31</th>\n",
       "      <td>NaN</td>\n",
       "      <td>0</td>\n",
       "    </tr>\n",
       "    <tr>\n",
       "      <th>2019-11-01</th>\n",
       "      <td>0.006687</td>\n",
       "      <td>1</td>\n",
       "    </tr>\n",
       "  </tbody>\n",
       "</table>\n",
       "</div>"
      ],
      "text/plain": [
       "            percentage_change_price_  delta_binary\n",
       "Date                                              \n",
       "2019-10-31                       NaN             0\n",
       "2019-11-01                  0.006687             1"
      ]
     },
     "execution_count": 20,
     "metadata": {},
     "output_type": "execute_result"
    }
   ],
   "source": [
    "df[['percentage_change_price_','delta_binary']].head(2)"
   ]
  },
  {
   "cell_type": "raw",
   "metadata": {},
   "source": [
    "# No need to do that anymore\n",
    "df = df.rename(columns={ 1:\"m_1\", 2: \"m_2\", 3 : \"m_3\", 4 : \"m_4\", 5: 'm_5\"', 6: \"m_6\", 7: \"m_7\", 8: \"m_8\",\\\n",
    "                    9: \"m_9\",10 : \"m_10\",11 : \"m_11\", 12 : \"m_12\"})"
   ]
  },
  {
   "cell_type": "code",
   "execution_count": 21,
   "metadata": {
    "scrolled": true
   },
   "outputs": [
    {
     "data": {
      "text/plain": [
       "Index(['Close_BTC-USD', 'Close_^GSPC', 'Close_DX-Y.NYB', 'Close_^IXIC',\n",
       "       'Close_GOOG', 'Close_BTC=F', 'Close_^KS11', 'Close_000001.SS',\n",
       "       'High_BTC-USD', 'High_^GSPC', 'High_DX-Y.NYB', 'High_^IXIC',\n",
       "       'High_GOOG', 'High_BTC=F', 'High_^KS11', 'High_000001.SS',\n",
       "       'Low_BTC-USD', 'Low_^GSPC', 'Low_DX-Y.NYB', 'Low_^IXIC', 'Low_GOOG',\n",
       "       'Low_BTC=F', 'Low_^KS11', 'Low_000001.SS', 'Volume_BTC-USD',\n",
       "       'Volume_^GSPC', 'Volume_DX-Y.NYB', 'Volume_^IXIC', 'Volume_GOOG',\n",
       "       'Volume_BTC=F', 'Volume_^KS11', 'Volume_000001.SS',\n",
       "       'percentage_change_price_', 'Date', 'month', 'year'],\n",
       "      dtype='object')"
      ]
     },
     "execution_count": 21,
     "metadata": {},
     "output_type": "execute_result"
    }
   ],
   "source": [
    "scaled_names = df.columns[:-1]\n",
    "scaled_names"
   ]
  },
  {
   "cell_type": "markdown",
   "metadata": {},
   "source": [
    "## Data Sampling"
   ]
  },
  {
   "cell_type": "markdown",
   "metadata": {},
   "source": [
    "- Out of this very long time-series, we will subsample it into shorter samples, each corresponding to one sequence of data  𝑋𝑖  with its corresponding prediction  𝑦𝑖 .\n",
    "- get_sample -> function to get this random sample\n",
    "\n",
    "Note:\n",
    "  \n",
    "  - **length** corresponds to the lenght of the observed sequence\n",
    "  - **temporal_horizon** corresponds to the number of days between your last seen stock market value and the day you are trying to predict. -> in our case we want to predict for now the day after so tempor_horizon =1"
   ]
  },
  {
   "cell_type": "raw",
   "metadata": {
    "scrolled": false
   },
   "source": [
    "df.shape"
   ]
  },
  {
   "cell_type": "code",
   "execution_count": 22,
   "metadata": {
    "scrolled": true
   },
   "outputs": [],
   "source": [
    "\n",
    "def get_sample(df, length, temporal_horizon, random_start):\n",
    "    features = [col_name for col_name in df.columns if col_name not in {'Date', 'Close_BTC-USD','delta_binary',\n",
    "                                                                        'percentage_change_price_'} ]\n",
    "    \n",
    "    temporal_horizon = temporal_horizon - 1\n",
    "    last_possible = df.shape[0] - temporal_horizon - length\n",
    "\n",
    "    X_sample = df[features].iloc[random_start: random_start+length].values ## we need to say which features we are using??!\n",
    "    y_sample = df['delta_binary'].iloc[random_start+length+temporal_horizon]\n",
    "    y_before = df['delta_binary'].iloc[random_start+length+temporal_horizon-1]\n",
    "   \n",
    "    return X_sample, y_sample, y_before"
   ]
  },
  {
   "cell_type": "markdown",
   "metadata": {},
   "source": [
    "get_sample(df,1,1)"
   ]
  },
  {
   "cell_type": "markdown",
   "metadata": {},
   "source": [
    "For instance, get_sample(df, 10, 3) returns a first list of **10 stock market values**, and a second value which is the stock market value 3 days after the last seen value."
   ]
  },
  {
   "cell_type": "markdown",
   "metadata": {},
   "source": [
    "## Dataset construction"
   ]
  },
  {
   "cell_type": "markdown",
   "metadata": {},
   "source": [
    "The previous function creates a sample (𝑋𝑖,𝑦𝑖) . If we repeat this operation, we will get multiple samples, that once concatenated will correspond to our entire dataset (𝑋,𝑦) .\n",
    "\n",
    "Create a function get_X_y(data, temporal_horizon, length_of_sequences) that create this dataset.\n",
    "\n",
    "- data corresponds to your input data\n",
    "- temporal_horizon is the number of days between the last seen value and the predicted one\n",
    "- length_of_sequences is a list that corresponds to the length of each sample 𝑋𝑖 : [len(X_1), len(X_2), len(X_3), ..., ] as that each sequence 𝑋𝑖 has no reason to be of the same length as the other one.\n",
    "\n",
    "Hint: This function should use get_sample"
   ]
  },
  {
   "cell_type": "code",
   "execution_count": 23,
   "metadata": {},
   "outputs": [],
   "source": [
    "# create a matrix\n",
    "def get_X_y(df, temporal_horizon, length_of_sequences, start_of_sequences):\n",
    "    X, y, y_before = [], [], []\n",
    "    \n",
    "    #import ipdb;ipdb.set_trace()\n",
    "\n",
    "    for start in start_of_sequences:\n",
    "        xi, yi, y_bi = get_sample(df, length_of_sequences, temporal_horizon, start)\n",
    "        X.append(xi)\n",
    "        y.append(yi)\n",
    "        y_before.append(y_bi)\n",
    "        \n",
    "    return X, np.array(y), np.array(y_before)"
   ]
  },
  {
   "cell_type": "markdown",
   "metadata": {},
   "source": [
    " - Write a function given a dataframe, a temporal horizon and a list of sequence length outputs the padded train and test set.\n",
    " - To have a batch_size larger than one, we need to **pad** our data_ purely engineering reason\n",
    " "
   ]
  },
  {
   "cell_type": "code",
   "execution_count": 24,
   "metadata": {},
   "outputs": [],
   "source": [
    "from sklearn.model_selection import train_test_split\n",
    "\n",
    "def generate_data(df_train, df_test, temporal_horizon, length_of_sequences):\n",
    "    \n",
    "    np.random.seed(0)\n",
    "    # Train \n",
    "    last_possible = df_train.shape[0] - temporal_horizon - length_of_sequences\n",
    "    random_start = np.random.randint(0, last_possible)\n",
    "    \n",
    "    start_of_sequences_train = np.random.randint(0, last_possible, df_train.shape[0])\n",
    "    \n",
    "    X_train, y_train, y_b_train = get_X_y(df_train, temporal_horizon, length_of_sequences, start_of_sequences_train)\n",
    "    X_train = pad_sequences(X_train, padding='post', dtype='float32')\n",
    "   \n",
    "    # Test\n",
    "    last_possible = df_test.shape[0] - temporal_horizon - length_of_sequences\n",
    "    random_start = np.random.randint(0, last_possible)\n",
    "    \n",
    "    start_of_sequences_test = np.random.randint(0, last_possible, df_test.shape[0])\n",
    "    \n",
    "    X_test, y_test, y_b_test = get_X_y(df_test, temporal_horizon, length_of_sequences, start_of_sequences_test)\n",
    "    X_test = pad_sequences(X_test, padding='post', dtype='float32')\n",
    "    \n",
    "    return X_train, X_test, y_train, y_test, y_b_test, y_b_train"
   ]
  },
  {
   "cell_type": "code",
   "execution_count": 25,
   "metadata": {},
   "outputs": [],
   "source": [
    "#generate_data(df_train, df_test, 1, 10)[0]"
   ]
  },
  {
   "cell_type": "code",
   "execution_count": 26,
   "metadata": {},
   "outputs": [],
   "source": [
    "#old - generate_data(df_train, df_test, temporal_horizon, min_len, max_len)[0].shape"
   ]
  },
  {
   "cell_type": "markdown",
   "metadata": {},
   "source": [
    "- Generate data with a temporal horizon of 1 days, and 100 time-series of 10 to 10 seen days ."
   ]
  },
  {
   "cell_type": "markdown",
   "metadata": {},
   "source": [
    "## Split data"
   ]
  },
  {
   "cell_type": "code",
   "execution_count": 27,
   "metadata": {},
   "outputs": [],
   "source": [
    "from tensorflow.keras.preprocessing.sequence import pad_sequences\n",
    "\n",
    "# Splitting 80/20\n",
    "start = 1 # do a for loop\n",
    "index = round((len(df)-start)*.8)\n",
    "\n",
    "# Past\n",
    "df_train = df.iloc[start:index+start]\n",
    "\n",
    "#Future\n",
    "df_test = df.iloc[start+index:]\n",
    "\n",
    "\n",
    "temporal_horizon = 1 # -> predict the day after\n",
    "min_len = 7\n",
    "max_len = 8\n",
    "\n",
    "length_of_sequences = 7\n",
    "\n",
    "#(group 10 days,group of 20 days , # observations each time)\n"
   ]
  },
  {
   "cell_type": "code",
   "execution_count": 28,
   "metadata": {},
   "outputs": [],
   "source": [
    "#df.head(2)"
   ]
  },
  {
   "cell_type": "code",
   "execution_count": 29,
   "metadata": {
    "scrolled": true
   },
   "outputs": [],
   "source": [
    "df_test = df_test.drop(columns = 'Date')\n",
    "df = df.drop(columns = ['Date'])"
   ]
  },
  {
   "cell_type": "code",
   "execution_count": 30,
   "metadata": {},
   "outputs": [],
   "source": [
    "df_train = df_train.drop(columns = 'Date')"
   ]
  },
  {
   "cell_type": "markdown",
   "metadata": {},
   "source": [
    "df_test.dtypes"
   ]
  },
  {
   "cell_type": "code",
   "execution_count": null,
   "metadata": {},
   "outputs": [],
   "source": []
  },
  {
   "cell_type": "markdown",
   "metadata": {},
   "source": [
    "## Feature scaling"
   ]
  },
  {
   "cell_type": "markdown",
   "metadata": {},
   "source": [
    "##### Fetaure scaling: only on train data ######"
   ]
  },
  {
   "cell_type": "raw",
   "metadata": {},
   "source": [
    "df.columns"
   ]
  },
  {
   "cell_type": "raw",
   "metadata": {},
   "source": [
    "df_test.shape,df_train.shape"
   ]
  },
  {
   "cell_type": "code",
   "execution_count": 31,
   "metadata": {
    "scrolled": true
   },
   "outputs": [
    {
     "name": "stderr",
     "output_type": "stream",
     "text": [
      "/Users/augustvonoppenheim/.pyenv/versions/3.7.7/envs/lewagon/lib/python3.7/site-packages/sklearn/preprocessing/data.py:334: DataConversionWarning: Data with input dtype int64, float64 were all converted to float64 by MinMaxScaler.\n",
      "  return self.partial_fit(X, y)\n"
     ]
    }
   ],
   "source": [
    "# Scaling: MinMaxScaler\n",
    "from sklearn.preprocessing import MinMaxScaler\n",
    "\n",
    "#features_list = [col_name for col_name in df.columns if col_name not in {'Date', 'Close'} ]\n",
    "\n",
    "# normalizing features\n",
    "normalizer_features = MinMaxScaler()\n",
    "normalizer_features.fit(df_train)\n",
    "scaled_df = pd.DataFrame(normalizer_features.transform(df))\n",
    "\n",
    "# mormalizing output/target\n",
    "#normalizer_output = MinMaxScaler()\n",
    "#normalizer_output.fit(df_train[['percentage_change_price']])\n",
    "#scaled_df['percentage_change_price'] = normalizer_output.transform(df[['percentage_change_price']])\n",
    "scaled_df['delta_binary'] = df.reset_index()[['delta_binary']]\n",
    "\n",
    "# not normalizing, uncomment this\n",
    "# scaled_df = df"
   ]
  },
  {
   "cell_type": "raw",
   "metadata": {
    "scrolled": true
   },
   "source": [
    "scaled_df['delta_binary']"
   ]
  },
  {
   "cell_type": "raw",
   "metadata": {},
   "source": [
    "scaled_df.head(5)"
   ]
  },
  {
   "cell_type": "markdown",
   "metadata": {},
   "source": [
    "## Generate data sequences"
   ]
  },
  {
   "cell_type": "raw",
   "metadata": {},
   "source": [
    "scaled_df.head(1)"
   ]
  },
  {
   "cell_type": "code",
   "execution_count": 32,
   "metadata": {},
   "outputs": [],
   "source": [
    "scaled_df_train, scaled_df_test = scaled_df.iloc[start:(index+start)], scaled_df.iloc[start+index:]"
   ]
  },
  {
   "cell_type": "code",
   "execution_count": 33,
   "metadata": {},
   "outputs": [],
   "source": [
    "X_train, X_test, y_train, y_test, y_b_test, y_b_train = generate_data(scaled_df_train,\n",
    "                                                    scaled_df_test, temporal_horizon, length_of_sequences)"
   ]
  },
  {
   "cell_type": "code",
   "execution_count": 34,
   "metadata": {},
   "outputs": [
    {
     "name": "stdout",
     "output_type": "stream",
     "text": [
      "(311, 7, 36)\n",
      "(78, 7, 36)\n",
      "(311,)\n",
      "(78,)\n",
      "(311,)\n",
      "(78,)\n"
     ]
    }
   ],
   "source": [
    "print(X_train.shape)\n",
    "print(X_test.shape)\n",
    "print(y_train.shape)\n",
    "print(y_test.shape)\n",
    "print(y_b_train.shape)\n",
    "print(y_b_test.shape)"
   ]
  },
  {
   "cell_type": "raw",
   "metadata": {},
   "source": [
    "y_test"
   ]
  },
  {
   "cell_type": "markdown",
   "metadata": {},
   "source": [
    "## Baseline model: LSTM with feature scaling "
   ]
  },
  {
   "cell_type": "markdown",
   "metadata": {},
   "source": [
    "- LSTM: Introduced to prevent the vanishing gradient: for **long** time-series, the gradient (of the backpropagation, during the optimizer updates) vanished to 0."
   ]
  },
  {
   "cell_type": "code",
   "execution_count": 35,
   "metadata": {},
   "outputs": [],
   "source": [
    "from tensorflow.keras.models import Sequential\n",
    "from tensorflow.keras import layers\n",
    "\n",
    "def init_model():\n",
    "\n",
    "    model = Sequential()\n",
    "    model.add(layers.Masking())\n",
    "    model.add(layers.LSTM(7, activation='tanh'))\n",
    "    model.add(layers.Dropout(0.1))\n",
    "    #model.add(layers.Dense(10, activation='relu'))\n",
    "    #model.add(layers.Dropout(0.1))\n",
    "    model.add(layers.Dense(1, activation='sigmoid'))\n",
    "    \n",
    "    model.compile(loss='binary_crossentropy', \n",
    "                  optimizer='rmsprop', \n",
    "                  metrics=['accuracy'])# find loss an penalizing negative or positive results - alternatives to mae\n",
    "                                  # mae weighted\n",
    "    return model\n"
   ]
  },
  {
   "cell_type": "code",
   "execution_count": 36,
   "metadata": {},
   "outputs": [
    {
     "data": {
      "text/plain": [
       "(311, 7, 36)"
      ]
     },
     "execution_count": 36,
     "metadata": {},
     "output_type": "execute_result"
    }
   ],
   "source": [
    "X_train.shape"
   ]
  },
  {
   "cell_type": "code",
   "execution_count": 37,
   "metadata": {},
   "outputs": [
    {
     "data": {
      "text/plain": [
       "(78, 7, 36)"
      ]
     },
     "execution_count": 37,
     "metadata": {},
     "output_type": "execute_result"
    }
   ],
   "source": [
    "X_test.shape"
   ]
  },
  {
   "cell_type": "code",
   "execution_count": 38,
   "metadata": {
    "scrolled": true
   },
   "outputs": [
    {
     "name": "stdout",
     "output_type": "stream",
     "text": [
      "Epoch 1/10000\n",
      "1/1 [==============================] - 1s 1s/step - loss: 0.6889 - accuracy: 0.5161 - val_loss: 0.6922 - val_accuracy: 0.4921\n",
      "Epoch 2/10000\n",
      "1/1 [==============================] - 0s 19ms/step - loss: 0.6878 - accuracy: 0.5363 - val_loss: 0.6911 - val_accuracy: 0.4921\n",
      "Epoch 3/10000\n",
      "1/1 [==============================] - 0s 20ms/step - loss: 0.6830 - accuracy: 0.5766 - val_loss: 0.6908 - val_accuracy: 0.4921\n",
      "Epoch 4/10000\n",
      "1/1 [==============================] - 0s 22ms/step - loss: 0.6875 - accuracy: 0.5444 - val_loss: 0.6909 - val_accuracy: 0.4921\n",
      "Epoch 5/10000\n",
      "1/1 [==============================] - 0s 22ms/step - loss: 0.6857 - accuracy: 0.5766 - val_loss: 0.6918 - val_accuracy: 0.4921\n",
      "Epoch 6/10000\n",
      "1/1 [==============================] - 0s 23ms/step - loss: 0.6803 - accuracy: 0.5645 - val_loss: 0.6913 - val_accuracy: 0.4921\n",
      "Epoch 7/10000\n",
      "1/1 [==============================] - 0s 23ms/step - loss: 0.6854 - accuracy: 0.5524 - val_loss: 0.6903 - val_accuracy: 0.5079\n",
      "Epoch 8/10000\n",
      "1/1 [==============================] - 0s 25ms/step - loss: 0.6819 - accuracy: 0.5524 - val_loss: 0.6902 - val_accuracy: 0.5079\n",
      "Epoch 9/10000\n",
      "1/1 [==============================] - 0s 22ms/step - loss: 0.6821 - accuracy: 0.5766 - val_loss: 0.6908 - val_accuracy: 0.5079\n",
      "Epoch 10/10000\n",
      "1/1 [==============================] - 0s 24ms/step - loss: 0.6816 - accuracy: 0.5444 - val_loss: 0.6900 - val_accuracy: 0.5079\n",
      "Epoch 11/10000\n",
      "1/1 [==============================] - 0s 22ms/step - loss: 0.6840 - accuracy: 0.5323 - val_loss: 0.6887 - val_accuracy: 0.5079\n",
      "Epoch 12/10000\n",
      "1/1 [==============================] - 0s 20ms/step - loss: 0.6825 - accuracy: 0.5484 - val_loss: 0.6889 - val_accuracy: 0.5079\n",
      "Epoch 13/10000\n",
      "1/1 [==============================] - 0s 21ms/step - loss: 0.6802 - accuracy: 0.5726 - val_loss: 0.6891 - val_accuracy: 0.4762\n",
      "Epoch 14/10000\n",
      "1/1 [==============================] - 0s 22ms/step - loss: 0.6843 - accuracy: 0.5565 - val_loss: 0.6891 - val_accuracy: 0.4921\n",
      "Epoch 15/10000\n",
      "1/1 [==============================] - 0s 23ms/step - loss: 0.6787 - accuracy: 0.5766 - val_loss: 0.6886 - val_accuracy: 0.4921\n",
      "Epoch 16/10000\n",
      "1/1 [==============================] - 0s 22ms/step - loss: 0.6800 - accuracy: 0.5726 - val_loss: 0.6894 - val_accuracy: 0.4921\n",
      "Epoch 17/10000\n",
      "1/1 [==============================] - 0s 23ms/step - loss: 0.6794 - accuracy: 0.5444 - val_loss: 0.6884 - val_accuracy: 0.4921\n",
      "Epoch 18/10000\n",
      "1/1 [==============================] - 0s 22ms/step - loss: 0.6808 - accuracy: 0.5323 - val_loss: 0.6883 - val_accuracy: 0.4921\n",
      "Epoch 19/10000\n",
      "1/1 [==============================] - 0s 21ms/step - loss: 0.6824 - accuracy: 0.5484 - val_loss: 0.6888 - val_accuracy: 0.4921\n",
      "Epoch 20/10000\n",
      "1/1 [==============================] - 0s 28ms/step - loss: 0.6792 - accuracy: 0.5605 - val_loss: 0.6867 - val_accuracy: 0.4921\n",
      "Epoch 21/10000\n",
      "1/1 [==============================] - 0s 24ms/step - loss: 0.6750 - accuracy: 0.5927 - val_loss: 0.6875 - val_accuracy: 0.4921\n",
      "Epoch 22/10000\n",
      "1/1 [==============================] - 0s 21ms/step - loss: 0.6777 - accuracy: 0.5927 - val_loss: 0.6868 - val_accuracy: 0.4921\n",
      "Epoch 23/10000\n",
      "1/1 [==============================] - 0s 20ms/step - loss: 0.6794 - accuracy: 0.5565 - val_loss: 0.6872 - val_accuracy: 0.4921\n",
      "Epoch 24/10000\n",
      "1/1 [==============================] - 0s 24ms/step - loss: 0.6805 - accuracy: 0.5403 - val_loss: 0.6854 - val_accuracy: 0.4762\n",
      "Epoch 25/10000\n",
      "1/1 [==============================] - 0s 26ms/step - loss: 0.6771 - accuracy: 0.5685 - val_loss: 0.6870 - val_accuracy: 0.4921\n",
      "Epoch 26/10000\n",
      "1/1 [==============================] - 0s 24ms/step - loss: 0.6820 - accuracy: 0.5645 - val_loss: 0.6869 - val_accuracy: 0.4762\n",
      "Epoch 27/10000\n",
      "1/1 [==============================] - 0s 23ms/step - loss: 0.6786 - accuracy: 0.5726 - val_loss: 0.6854 - val_accuracy: 0.4762\n",
      "Epoch 28/10000\n",
      "1/1 [==============================] - 0s 20ms/step - loss: 0.6795 - accuracy: 0.5403 - val_loss: 0.6851 - val_accuracy: 0.4762\n",
      "Epoch 29/10000\n",
      "1/1 [==============================] - 0s 27ms/step - loss: 0.6758 - accuracy: 0.5766 - val_loss: 0.6885 - val_accuracy: 0.4762\n",
      "Epoch 30/10000\n",
      "1/1 [==============================] - 0s 23ms/step - loss: 0.6777 - accuracy: 0.5403 - val_loss: 0.6851 - val_accuracy: 0.4603\n",
      "Epoch 31/10000\n",
      "1/1 [==============================] - 0s 21ms/step - loss: 0.6769 - accuracy: 0.5645 - val_loss: 0.6884 - val_accuracy: 0.4762\n",
      "Epoch 32/10000\n",
      "1/1 [==============================] - 0s 24ms/step - loss: 0.6752 - accuracy: 0.5645 - val_loss: 0.6859 - val_accuracy: 0.4603\n",
      "Epoch 33/10000\n",
      "1/1 [==============================] - 0s 22ms/step - loss: 0.6722 - accuracy: 0.6089 - val_loss: 0.6870 - val_accuracy: 0.4762\n",
      "Epoch 34/10000\n",
      "1/1 [==============================] - 0s 22ms/step - loss: 0.6785 - accuracy: 0.5685 - val_loss: 0.6837 - val_accuracy: 0.4603\n",
      "Epoch 35/10000\n",
      "1/1 [==============================] - 0s 22ms/step - loss: 0.6804 - accuracy: 0.5968 - val_loss: 0.6843 - val_accuracy: 0.4603\n",
      "Epoch 36/10000\n",
      "1/1 [==============================] - 0s 21ms/step - loss: 0.6791 - accuracy: 0.5806 - val_loss: 0.6874 - val_accuracy: 0.4921\n",
      "Epoch 37/10000\n",
      "1/1 [==============================] - 0s 21ms/step - loss: 0.6704 - accuracy: 0.6129 - val_loss: 0.6871 - val_accuracy: 0.4921\n",
      "Epoch 38/10000\n",
      "1/1 [==============================] - 0s 24ms/step - loss: 0.6737 - accuracy: 0.5806 - val_loss: 0.6849 - val_accuracy: 0.4603\n",
      "Epoch 39/10000\n",
      "1/1 [==============================] - 0s 22ms/step - loss: 0.6745 - accuracy: 0.5927 - val_loss: 0.6850 - val_accuracy: 0.4603\n",
      "Epoch 40/10000\n",
      "1/1 [==============================] - 0s 25ms/step - loss: 0.6760 - accuracy: 0.6169 - val_loss: 0.6887 - val_accuracy: 0.4921\n",
      "Epoch 41/10000\n",
      "1/1 [==============================] - 0s 23ms/step - loss: 0.6746 - accuracy: 0.5726 - val_loss: 0.6848 - val_accuracy: 0.4603\n",
      "Epoch 42/10000\n",
      "1/1 [==============================] - 0s 25ms/step - loss: 0.6734 - accuracy: 0.6210 - val_loss: 0.6845 - val_accuracy: 0.4603\n",
      "Epoch 43/10000\n",
      "1/1 [==============================] - 0s 23ms/step - loss: 0.6765 - accuracy: 0.5847 - val_loss: 0.6865 - val_accuracy: 0.4762\n",
      "Epoch 44/10000\n",
      "1/1 [==============================] - 0s 23ms/step - loss: 0.6764 - accuracy: 0.5927 - val_loss: 0.6845 - val_accuracy: 0.4603\n",
      "Epoch 45/10000\n",
      "1/1 [==============================] - 0s 23ms/step - loss: 0.6718 - accuracy: 0.6008 - val_loss: 0.6873 - val_accuracy: 0.4286\n",
      "Epoch 46/10000\n",
      "1/1 [==============================] - 0s 22ms/step - loss: 0.6717 - accuracy: 0.6210 - val_loss: 0.6896 - val_accuracy: 0.4444\n",
      "Epoch 47/10000\n",
      "1/1 [==============================] - 0s 22ms/step - loss: 0.6702 - accuracy: 0.6089 - val_loss: 0.6847 - val_accuracy: 0.4921\n",
      "Epoch 48/10000\n",
      "1/1 [==============================] - 0s 22ms/step - loss: 0.6730 - accuracy: 0.6129 - val_loss: 0.6886 - val_accuracy: 0.4603\n",
      "Epoch 49/10000\n",
      "1/1 [==============================] - 0s 22ms/step - loss: 0.6751 - accuracy: 0.5847 - val_loss: 0.6905 - val_accuracy: 0.4603\n",
      "Epoch 50/10000\n",
      "1/1 [==============================] - 0s 23ms/step - loss: 0.6708 - accuracy: 0.6089 - val_loss: 0.6829 - val_accuracy: 0.5079\n",
      "Epoch 51/10000\n",
      "1/1 [==============================] - 0s 25ms/step - loss: 0.6734 - accuracy: 0.5927 - val_loss: 0.6896 - val_accuracy: 0.4603\n",
      "Epoch 52/10000\n",
      "1/1 [==============================] - 0s 24ms/step - loss: 0.6704 - accuracy: 0.6169 - val_loss: 0.6885 - val_accuracy: 0.4603\n",
      "Epoch 53/10000\n",
      "1/1 [==============================] - 0s 24ms/step - loss: 0.6704 - accuracy: 0.6129 - val_loss: 0.6935 - val_accuracy: 0.4603\n",
      "Epoch 54/10000\n",
      "1/1 [==============================] - 0s 23ms/step - loss: 0.6688 - accuracy: 0.5927 - val_loss: 0.6881 - val_accuracy: 0.4762\n",
      "Epoch 55/10000\n",
      "1/1 [==============================] - 0s 24ms/step - loss: 0.6733 - accuracy: 0.5887 - val_loss: 0.6910 - val_accuracy: 0.4286\n",
      "Epoch 56/10000\n",
      "1/1 [==============================] - 0s 23ms/step - loss: 0.6707 - accuracy: 0.6048 - val_loss: 0.6881 - val_accuracy: 0.4762\n",
      "Epoch 57/10000\n",
      "1/1 [==============================] - 0s 25ms/step - loss: 0.6656 - accuracy: 0.6452 - val_loss: 0.6872 - val_accuracy: 0.4762\n",
      "Epoch 58/10000\n",
      "1/1 [==============================] - 0s 23ms/step - loss: 0.6677 - accuracy: 0.6290 - val_loss: 0.6926 - val_accuracy: 0.4286\n",
      "Epoch 59/10000\n",
      "1/1 [==============================] - 0s 23ms/step - loss: 0.6708 - accuracy: 0.6048 - val_loss: 0.6899 - val_accuracy: 0.4444\n",
      "Epoch 60/10000\n",
      "1/1 [==============================] - 0s 23ms/step - loss: 0.6714 - accuracy: 0.6250 - val_loss: 0.6899 - val_accuracy: 0.4762\n",
      "Epoch 61/10000\n",
      "1/1 [==============================] - 0s 21ms/step - loss: 0.6670 - accuracy: 0.6331 - val_loss: 0.6880 - val_accuracy: 0.4762\n",
      "Epoch 62/10000\n",
      "1/1 [==============================] - 0s 26ms/step - loss: 0.6664 - accuracy: 0.6169 - val_loss: 0.6923 - val_accuracy: 0.4444\n",
      "Epoch 63/10000\n",
      "1/1 [==============================] - 0s 24ms/step - loss: 0.6663 - accuracy: 0.6210 - val_loss: 0.6846 - val_accuracy: 0.4921\n",
      "Epoch 64/10000\n",
      "1/1 [==============================] - 0s 22ms/step - loss: 0.6708 - accuracy: 0.5726 - val_loss: 0.6948 - val_accuracy: 0.4444\n",
      "Epoch 65/10000\n",
      "1/1 [==============================] - 0s 24ms/step - loss: 0.6648 - accuracy: 0.6048 - val_loss: 0.6869 - val_accuracy: 0.4762\n",
      "Epoch 66/10000\n",
      "1/1 [==============================] - 0s 69ms/step - loss: 0.6695 - accuracy: 0.5847 - val_loss: 0.6895 - val_accuracy: 0.4762\n",
      "Epoch 67/10000\n",
      "1/1 [==============================] - 0s 25ms/step - loss: 0.6669 - accuracy: 0.6129 - val_loss: 0.6935 - val_accuracy: 0.4762\n",
      "Epoch 68/10000\n",
      "1/1 [==============================] - 0s 21ms/step - loss: 0.6606 - accuracy: 0.6532 - val_loss: 0.6909 - val_accuracy: 0.4762\n",
      "Epoch 69/10000\n",
      "1/1 [==============================] - 0s 22ms/step - loss: 0.6628 - accuracy: 0.6411 - val_loss: 0.6938 - val_accuracy: 0.4762\n",
      "Epoch 70/10000\n",
      "1/1 [==============================] - 0s 22ms/step - loss: 0.6624 - accuracy: 0.6210 - val_loss: 0.6921 - val_accuracy: 0.4762\n",
      "Epoch 71/10000\n",
      "1/1 [==============================] - 0s 23ms/step - loss: 0.6632 - accuracy: 0.6331 - val_loss: 0.6931 - val_accuracy: 0.4762\n",
      "Epoch 72/10000\n",
      "1/1 [==============================] - 0s 22ms/step - loss: 0.6638 - accuracy: 0.6290 - val_loss: 0.6933 - val_accuracy: 0.4603\n",
      "Epoch 73/10000\n",
      "1/1 [==============================] - 0s 27ms/step - loss: 0.6675 - accuracy: 0.6210 - val_loss: 0.6924 - val_accuracy: 0.4603\n",
      "Epoch 74/10000\n",
      "1/1 [==============================] - 0s 24ms/step - loss: 0.6647 - accuracy: 0.6169 - val_loss: 0.6964 - val_accuracy: 0.4762\n",
      "Epoch 75/10000\n",
      "1/1 [==============================] - 0s 26ms/step - loss: 0.6630 - accuracy: 0.6290 - val_loss: 0.6843 - val_accuracy: 0.5556\n",
      "Epoch 76/10000\n",
      "1/1 [==============================] - 0s 25ms/step - loss: 0.6630 - accuracy: 0.5968 - val_loss: 0.7029 - val_accuracy: 0.4286\n",
      "Epoch 77/10000\n",
      "1/1 [==============================] - 0s 22ms/step - loss: 0.6584 - accuracy: 0.6331 - val_loss: 0.6914 - val_accuracy: 0.4762\n",
      "Epoch 78/10000\n",
      "1/1 [==============================] - 0s 22ms/step - loss: 0.6601 - accuracy: 0.6250 - val_loss: 0.6967 - val_accuracy: 0.4603\n",
      "Epoch 79/10000\n",
      "1/1 [==============================] - 0s 24ms/step - loss: 0.6573 - accuracy: 0.6411 - val_loss: 0.6907 - val_accuracy: 0.4762\n",
      "Epoch 80/10000\n",
      "1/1 [==============================] - 0s 23ms/step - loss: 0.6594 - accuracy: 0.6250 - val_loss: 0.6948 - val_accuracy: 0.4603\n",
      "Epoch 81/10000\n",
      "1/1 [==============================] - 0s 23ms/step - loss: 0.6630 - accuracy: 0.6452 - val_loss: 0.6895 - val_accuracy: 0.4762\n",
      "Epoch 82/10000\n",
      "1/1 [==============================] - 0s 28ms/step - loss: 0.6601 - accuracy: 0.6290 - val_loss: 0.6962 - val_accuracy: 0.4444\n",
      "Epoch 83/10000\n",
      "1/1 [==============================] - 0s 30ms/step - loss: 0.6602 - accuracy: 0.6250 - val_loss: 0.6872 - val_accuracy: 0.4762\n",
      "Epoch 84/10000\n",
      "1/1 [==============================] - 0s 44ms/step - loss: 0.6576 - accuracy: 0.6129 - val_loss: 0.6980 - val_accuracy: 0.4603\n",
      "Epoch 85/10000\n",
      "1/1 [==============================] - 0s 24ms/step - loss: 0.6581 - accuracy: 0.6452 - val_loss: 0.6961 - val_accuracy: 0.4444\n",
      "Epoch 86/10000\n",
      "1/1 [==============================] - 0s 26ms/step - loss: 0.6568 - accuracy: 0.6452 - val_loss: 0.6910 - val_accuracy: 0.4762\n",
      "Epoch 87/10000\n",
      "1/1 [==============================] - 0s 25ms/step - loss: 0.6577 - accuracy: 0.6008 - val_loss: 0.6958 - val_accuracy: 0.4603\n",
      "Epoch 88/10000\n",
      "1/1 [==============================] - 0s 28ms/step - loss: 0.6540 - accuracy: 0.6169 - val_loss: 0.6884 - val_accuracy: 0.4762\n",
      "Epoch 89/10000\n",
      "1/1 [==============================] - 0s 22ms/step - loss: 0.6622 - accuracy: 0.5968 - val_loss: 0.7005 - val_accuracy: 0.4444\n",
      "Epoch 90/10000\n",
      "1/1 [==============================] - 0s 22ms/step - loss: 0.6563 - accuracy: 0.6573 - val_loss: 0.6880 - val_accuracy: 0.4762\n",
      "Epoch 91/10000\n",
      "1/1 [==============================] - 0s 23ms/step - loss: 0.6631 - accuracy: 0.5927 - val_loss: 0.6956 - val_accuracy: 0.4603\n",
      "Epoch 92/10000\n",
      "1/1 [==============================] - 0s 22ms/step - loss: 0.6609 - accuracy: 0.6290 - val_loss: 0.6952 - val_accuracy: 0.4444\n",
      "Epoch 93/10000\n",
      "1/1 [==============================] - 0s 25ms/step - loss: 0.6572 - accuracy: 0.6290 - val_loss: 0.6919 - val_accuracy: 0.4762\n",
      "Epoch 94/10000\n",
      "1/1 [==============================] - 0s 22ms/step - loss: 0.6511 - accuracy: 0.6613 - val_loss: 0.6968 - val_accuracy: 0.4444\n",
      "Epoch 95/10000\n",
      "1/1 [==============================] - 0s 25ms/step - loss: 0.6532 - accuracy: 0.6532 - val_loss: 0.6914 - val_accuracy: 0.4762\n",
      "Epoch 96/10000\n",
      "1/1 [==============================] - 0s 28ms/step - loss: 0.6572 - accuracy: 0.6331 - val_loss: 0.6974 - val_accuracy: 0.4444\n",
      "Epoch 97/10000\n",
      "1/1 [==============================] - 0s 25ms/step - loss: 0.6629 - accuracy: 0.6452 - val_loss: 0.6935 - val_accuracy: 0.4762\n",
      "Epoch 98/10000\n",
      "1/1 [==============================] - 0s 21ms/step - loss: 0.6530 - accuracy: 0.6371 - val_loss: 0.7033 - val_accuracy: 0.4286\n",
      "Epoch 99/10000\n",
      "1/1 [==============================] - 0s 23ms/step - loss: 0.6476 - accuracy: 0.6573 - val_loss: 0.6913 - val_accuracy: 0.4921\n",
      "Epoch 100/10000\n",
      "1/1 [==============================] - ETA: 0s - loss: 0.6512 - accuracy: 0.6129Restoring model weights from the end of the best epoch.\n",
      "1/1 [==============================] - 0s 26ms/step - loss: 0.6512 - accuracy: 0.6129 - val_loss: 0.7077 - val_accuracy: 0.4603\n",
      "Epoch 00100: early stopping\n"
     ]
    }
   ],
   "source": [
    "# Fit the model\n",
    "from tensorflow.keras.callbacks import EarlyStopping\n",
    "\n",
    "model = init_model()\n",
    "\n",
    "es = EarlyStopping(patience=50, mode='min', verbose=1, monitor='val_loss',restore_best_weights=True)\n",
    "# patience = 30 - > if my algorithm doesnt improve my performance for a certain number of iterations \n",
    "# (patience) stop the fitting process, return the weights as they are\n",
    "\n",
    "history = model.fit(X_train,y_train,\n",
    "          batch_size=310, \n",
    "          epochs=10000, # iteration through your data\n",
    "          validation_split=0.2,\n",
    "          callbacks=[es],\n",
    "          verbose=1)"
   ]
  },
  {
   "cell_type": "markdown",
   "metadata": {},
   "source": [
    "#history.history"
   ]
  },
  {
   "cell_type": "code",
   "execution_count": 39,
   "metadata": {
    "scrolled": false
   },
   "outputs": [
    {
     "data": {
      "image/png": "[encoded data removed]",
      "text/plain": [
       "<Figure size 432x288 with 1 Axes>"
      ]
     },
     "metadata": {
      "needs_background": "light"
     },
     "output_type": "display_data"
    },
    {
     "data": {
      "image/png": "[encoded data removed]",
      "text/plain": [
       "<Figure size 432x288 with 1 Axes>"
      ]
     },
     "metadata": {
      "needs_background": "light"
     },
     "output_type": "display_data"
    }
   ],
   "source": [
    "\n",
    "def plot_loss(history):\n",
    "    plt.plot(history.history['loss'])\n",
    "    plt.plot(history.history['val_loss'])\n",
    "    plt.title('Model loss')\n",
    "    plt.ylabel('Binary_crossentropy - Loss')\n",
    "    plt.xlabel('Epoch')\n",
    "    plt.legend(['Train', 'Validation'], loc='best')\n",
    "    plt.show()\n",
    "    \n",
    "    plt.plot(history.history['accuracy'])\n",
    "    plt.plot(history.history['val_accuracy'])\n",
    "    plt.title('Model loss')\n",
    "    plt.ylabel('Accuracy')\n",
    "    plt.xlabel('Epoch')\n",
    "    plt.legend(['Train', 'Validation'], loc='best')\n",
    "    plt.show()\n",
    "    \n",
    "plot_loss(history)"
   ]
  },
  {
   "cell_type": "code",
   "execution_count": 40,
   "metadata": {
    "scrolled": true
   },
   "outputs": [
    {
     "name": "stdout",
     "output_type": "stream",
     "text": [
      "3/3 [==============================] - 0s 2ms/step - loss: 0.6921 - accuracy: 0.5641\n",
      "Loss on the test set : 0.69210523\n",
      "Accuracy on the test set : 0.56410259\n"
     ]
    }
   ],
   "source": [
    "y_pred = model.predict(X_test)\n",
    "res = model.evaluate(X_test,y_test)\n",
    "print(f'Loss on the test set : {res[0]:.8f}')\n",
    "print(f'Accuracy on the test set : {res[1]:.8f}')"
   ]
  },
  {
   "cell_type": "code",
   "execution_count": 41,
   "metadata": {},
   "outputs": [],
   "source": [
    "bin_y_pred = y_pred >  0.5"
   ]
  },
  {
   "cell_type": "code",
   "execution_count": 42,
   "metadata": {},
   "outputs": [
    {
     "data": {
      "text/plain": [
       "(78,)"
      ]
     },
     "execution_count": 42,
     "metadata": {},
     "output_type": "execute_result"
    }
   ],
   "source": [
    "y_pred.reshape(-1).shape"
   ]
  },
  {
   "cell_type": "code",
   "execution_count": 43,
   "metadata": {},
   "outputs": [
    {
     "data": {
      "text/plain": [
       "(78,)"
      ]
     },
     "execution_count": 43,
     "metadata": {},
     "output_type": "execute_result"
    }
   ],
   "source": [
    "y_test.shape"
   ]
  },
  {
   "cell_type": "code",
   "execution_count": null,
   "metadata": {},
   "outputs": [],
   "source": []
  },
  {
   "cell_type": "code",
   "execution_count": 44,
   "metadata": {},
   "outputs": [],
   "source": [
    "res_df = pd.DataFrame({'y_true': y_test, 'y_pred': y_pred.reshape(-1)})"
   ]
  },
  {
   "cell_type": "code",
   "execution_count": 45,
   "metadata": {},
   "outputs": [
    {
     "data": {
      "text/html": [
       "<div>\n",
       "<style scoped>\n",
       "    .dataframe tbody tr th:only-of-type {\n",
       "        vertical-align: middle;\n",
       "    }\n",
       "\n",
       "    .dataframe tbody tr th {\n",
       "        vertical-align: top;\n",
       "    }\n",
       "\n",
       "    .dataframe thead th {\n",
       "        text-align: right;\n",
       "    }\n",
       "</style>\n",
       "<table border=\"1\" class=\"dataframe\">\n",
       "  <thead>\n",
       "    <tr style=\"text-align: right;\">\n",
       "      <th></th>\n",
       "      <th>y_true</th>\n",
       "      <th>y_pred</th>\n",
       "    </tr>\n",
       "  </thead>\n",
       "  <tbody>\n",
       "    <tr>\n",
       "      <th>0</th>\n",
       "      <td>1</td>\n",
       "      <td>0.491807</td>\n",
       "    </tr>\n",
       "    <tr>\n",
       "      <th>1</th>\n",
       "      <td>1</td>\n",
       "      <td>0.445816</td>\n",
       "    </tr>\n",
       "    <tr>\n",
       "      <th>2</th>\n",
       "      <td>0</td>\n",
       "      <td>0.415409</td>\n",
       "    </tr>\n",
       "    <tr>\n",
       "      <th>3</th>\n",
       "      <td>0</td>\n",
       "      <td>0.449548</td>\n",
       "    </tr>\n",
       "    <tr>\n",
       "      <th>4</th>\n",
       "      <td>1</td>\n",
       "      <td>0.512904</td>\n",
       "    </tr>\n",
       "  </tbody>\n",
       "</table>\n",
       "</div>"
      ],
      "text/plain": [
       "   y_true    y_pred\n",
       "0       1  0.491807\n",
       "1       1  0.445816\n",
       "2       0  0.415409\n",
       "3       0  0.449548\n",
       "4       1  0.512904"
      ]
     },
     "execution_count": 45,
     "metadata": {},
     "output_type": "execute_result"
    }
   ],
   "source": [
    "res_df.head()"
   ]
  },
  {
   "cell_type": "code",
   "execution_count": 46,
   "metadata": {},
   "outputs": [],
   "source": [
    "res_df['y_pred_bin'] = res_df['y_pred'] > 0.5"
   ]
  },
  {
   "cell_type": "code",
   "execution_count": 47,
   "metadata": {},
   "outputs": [
    {
     "data": {
      "text/html": [
       "<div>\n",
       "<style scoped>\n",
       "    .dataframe tbody tr th:only-of-type {\n",
       "        vertical-align: middle;\n",
       "    }\n",
       "\n",
       "    .dataframe tbody tr th {\n",
       "        vertical-align: top;\n",
       "    }\n",
       "\n",
       "    .dataframe thead th {\n",
       "        text-align: right;\n",
       "    }\n",
       "</style>\n",
       "<table border=\"1\" class=\"dataframe\">\n",
       "  <thead>\n",
       "    <tr style=\"text-align: right;\">\n",
       "      <th></th>\n",
       "      <th>y_true</th>\n",
       "      <th>y_pred</th>\n",
       "      <th>y_pred_bin</th>\n",
       "    </tr>\n",
       "  </thead>\n",
       "  <tbody>\n",
       "    <tr>\n",
       "      <th>0</th>\n",
       "      <td>1</td>\n",
       "      <td>0.491807</td>\n",
       "      <td>False</td>\n",
       "    </tr>\n",
       "    <tr>\n",
       "      <th>1</th>\n",
       "      <td>1</td>\n",
       "      <td>0.445816</td>\n",
       "      <td>False</td>\n",
       "    </tr>\n",
       "    <tr>\n",
       "      <th>2</th>\n",
       "      <td>0</td>\n",
       "      <td>0.415409</td>\n",
       "      <td>False</td>\n",
       "    </tr>\n",
       "    <tr>\n",
       "      <th>3</th>\n",
       "      <td>0</td>\n",
       "      <td>0.449548</td>\n",
       "      <td>False</td>\n",
       "    </tr>\n",
       "    <tr>\n",
       "      <th>4</th>\n",
       "      <td>1</td>\n",
       "      <td>0.512904</td>\n",
       "      <td>True</td>\n",
       "    </tr>\n",
       "  </tbody>\n",
       "</table>\n",
       "</div>"
      ],
      "text/plain": [
       "   y_true    y_pred  y_pred_bin\n",
       "0       1  0.491807       False\n",
       "1       1  0.445816       False\n",
       "2       0  0.415409       False\n",
       "3       0  0.449548       False\n",
       "4       1  0.512904        True"
      ]
     },
     "execution_count": 47,
     "metadata": {},
     "output_type": "execute_result"
    }
   ],
   "source": [
    "res_df.head()"
   ]
  },
  {
   "cell_type": "code",
   "execution_count": 48,
   "metadata": {},
   "outputs": [],
   "source": [
    "res_df['correct'] = res_df['y_pred_bin'] == res_df['y_true'] "
   ]
  },
  {
   "cell_type": "code",
   "execution_count": 49,
   "metadata": {},
   "outputs": [
    {
     "data": {
      "text/html": [
       "<div>\n",
       "<style scoped>\n",
       "    .dataframe tbody tr th:only-of-type {\n",
       "        vertical-align: middle;\n",
       "    }\n",
       "\n",
       "    .dataframe tbody tr th {\n",
       "        vertical-align: top;\n",
       "    }\n",
       "\n",
       "    .dataframe thead th {\n",
       "        text-align: right;\n",
       "    }\n",
       "</style>\n",
       "<table border=\"1\" class=\"dataframe\">\n",
       "  <thead>\n",
       "    <tr style=\"text-align: right;\">\n",
       "      <th></th>\n",
       "      <th>y_true</th>\n",
       "      <th>y_pred</th>\n",
       "      <th>y_pred_bin</th>\n",
       "      <th>correct</th>\n",
       "    </tr>\n",
       "  </thead>\n",
       "  <tbody>\n",
       "    <tr>\n",
       "      <th>0</th>\n",
       "      <td>1</td>\n",
       "      <td>0.491807</td>\n",
       "      <td>False</td>\n",
       "      <td>False</td>\n",
       "    </tr>\n",
       "    <tr>\n",
       "      <th>1</th>\n",
       "      <td>1</td>\n",
       "      <td>0.445816</td>\n",
       "      <td>False</td>\n",
       "      <td>False</td>\n",
       "    </tr>\n",
       "    <tr>\n",
       "      <th>2</th>\n",
       "      <td>0</td>\n",
       "      <td>0.415409</td>\n",
       "      <td>False</td>\n",
       "      <td>True</td>\n",
       "    </tr>\n",
       "    <tr>\n",
       "      <th>3</th>\n",
       "      <td>0</td>\n",
       "      <td>0.449548</td>\n",
       "      <td>False</td>\n",
       "      <td>True</td>\n",
       "    </tr>\n",
       "    <tr>\n",
       "      <th>4</th>\n",
       "      <td>1</td>\n",
       "      <td>0.512904</td>\n",
       "      <td>True</td>\n",
       "      <td>True</td>\n",
       "    </tr>\n",
       "  </tbody>\n",
       "</table>\n",
       "</div>"
      ],
      "text/plain": [
       "   y_true    y_pred  y_pred_bin  correct\n",
       "0       1  0.491807       False    False\n",
       "1       1  0.445816       False    False\n",
       "2       0  0.415409       False     True\n",
       "3       0  0.449548       False     True\n",
       "4       1  0.512904        True     True"
      ]
     },
     "execution_count": 49,
     "metadata": {},
     "output_type": "execute_result"
    }
   ],
   "source": [
    "res_df.head()"
   ]
  },
  {
   "cell_type": "code",
   "execution_count": 50,
   "metadata": {},
   "outputs": [
    {
     "data": {
      "text/plain": [
       "0.5641025641025641"
      ]
     },
     "execution_count": 50,
     "metadata": {},
     "output_type": "execute_result"
    }
   ],
   "source": [
    "res_df['correct'].sum() / len(res_df)"
   ]
  },
  {
   "cell_type": "code",
   "execution_count": 51,
   "metadata": {},
   "outputs": [
    {
     "data": {
      "text/plain": [
       "<AxesSubplot:xlabel='y_pred_bin'>"
      ]
     },
     "execution_count": 51,
     "metadata": {},
     "output_type": "execute_result"
    },
    {
     "data": {
      "image/png": "[encoded data removed]",
      "text/plain": [
       "<Figure size 432x288 with 1 Axes>"
      ]
     },
     "metadata": {
      "needs_background": "light"
     },
     "output_type": "display_data"
    }
   ],
   "source": [
    "res_df.groupby('y_pred_bin')['y_pred_bin'].count().plot.bar()"
   ]
  },
  {
   "cell_type": "code",
   "execution_count": 52,
   "metadata": {},
   "outputs": [
    {
     "data": {
      "text/plain": [
       "<AxesSubplot:xlabel='y_true'>"
      ]
     },
     "execution_count": 52,
     "metadata": {},
     "output_type": "execute_result"
    },
    {
     "data": {
      "image/png": "[encoded data removed]",
      "text/plain": [
       "<Figure size 432x288 with 1 Axes>"
      ]
     },
     "metadata": {
      "needs_background": "light"
     },
     "output_type": "display_data"
    }
   ],
   "source": [
    "res_df.groupby('y_true')['y_true'].count().plot.bar()"
   ]
  },
  {
   "cell_type": "code",
   "execution_count": 53,
   "metadata": {},
   "outputs": [
    {
     "ename": "NameError",
     "evalue": "name 'correct' is not defined",
     "output_type": "error",
     "traceback": [
      "\u001b[0;31m---------------------------------------------------------------------------\u001b[0m",
      "\u001b[0;31mNameError\u001b[0m                                 Traceback (most recent call last)",
      "\u001b[0;32m<ipython-input-53-178957cb479a>\u001b[0m in \u001b[0;36m<module>\u001b[0;34m\u001b[0m\n\u001b[0;32m----> 1\u001b[0;31m \u001b[0msum\u001b[0m\u001b[0;34m(\u001b[0m\u001b[0mcorrect\u001b[0m \u001b[0;34m)\u001b[0m \u001b[0;34m/\u001b[0m\u001b[0mlen\u001b[0m\u001b[0;34m(\u001b[0m\u001b[0mcorrect\u001b[0m\u001b[0;34m)\u001b[0m\u001b[0;34m\u001b[0m\u001b[0;34m\u001b[0m\u001b[0m\n\u001b[0m",
      "\u001b[0;31mNameError\u001b[0m: name 'correct' is not defined"
     ]
    }
   ],
   "source": [
    "sum(correct ) /len(correct)"
   ]
  },
  {
   "cell_type": "code",
   "execution_count": null,
   "metadata": {},
   "outputs": [],
   "source": [
    "X_test.shape"
   ]
  },
  {
   "cell_type": "code",
   "execution_count": null,
   "metadata": {},
   "outputs": [],
   "source": [
    "X_test[0,:,:] == X_test[1,:,:]"
   ]
  },
  {
   "cell_type": "code",
   "execution_count": null,
   "metadata": {},
   "outputs": [],
   "source": [
    "X_test[1,:,:]"
   ]
  },
  {
   "cell_type": "code",
   "execution_count": null,
   "metadata": {},
   "outputs": [],
   "source": []
  }
 ],
 "metadata": {
  "kernelspec": {
   "display_name": "Python 3",
   "language": "python",
   "name": "python3"
  },
  "language_info": {
   "codemirror_mode": {
    "name": "ipython",
    "version": 3
   },
   "file_extension": ".py",
   "mimetype": "text/x-python",
   "name": "python",
   "nbconvert_exporter": "python",
   "pygments_lexer": "ipython3",
   "version": "3.7.7"
  },
  "toc": {
   "base_numbering": 1,
   "nav_menu": {},
   "number_sections": true,
   "sideBar": true,
   "skip_h1_title": false,
   "title_cell": "Table of Contents",
   "title_sidebar": "Contents",
   "toc_cell": false,
   "toc_position": {
    "height": "calc(100% - 180px)",
    "left": "10px",
    "top": "150px",
    "width": "351.375px"
   },
   "toc_section_display": true,
   "toc_window_display": false
  }
 },
 "nbformat": 4,
 "nbformat_minor": 4
}
